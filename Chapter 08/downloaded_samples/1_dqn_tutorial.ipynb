{
 "cells": [
  {
   "cell_type": "markdown",
   "metadata": {
    "id": "klGNgWREsvQv"
   },
   "source": [
    "##### Copyright 2021 The TF-Agents Authors."
   ]
  },
  {
   "cell_type": "code",
   "execution_count": 1,
   "metadata": {
    "cellView": "form",
    "execution": {
     "iopub.execute_input": "2021-02-09T12:08:59.014260Z",
     "iopub.status.busy": "2021-02-09T12:08:59.013597Z",
     "iopub.status.idle": "2021-02-09T12:08:59.015663Z",
     "shell.execute_reply": "2021-02-09T12:08:59.016147Z"
    },
    "id": "nQnmcm0oI1Q-"
   },
   "outputs": [],
   "source": [
    "#@title Licensed under the Apache License, Version 2.0 (the \"License\");\n",
    "# you may not use this file except in compliance with the License.\n",
    "# You may obtain a copy of the License at\n",
    "#\n",
    "# https://www.apache.org/licenses/LICENSE-2.0\n",
    "#\n",
    "# Unless required by applicable law or agreed to in writing, software\n",
    "# distributed under the License is distributed on an \"AS IS\" BASIS,\n",
    "# WITHOUT WARRANTIES OR CONDITIONS OF ANY KIND, either express or implied.\n",
    "# See the License for the specific language governing permissions and\n",
    "# limitations under the License."
   ]
  },
  {
   "cell_type": "markdown",
   "metadata": {
    "id": "pmDI-h7cI0tI"
   },
   "source": [
    "# Train a Deep Q Network with TF-Agents\n",
    "\n",
    "<table class=\"tfo-notebook-buttons\" align=\"left\">\n",
    "  <td>\n",
    "    <a target=\"_blank\" href=\"https://www.tensorflow.org/agents/tutorials/1_dqn_tutorial\">\n",
    "    <img src=\"https://www.tensorflow.org/images/tf_logo_32px.png\" />\n",
    "    View on TensorFlow.org</a>\n",
    "  </td>\n",
    "  <td>\n",
    "    <a target=\"_blank\" href=\"https://colab.research.google.com/github/tensorflow/agents/blob/master/docs/tutorials/1_dqn_tutorial.ipynb\">\n",
    "    <img src=\"https://www.tensorflow.org/images/colab_logo_32px.png\" />\n",
    "    Run in Google Colab</a>\n",
    "  </td>\n",
    "  <td>\n",
    "    <a target=\"_blank\" href=\"https://github.com/tensorflow/agents/blob/master/docs/tutorials/1_dqn_tutorial.ipynb\">\n",
    "    <img src=\"https://www.tensorflow.org/images/GitHub-Mark-32px.png\" />\n",
    "    View source on GitHub</a>\n",
    "  </td>\n",
    "  <td>\n",
    "    <a href=\"https://storage.googleapis.com/tensorflow_docs/agents/docs/tutorials/1_dqn_tutorial.ipynb\"><img src=\"https://www.tensorflow.org/images/download_logo_32px.png\" />Download notebook</a>\n",
    "  </td>\n",
    "</table>"
   ]
  },
  {
   "cell_type": "markdown",
   "metadata": {
    "id": "lsaQlK8fFQqH"
   },
   "source": [
    "## Introduction\n"
   ]
  },
  {
   "cell_type": "markdown",
   "metadata": {
    "id": "cKOCZlhUgXVK"
   },
   "source": [
    "This example shows how to train a [DQN (Deep Q Networks)](https://storage.googleapis.com/deepmind-media/dqn/DQNNaturePaper.pdf)  agent on the Cartpole environment using the TF-Agents library.\n",
    "\n",
    "![Cartpole environment](https://raw.githubusercontent.com/tensorflow/agents/master/docs/tutorials/images/cartpole.png)\n",
    "\n",
    "It will walk you through all the components in a Reinforcement Learning (RL) pipeline for training, evaluation and data collection.\n",
    "\n",
    "\n",
    "To run this code live, click the 'Run in Google Colab' link above.\n"
   ]
  },
  {
   "cell_type": "markdown",
   "metadata": {
    "id": "1u9QVVsShC9X"
   },
   "source": [
    "## Setup"
   ]
  },
  {
   "cell_type": "markdown",
   "metadata": {
    "id": "kNrNXKI7bINP"
   },
   "source": [
    "If you haven't installed the following dependencies, run:"
   ]
  },
  {
   "cell_type": "code",
   "execution_count": 2,
   "metadata": {
    "execution": {
     "iopub.execute_input": "2021-02-09T12:08:59.027365Z",
     "iopub.status.busy": "2021-02-09T12:08:59.026669Z",
     "iopub.status.idle": "2021-02-09T12:09:41.076422Z",
     "shell.execute_reply": "2021-02-09T12:09:41.076909Z"
    },
    "id": "KEHR2Ui-lo8O"
   },
   "outputs": [
    {
     "name": "stdout",
     "output_type": "stream",
     "text": [
      "\r",
      "Reading package lists... 0%\r",
      "\r",
      "Reading package lists... 100%\r",
      "\r",
      "Reading package lists... Done\r",
      "\r\n",
      "\r",
      "Building dependency tree... 0%\r",
      "\r",
      "Building dependency tree... 0%\r"
     ]
    },
    {
     "name": "stdout",
     "output_type": "stream",
     "text": [
      "\r",
      "Building dependency tree... 50%\r",
      "\r",
      "Building dependency tree... 50%\r"
     ]
    },
    {
     "name": "stdout",
     "output_type": "stream",
     "text": [
      "\r",
      "Building dependency tree       \r",
      "\r\n",
      "\r",
      "Reading state information... 0%\r",
      "\r",
      "Reading state information... 0%\r",
      "\r",
      "Reading state information... Done\r",
      "\r\n"
     ]
    },
    {
     "name": "stdout",
     "output_type": "stream",
     "text": [
      "The following packages were automatically installed and are no longer required:\r\n",
      "  adwaita-icon-theme ca-certificates-java dconf-gsettings-backend\r\n",
      "  dconf-service default-jre default-jre-headless dkms fonts-dejavu-extra\r\n",
      "  freeglut3 freeglut3-dev g++-6 glib-networking glib-networking-common\r\n",
      "  glib-networking-services gsettings-desktop-schemas gtk-update-icon-cache\r\n",
      "  hicolor-icon-theme humanity-icon-theme java-common libaccinj64-9.1\r\n",
      "  libatk-bridge2.0-0 libatk-wrapper-java libatk-wrapper-java-jni libatk1.0-0\r\n",
      "  libatk1.0-data libatspi2.0-0 libavahi-client3 libavahi-common-data\r\n",
      "  libavahi-common3 libcairo-gobject2 libcolord2 libcudart9.1 libcufft9.1\r\n",
      "  libcufftw9.1 libcups2 libcurand9.1 libcusolver9.1 libcusparse9.1 libdconf1\r\n",
      "  libdrm-dev libegl-mesa0 libegl1 libegl1-mesa libepoxy0 libgbm1 libgif7\r\n",
      "  libgl1-mesa-dev libgles1 libgles2 libglu1-mesa libglu1-mesa-dev\r\n",
      "  libglvnd-core-dev libglvnd-dev libgtk-3-0 libgtk-3-common libgtk2.0-0\r\n",
      "  libgtk2.0-common libice-dev libjansson4 libjson-glib-1.0-0\r\n",
      "  libjson-glib-1.0-common liblcms2-2 libnppc9.1 libnppial9.1 libnppicc9.1\r\n",
      "  libnppicom9.1 libnppidei9.1 libnppif9.1 libnppig9.1 libnppim9.1 libnppist9.1\r\n",
      "  libnppisu9.1 libnppitc9.1 libnpps9.1 libnvrtc9.1 libnvtoolsext1 libnvvm3\r\n",
      "  libopengl0 libpcsclite1 libproxy1v5 libpthread-stubs0-dev librest-0.7-0\r\n",
      "  libsm-dev libsoup-gnome2.4-1 libsoup2.4-1 libstdc++-6-dev libthrust-dev\r\n",
      "  libvdpau-dev libwayland-server0 libx11-dev libx11-xcb-dev libxau-dev\r\n",
      "  libxcb-dri2-0-dev libxcb-dri3-dev libxcb-glx0-dev libxcb-present-dev\r\n",
      "  libxcb-randr0 libxcb-randr0-dev libxcb-render0-dev libxcb-shape0-dev\r\n",
      "  libxcb-sync-dev libxcb-xfixes0-dev libxcb1-dev libxcomposite1 libxdamage-dev\r\n",
      "  libxdmcp-dev libxext-dev libxfixes-dev libxft2 libxi-dev libxmu-dev\r\n",
      "  libxmu-headers libxnvctrl0 libxshmfence-dev libxt-dev libxtst6 libxxf86dga1\r\n",
      "  libxxf86vm-dev linux-gcp-5.3-headers-5.3.0-1030 linux-gcp-headers-5.0.0-1026\r\n",
      "  linux-headers-5.0.0-1026-gcp linux-headers-5.3.0-1030-gcp\r\n",
      "  linux-image-5.3.0-1030-gcp linux-modules-5.3.0-1030-gcp\r\n",
      "  linux-modules-extra-5.3.0-1030-gcp mesa-common-dev ocl-icd-libopencl1\r\n",
      "  ocl-icd-opencl-dev opencl-c-headers openjdk-11-jre openjdk-11-jre-headless\r\n",
      "  openjdk-8-jre openjdk-8-jre-headless pkg-config policykit-1-gnome\r\n",
      "  python3-xkit screen-resolution-extra ubuntu-mono x11-utils x11proto-core-dev\r\n",
      "  x11proto-damage-dev x11proto-dev x11proto-fixes-dev x11proto-input-dev\r\n",
      "  x11proto-xext-dev x11proto-xf86vidmode-dev xorg-sgml-doctools\r\n",
      "  xserver-xorg-core-hwe-18.04 xtrans-dev\r\n",
      "Use 'sudo apt autoremove' to remove them.\r\n",
      "The following additional packages will be installed:\r\n",
      "  i965-va-driver libaacs0 libass9 libavc1394-0 libavcodec57 libavdevice57\r\n",
      "  libavfilter6 libavformat57 libavresample3 libavutil55 libbdplus0 libbluray2\r\n",
      "  libbs2b0 libcaca0 libcdio-cdda2 libcdio-paranoia2 libcdio17 libchromaprint1\r\n",
      "  libcrystalhd3 libdc1394-22 libdrm-amdgpu1 libdrm-common libdrm-dev\r\n",
      "  libdrm-intel1 libdrm-nouveau2 libdrm-radeon1 libdrm2 libfftw3-double3\r\n",
      "  libflite1 libgme0 libgsm1 libiec61883-0 libjack-jackd2-0 libllvm10\r\n",
      "  libmp3lame0 libmpg123-0 libmysofa0 libnorm1 libnuma1 libopenal-data\r\n",
      "  libopenal1 libopenjp2-7 libopenmpt0 libopus0 libpgm-5.2-0 libpostproc54\r\n",
      "  libraw1394-11 librubberband2 libsamplerate0 libsdl2-2.0-0 libshine3\r\n",
      "  libsnappy1v5 libsndio6.1 libsodium23 libsoxr0 libspeex1 libssh-gcrypt-4\r\n",
      "  libswresample2 libswscale4 libtheora0 libtwolame0 libva-drm2 libva-x11-2\r\n",
      "  libva2 libvorbisfile3 libvpx5 libwavpack1 libwebpmux3 libx264-152\r\n",
      "  libx265-146 libxss1 libxvidcore4 libzmq5 libzvbi-common libzvbi0\r\n",
      "  mesa-va-drivers va-driver-all\r\n",
      "Suggested packages:\r\n",
      "  ffmpeg-doc i965-va-driver-shaders libbluray-bdj firmware-crystalhd\r\n",
      "  libfftw3-bin libfftw3-dev jackd2 libportaudio2 opus-tools libraw1394-doc\r\n",
      "  sndiod speex\r\n"
     ]
    },
    {
     "name": "stdout",
     "output_type": "stream",
     "text": [
      "The following NEW packages will be installed:\r\n",
      "  ffmpeg i965-va-driver libaacs0 libass9 libavc1394-0 libavcodec57\r\n",
      "  libavdevice57 libavfilter6 libavformat57 libavresample3 libavutil55\r\n",
      "  libbdplus0 libbluray2 libbs2b0 libcaca0 libcdio-cdda2 libcdio-paranoia2\r\n",
      "  libcdio17 libchromaprint1 libcrystalhd3 libdc1394-22 libfftw3-double3\r\n",
      "  libflite1 libgme0 libgsm1 libiec61883-0 libjack-jackd2-0 libllvm10\r\n",
      "  libmp3lame0 libmpg123-0 libmysofa0 libnorm1 libnuma1 libopenal-data\r\n",
      "  libopenal1 libopenjp2-7 libopenmpt0 libopus0 libpgm-5.2-0 libpostproc54\r\n",
      "  libraw1394-11 librubberband2 libsamplerate0 libsdl2-2.0-0 libshine3\r\n",
      "  libsnappy1v5 libsndio6.1 libsodium23 libsoxr0 libspeex1 libssh-gcrypt-4\r\n",
      "  libswresample2 libswscale4 libtheora0 libtwolame0 libva-drm2 libva-x11-2\r\n",
      "  libva2 libvorbisfile3 libvpx5 libwavpack1 libwebpmux3 libx264-152\r\n",
      "  libx265-146 libxss1 libxvidcore4 libzmq5 libzvbi-common libzvbi0\r\n",
      "  mesa-va-drivers va-driver-all xvfb\r\n",
      "The following packages will be upgraded:\r\n",
      "  libdrm-amdgpu1 libdrm-common libdrm-dev libdrm-intel1 libdrm-nouveau2\r\n",
      "  libdrm-radeon1 libdrm2\r\n",
      "7 upgraded, 72 newly installed, 0 to remove and 93 not upgraded.\r\n",
      "Need to get 50.5 MB of archives.\r\n",
      "After this operation, 199 MB of additional disk space will be used.\r\n",
      "\r",
      "0% [Working]"
     ]
    },
    {
     "name": "stdout",
     "output_type": "stream",
     "text": [
      "\r",
      "            \r",
      "Get:1 http://asia-east1.gce.archive.ubuntu.com/ubuntu bionic/main amd64 libxss1 amd64 1:1.2.2-1 [8582 B]\r\n",
      "\r",
      "0% [1 libxss1 8582 B/8582 B 100%]\r",
      "                                 \r",
      "0% [Working]\r",
      "            \r",
      "Get:2 http://asia-east1.gce.archive.ubuntu.com/ubuntu bionic-updates/main amd64 libdrm-common all 2.4.101-2~18.04.1 [5560 B]\r\n",
      "\r",
      "0% [2 libdrm-common 5560 B/5560 B 100%]\r",
      "                                       \r",
      "1% [Waiting for headers]"
     ]
    },
    {
     "name": "stdout",
     "output_type": "stream",
     "text": [
      "\r",
      "1% [Waiting for headers]"
     ]
    },
    {
     "name": "stdout",
     "output_type": "stream",
     "text": [
      "\r",
      "                        \r",
      "Get:3 http://asia-east1.gce.archive.ubuntu.com/ubuntu bionic-updates/main amd64 libdrm-dev amd64 2.4.101-2~18.04.1 [126 kB]\r\n",
      "\r",
      "1% [3 libdrm-dev 12.3 kB/126 kB 10%]\r",
      "                                    \r",
      "1% [Waiting for headers]\r",
      "                        \r",
      "Get:4 http://asia-east1.gce.archive.ubuntu.com/ubuntu bionic-updates/main amd64 libdrm-intel1 amd64 2.4.101-2~18.04.1 [60.0 kB]\r\n",
      "\r",
      "1% [4 libdrm-intel1 8044 B/60.0 kB 13%]\r",
      "                                       \r",
      "1% [Waiting for headers]\r",
      "                        \r",
      "Get:5 http://asia-east1.gce.archive.ubuntu.com/ubuntu bionic-updates/main amd64 libdrm-radeon1 amd64 2.4.101-2~18.04.1 [21.7 kB]\r\n",
      "\r",
      "1% [5 libdrm-radeon1 8044 B/21.7 kB 37%]\r",
      "                                        \r",
      "2% [Waiting for headers]\r",
      "                        \r",
      "Get:6 http://asia-east1.gce.archive.ubuntu.com/ubuntu bionic-updates/main amd64 libdrm-nouveau2 amd64 2.4.101-2~18.04.1 [16.5 kB]\r\n",
      "\r",
      "2% [6 libdrm-nouveau2 12.3 kB/16.5 kB 74%]\r",
      "                                          \r",
      "2% [Waiting for headers]\r",
      "                        \r",
      "Get:7 http://asia-east1.gce.archive.ubuntu.com/ubuntu bionic-updates/main amd64 libdrm-amdgpu1 amd64 2.4.101-2~18.04.1 [18.2 kB]\r\n",
      "\r",
      "2% [7 libdrm-amdgpu1 8044 B/18.2 kB 44%]\r",
      "                                        \r",
      "2% [Waiting for headers]\r",
      "                        \r",
      "Get:8 http://asia-east1.gce.archive.ubuntu.com/ubuntu bionic-updates/main amd64 libdrm2 amd64 2.4.101-2~18.04.1 [32.3 kB]\r\n",
      "\r",
      "2% [8 libdrm2 2726 B/32.3 kB 8%]\r",
      "                                \r",
      "2% [Waiting for headers]\r",
      "                        \r",
      "Get:9 http://asia-east1.gce.archive.ubuntu.com/ubuntu bionic-updates/main amd64 libnuma1 amd64 2.0.11-2.1ubuntu0.1 [22.0 kB]\r\n",
      "\r",
      "2% [9 libnuma1 8044 B/22.0 kB 37%]\r",
      "                                  \r",
      "3% [Waiting for headers]"
     ]
    },
    {
     "name": "stdout",
     "output_type": "stream",
     "text": [
      "\r",
      "                        \r",
      "Get:10 http://asia-east1.gce.archive.ubuntu.com/ubuntu bionic/universe amd64 libva2 amd64 2.1.0-3 [47.6 kB]\r\n",
      "\r",
      "3% [10 libva2 12.3 kB/47.6 kB 26%]\r",
      "                                  \r",
      "3% [Waiting for headers]"
     ]
    },
    {
     "name": "stdout",
     "output_type": "stream",
     "text": [
      "\r",
      "                        \r",
      "Get:11 http://asia-east1.gce.archive.ubuntu.com/ubuntu bionic/universe amd64 libva-drm2 amd64 2.1.0-3 [6880 B]\r\n",
      "\r",
      "3% [11 libva-drm2 6880 B/6880 B 100%]\r",
      "                                     \r",
      "3% [Working]"
     ]
    },
    {
     "name": "stdout",
     "output_type": "stream",
     "text": [
      "\r",
      "            \r",
      "Get:12 http://asia-east1.gce.archive.ubuntu.com/ubuntu bionic/universe amd64 libva-x11-2 amd64 2.1.0-3 [11.5 kB]\r\n",
      "\r",
      "3% [12 libva-x11-2 11.5 kB/11.5 kB 100%]\r",
      "                                        \r",
      "4% [Waiting for headers]\r",
      "                        \r",
      "Get:13 http://asia-east1.gce.archive.ubuntu.com/ubuntu bionic-updates/universe amd64 libavutil55 amd64 7:3.4.8-0ubuntu0.2 [190 kB]\r\n",
      "\r",
      "4% [13 libavutil55 8043 B/190 kB 4%]\r",
      "                                    \r",
      "4% [Waiting for headers]"
     ]
    },
    {
     "name": "stdout",
     "output_type": "stream",
     "text": [
      "\r",
      "                        \r",
      "Get:14 http://asia-east1.gce.archive.ubuntu.com/ubuntu bionic/universe amd64 libcrystalhd3 amd64 1:0.0~git20110715.fdd2f19-12 [45.8 kB]\r\n",
      "\r",
      "4% [14 libcrystalhd3 12.3 kB/45.8 kB 27%]\r",
      "                                         \r",
      "5% [Waiting for headers]"
     ]
    },
    {
     "name": "stdout",
     "output_type": "stream",
     "text": [
      "\r",
      "                        \r",
      "Get:15 http://asia-east1.gce.archive.ubuntu.com/ubuntu bionic/universe amd64 libgsm1 amd64 1.0.13-4build1 [22.4 kB]\r\n",
      "\r",
      "5% [15 libgsm1 17.9 kB/22.4 kB 80%]\r",
      "                                   \r",
      "5% [Waiting for headers]\r",
      "                        \r",
      "Get:16 http://asia-east1.gce.archive.ubuntu.com/ubuntu bionic/main amd64 libmp3lame0 amd64 3.100-2 [136 kB]\r\n",
      "\r",
      "5% [16 libmp3lame0 12.3 kB/136 kB 9%]\r",
      "                                     \r",
      "5% [Waiting for headers]"
     ]
    },
    {
     "name": "stdout",
     "output_type": "stream",
     "text": [
      "\r",
      "                        \r",
      "Get:17 http://asia-east1.gce.archive.ubuntu.com/ubuntu bionic-updates/universe amd64 libopenjp2-7 amd64 2.3.0-2build0.18.04.1 [145 kB]\r\n",
      "\r",
      "5% [17 libopenjp2-7 8042 B/145 kB 6%]\r",
      "                                     \r",
      "6% [Waiting for headers]\r",
      "                        \r",
      "Get:18 http://asia-east1.gce.archive.ubuntu.com/ubuntu bionic/main amd64 libopus0 amd64 1.1.2-1ubuntu1 [159 kB]\r\n",
      "\r",
      "6% [18 libopus0 8042 B/159 kB 5%]\r",
      "                                 \r",
      "6% [Waiting for headers]"
     ]
    },
    {
     "name": "stdout",
     "output_type": "stream",
     "text": [
      "\r",
      "                        \r",
      "Get:19 http://asia-east1.gce.archive.ubuntu.com/ubuntu bionic/universe amd64 libshine3 amd64 3.1.1-1 [22.9 kB]\r\n",
      "\r",
      "6% [19 libshine3 22.9 kB/22.9 kB 100%]\r",
      "                                      \r",
      "7% [Waiting for headers]"
     ]
    },
    {
     "name": "stdout",
     "output_type": "stream",
     "text": [
      "\r",
      "                        \r",
      "Get:20 http://asia-east1.gce.archive.ubuntu.com/ubuntu bionic/main amd64 libsnappy1v5 amd64 1.1.7-1 [16.0 kB]\r\n",
      "\r",
      "7% [20 libsnappy1v5 8750 B/16.0 kB 55%]\r",
      "                                       \r",
      "7% [Waiting for headers]\r",
      "                        \r",
      "Get:21 http://asia-east1.gce.archive.ubuntu.com/ubuntu bionic/main amd64 libspeex1 amd64 1.2~rc1.2-1ubuntu2 [52.1 kB]\r\n",
      "\r",
      "7% [21 libspeex1 52.1 kB/52.1 kB 100%]\r",
      "                                      \r",
      "7% [Working]\r",
      "            \r",
      "Get:22 http://asia-east1.gce.archive.ubuntu.com/ubuntu bionic/universe amd64 libsoxr0 amd64 0.1.2-3 [65.9 kB]\r\n",
      "\r",
      "7% [22 libsoxr0 5393 B/65.9 kB 8%]\r",
      "                                  \r",
      "8% [Waiting for headers]\r",
      "                        \r",
      "Get:23 http://asia-east1.gce.archive.ubuntu.com/ubuntu bionic-updates/universe amd64 libswresample2 amd64 7:3.4.8-0ubuntu0.2 [55.2 kB]\r\n",
      "\r",
      "8% [23 libswresample2 4661 B/55.2 kB 8%]\r",
      "                                        \r",
      "8% [Waiting for headers]\r",
      "                        \r",
      "Get:24 http://asia-east1.gce.archive.ubuntu.com/ubuntu bionic/main amd64 libtheora0 amd64 1.1.1+dfsg.1-14 [170 kB]\r\n",
      "\r",
      "8% [24 libtheora0 12.3 kB/170 kB 7%]\r",
      "                                    \r",
      "8% [Waiting for headers]"
     ]
    },
    {
     "name": "stdout",
     "output_type": "stream",
     "text": [
      "\r",
      "                        \r",
      "Get:25 http://asia-east1.gce.archive.ubuntu.com/ubuntu bionic/main amd64 libtwolame0 amd64 0.3.13-3 [46.7 kB]\r\n",
      "\r",
      "8% [25 libtwolame0 12.3 kB/46.7 kB 26%]\r",
      "                                       \r",
      "9% [Waiting for headers]"
     ]
    },
    {
     "name": "stdout",
     "output_type": "stream",
     "text": [
      "\r",
      "                        \r",
      "Get:26 http://asia-east1.gce.archive.ubuntu.com/ubuntu bionic-updates/main amd64 libvpx5 amd64 1.7.0-3ubuntu0.18.04.1 [796 kB]\r\n",
      "\r",
      "9% [26 libvpx5 20.7 kB/796 kB 3%]\r",
      "                                 \r",
      "10% [Waiting for headers]\r",
      "                         \r",
      "Get:27 http://asia-east1.gce.archive.ubuntu.com/ubuntu bionic-updates/main amd64 libwavpack1 amd64 5.1.0-2ubuntu1.5 [76.8 kB]\r\n",
      "\r",
      "10% [27 libwavpack1 12.3 kB/76.8 kB 16%]\r",
      "                                        \r",
      "11% [Waiting for headers]\r",
      "                         \r",
      "Get:28 http://asia-east1.gce.archive.ubuntu.com/ubuntu bionic/main amd64 libwebpmux3 amd64 0.6.1-2 [19.6 kB]\r\n",
      "\r",
      "11% [28 libwebpmux3 19.6 kB/19.6 kB 100%]\r",
      "                                         \r",
      "11% [Waiting for headers]\r",
      "                         \r",
      "Get:29 http://asia-east1.gce.archive.ubuntu.com/ubuntu bionic/universe amd64 libx264-152 amd64 2:0.152.2854+gite9a5903-2 [609 kB]\r\n",
      "\r",
      "11% [29 libx264-152 8042 B/609 kB 1%]\r",
      "                                     \r",
      "12% [Waiting for headers]"
     ]
    },
    {
     "name": "stdout",
     "output_type": "stream",
     "text": [
      "\r",
      "                         \r",
      "Get:30 http://asia-east1.gce.archive.ubuntu.com/ubuntu bionic/universe amd64 libx265-146 amd64 2.6-3 [1026 kB]\r\n",
      "\r",
      "12% [30 libx265-146 20.7 kB/1026 kB 2%]"
     ]
    },
    {
     "name": "stdout",
     "output_type": "stream",
     "text": [
      "\r",
      "                                       \r",
      "14% [Waiting for headers]"
     ]
    },
    {
     "name": "stdout",
     "output_type": "stream",
     "text": [
      "\r",
      "                         \r",
      "Get:31 http://asia-east1.gce.archive.ubuntu.com/ubuntu bionic/universe amd64 libxvidcore4 amd64 2:1.3.5-1 [200 kB]\r\n",
      "\r",
      "14% [31 libxvidcore4 21.1 kB/200 kB 11%]\r",
      "                                        \r",
      "15% [Waiting for headers]\r",
      "                         \r",
      "Get:32 http://asia-east1.gce.archive.ubuntu.com/ubuntu bionic/universe amd64 libzvbi-common all 0.2.35-13 [32.1 kB]\r\n",
      "\r",
      "15% [32 libzvbi-common 16.9 kB/32.1 kB 53%]\r",
      "                                           \r",
      "15% [Working]\r",
      "             \r",
      "Get:33 http://asia-east1.gce.archive.ubuntu.com/ubuntu bionic/universe amd64 libzvbi0 amd64 0.2.35-13 [235 kB]\r\n",
      "\r",
      "15% [33 libzvbi0 12.3 kB/235 kB 5%]\r",
      "                                   \r",
      "15% [Waiting for headers]\r",
      "                         \r",
      "Get:34 http://asia-east1.gce.archive.ubuntu.com/ubuntu bionic-updates/universe amd64 libavcodec57 amd64 7:3.4.8-0ubuntu0.2 [4595 kB]\r\n",
      "\r",
      "15% [34 libavcodec57 11.2 kB/4595 kB 0%]"
     ]
    },
    {
     "name": "stdout",
     "output_type": "stream",
     "text": [
      "\r",
      "                                        \r",
      "23% [Waiting for headers]\r",
      "                         \r",
      "Get:35 http://asia-east1.gce.archive.ubuntu.com/ubuntu bionic/main amd64 libraw1394-11 amd64 2.1.2-1 [30.7 kB]\r\n",
      "\r",
      "23% [35 libraw1394-11 30.7 kB/30.7 kB 100%]\r",
      "                                           \r",
      "23% [Working]"
     ]
    },
    {
     "name": "stdout",
     "output_type": "stream",
     "text": [
      "\r",
      "             \r",
      "Get:36 http://asia-east1.gce.archive.ubuntu.com/ubuntu bionic/main amd64 libavc1394-0 amd64 0.5.4-4build1 [16.1 kB]\r\n",
      "\r",
      "23% [36 libavc1394-0 16.1 kB/16.1 kB 100%]\r",
      "                                          \r",
      "24% [Waiting for headers]"
     ]
    },
    {
     "name": "stdout",
     "output_type": "stream",
     "text": [
      "\r",
      "                         \r",
      "Get:37 http://asia-east1.gce.archive.ubuntu.com/ubuntu bionic/universe amd64 libass9 amd64 1:0.14.0-1 [88.2 kB]\r\n",
      "\r",
      "24% [37 libass9 12.3 kB/88.2 kB 14%]\r",
      "                                    \r",
      "24% [Working]\r",
      "             \r",
      "Get:38 http://asia-east1.gce.archive.ubuntu.com/ubuntu bionic/universe amd64 libbluray2 amd64 1:1.0.2-3 [141 kB]\r\n",
      "\r",
      "24% [38 libbluray2 8042 B/141 kB 6%]\r",
      "                                    \r",
      "24% [Waiting for headers]"
     ]
    },
    {
     "name": "stdout",
     "output_type": "stream",
     "text": [
      "\r",
      "                         \r",
      "Get:39 http://asia-east1.gce.archive.ubuntu.com/ubuntu bionic/universe amd64 libchromaprint1 amd64 1.4.3-1 [36.8 kB]\r\n",
      "\r",
      "25% [39 libchromaprint1 36.8 kB/36.8 kB 100%]\r",
      "                                             \r",
      "25% [Waiting for headers]"
     ]
    },
    {
     "name": "stdout",
     "output_type": "stream",
     "text": [
      "\r",
      "                         \r",
      "Get:40 http://asia-east1.gce.archive.ubuntu.com/ubuntu bionic/universe amd64 libgme0 amd64 0.6.2-1 [121 kB]\r\n",
      "\r",
      "25% [40 libgme0 16.2 kB/121 kB 13%]\r",
      "                                   \r",
      "25% [Waiting for headers]\r",
      "                         \r",
      "Get:41 http://asia-east1.gce.archive.ubuntu.com/ubuntu bionic/main amd64 libmpg123-0 amd64 1.25.10-1 [125 kB]\r\n",
      "\r",
      "25% [41 libmpg123-0 12.3 kB/125 kB 10%]\r",
      "                                       \r",
      "26% [Waiting for headers]"
     ]
    },
    {
     "name": "stdout",
     "output_type": "stream",
     "text": [
      "\r",
      "                         \r",
      "Get:42 http://asia-east1.gce.archive.ubuntu.com/ubuntu bionic/main amd64 libvorbisfile3 amd64 1.3.5-4.2 [16.0 kB]\r\n",
      "\r",
      "26% [42 libvorbisfile3 16.0 kB/16.0 kB 100%]                      1544 kB/s 26s\r",
      "26% [Waiting for headers]                                         1544 kB/s 26s"
     ]
    },
    {
     "name": "stdout",
     "output_type": "stream",
     "text": [
      "\r",
      "                                                                               \r",
      "Get:43 http://asia-east1.gce.archive.ubuntu.com/ubuntu bionic/universe amd64 libopenmpt0 amd64 0.3.6-1 [561 kB]\r\n",
      "\r",
      "26% [43 libopenmpt0 26.4 kB/561 kB 5%]                            1544 kB/s 26s\r",
      "27% [Waiting for headers]                                         1544 kB/s 26s\r",
      "                                                                               \r",
      "Get:44 http://asia-east1.gce.archive.ubuntu.com/ubuntu bionic-updates/main amd64 libssh-gcrypt-4 amd64 0.8.0~20170825.94fa1e38-1ubuntu0.7 [172 kB]\r\n",
      "\r",
      "27% [44 libssh-gcrypt-4 12.3 kB/172 kB 7%]                        1544 kB/s 26s\r",
      "28% [Waiting for headers]                                         1544 kB/s 25s\r",
      "                                                                               \r",
      "Get:45 http://asia-east1.gce.archive.ubuntu.com/ubuntu bionic-updates/universe amd64 libavformat57 amd64 7:3.4.8-0ubuntu0.2 [953 kB]\r\n",
      "\r",
      "28% [45 libavformat57 12.3 kB/953 kB 1%]                          1544 kB/s 25s\r",
      "29% [Waiting for headers]                                         1544 kB/s 25s\r",
      "                                                                               \r",
      "Get:46 http://asia-east1.gce.archive.ubuntu.com/ubuntu bionic-updates/universe amd64 libavresample3 amd64 7:3.4.8-0ubuntu0.2 [52.6 kB]\r\n",
      "\r",
      "29% [46 libavresample3 32.8 kB/52.6 kB 62%]                       1544 kB/s 25s\r",
      "30% [Working]                                                     1544 kB/s 25s"
     ]
    },
    {
     "name": "stdout",
     "output_type": "stream",
     "text": [
      "\r",
      "                                                                               \r",
      "Get:47 http://asia-east1.gce.archive.ubuntu.com/ubuntu bionic/universe amd64 libbs2b0 amd64 3.1.0+dfsg-2.2 [10.5 kB]\r\n",
      "\r",
      "30% [47 libbs2b0 10.5 kB/10.5 kB 100%]                            1544 kB/s 25s\r",
      "30% [Waiting for headers]                                         1544 kB/s 25s"
     ]
    },
    {
     "name": "stdout",
     "output_type": "stream",
     "text": [
      "\r",
      "                                                                               \r",
      "Get:48 http://asia-east1.gce.archive.ubuntu.com/ubuntu bionic/universe amd64 libflite1 amd64 2.1-release-1 [12.8 MB]\r\n",
      "\r",
      "30% [48 libflite1 34.5 kB/12.8 MB 0%]                             1544 kB/s 25s"
     ]
    },
    {
     "name": "stdout",
     "output_type": "stream",
     "text": [
      "\r",
      "51% [Waiting for headers]                                         1544 kB/s 17s\r",
      "                                                                               \r",
      "Get:49 http://asia-east1.gce.archive.ubuntu.com/ubuntu bionic-updates/universe amd64 libmysofa0 amd64 0.6~dfsg0-3+deb10u1build1 [38.5 kB]\r\n",
      "\r",
      "51% [49 libmysofa0 38.5 kB/38.5 kB 100%]                          1544 kB/s 16s\r",
      "51% [Working]                                                     1544 kB/s 16s\r",
      "                                                                               \r",
      "Get:50 http://asia-east1.gce.archive.ubuntu.com/ubuntu bionic-updates/universe amd64 libpostproc54 amd64 7:3.4.8-0ubuntu0.2 [50.3 kB]\r\n",
      "\r",
      "51% [50 libpostproc54 25.3 kB/50.3 kB 50%]                        1544 kB/s 16s\r",
      "51% [Working]                                                     1544 kB/s 16s\r",
      "                                                                               \r",
      "Get:51 http://asia-east1.gce.archive.ubuntu.com/ubuntu bionic/main amd64 libfftw3-double3 amd64 3.3.7-1 [735 kB]\r\n",
      "\r",
      "51% [51 libfftw3-double3 40.1 kB/735 kB 5%]                       1544 kB/s 16s\r",
      "53% [Waiting for headers]                                         1544 kB/s 16s\r",
      "                                                                               \r",
      "Get:52 http://asia-east1.gce.archive.ubuntu.com/ubuntu bionic/main amd64 libsamplerate0 amd64 0.1.9-1 [938 kB]\r\n",
      "\r",
      "53% [52 libsamplerate0 25.6 kB/938 kB 3%]                         1544 kB/s 16s"
     ]
    },
    {
     "name": "stdout",
     "output_type": "stream",
     "text": [
      "\r",
      "54% [Waiting for headers]                                         1544 kB/s 15s"
     ]
    },
    {
     "name": "stdout",
     "output_type": "stream",
     "text": [
      "\r",
      "                                                                               \r",
      "Get:53 http://asia-east1.gce.archive.ubuntu.com/ubuntu bionic/universe amd64 librubberband2 amd64 1.8.1-7ubuntu2 [86.7 kB]\r\n",
      "\r",
      "54% [53 librubberband2 12.3 kB/86.7 kB 14%]                       1544 kB/s 15s\r",
      "55% [Waiting for headers]                                         1544 kB/s 15s\r",
      "                                                                               \r",
      "Get:54 http://asia-east1.gce.archive.ubuntu.com/ubuntu bionic-updates/universe amd64 libswscale4 amd64 7:3.4.8-0ubuntu0.2 [150 kB]\r\n",
      "\r",
      "55% [54 libswscale4 12.3 kB/150 kB 8%]                            1544 kB/s 15s"
     ]
    },
    {
     "name": "stdout",
     "output_type": "stream",
     "text": [
      "\r",
      "55% [Waiting for headers]                                         1544 kB/s 15s"
     ]
    },
    {
     "name": "stdout",
     "output_type": "stream",
     "text": [
      "\r",
      "                                                                               \r",
      "Get:55 http://asia-east1.gce.archive.ubuntu.com/ubuntu bionic/universe amd64 libnorm1 amd64 1.5r6+dfsg1-6 [224 kB]\r\n",
      "\r",
      "55% [55 libnorm1 26.4 kB/224 kB 12%]                              1544 kB/s 15s\r",
      "56% [Waiting for headers]                                         1544 kB/s 15s"
     ]
    },
    {
     "name": "stdout",
     "output_type": "stream",
     "text": [
      "\r",
      "                                                                               \r",
      "Get:56 http://asia-east1.gce.archive.ubuntu.com/ubuntu bionic/universe amd64 libpgm-5.2-0 amd64 5.2.122~dfsg-2 [157 kB]\r\n",
      "\r",
      "56% [56 libpgm-5.2-0 37.6 kB/157 kB 24%]                          1544 kB/s 15s\r",
      "56% [Waiting for headers]                                         1544 kB/s 15s\r",
      "                                                                               \r",
      "Get:57 http://asia-east1.gce.archive.ubuntu.com/ubuntu bionic/main amd64 libsodium23 amd64 1.0.16-2 [143 kB]\r\n",
      "\r",
      "56% [57 libsodium23 12.3 kB/143 kB 9%]                            1544 kB/s 15s\r",
      "57% [Waiting for headers]                                         1544 kB/s 15s"
     ]
    },
    {
     "name": "stdout",
     "output_type": "stream",
     "text": [
      "\r",
      "                                                                               \r",
      "Get:58 http://asia-east1.gce.archive.ubuntu.com/ubuntu bionic-updates/universe amd64 libzmq5 amd64 4.2.5-1ubuntu0.2 [221 kB]\r\n",
      "\r",
      "57% [58 libzmq5 28.4 kB/221 kB 13%]                               1544 kB/s 15s\r",
      "57% [Waiting for headers]                                         1544 kB/s 15s\r",
      "                                                                               \r",
      "Get:59 http://asia-east1.gce.archive.ubuntu.com/ubuntu bionic-updates/universe amd64 libavfilter6 amd64 7:3.4.8-0ubuntu0.2 [874 kB]\r\n",
      "\r",
      "57% [59 libavfilter6 3233 B/874 kB 0%]                            1544 kB/s 15s\r",
      "59% [Waiting for headers]                                         1544 kB/s 14s"
     ]
    },
    {
     "name": "stdout",
     "output_type": "stream",
     "text": [
      "\r",
      "                                                                               \r",
      "Get:60 http://asia-east1.gce.archive.ubuntu.com/ubuntu bionic-updates/main amd64 libcaca0 amd64 0.99.beta19-2ubuntu0.18.04.1 [203 kB]\r\n",
      "\r",
      "59% [60 libcaca0 40.4 kB/203 kB 20%]                              1544 kB/s 14s\r",
      "60% [Waiting for headers]                                         1544 kB/s 14s"
     ]
    },
    {
     "name": "stdout",
     "output_type": "stream",
     "text": [
      "\r",
      "                                                                               \r",
      "Get:61 http://asia-east1.gce.archive.ubuntu.com/ubuntu bionic/main amd64 libcdio17 amd64 1.0.0-2ubuntu2 [58.8 kB]\r\n",
      "\r",
      "60% [61 libcdio17 40.3 kB/58.8 kB 69%]                            1544 kB/s 14s\r",
      "60% [Waiting for headers]                                         1544 kB/s 14s"
     ]
    },
    {
     "name": "stdout",
     "output_type": "stream",
     "text": [
      "\r",
      "60% [Waiting for headers]                                         1544 kB/s 14s"
     ]
    },
    {
     "name": "stdout",
     "output_type": "stream",
     "text": [
      "\r",
      "                                                                               \r",
      "Get:62 http://asia-east1.gce.archive.ubuntu.com/ubuntu bionic/main amd64 libcdio-cdda2 amd64 10.2+0.94+2-2build1 [17.7 kB]\r\n",
      "\r",
      "60% [62 libcdio-cdda2 17.7 kB/17.7 kB 100%]                       1544 kB/s 14s\r",
      "60% [Waiting for headers]                                         1544 kB/s 14s"
     ]
    },
    {
     "name": "stdout",
     "output_type": "stream",
     "text": [
      "\r",
      "                                                                               \r",
      "Get:63 http://asia-east1.gce.archive.ubuntu.com/ubuntu bionic/main amd64 libcdio-paranoia2 amd64 10.2+0.94+2-2build1 [17.2 kB]\r\n",
      "\r",
      "60% [63 libcdio-paranoia2 17.2 kB/17.2 kB 100%]                   1544 kB/s 14s\r",
      "61% [Waiting for headers]                                         1544 kB/s 14s\r",
      "                                                                               \r",
      "Get:64 http://asia-east1.gce.archive.ubuntu.com/ubuntu bionic/universe amd64 libdc1394-22 amd64 2.2.5-1 [77.5 kB]\r\n",
      "\r",
      "61% [64 libdc1394-22 11.0 kB/77.5 kB 14%]                         1544 kB/s 14s\r",
      "61% [Waiting for headers]                                         1544 kB/s 14s"
     ]
    },
    {
     "name": "stdout",
     "output_type": "stream",
     "text": [
      "\r",
      "                                                                               \r",
      "Get:65 http://asia-east1.gce.archive.ubuntu.com/ubuntu bionic/main amd64 libiec61883-0 amd64 1.2.0-2 [23.5 kB]\r\n",
      "\r",
      "61% [65 libiec61883-0 23.5 kB/23.5 kB 100%]                       1544 kB/s 14s\r",
      "61% [Waiting for headers]                                         1544 kB/s 14s"
     ]
    },
    {
     "name": "stdout",
     "output_type": "stream",
     "text": [
      "\r",
      "                                                                               \r",
      "Get:66 http://asia-east1.gce.archive.ubuntu.com/ubuntu bionic/main amd64 libjack-jackd2-0 amd64 1.9.12~dfsg-2 [263 kB]\r\n",
      "\r",
      "61% [66 libjack-jackd2-0 26.4 kB/263 kB 10%]                      1544 kB/s 14s\r",
      "62% [Waiting for headers]                                         1544 kB/s 14s\r",
      "                                                                               \r",
      "Get:67 http://asia-east1.gce.archive.ubuntu.com/ubuntu bionic/universe amd64 libopenal-data all 1:1.18.2-2 [102 kB]\r\n",
      "\r",
      "62% [67 libopenal-data 12.4 kB/102 kB 12%]                        1544 kB/s 14s\r",
      "62% [Waiting for headers]                                         1544 kB/s 14s"
     ]
    },
    {
     "name": "stdout",
     "output_type": "stream",
     "text": [
      "\r",
      "                                                                               \r",
      "Get:68 http://asia-east1.gce.archive.ubuntu.com/ubuntu bionic/universe amd64 libsndio6.1 amd64 1.1.0-3 [23.4 kB]\r\n",
      "\r",
      "62% [68 libsndio6.1 23.4 kB/23.4 kB 100%]                         1544 kB/s 14s\r",
      "63% [Waiting for headers]                                         1544 kB/s 14s"
     ]
    },
    {
     "name": "stdout",
     "output_type": "stream",
     "text": [
      "\r",
      "                                                                               \r",
      "Get:69 http://asia-east1.gce.archive.ubuntu.com/ubuntu bionic/universe amd64 libopenal1 amd64 1:1.18.2-2 [266 kB]\r\n",
      "\r",
      "63% [69 libopenal1 12.3 kB/266 kB 5%]                             1544 kB/s 14s\r",
      "63% [Waiting for headers]                                         1544 kB/s 13s"
     ]
    },
    {
     "name": "stdout",
     "output_type": "stream",
     "text": [
      "\r",
      "                                                                               \r",
      "Get:70 http://asia-east1.gce.archive.ubuntu.com/ubuntu bionic-updates/universe amd64 libsdl2-2.0-0 amd64 2.0.8+dfsg1-1ubuntu1.18.04.4 [382 kB]\r\n",
      "\r",
      "63% [70 libsdl2-2.0-0 40.1 kB/382 kB 11%]                          3169 kB/s 6s"
     ]
    },
    {
     "name": "stdout",
     "output_type": "stream",
     "text": [
      "\r",
      "64% [Waiting for headers]                                          3169 kB/s 6s\r",
      "                                                                               \r",
      "Get:71 http://asia-east1.gce.archive.ubuntu.com/ubuntu bionic-updates/universe amd64 libavdevice57 amd64 7:3.4.8-0ubuntu0.2 [74.9 kB]\r\n",
      "\r",
      "64% [71 libavdevice57 51.4 kB/74.9 kB 69%]                         3169 kB/s 6s\r",
      "64% [Waiting for headers]                                          3169 kB/s 6s"
     ]
    },
    {
     "name": "stdout",
     "output_type": "stream",
     "text": [
      "\r",
      "                                                                               \r",
      "Get:72 http://asia-east1.gce.archive.ubuntu.com/ubuntu bionic-updates/universe amd64 ffmpeg amd64 7:3.4.8-0ubuntu0.2 [1587 kB]\r\n",
      "\r",
      "64% [72 ffmpeg 13.7 kB/1587 kB 1%]                                 3169 kB/s 6s"
     ]
    },
    {
     "name": "stdout",
     "output_type": "stream",
     "text": [
      "\r",
      "67% [Waiting for headers]                                          3169 kB/s 6s"
     ]
    },
    {
     "name": "stdout",
     "output_type": "stream",
     "text": [
      "\r",
      "                                                                               \r",
      "Get:73 http://asia-east1.gce.archive.ubuntu.com/ubuntu bionic/universe amd64 libaacs0 amd64 0.9.0-1 [51.4 kB]\r\n",
      "\r",
      "67% [73 libaacs0 26.7 kB/51.4 kB 52%]                              3169 kB/s 6s"
     ]
    },
    {
     "name": "stdout",
     "output_type": "stream",
     "text": [
      "\r",
      "68% [Waiting for headers]                                          3169 kB/s 6s"
     ]
    },
    {
     "name": "stdout",
     "output_type": "stream",
     "text": [
      "\r",
      "                                                                               \r",
      "Get:74 http://asia-east1.gce.archive.ubuntu.com/ubuntu bionic/universe amd64 libbdplus0 amd64 0.1.2-2 [46.6 kB]\r\n",
      "\r",
      "68% [74 libbdplus0 12.3 kB/46.6 kB 26%]                            3169 kB/s 6s\r",
      "68% [Waiting for headers]                                          3169 kB/s 6s\r",
      "                                                                               \r",
      "Get:75 http://asia-east1.gce.archive.ubuntu.com/ubuntu bionic-updates/main amd64 libllvm10 amd64 1:10.0.0-4ubuntu1~18.04.2 [15.4 MB]\r\n",
      "\r",
      "68% [75 libllvm10 12.3 kB/15.4 MB 0%]                              3169 kB/s 6s"
     ]
    },
    {
     "name": "stdout",
     "output_type": "stream",
     "text": [
      "\r",
      "93% [Waiting for headers]                                          3169 kB/s 1s"
     ]
    },
    {
     "name": "stdout",
     "output_type": "stream",
     "text": [
      "\r",
      "                                                                               \r",
      "Get:76 http://asia-east1.gce.archive.ubuntu.com/ubuntu bionic-updates/universe amd64 mesa-va-drivers amd64 20.0.8-0ubuntu1~18.04.1 [2376 kB]\r\n",
      "\r",
      "93% [76 mesa-va-drivers 20.2 kB/2376 kB 1%]                        3169 kB/s 1s"
     ]
    },
    {
     "name": "stdout",
     "output_type": "stream",
     "text": [
      "\r",
      "97% [Waiting for headers]                                          3169 kB/s 0s\r",
      "                                                                               \r",
      "Get:77 http://asia-east1.gce.archive.ubuntu.com/ubuntu bionic/universe amd64 i965-va-driver amd64 2.1.0-0ubuntu1 [925 kB]\r\n",
      "\r",
      "97% [77 i965-va-driver 65.5 kB/925 kB 7%]                          3169 kB/s 0s\r",
      "98% [Waiting for headers]                                          3169 kB/s 0s"
     ]
    },
    {
     "name": "stdout",
     "output_type": "stream",
     "text": [
      "\r",
      "                                                                               \r",
      "Get:78 http://asia-east1.gce.archive.ubuntu.com/ubuntu bionic/universe amd64 va-driver-all amd64 2.1.0-3 [4376 B]\r\n",
      "\r",
      "98% [78 va-driver-all 4376 B/4376 B 100%]                          3169 kB/s 0s\r",
      "99% [Working]                                                      3169 kB/s 0s\r",
      "                                                                               \r",
      "Get:79 http://asia-east1.gce.archive.ubuntu.com/ubuntu bionic-updates/universe amd64 xvfb amd64 2:1.19.6-1ubuntu4.8 [784 kB]\r\n",
      "\r",
      "99% [79 xvfb 36.9 kB/784 kB 5%]                                    3169 kB/s 0s\r",
      "100% [Working]                                                     3169 kB/s 0s\r",
      "                                                                               \r",
      "Fetched 50.5 MB in 14s (3554 kB/s)\r\n"
     ]
    },
    {
     "name": "stdout",
     "output_type": "stream",
     "text": [
      "\r",
      "Extracting templates from packages: 37%"
     ]
    },
    {
     "name": "stdout",
     "output_type": "stream",
     "text": [
      "\r",
      "Extracting templates from packages: 75%"
     ]
    },
    {
     "name": "stdout",
     "output_type": "stream",
     "text": [
      "\r",
      "Extracting templates from packages: 100%\r\n"
     ]
    },
    {
     "name": "stdout",
     "output_type": "stream",
     "text": [
      "Selecting previously unselected package libxss1:amd64.\r\n",
      "(Reading database ... \r",
      "(Reading database ... 5%\r",
      "(Reading database ... 10%\r",
      "(Reading database ... 15%\r",
      "(Reading database ... 20%\r",
      "(Reading database ... 25%\r",
      "(Reading database ... 30%\r",
      "(Reading database ... 35%\r",
      "(Reading database ... 40%\r",
      "(Reading database ... 45%\r",
      "(Reading database ... 50%\r",
      "(Reading database ... 55%\r",
      "(Reading database ... 60%\r",
      "(Reading database ... 65%\r",
      "(Reading database ... 70%\r",
      "(Reading database ... 75%\r",
      "(Reading database ... 80%\r",
      "(Reading database ... 85%\r"
     ]
    },
    {
     "name": "stdout",
     "output_type": "stream",
     "text": [
      "(Reading database ... 90%\r"
     ]
    },
    {
     "name": "stdout",
     "output_type": "stream",
     "text": [
      "(Reading database ... 95%\r",
      "(Reading database ... 100%\r",
      "(Reading database ... 254127 files and directories currently installed.)\r\n",
      "Preparing to unpack .../00-libxss1_1%3a1.2.2-1_amd64.deb ...\r\n"
     ]
    },
    {
     "name": "stdout",
     "output_type": "stream",
     "text": [
      "Unpacking libxss1:amd64 (1:1.2.2-1) ...\r\n"
     ]
    },
    {
     "name": "stdout",
     "output_type": "stream",
     "text": [
      "Preparing to unpack .../01-libdrm-common_2.4.101-2~18.04.1_all.deb ...\r\n",
      "Unpacking libdrm-common (2.4.101-2~18.04.1) over (2.4.99-1ubuntu1~18.04.2) ...\r\n"
     ]
    },
    {
     "name": "stdout",
     "output_type": "stream",
     "text": [
      "Preparing to unpack .../02-libdrm-dev_2.4.101-2~18.04.1_amd64.deb ...\r\n",
      "Unpacking libdrm-dev:amd64 (2.4.101-2~18.04.1) over (2.4.99-1ubuntu1~18.04.2) ...\r\n"
     ]
    },
    {
     "name": "stdout",
     "output_type": "stream",
     "text": [
      "Preparing to unpack .../03-libdrm-intel1_2.4.101-2~18.04.1_amd64.deb ...\r\n",
      "Unpacking libdrm-intel1:amd64 (2.4.101-2~18.04.1) over (2.4.99-1ubuntu1~18.04.2) ...\r\n"
     ]
    },
    {
     "name": "stdout",
     "output_type": "stream",
     "text": [
      "Preparing to unpack .../04-libdrm-radeon1_2.4.101-2~18.04.1_amd64.deb ...\r\n"
     ]
    },
    {
     "name": "stdout",
     "output_type": "stream",
     "text": [
      "Unpacking libdrm-radeon1:amd64 (2.4.101-2~18.04.1) over (2.4.99-1ubuntu1~18.04.2) ...\r\n"
     ]
    },
    {
     "name": "stdout",
     "output_type": "stream",
     "text": [
      "Preparing to unpack .../05-libdrm-nouveau2_2.4.101-2~18.04.1_amd64.deb ...\r\n",
      "Unpacking libdrm-nouveau2:amd64 (2.4.101-2~18.04.1) over (2.4.99-1ubuntu1~18.04.2) ...\r\n"
     ]
    },
    {
     "name": "stdout",
     "output_type": "stream",
     "text": [
      "Preparing to unpack .../06-libdrm-amdgpu1_2.4.101-2~18.04.1_amd64.deb ...\r\n"
     ]
    },
    {
     "name": "stdout",
     "output_type": "stream",
     "text": [
      "Unpacking libdrm-amdgpu1:amd64 (2.4.101-2~18.04.1) over (2.4.99-1ubuntu1~18.04.2) ...\r\n"
     ]
    },
    {
     "name": "stdout",
     "output_type": "stream",
     "text": [
      "Preparing to unpack .../07-libdrm2_2.4.101-2~18.04.1_amd64.deb ...\r\n",
      "Unpacking libdrm2:amd64 (2.4.101-2~18.04.1) over (2.4.99-1ubuntu1~18.04.2) ...\r\n"
     ]
    },
    {
     "name": "stdout",
     "output_type": "stream",
     "text": [
      "Selecting previously unselected package libnuma1:amd64.\r\n"
     ]
    },
    {
     "name": "stdout",
     "output_type": "stream",
     "text": [
      "Preparing to unpack .../08-libnuma1_2.0.11-2.1ubuntu0.1_amd64.deb ...\r\n",
      "Unpacking libnuma1:amd64 (2.0.11-2.1ubuntu0.1) ...\r\n"
     ]
    },
    {
     "name": "stdout",
     "output_type": "stream",
     "text": [
      "Selecting previously unselected package libva2:amd64.\r\n",
      "Preparing to unpack .../09-libva2_2.1.0-3_amd64.deb ...\r\n",
      "Unpacking libva2:amd64 (2.1.0-3) ...\r\n"
     ]
    },
    {
     "name": "stdout",
     "output_type": "stream",
     "text": [
      "Selecting previously unselected package libva-drm2:amd64.\r\n",
      "Preparing to unpack .../10-libva-drm2_2.1.0-3_amd64.deb ...\r\n",
      "Unpacking libva-drm2:amd64 (2.1.0-3) ...\r\n"
     ]
    },
    {
     "name": "stdout",
     "output_type": "stream",
     "text": [
      "Selecting previously unselected package libva-x11-2:amd64.\r\n"
     ]
    },
    {
     "name": "stdout",
     "output_type": "stream",
     "text": [
      "Preparing to unpack .../11-libva-x11-2_2.1.0-3_amd64.deb ...\r\n",
      "Unpacking libva-x11-2:amd64 (2.1.0-3) ...\r\n",
      "Selecting previously unselected package libavutil55:amd64.\r\n"
     ]
    },
    {
     "name": "stdout",
     "output_type": "stream",
     "text": [
      "Preparing to unpack .../12-libavutil55_7%3a3.4.8-0ubuntu0.2_amd64.deb ...\r\n",
      "Unpacking libavutil55:amd64 (7:3.4.8-0ubuntu0.2) ...\r\n"
     ]
    },
    {
     "name": "stdout",
     "output_type": "stream",
     "text": [
      "Selecting previously unselected package libcrystalhd3:amd64.\r\n",
      "Preparing to unpack .../13-libcrystalhd3_1%3a0.0~git20110715.fdd2f19-12_amd64.deb ...\r\n"
     ]
    },
    {
     "name": "stdout",
     "output_type": "stream",
     "text": [
      "Unpacking libcrystalhd3:amd64 (1:0.0~git20110715.fdd2f19-12) ...\r\n",
      "Selecting previously unselected package libgsm1:amd64.\r\n"
     ]
    },
    {
     "name": "stdout",
     "output_type": "stream",
     "text": [
      "Preparing to unpack .../14-libgsm1_1.0.13-4build1_amd64.deb ...\r\n",
      "Unpacking libgsm1:amd64 (1.0.13-4build1) ...\r\n"
     ]
    },
    {
     "name": "stdout",
     "output_type": "stream",
     "text": [
      "Selecting previously unselected package libmp3lame0:amd64.\r\n",
      "Preparing to unpack .../15-libmp3lame0_3.100-2_amd64.deb ...\r\n",
      "Unpacking libmp3lame0:amd64 (3.100-2) ...\r\n"
     ]
    },
    {
     "name": "stdout",
     "output_type": "stream",
     "text": [
      "Selecting previously unselected package libopenjp2-7:amd64.\r\n"
     ]
    },
    {
     "name": "stdout",
     "output_type": "stream",
     "text": [
      "Preparing to unpack .../16-libopenjp2-7_2.3.0-2build0.18.04.1_amd64.deb ...\r\n",
      "Unpacking libopenjp2-7:amd64 (2.3.0-2build0.18.04.1) ...\r\n"
     ]
    },
    {
     "name": "stdout",
     "output_type": "stream",
     "text": [
      "Selecting previously unselected package libopus0:amd64.\r\n",
      "Preparing to unpack .../17-libopus0_1.1.2-1ubuntu1_amd64.deb ...\r\n",
      "Unpacking libopus0:amd64 (1.1.2-1ubuntu1) ...\r\n"
     ]
    },
    {
     "name": "stdout",
     "output_type": "stream",
     "text": [
      "Selecting previously unselected package libshine3:amd64.\r\n"
     ]
    },
    {
     "name": "stdout",
     "output_type": "stream",
     "text": [
      "Preparing to unpack .../18-libshine3_3.1.1-1_amd64.deb ...\r\n",
      "Unpacking libshine3:amd64 (3.1.1-1) ...\r\n"
     ]
    },
    {
     "name": "stdout",
     "output_type": "stream",
     "text": [
      "Selecting previously unselected package libsnappy1v5:amd64.\r\n",
      "Preparing to unpack .../19-libsnappy1v5_1.1.7-1_amd64.deb ...\r\n",
      "Unpacking libsnappy1v5:amd64 (1.1.7-1) ...\r\n"
     ]
    },
    {
     "name": "stdout",
     "output_type": "stream",
     "text": [
      "Selecting previously unselected package libspeex1:amd64.\r\n",
      "Preparing to unpack .../20-libspeex1_1.2~rc1.2-1ubuntu2_amd64.deb ...\r\n",
      "Unpacking libspeex1:amd64 (1.2~rc1.2-1ubuntu2) ...\r\n"
     ]
    },
    {
     "name": "stdout",
     "output_type": "stream",
     "text": [
      "Selecting previously unselected package libsoxr0:amd64.\r\n"
     ]
    },
    {
     "name": "stdout",
     "output_type": "stream",
     "text": [
      "Preparing to unpack .../21-libsoxr0_0.1.2-3_amd64.deb ...\r\n",
      "Unpacking libsoxr0:amd64 (0.1.2-3) ...\r\n"
     ]
    },
    {
     "name": "stdout",
     "output_type": "stream",
     "text": [
      "Selecting previously unselected package libswresample2:amd64.\r\n",
      "Preparing to unpack .../22-libswresample2_7%3a3.4.8-0ubuntu0.2_amd64.deb ...\r\n",
      "Unpacking libswresample2:amd64 (7:3.4.8-0ubuntu0.2) ...\r\n"
     ]
    },
    {
     "name": "stdout",
     "output_type": "stream",
     "text": [
      "Selecting previously unselected package libtheora0:amd64.\r\n",
      "Preparing to unpack .../23-libtheora0_1.1.1+dfsg.1-14_amd64.deb ...\r\n"
     ]
    },
    {
     "name": "stdout",
     "output_type": "stream",
     "text": [
      "Unpacking libtheora0:amd64 (1.1.1+dfsg.1-14) ...\r\n"
     ]
    },
    {
     "name": "stdout",
     "output_type": "stream",
     "text": [
      "Selecting previously unselected package libtwolame0:amd64.\r\n",
      "Preparing to unpack .../24-libtwolame0_0.3.13-3_amd64.deb ...\r\n",
      "Unpacking libtwolame0:amd64 (0.3.13-3) ...\r\n"
     ]
    },
    {
     "name": "stdout",
     "output_type": "stream",
     "text": [
      "Selecting previously unselected package libvpx5:amd64.\r\n",
      "Preparing to unpack .../25-libvpx5_1.7.0-3ubuntu0.18.04.1_amd64.deb ...\r\n",
      "Unpacking libvpx5:amd64 (1.7.0-3ubuntu0.18.04.1) ...\r\n"
     ]
    },
    {
     "name": "stdout",
     "output_type": "stream",
     "text": [
      "Selecting previously unselected package libwavpack1:amd64.\r\n",
      "Preparing to unpack .../26-libwavpack1_5.1.0-2ubuntu1.5_amd64.deb ...\r\n",
      "Unpacking libwavpack1:amd64 (5.1.0-2ubuntu1.5) ...\r\n"
     ]
    },
    {
     "name": "stdout",
     "output_type": "stream",
     "text": [
      "Selecting previously unselected package libwebpmux3:amd64.\r\n"
     ]
    },
    {
     "name": "stdout",
     "output_type": "stream",
     "text": [
      "Preparing to unpack .../27-libwebpmux3_0.6.1-2_amd64.deb ...\r\n",
      "Unpacking libwebpmux3:amd64 (0.6.1-2) ...\r\n",
      "Selecting previously unselected package libx264-152:amd64.\r\n"
     ]
    },
    {
     "name": "stdout",
     "output_type": "stream",
     "text": [
      "Preparing to unpack .../28-libx264-152_2%3a0.152.2854+gite9a5903-2_amd64.deb ...\r\n",
      "Unpacking libx264-152:amd64 (2:0.152.2854+gite9a5903-2) ...\r\n"
     ]
    },
    {
     "name": "stdout",
     "output_type": "stream",
     "text": [
      "Selecting previously unselected package libx265-146:amd64.\r\n"
     ]
    },
    {
     "name": "stdout",
     "output_type": "stream",
     "text": [
      "Preparing to unpack .../29-libx265-146_2.6-3_amd64.deb ...\r\n",
      "Unpacking libx265-146:amd64 (2.6-3) ...\r\n"
     ]
    },
    {
     "name": "stdout",
     "output_type": "stream",
     "text": [
      "Selecting previously unselected package libxvidcore4:amd64.\r\n",
      "Preparing to unpack .../30-libxvidcore4_2%3a1.3.5-1_amd64.deb ...\r\n"
     ]
    },
    {
     "name": "stdout",
     "output_type": "stream",
     "text": [
      "Unpacking libxvidcore4:amd64 (2:1.3.5-1) ...\r\n"
     ]
    },
    {
     "name": "stdout",
     "output_type": "stream",
     "text": [
      "Selecting previously unselected package libzvbi-common.\r\n",
      "Preparing to unpack .../31-libzvbi-common_0.2.35-13_all.deb ...\r\n",
      "Unpacking libzvbi-common (0.2.35-13) ...\r\n"
     ]
    },
    {
     "name": "stdout",
     "output_type": "stream",
     "text": [
      "Selecting previously unselected package libzvbi0:amd64.\r\n"
     ]
    },
    {
     "name": "stdout",
     "output_type": "stream",
     "text": [
      "Preparing to unpack .../32-libzvbi0_0.2.35-13_amd64.deb ...\r\n",
      "Unpacking libzvbi0:amd64 (0.2.35-13) ...\r\n"
     ]
    },
    {
     "name": "stdout",
     "output_type": "stream",
     "text": [
      "Selecting previously unselected package libavcodec57:amd64.\r\n",
      "Preparing to unpack .../33-libavcodec57_7%3a3.4.8-0ubuntu0.2_amd64.deb ...\r\n",
      "Unpacking libavcodec57:amd64 (7:3.4.8-0ubuntu0.2) ...\r\n"
     ]
    },
    {
     "name": "stdout",
     "output_type": "stream",
     "text": [
      "Selecting previously unselected package libraw1394-11:amd64.\r\n",
      "Preparing to unpack .../34-libraw1394-11_2.1.2-1_amd64.deb ...\r\n",
      "Unpacking libraw1394-11:amd64 (2.1.2-1) ...\r\n"
     ]
    },
    {
     "name": "stdout",
     "output_type": "stream",
     "text": [
      "Selecting previously unselected package libavc1394-0:amd64.\r\n"
     ]
    },
    {
     "name": "stdout",
     "output_type": "stream",
     "text": [
      "Preparing to unpack .../35-libavc1394-0_0.5.4-4build1_amd64.deb ...\r\n",
      "Unpacking libavc1394-0:amd64 (0.5.4-4build1) ...\r\n"
     ]
    },
    {
     "name": "stdout",
     "output_type": "stream",
     "text": [
      "Selecting previously unselected package libass9:amd64.\r\n",
      "Preparing to unpack .../36-libass9_1%3a0.14.0-1_amd64.deb ...\r\n",
      "Unpacking libass9:amd64 (1:0.14.0-1) ...\r\n"
     ]
    },
    {
     "name": "stdout",
     "output_type": "stream",
     "text": [
      "Selecting previously unselected package libbluray2:amd64.\r\n",
      "Preparing to unpack .../37-libbluray2_1%3a1.0.2-3_amd64.deb ...\r\n",
      "Unpacking libbluray2:amd64 (1:1.0.2-3) ...\r\n"
     ]
    },
    {
     "name": "stdout",
     "output_type": "stream",
     "text": [
      "Selecting previously unselected package libchromaprint1:amd64.\r\n"
     ]
    },
    {
     "name": "stdout",
     "output_type": "stream",
     "text": [
      "Preparing to unpack .../38-libchromaprint1_1.4.3-1_amd64.deb ...\r\n",
      "Unpacking libchromaprint1:amd64 (1.4.3-1) ...\r\n"
     ]
    },
    {
     "name": "stdout",
     "output_type": "stream",
     "text": [
      "Selecting previously unselected package libgme0:amd64.\r\n",
      "Preparing to unpack .../39-libgme0_0.6.2-1_amd64.deb ...\r\n",
      "Unpacking libgme0:amd64 (0.6.2-1) ...\r\n"
     ]
    },
    {
     "name": "stdout",
     "output_type": "stream",
     "text": [
      "Selecting previously unselected package libmpg123-0:amd64.\r\n"
     ]
    },
    {
     "name": "stdout",
     "output_type": "stream",
     "text": [
      "Preparing to unpack .../40-libmpg123-0_1.25.10-1_amd64.deb ...\r\n",
      "Unpacking libmpg123-0:amd64 (1.25.10-1) ...\r\n"
     ]
    },
    {
     "name": "stdout",
     "output_type": "stream",
     "text": [
      "Selecting previously unselected package libvorbisfile3:amd64.\r\n",
      "Preparing to unpack .../41-libvorbisfile3_1.3.5-4.2_amd64.deb ...\r\n",
      "Unpacking libvorbisfile3:amd64 (1.3.5-4.2) ...\r\n"
     ]
    },
    {
     "name": "stdout",
     "output_type": "stream",
     "text": [
      "Selecting previously unselected package libopenmpt0:amd64.\r\n",
      "Preparing to unpack .../42-libopenmpt0_0.3.6-1_amd64.deb ...\r\n",
      "Unpacking libopenmpt0:amd64 (0.3.6-1) ...\r\n"
     ]
    },
    {
     "name": "stdout",
     "output_type": "stream",
     "text": [
      "Selecting previously unselected package libssh-gcrypt-4:amd64.\r\n",
      "Preparing to unpack .../43-libssh-gcrypt-4_0.8.0~20170825.94fa1e38-1ubuntu0.7_amd64.deb ...\r\n",
      "Unpacking libssh-gcrypt-4:amd64 (0.8.0~20170825.94fa1e38-1ubuntu0.7) ...\r\n"
     ]
    },
    {
     "name": "stdout",
     "output_type": "stream",
     "text": [
      "Selecting previously unselected package libavformat57:amd64.\r\n"
     ]
    },
    {
     "name": "stdout",
     "output_type": "stream",
     "text": [
      "Preparing to unpack .../44-libavformat57_7%3a3.4.8-0ubuntu0.2_amd64.deb ...\r\n",
      "Unpacking libavformat57:amd64 (7:3.4.8-0ubuntu0.2) ...\r\n"
     ]
    },
    {
     "name": "stdout",
     "output_type": "stream",
     "text": [
      "Selecting previously unselected package libavresample3:amd64.\r\n",
      "Preparing to unpack .../45-libavresample3_7%3a3.4.8-0ubuntu0.2_amd64.deb ...\r\n",
      "Unpacking libavresample3:amd64 (7:3.4.8-0ubuntu0.2) ...\r\n"
     ]
    },
    {
     "name": "stdout",
     "output_type": "stream",
     "text": [
      "Selecting previously unselected package libbs2b0:amd64.\r\n",
      "Preparing to unpack .../46-libbs2b0_3.1.0+dfsg-2.2_amd64.deb ...\r\n",
      "Unpacking libbs2b0:amd64 (3.1.0+dfsg-2.2) ...\r\n"
     ]
    },
    {
     "name": "stdout",
     "output_type": "stream",
     "text": [
      "Selecting previously unselected package libflite1:amd64.\r\n"
     ]
    },
    {
     "name": "stdout",
     "output_type": "stream",
     "text": [
      "Preparing to unpack .../47-libflite1_2.1-release-1_amd64.deb ...\r\n",
      "Unpacking libflite1:amd64 (2.1-release-1) ...\r\n"
     ]
    },
    {
     "name": "stdout",
     "output_type": "stream",
     "text": [
      "Selecting previously unselected package libmysofa0:amd64.\r\n"
     ]
    },
    {
     "name": "stdout",
     "output_type": "stream",
     "text": [
      "Preparing to unpack .../48-libmysofa0_0.6~dfsg0-3+deb10u1build1_amd64.deb ...\r\n",
      "Unpacking libmysofa0:amd64 (0.6~dfsg0-3+deb10u1build1) ...\r\n"
     ]
    },
    {
     "name": "stdout",
     "output_type": "stream",
     "text": [
      "Selecting previously unselected package libpostproc54:amd64.\r\n",
      "Preparing to unpack .../49-libpostproc54_7%3a3.4.8-0ubuntu0.2_amd64.deb ...\r\n",
      "Unpacking libpostproc54:amd64 (7:3.4.8-0ubuntu0.2) ...\r\n"
     ]
    },
    {
     "name": "stdout",
     "output_type": "stream",
     "text": [
      "Selecting previously unselected package libfftw3-double3:amd64.\r\n",
      "Preparing to unpack .../50-libfftw3-double3_3.3.7-1_amd64.deb ...\r\n",
      "Unpacking libfftw3-double3:amd64 (3.3.7-1) ...\r\n"
     ]
    },
    {
     "name": "stdout",
     "output_type": "stream",
     "text": [
      "Selecting previously unselected package libsamplerate0:amd64.\r\n",
      "Preparing to unpack .../51-libsamplerate0_0.1.9-1_amd64.deb ...\r\n",
      "Unpacking libsamplerate0:amd64 (0.1.9-1) ...\r\n"
     ]
    },
    {
     "name": "stdout",
     "output_type": "stream",
     "text": [
      "Selecting previously unselected package librubberband2:amd64.\r\n"
     ]
    },
    {
     "name": "stdout",
     "output_type": "stream",
     "text": [
      "Preparing to unpack .../52-librubberband2_1.8.1-7ubuntu2_amd64.deb ...\r\n",
      "Unpacking librubberband2:amd64 (1.8.1-7ubuntu2) ...\r\n"
     ]
    },
    {
     "name": "stdout",
     "output_type": "stream",
     "text": [
      "Selecting previously unselected package libswscale4:amd64.\r\n",
      "Preparing to unpack .../53-libswscale4_7%3a3.4.8-0ubuntu0.2_amd64.deb ...\r\n",
      "Unpacking libswscale4:amd64 (7:3.4.8-0ubuntu0.2) ...\r\n"
     ]
    },
    {
     "name": "stdout",
     "output_type": "stream",
     "text": [
      "Selecting previously unselected package libnorm1:amd64.\r\n"
     ]
    },
    {
     "name": "stdout",
     "output_type": "stream",
     "text": [
      "Preparing to unpack .../54-libnorm1_1.5r6+dfsg1-6_amd64.deb ...\r\n",
      "Unpacking libnorm1:amd64 (1.5r6+dfsg1-6) ...\r\n"
     ]
    },
    {
     "name": "stdout",
     "output_type": "stream",
     "text": [
      "Selecting previously unselected package libpgm-5.2-0:amd64.\r\n",
      "Preparing to unpack .../55-libpgm-5.2-0_5.2.122~dfsg-2_amd64.deb ...\r\n",
      "Unpacking libpgm-5.2-0:amd64 (5.2.122~dfsg-2) ...\r\n"
     ]
    },
    {
     "name": "stdout",
     "output_type": "stream",
     "text": [
      "Selecting previously unselected package libsodium23:amd64.\r\n",
      "Preparing to unpack .../56-libsodium23_1.0.16-2_amd64.deb ...\r\n",
      "Unpacking libsodium23:amd64 (1.0.16-2) ...\r\n"
     ]
    },
    {
     "name": "stdout",
     "output_type": "stream",
     "text": [
      "Selecting previously unselected package libzmq5:amd64.\r\n"
     ]
    },
    {
     "name": "stdout",
     "output_type": "stream",
     "text": [
      "Preparing to unpack .../57-libzmq5_4.2.5-1ubuntu0.2_amd64.deb ...\r\n",
      "Unpacking libzmq5:amd64 (4.2.5-1ubuntu0.2) ...\r\n"
     ]
    },
    {
     "name": "stdout",
     "output_type": "stream",
     "text": [
      "Selecting previously unselected package libavfilter6:amd64.\r\n",
      "Preparing to unpack .../58-libavfilter6_7%3a3.4.8-0ubuntu0.2_amd64.deb ...\r\n",
      "Unpacking libavfilter6:amd64 (7:3.4.8-0ubuntu0.2) ...\r\n"
     ]
    },
    {
     "name": "stdout",
     "output_type": "stream",
     "text": [
      "Selecting previously unselected package libcaca0:amd64.\r\n"
     ]
    },
    {
     "name": "stdout",
     "output_type": "stream",
     "text": [
      "Preparing to unpack .../59-libcaca0_0.99.beta19-2ubuntu0.18.04.1_amd64.deb ...\r\n",
      "Unpacking libcaca0:amd64 (0.99.beta19-2ubuntu0.18.04.1) ...\r\n"
     ]
    },
    {
     "name": "stdout",
     "output_type": "stream",
     "text": [
      "Selecting previously unselected package libcdio17:amd64.\r\n",
      "Preparing to unpack .../60-libcdio17_1.0.0-2ubuntu2_amd64.deb ...\r\n",
      "Unpacking libcdio17:amd64 (1.0.0-2ubuntu2) ...\r\n"
     ]
    },
    {
     "name": "stdout",
     "output_type": "stream",
     "text": [
      "Selecting previously unselected package libcdio-cdda2:amd64.\r\n"
     ]
    },
    {
     "name": "stdout",
     "output_type": "stream",
     "text": [
      "Preparing to unpack .../61-libcdio-cdda2_10.2+0.94+2-2build1_amd64.deb ...\r\n",
      "Unpacking libcdio-cdda2:amd64 (10.2+0.94+2-2build1) ...\r\n"
     ]
    },
    {
     "name": "stdout",
     "output_type": "stream",
     "text": [
      "Selecting previously unselected package libcdio-paranoia2:amd64.\r\n",
      "Preparing to unpack .../62-libcdio-paranoia2_10.2+0.94+2-2build1_amd64.deb ...\r\n",
      "Unpacking libcdio-paranoia2:amd64 (10.2+0.94+2-2build1) ...\r\n"
     ]
    },
    {
     "name": "stdout",
     "output_type": "stream",
     "text": [
      "Selecting previously unselected package libdc1394-22:amd64.\r\n",
      "Preparing to unpack .../63-libdc1394-22_2.2.5-1_amd64.deb ...\r\n",
      "Unpacking libdc1394-22:amd64 (2.2.5-1) ...\r\n"
     ]
    },
    {
     "name": "stdout",
     "output_type": "stream",
     "text": [
      "Selecting previously unselected package libiec61883-0:amd64.\r\n"
     ]
    },
    {
     "name": "stdout",
     "output_type": "stream",
     "text": [
      "Preparing to unpack .../64-libiec61883-0_1.2.0-2_amd64.deb ...\r\n",
      "Unpacking libiec61883-0:amd64 (1.2.0-2) ...\r\n"
     ]
    },
    {
     "name": "stdout",
     "output_type": "stream",
     "text": [
      "Selecting previously unselected package libjack-jackd2-0:amd64.\r\n",
      "Preparing to unpack .../65-libjack-jackd2-0_1.9.12~dfsg-2_amd64.deb ...\r\n",
      "Unpacking libjack-jackd2-0:amd64 (1.9.12~dfsg-2) ...\r\n"
     ]
    },
    {
     "name": "stdout",
     "output_type": "stream",
     "text": [
      "Selecting previously unselected package libopenal-data.\r\n"
     ]
    },
    {
     "name": "stdout",
     "output_type": "stream",
     "text": [
      "Preparing to unpack .../66-libopenal-data_1%3a1.18.2-2_all.deb ...\r\n",
      "Unpacking libopenal-data (1:1.18.2-2) ...\r\n"
     ]
    },
    {
     "name": "stdout",
     "output_type": "stream",
     "text": [
      "Selecting previously unselected package libsndio6.1:amd64.\r\n",
      "Preparing to unpack .../67-libsndio6.1_1.1.0-3_amd64.deb ...\r\n",
      "Unpacking libsndio6.1:amd64 (1.1.0-3) ...\r\n"
     ]
    },
    {
     "name": "stdout",
     "output_type": "stream",
     "text": [
      "Selecting previously unselected package libopenal1:amd64.\r\n",
      "Preparing to unpack .../68-libopenal1_1%3a1.18.2-2_amd64.deb ...\r\n"
     ]
    },
    {
     "name": "stdout",
     "output_type": "stream",
     "text": [
      "Unpacking libopenal1:amd64 (1:1.18.2-2) ...\r\n"
     ]
    },
    {
     "name": "stdout",
     "output_type": "stream",
     "text": [
      "Selecting previously unselected package libsdl2-2.0-0:amd64.\r\n",
      "Preparing to unpack .../69-libsdl2-2.0-0_2.0.8+dfsg1-1ubuntu1.18.04.4_amd64.deb ...\r\n",
      "Unpacking libsdl2-2.0-0:amd64 (2.0.8+dfsg1-1ubuntu1.18.04.4) ...\r\n"
     ]
    },
    {
     "name": "stdout",
     "output_type": "stream",
     "text": [
      "Selecting previously unselected package libavdevice57:amd64.\r\n"
     ]
    },
    {
     "name": "stdout",
     "output_type": "stream",
     "text": [
      "Preparing to unpack .../70-libavdevice57_7%3a3.4.8-0ubuntu0.2_amd64.deb ...\r\n",
      "Unpacking libavdevice57:amd64 (7:3.4.8-0ubuntu0.2) ...\r\n"
     ]
    },
    {
     "name": "stdout",
     "output_type": "stream",
     "text": [
      "Selecting previously unselected package ffmpeg.\r\n",
      "Preparing to unpack .../71-ffmpeg_7%3a3.4.8-0ubuntu0.2_amd64.deb ...\r\n",
      "Unpacking ffmpeg (7:3.4.8-0ubuntu0.2) ...\r\n"
     ]
    },
    {
     "name": "stdout",
     "output_type": "stream",
     "text": [
      "Selecting previously unselected package libaacs0:amd64.\r\n"
     ]
    },
    {
     "name": "stdout",
     "output_type": "stream",
     "text": [
      "Preparing to unpack .../72-libaacs0_0.9.0-1_amd64.deb ...\r\n",
      "Unpacking libaacs0:amd64 (0.9.0-1) ...\r\n"
     ]
    },
    {
     "name": "stdout",
     "output_type": "stream",
     "text": [
      "Selecting previously unselected package libbdplus0:amd64.\r\n",
      "Preparing to unpack .../73-libbdplus0_0.1.2-2_amd64.deb ...\r\n",
      "Unpacking libbdplus0:amd64 (0.1.2-2) ...\r\n"
     ]
    },
    {
     "name": "stdout",
     "output_type": "stream",
     "text": [
      "Selecting previously unselected package libllvm10:amd64.\r\n",
      "Preparing to unpack .../74-libllvm10_1%3a10.0.0-4ubuntu1~18.04.2_amd64.deb ...\r\n",
      "Unpacking libllvm10:amd64 (1:10.0.0-4ubuntu1~18.04.2) ...\r\n"
     ]
    },
    {
     "name": "stdout",
     "output_type": "stream",
     "text": [
      "Selecting previously unselected package mesa-va-drivers:amd64.\r\n",
      "Preparing to unpack .../75-mesa-va-drivers_20.0.8-0ubuntu1~18.04.1_amd64.deb ...\r\n",
      "Unpacking mesa-va-drivers:amd64 (20.0.8-0ubuntu1~18.04.1) ...\r\n"
     ]
    },
    {
     "name": "stdout",
     "output_type": "stream",
     "text": [
      "Selecting previously unselected package i965-va-driver:amd64.\r\n",
      "Preparing to unpack .../76-i965-va-driver_2.1.0-0ubuntu1_amd64.deb ...\r\n",
      "Unpacking i965-va-driver:amd64 (2.1.0-0ubuntu1) ...\r\n"
     ]
    },
    {
     "name": "stdout",
     "output_type": "stream",
     "text": [
      "Selecting previously unselected package va-driver-all:amd64.\r\n"
     ]
    },
    {
     "name": "stdout",
     "output_type": "stream",
     "text": [
      "Preparing to unpack .../77-va-driver-all_2.1.0-3_amd64.deb ...\r\n",
      "Unpacking va-driver-all:amd64 (2.1.0-3) ...\r\n"
     ]
    },
    {
     "name": "stdout",
     "output_type": "stream",
     "text": [
      "Selecting previously unselected package xvfb.\r\n",
      "Preparing to unpack .../78-xvfb_2%3a1.19.6-1ubuntu4.8_amd64.deb ...\r\n",
      "Unpacking xvfb (2:1.19.6-1ubuntu4.8) ...\r\n"
     ]
    },
    {
     "name": "stdout",
     "output_type": "stream",
     "text": [
      "Setting up libvorbisfile3:amd64 (1.3.5-4.2) ...\r\n",
      "Setting up libpgm-5.2-0:amd64 (5.2.122~dfsg-2) ...\r\n",
      "Setting up libtwolame0:amd64 (0.3.13-3) ...\r\n"
     ]
    },
    {
     "name": "stdout",
     "output_type": "stream",
     "text": [
      "Setting up libraw1394-11:amd64 (2.1.2-1) ...\r\n",
      "Setting up libx264-152:amd64 (2:0.152.2854+gite9a5903-2) ...\r\n",
      "Setting up libopenjp2-7:amd64 (2.3.0-2build0.18.04.1) ...\r\n",
      "Setting up libllvm10:amd64 (1:10.0.0-4ubuntu1~18.04.2) ...\r\n",
      "Setting up libwavpack1:amd64 (5.1.0-2ubuntu1.5) ...\r\n"
     ]
    },
    {
     "name": "stdout",
     "output_type": "stream",
     "text": [
      "Setting up xvfb (2:1.19.6-1ubuntu4.8) ...\r\n",
      "Setting up libaacs0:amd64 (0.9.0-1) ...\r\n",
      "Setting up libnuma1:amd64 (2.0.11-2.1ubuntu0.1) ...\r\n",
      "Setting up libflite1:amd64 (2.1-release-1) ...\r\n",
      "Setting up libsoxr0:amd64 (0.1.2-3) ...\r\n"
     ]
    },
    {
     "name": "stdout",
     "output_type": "stream",
     "text": [
      "Setting up libssh-gcrypt-4:amd64 (0.8.0~20170825.94fa1e38-1ubuntu0.7) ...\r\n",
      "Setting up libxss1:amd64 (1:1.2.2-1) ...\r\n",
      "Setting up libass9:amd64 (1:0.14.0-1) ...\r\n",
      "Setting up libbluray2:amd64 (1:1.0.2-3) ...\r\n",
      "Setting up libdc1394-22:amd64 (2.2.5-1) ...\r\n"
     ]
    },
    {
     "name": "stdout",
     "output_type": "stream",
     "text": [
      "Setting up libshine3:amd64 (3.1.1-1) ...\r\n",
      "Setting up libva2:amd64 (2.1.0-3) ...\r\n",
      "Setting up libiec61883-0:amd64 (1.2.0-2) ...\r\n",
      "Setting up libspeex1:amd64 (1.2~rc1.2-1ubuntu2) ...\r\n",
      "Setting up libfftw3-double3:amd64 (3.3.7-1) ...\r\n"
     ]
    },
    {
     "name": "stdout",
     "output_type": "stream",
     "text": [
      "Setting up libxvidcore4:amd64 (2:1.3.5-1) ...\r\n",
      "Setting up libopus0:amd64 (1.1.2-1ubuntu1) ...\r\n",
      "Setting up libx265-146:amd64 (2.6-3) ...\r\n",
      "Setting up libopenal-data (1:1.18.2-2) ...\r\n",
      "Setting up libdrm-common (2.4.101-2~18.04.1) ...\r\n"
     ]
    },
    {
     "name": "stdout",
     "output_type": "stream",
     "text": [
      "Setting up libbs2b0:amd64 (3.1.0+dfsg-2.2) ...\r\n",
      "Setting up libnorm1:amd64 (1.5r6+dfsg1-6) ...\r\n",
      "Setting up libsodium23:amd64 (1.0.16-2) ...\r\n",
      "Setting up libmp3lame0:amd64 (3.100-2) ...\r\n",
      "Setting up libcrystalhd3:amd64 (1:0.0~git20110715.fdd2f19-12) ...\r\n"
     ]
    },
    {
     "name": "stdout",
     "output_type": "stream",
     "text": [
      "Setting up libwebpmux3:amd64 (0.6.1-2) ...\r\n",
      "Setting up libsnappy1v5:amd64 (1.1.7-1) ...\r\n",
      "Setting up libavc1394-0:amd64 (0.5.4-4build1) ...\r\n",
      "Setting up libzvbi-common (0.2.35-13) ...\r\n",
      "Setting up libvpx5:amd64 (1.7.0-3ubuntu0.18.04.1) ...\r\n"
     ]
    },
    {
     "name": "stdout",
     "output_type": "stream",
     "text": [
      "Setting up libgme0:amd64 (0.6.2-1) ...\r\n",
      "Setting up libbdplus0:amd64 (0.1.2-2) ...\r\n",
      "Setting up libzvbi0:amd64 (0.2.35-13) ...\r\n",
      "Setting up libcaca0:amd64 (0.99.beta19-2ubuntu0.18.04.1) ...\r\n",
      "Setting up libsamplerate0:amd64 (0.1.9-1) ...\r\n",
      "Setting up libsndio6.1:amd64 (1.1.0-3) ...\r\n"
     ]
    },
    {
     "name": "stdout",
     "output_type": "stream",
     "text": [
      "Setting up libtheora0:amd64 (1.1.1+dfsg.1-14) ...\r\n",
      "Setting up libmpg123-0:amd64 (1.25.10-1) ...\r\n",
      "Setting up libgsm1:amd64 (1.0.13-4build1) ...\r\n",
      "Setting up libmysofa0:amd64 (0.6~dfsg0-3+deb10u1build1) ...\r\n"
     ]
    },
    {
     "name": "stdout",
     "output_type": "stream",
     "text": [
      "Setting up libcdio17:amd64 (1.0.0-2ubuntu2) ...\r\n",
      "Setting up libzmq5:amd64 (4.2.5-1ubuntu0.2) ...\r\n",
      "Setting up libopenmpt0:amd64 (0.3.6-1) ...\r\n",
      "Setting up libcdio-cdda2:amd64 (10.2+0.94+2-2build1) ...\r\n",
      "Setting up libdrm2:amd64 (2.4.101-2~18.04.1) ...\r\n"
     ]
    },
    {
     "name": "stdout",
     "output_type": "stream",
     "text": [
      "Setting up libdrm-intel1:amd64 (2.4.101-2~18.04.1) ...\r\n",
      "Setting up librubberband2:amd64 (1.8.1-7ubuntu2) ...\r\n",
      "Setting up libsdl2-2.0-0:amd64 (2.0.8+dfsg1-1ubuntu1.18.04.4) ...\r\n",
      "Setting up libcdio-paranoia2:amd64 (10.2+0.94+2-2build1) ...\r\n",
      "Setting up libva-drm2:amd64 (2.1.0-3) ...\r\n"
     ]
    },
    {
     "name": "stdout",
     "output_type": "stream",
     "text": [
      "Setting up libjack-jackd2-0:amd64 (1.9.12~dfsg-2) ...\r\n",
      "Setting up libopenal1:amd64 (1:1.18.2-2) ...\r\n",
      "Setting up libdrm-radeon1:amd64 (2.4.101-2~18.04.1) ...\r\n",
      "Setting up libva-x11-2:amd64 (2.1.0-3) ...\r\n",
      "Setting up libdrm-nouveau2:amd64 (2.4.101-2~18.04.1) ...\r\n"
     ]
    },
    {
     "name": "stdout",
     "output_type": "stream",
     "text": [
      "Setting up libavutil55:amd64 (7:3.4.8-0ubuntu0.2) ...\r\n",
      "Setting up libdrm-amdgpu1:amd64 (2.4.101-2~18.04.1) ...\r\n",
      "Setting up libdrm-dev:amd64 (2.4.101-2~18.04.1) ...\r\n",
      "Setting up libswresample2:amd64 (7:3.4.8-0ubuntu0.2) ...\r\n",
      "Setting up i965-va-driver:amd64 (2.1.0-0ubuntu1) ...\r\n"
     ]
    },
    {
     "name": "stdout",
     "output_type": "stream",
     "text": [
      "Setting up libswscale4:amd64 (7:3.4.8-0ubuntu0.2) ...\r\n",
      "Setting up mesa-va-drivers:amd64 (20.0.8-0ubuntu1~18.04.1) ...\r\n",
      "Setting up libpostproc54:amd64 (7:3.4.8-0ubuntu0.2) ...\r\n",
      "Setting up libavresample3:amd64 (7:3.4.8-0ubuntu0.2) ...\r\n",
      "Setting up libavcodec57:amd64 (7:3.4.8-0ubuntu0.2) ...\r\n",
      "Setting up va-driver-all:amd64 (2.1.0-3) ...\r\n"
     ]
    },
    {
     "name": "stdout",
     "output_type": "stream",
     "text": [
      "Setting up libchromaprint1:amd64 (1.4.3-1) ...\r\n",
      "Setting up libavformat57:amd64 (7:3.4.8-0ubuntu0.2) ...\r\n",
      "Setting up libavfilter6:amd64 (7:3.4.8-0ubuntu0.2) ...\r\n",
      "Setting up libavdevice57:amd64 (7:3.4.8-0ubuntu0.2) ...\r\n",
      "Setting up ffmpeg (7:3.4.8-0ubuntu0.2) ...\r\n"
     ]
    },
    {
     "name": "stdout",
     "output_type": "stream",
     "text": [
      "Processing triggers for libc-bin (2.27-3ubuntu1.2) ...\r\n",
      "Processing triggers for man-db (2.8.3-2ubuntu0.1) ...\r\n"
     ]
    }
   ],
   "source": [
    "!sudo apt-get install -y xvfb ffmpeg\n",
    "!pip install -q 'imageio==2.4.0'\n",
    "!pip install -q pyvirtualdisplay\n",
    "!pip install -q tf-agents"
   ]
  },
  {
   "cell_type": "code",
   "execution_count": 3,
   "metadata": {
    "execution": {
     "iopub.execute_input": "2021-02-09T12:09:41.083676Z",
     "iopub.status.busy": "2021-02-09T12:09:41.082944Z",
     "iopub.status.idle": "2021-02-09T12:09:49.550074Z",
     "shell.execute_reply": "2021-02-09T12:09:49.549340Z"
    },
    "id": "sMitx5qSgJk1"
   },
   "outputs": [],
   "source": [
    "from __future__ import absolute_import, division, print_function\n",
    "\n",
    "import base64\n",
    "import imageio\n",
    "import IPython\n",
    "import matplotlib\n",
    "import matplotlib.pyplot as plt\n",
    "import numpy as np\n",
    "import PIL.Image\n",
    "import pyvirtualdisplay\n",
    "\n",
    "import tensorflow as tf\n",
    "\n",
    "from tf_agents.agents.dqn import dqn_agent\n",
    "from tf_agents.drivers import dynamic_step_driver\n",
    "from tf_agents.environments import suite_gym\n",
    "from tf_agents.environments import tf_py_environment\n",
    "from tf_agents.eval import metric_utils\n",
    "from tf_agents.metrics import tf_metrics\n",
    "from tf_agents.networks import sequential\n",
    "from tf_agents.policies import random_tf_policy\n",
    "from tf_agents.replay_buffers import tf_uniform_replay_buffer\n",
    "from tf_agents.trajectories import trajectory\n",
    "from tf_agents.specs import tensor_spec\n",
    "from tf_agents.utils import common"
   ]
  },
  {
   "cell_type": "code",
   "execution_count": 4,
   "metadata": {
    "execution": {
     "iopub.execute_input": "2021-02-09T12:09:49.554798Z",
     "iopub.status.busy": "2021-02-09T12:09:49.554045Z",
     "iopub.status.idle": "2021-02-09T12:09:50.324476Z",
     "shell.execute_reply": "2021-02-09T12:09:50.323801Z"
    },
    "id": "J6HsdS5GbSjd"
   },
   "outputs": [],
   "source": [
    "# Set up a virtual display for rendering OpenAI gym environments.\n",
    "display = pyvirtualdisplay.Display(visible=0, size=(1400, 900)).start()"
   ]
  },
  {
   "cell_type": "code",
   "execution_count": 5,
   "metadata": {
    "execution": {
     "iopub.execute_input": "2021-02-09T12:09:50.331133Z",
     "iopub.status.busy": "2021-02-09T12:09:50.330425Z",
     "iopub.status.idle": "2021-02-09T12:09:50.333928Z",
     "shell.execute_reply": "2021-02-09T12:09:50.334396Z"
    },
    "id": "NspmzG4nP3b9"
   },
   "outputs": [
    {
     "data": {
      "text/plain": [
       "'2.4.1'"
      ]
     },
     "execution_count": 1,
     "metadata": {},
     "output_type": "execute_result"
    }
   ],
   "source": [
    "tf.version.VERSION"
   ]
  },
  {
   "cell_type": "markdown",
   "metadata": {
    "id": "LmC0NDhdLIKY"
   },
   "source": [
    "## Hyperparameters"
   ]
  },
  {
   "cell_type": "code",
   "execution_count": 6,
   "metadata": {
    "execution": {
     "iopub.execute_input": "2021-02-09T12:09:50.339058Z",
     "iopub.status.busy": "2021-02-09T12:09:50.338424Z",
     "iopub.status.idle": "2021-02-09T12:09:50.341044Z",
     "shell.execute_reply": "2021-02-09T12:09:50.340536Z"
    },
    "id": "HC1kNrOsLSIZ"
   },
   "outputs": [],
   "source": [
    "num_iterations = 20000 # @param {type:\"integer\"}\n",
    "\n",
    "initial_collect_steps = 100  # @param {type:\"integer\"} \n",
    "collect_steps_per_iteration = 1  # @param {type:\"integer\"}\n",
    "replay_buffer_max_length = 100000  # @param {type:\"integer\"}\n",
    "\n",
    "batch_size = 64  # @param {type:\"integer\"}\n",
    "learning_rate = 1e-3  # @param {type:\"number\"}\n",
    "log_interval = 200  # @param {type:\"integer\"}\n",
    "\n",
    "num_eval_episodes = 10  # @param {type:\"integer\"}\n",
    "eval_interval = 1000  # @param {type:\"integer\"}"
   ]
  },
  {
   "cell_type": "markdown",
   "metadata": {
    "id": "VMsJC3DEgI0x"
   },
   "source": [
    "## Environment\n",
    "\n",
    "In Reinforcement Learning (RL), an environment represents the task or problem to be solved. Standard environments can be created in TF-Agents using `tf_agents.environments` suites. TF-Agents has suites for loading environments from sources such as the OpenAI Gym, Atari, and DM Control.\n",
    "\n",
    "Load the CartPole environment from the OpenAI Gym suite. "
   ]
  },
  {
   "cell_type": "code",
   "execution_count": 7,
   "metadata": {
    "execution": {
     "iopub.execute_input": "2021-02-09T12:09:50.345154Z",
     "iopub.status.busy": "2021-02-09T12:09:50.344499Z",
     "iopub.status.idle": "2021-02-09T12:09:50.354562Z",
     "shell.execute_reply": "2021-02-09T12:09:50.354020Z"
    },
    "id": "pYEz-S9gEv2-"
   },
   "outputs": [],
   "source": [
    "env_name = 'CartPole-v0'\n",
    "env = suite_gym.load(env_name)"
   ]
  },
  {
   "cell_type": "markdown",
   "metadata": {
    "id": "IIHYVBkuvPNw"
   },
   "source": [
    "You can render this environment to see how it looks. A free-swinging pole is attached to a cart.  The goal is to move the cart right or left in order to keep the pole pointing up."
   ]
  },
  {
   "cell_type": "code",
   "execution_count": 8,
   "metadata": {
    "execution": {
     "iopub.execute_input": "2021-02-09T12:09:50.360958Z",
     "iopub.status.busy": "2021-02-09T12:09:50.360255Z",
     "iopub.status.idle": "2021-02-09T12:09:50.939520Z",
     "shell.execute_reply": "2021-02-09T12:09:50.938861Z"
    },
    "id": "RlO7WIQHu_7D"
   },
   "outputs": [
    {
     "data": {
      "image/png": "[encoded data removed]",
      "text/plain": [
       "<PIL.Image.Image image mode=RGB size=600x400 at 0x7FD46F20BF60>"
      ]
     },
     "execution_count": 1,
     "metadata": {},
     "output_type": "execute_result"
    }
   ],
   "source": [
    "#@test {\"skip\": true}\n",
    "env.reset()\n",
    "PIL.Image.fromarray(env.render())"
   ]
  },
  {
   "cell_type": "markdown",
   "metadata": {
    "id": "B9_lskPOey18"
   },
   "source": [
    "The `environment.step` method takes an `action` in the environment and returns a `TimeStep` tuple containing the next observation of the environment and the reward for the action.\n",
    "\n",
    "The `time_step_spec()` method returns the specification for the `TimeStep` tuple. Its `observation` attribute shows the shape of observations, the data types, and the ranges of allowed values. The `reward` attribute shows the same details for the reward.\n"
   ]
  },
  {
   "cell_type": "code",
   "execution_count": 9,
   "metadata": {
    "execution": {
     "iopub.execute_input": "2021-02-09T12:09:50.949029Z",
     "iopub.status.busy": "2021-02-09T12:09:50.948343Z",
     "iopub.status.idle": "2021-02-09T12:09:50.950744Z",
     "shell.execute_reply": "2021-02-09T12:09:50.951201Z"
    },
    "id": "exDv57iHfwQV"
   },
   "outputs": [
    {
     "name": "stdout",
     "output_type": "stream",
     "text": [
      "Observation Spec:\n",
      "BoundedArraySpec(shape=(4,), dtype=dtype('float32'), name='observation', minimum=[-4.8000002e+00 -3.4028235e+38 -4.1887903e-01 -3.4028235e+38], maximum=[4.8000002e+00 3.4028235e+38 4.1887903e-01 3.4028235e+38])\n"
     ]
    }
   ],
   "source": [
    "print('Observation Spec:')\n",
    "print(env.time_step_spec().observation)"
   ]
  },
  {
   "cell_type": "code",
   "execution_count": 10,
   "metadata": {
    "execution": {
     "iopub.execute_input": "2021-02-09T12:09:50.955678Z",
     "iopub.status.busy": "2021-02-09T12:09:50.954940Z",
     "iopub.status.idle": "2021-02-09T12:09:50.957214Z",
     "shell.execute_reply": "2021-02-09T12:09:50.957661Z"
    },
    "id": "UxiSyCbBUQPi"
   },
   "outputs": [
    {
     "name": "stdout",
     "output_type": "stream",
     "text": [
      "Reward Spec:\n",
      "ArraySpec(shape=(), dtype=dtype('float32'), name='reward')\n"
     ]
    }
   ],
   "source": [
    "print('Reward Spec:')\n",
    "print(env.time_step_spec().reward)"
   ]
  },
  {
   "cell_type": "markdown",
   "metadata": {
    "id": "b_lHcIcqUaqB"
   },
   "source": [
    "The `action_spec()` method returns the shape, data types, and allowed values of valid actions."
   ]
  },
  {
   "cell_type": "code",
   "execution_count": 11,
   "metadata": {
    "execution": {
     "iopub.execute_input": "2021-02-09T12:09:50.961959Z",
     "iopub.status.busy": "2021-02-09T12:09:50.961281Z",
     "iopub.status.idle": "2021-02-09T12:09:50.964201Z",
     "shell.execute_reply": "2021-02-09T12:09:50.963664Z"
    },
    "id": "bttJ4uxZUQBr"
   },
   "outputs": [
    {
     "name": "stdout",
     "output_type": "stream",
     "text": [
      "Action Spec:\n",
      "BoundedArraySpec(shape=(), dtype=dtype('int64'), name='action', minimum=0, maximum=1)\n"
     ]
    }
   ],
   "source": [
    "print('Action Spec:')\n",
    "print(env.action_spec())"
   ]
  },
  {
   "cell_type": "markdown",
   "metadata": {
    "id": "eJCgJnx3g0yY"
   },
   "source": [
    "In the Cartpole environment:\n",
    "\n",
    "-   `observation` is an array of 4 floats: \n",
    "    -   the position and velocity of the cart\n",
    "    -   the angular position and velocity of the pole \n",
    "-   `reward` is a scalar float value\n",
    "-   `action` is a scalar integer with only two possible values:\n",
    "    -   `0` — \"move left\"\n",
    "    -   `1` — \"move right\"\n"
   ]
  },
  {
   "cell_type": "code",
   "execution_count": 12,
   "metadata": {
    "execution": {
     "iopub.execute_input": "2021-02-09T12:09:50.972661Z",
     "iopub.status.busy": "2021-02-09T12:09:50.971968Z",
     "iopub.status.idle": "2021-02-09T12:09:50.974680Z",
     "shell.execute_reply": "2021-02-09T12:09:50.975090Z"
    },
    "id": "V2UGR5t_iZX-"
   },
   "outputs": [
    {
     "name": "stdout",
     "output_type": "stream",
     "text": [
      "Time step:\n",
      "TimeStep(step_type=array(0, dtype=int32), reward=array(0., dtype=float32), discount=array(1., dtype=float32), observation=array([-0.03850375, -0.01932749,  0.00336228, -0.04097027], dtype=float32))\n",
      "Next time step:\n",
      "TimeStep(step_type=array(1, dtype=int32), reward=array(1., dtype=float32), discount=array(1., dtype=float32), observation=array([-0.03889029,  0.17574608,  0.00254287, -0.3325905 ], dtype=float32))\n"
     ]
    }
   ],
   "source": [
    "time_step = env.reset()\n",
    "print('Time step:')\n",
    "print(time_step)\n",
    "\n",
    "action = np.array(1, dtype=np.int32)\n",
    "\n",
    "next_time_step = env.step(action)\n",
    "print('Next time step:')\n",
    "print(next_time_step)"
   ]
  },
  {
   "cell_type": "markdown",
   "metadata": {
    "id": "4JSc9GviWUBK"
   },
   "source": [
    "Usually two environments are instantiated: one for training and one for evaluation. "
   ]
  },
  {
   "cell_type": "code",
   "execution_count": 13,
   "metadata": {
    "execution": {
     "iopub.execute_input": "2021-02-09T12:09:50.981525Z",
     "iopub.status.busy": "2021-02-09T12:09:50.980855Z",
     "iopub.status.idle": "2021-02-09T12:09:50.982667Z",
     "shell.execute_reply": "2021-02-09T12:09:50.983079Z"
    },
    "id": "N7brXNIGWXjC"
   },
   "outputs": [],
   "source": [
    "train_py_env = suite_gym.load(env_name)\n",
    "eval_py_env = suite_gym.load(env_name)"
   ]
  },
  {
   "cell_type": "markdown",
   "metadata": {
    "id": "zuUqXAVmecTU"
   },
   "source": [
    "The Cartpole environment, like most environments, is written in pure Python. This is converted to TensorFlow using the `TFPyEnvironment` wrapper.\n",
    "\n",
    "The original environment's API uses Numpy arrays. The `TFPyEnvironment` converts these to `Tensors` to make it compatible with Tensorflow agents and policies.\n"
   ]
  },
  {
   "cell_type": "code",
   "execution_count": 14,
   "metadata": {
    "execution": {
     "iopub.execute_input": "2021-02-09T12:09:50.988023Z",
     "iopub.status.busy": "2021-02-09T12:09:50.987348Z",
     "iopub.status.idle": "2021-02-09T12:09:50.995747Z",
     "shell.execute_reply": "2021-02-09T12:09:50.996175Z"
    },
    "id": "Xp-Y4mD6eDhF"
   },
   "outputs": [],
   "source": [
    "train_env = tf_py_environment.TFPyEnvironment(train_py_env)\n",
    "eval_env = tf_py_environment.TFPyEnvironment(eval_py_env)"
   ]
  },
  {
   "cell_type": "markdown",
   "metadata": {
    "id": "E9lW_OZYFR8A"
   },
   "source": [
    "## Agent\n",
    "\n",
    "The algorithm used to solve an RL problem is represented by an `Agent`. TF-Agents provides standard implementations of a variety of `Agents`, including:\n",
    "\n",
    "-   [DQN](https://storage.googleapis.com/deepmind-media/dqn/DQNNaturePaper.pdf) (used in this tutorial)\n",
    "-   [REINFORCE](https://www-anw.cs.umass.edu/~barto/courses/cs687/williams92simple.pdf)\n",
    "-   [DDPG](https://arxiv.org/pdf/1509.02971.pdf)\n",
    "-   [TD3](https://arxiv.org/pdf/1802.09477.pdf)\n",
    "-   [PPO](https://arxiv.org/abs/1707.06347)\n",
    "-   [SAC](https://arxiv.org/abs/1801.01290).\n",
    "\n",
    "The DQN agent can be used in any environment which has a discrete action space.\n",
    "\n",
    "At the heart of a DQN Agent is a `QNetwork`, a neural network model that can learn to predict `QValues` (expected returns) for all actions, given an observation from the environment.\n",
    "\n",
    "We will use `tf_agents.networks.` to create a `QNetwork`. The network will consist of a sequence of `tf.keras.layers.Dense` layers, where the final layer will have 1 output for each possible action."
   ]
  },
  {
   "cell_type": "code",
   "execution_count": 15,
   "metadata": {
    "execution": {
     "iopub.execute_input": "2021-02-09T12:09:51.003807Z",
     "iopub.status.busy": "2021-02-09T12:09:51.003118Z",
     "iopub.status.idle": "2021-02-09T12:09:51.031273Z",
     "shell.execute_reply": "2021-02-09T12:09:51.030645Z"
    },
    "id": "TgkdEPg_muzV"
   },
   "outputs": [],
   "source": [
    "fc_layer_params = (100, 50)\n",
    "action_tensor_spec = tensor_spec.from_spec(env.action_spec())\n",
    "num_actions = action_tensor_spec.maximum - action_tensor_spec.minimum + 1\n",
    "\n",
    "# Define a helper function to create Dense layers configured with the right\n",
    "# activation and kernel initializer.\n",
    "def dense_layer(num_units):\n",
    "  return tf.keras.layers.Dense(\n",
    "      num_units,\n",
    "      activation=tf.keras.activations.relu,\n",
    "      kernel_initializer=tf.keras.initializers.VarianceScaling(\n",
    "          scale=2.0, mode='fan_in', distribution='truncated_normal'))\n",
    "\n",
    "# QNetwork consists of a sequence of Dense layers followed by a dense layer\n",
    "# with `num_actions` units to generate one q_value per available action as\n",
    "# it's output.\n",
    "dense_layers = [dense_layer(num_units) for num_units in fc_layer_params]\n",
    "q_values_layer = tf.keras.layers.Dense(\n",
    "    num_actions,\n",
    "    activation=None,\n",
    "    kernel_initializer=tf.keras.initializers.RandomUniform(\n",
    "        minval=-0.03, maxval=0.03),\n",
    "    bias_initializer=tf.keras.initializers.Constant(-0.2))\n",
    "q_net = sequential.Sequential(dense_layers + [q_values_layer])"
   ]
  },
  {
   "cell_type": "markdown",
   "metadata": {
    "id": "z62u55hSmviJ"
   },
   "source": [
    "Now use `tf_agents.agents.dqn.dqn_agent` to instantiate a `DqnAgent`. In addition to the `time_step_spec`, `action_spec` and the QNetwork, the agent constructor also requires an optimizer (in this case, `AdamOptimizer`), a loss function, and an integer step counter."
   ]
  },
  {
   "cell_type": "code",
   "execution_count": 16,
   "metadata": {
    "execution": {
     "iopub.execute_input": "2021-02-09T12:10:00.416591Z",
     "iopub.status.busy": "2021-02-09T12:09:59.737207Z",
     "iopub.status.idle": "2021-02-09T12:10:01.180787Z",
     "shell.execute_reply": "2021-02-09T12:10:01.180174Z"
    },
    "id": "jbY4yrjTEyc9"
   },
   "outputs": [],
   "source": [
    "optimizer = tf.keras.optimizers.Adam(learning_rate=learning_rate)\n",
    "\n",
    "train_step_counter = tf.Variable(0)\n",
    "\n",
    "agent = dqn_agent.DqnAgent(\n",
    "    train_env.time_step_spec(),\n",
    "    train_env.action_spec(),\n",
    "    q_network=q_net,\n",
    "    optimizer=optimizer,\n",
    "    td_errors_loss_fn=common.element_wise_squared_loss,\n",
    "    train_step_counter=train_step_counter)\n",
    "\n",
    "agent.initialize()"
   ]
  },
  {
   "cell_type": "markdown",
   "metadata": {
    "id": "I0KLrEPwkn5x"
   },
   "source": [
    "## Policies\n",
    "\n",
    "A policy defines the way an agent acts in an environment. Typically, the goal of reinforcement learning is to train the underlying model until the policy produces the desired outcome.\n",
    "\n",
    "In this tutorial:\n",
    "\n",
    "-   The desired outcome is keeping the pole balanced upright over the cart.\n",
    "-   The policy returns an action (left or right) for each `time_step` observation.\n",
    "\n",
    "Agents contain two policies: \n",
    "\n",
    "-   `agent.policy` — The main policy that is used for evaluation and deployment.\n",
    "-   `agent.collect_policy` — A second policy that is used for data collection.\n"
   ]
  },
  {
   "cell_type": "code",
   "execution_count": 17,
   "metadata": {
    "execution": {
     "iopub.execute_input": "2021-02-09T12:10:01.185725Z",
     "iopub.status.busy": "2021-02-09T12:10:01.184911Z",
     "iopub.status.idle": "2021-02-09T12:10:01.187495Z",
     "shell.execute_reply": "2021-02-09T12:10:01.186939Z"
    },
    "id": "BwY7StuMkuV4"
   },
   "outputs": [],
   "source": [
    "eval_policy = agent.policy\n",
    "collect_policy = agent.collect_policy"
   ]
  },
  {
   "cell_type": "markdown",
   "metadata": {
    "id": "2Qs1Fl3dV0ae"
   },
   "source": [
    "Policies can be created independently of agents. For example, use `tf_agents.policies.random_tf_policy` to create a policy which will randomly select an action for each `time_step`."
   ]
  },
  {
   "cell_type": "code",
   "execution_count": 18,
   "metadata": {
    "execution": {
     "iopub.execute_input": "2021-02-09T12:10:01.192185Z",
     "iopub.status.busy": "2021-02-09T12:10:01.191377Z",
     "iopub.status.idle": "2021-02-09T12:10:01.193525Z",
     "shell.execute_reply": "2021-02-09T12:10:01.193969Z"
    },
    "id": "HE37-UCIrE69"
   },
   "outputs": [],
   "source": [
    "random_policy = random_tf_policy.RandomTFPolicy(train_env.time_step_spec(),\n",
    "                                                train_env.action_spec())"
   ]
  },
  {
   "cell_type": "markdown",
   "metadata": {
    "id": "dOlnlRRsUbxP"
   },
   "source": [
    "To get an action from a policy, call the `policy.action(time_step)` method. The `time_step` contains the observation from the environment. This method returns a `PolicyStep`, which is a named tuple with three components:\n",
    "\n",
    "-   `action` — the action to be taken (in this case, `0` or `1`)\n",
    "-   `state` — used for stateful (that is, RNN-based) policies\n",
    "-   `info` — auxiliary data, such as log probabilities of actions"
   ]
  },
  {
   "cell_type": "code",
   "execution_count": 19,
   "metadata": {
    "execution": {
     "iopub.execute_input": "2021-02-09T12:10:01.200308Z",
     "iopub.status.busy": "2021-02-09T12:10:01.199489Z",
     "iopub.status.idle": "2021-02-09T12:10:01.203315Z",
     "shell.execute_reply": "2021-02-09T12:10:01.202794Z"
    },
    "id": "5gCcpXswVAxk"
   },
   "outputs": [],
   "source": [
    "example_environment = tf_py_environment.TFPyEnvironment(\n",
    "    suite_gym.load('CartPole-v0'))"
   ]
  },
  {
   "cell_type": "code",
   "execution_count": 20,
   "metadata": {
    "execution": {
     "iopub.execute_input": "2021-02-09T12:10:01.207956Z",
     "iopub.status.busy": "2021-02-09T12:10:01.206874Z",
     "iopub.status.idle": "2021-02-09T12:10:01.209837Z",
     "shell.execute_reply": "2021-02-09T12:10:01.210247Z"
    },
    "id": "D4DHZtq3Ndis"
   },
   "outputs": [],
   "source": [
    "time_step = example_environment.reset()"
   ]
  },
  {
   "cell_type": "code",
   "execution_count": 21,
   "metadata": {
    "execution": {
     "iopub.execute_input": "2021-02-09T12:10:01.215620Z",
     "iopub.status.busy": "2021-02-09T12:10:01.214795Z",
     "iopub.status.idle": "2021-02-09T12:10:01.221386Z",
     "shell.execute_reply": "2021-02-09T12:10:01.220796Z"
    },
    "id": "PRFqAUzpNaAW"
   },
   "outputs": [
    {
     "data": {
      "text/plain": [
       "PolicyStep(action=<tf.Tensor: shape=(1,), dtype=int64, numpy=array([0])>, state=(), info=())"
      ]
     },
     "execution_count": 1,
     "metadata": {},
     "output_type": "execute_result"
    }
   ],
   "source": [
    "random_policy.action(time_step)"
   ]
  },
  {
   "cell_type": "markdown",
   "metadata": {
    "id": "94rCXQtbUbXv"
   },
   "source": [
    "## Metrics and Evaluation\n",
    "\n",
    "The most common metric used to evaluate a policy is the average return. The return is the sum of rewards obtained while running a policy in an environment for an episode. Several episodes are run, creating an average return.\n",
    "\n",
    "The following function computes the average return of a policy, given the policy, environment, and a number of episodes.\n"
   ]
  },
  {
   "cell_type": "code",
   "execution_count": 22,
   "metadata": {
    "execution": {
     "iopub.execute_input": "2021-02-09T12:10:01.227357Z",
     "iopub.status.busy": "2021-02-09T12:10:01.226532Z",
     "iopub.status.idle": "2021-02-09T12:10:01.228707Z",
     "shell.execute_reply": "2021-02-09T12:10:01.229105Z"
    },
    "id": "bitzHo5_UbXy"
   },
   "outputs": [],
   "source": [
    "#@test {\"skip\": true}\n",
    "def compute_avg_return(environment, policy, num_episodes=10):\n",
    "\n",
    "  total_return = 0.0\n",
    "  for _ in range(num_episodes):\n",
    "\n",
    "    time_step = environment.reset()\n",
    "    episode_return = 0.0\n",
    "\n",
    "    while not time_step.is_last():\n",
    "      action_step = policy.action(time_step)\n",
    "      time_step = environment.step(action_step.action)\n",
    "      episode_return += time_step.reward\n",
    "    total_return += episode_return\n",
    "\n",
    "  avg_return = total_return / num_episodes\n",
    "  return avg_return.numpy()[0]\n",
    "\n",
    "\n",
    "# See also the metrics module for standard implementations of different metrics.\n",
    "# https://github.com/tensorflow/agents/tree/master/tf_agents/metrics"
   ]
  },
  {
   "cell_type": "markdown",
   "metadata": {
    "id": "_snCVvq5Z8lJ"
   },
   "source": [
    "Running this computation on the `random_policy` shows a baseline performance in the environment."
   ]
  },
  {
   "cell_type": "code",
   "execution_count": 23,
   "metadata": {
    "execution": {
     "iopub.execute_input": "2021-02-09T12:10:01.233468Z",
     "iopub.status.busy": "2021-02-09T12:10:01.232808Z",
     "iopub.status.idle": "2021-02-09T12:10:01.747214Z",
     "shell.execute_reply": "2021-02-09T12:10:01.746678Z"
    },
    "id": "9bgU6Q6BZ8Bp"
   },
   "outputs": [
    {
     "data": {
      "text/plain": [
       "20.7"
      ]
     },
     "execution_count": 1,
     "metadata": {},
     "output_type": "execute_result"
    }
   ],
   "source": [
    "compute_avg_return(eval_env, random_policy, num_eval_episodes)"
   ]
  },
  {
   "cell_type": "markdown",
   "metadata": {
    "id": "NLva6g2jdWgr"
   },
   "source": [
    "## Replay Buffer\n",
    "\n",
    "The replay buffer keeps track of data collected from the environment. This tutorial uses `tf_agents.replay_buffers.tf_uniform_replay_buffer.TFUniformReplayBuffer`, as it is the most common. \n",
    "\n",
    "The constructor requires the specs for the data it will be collecting. This is available from the agent using the `collect_data_spec` method. The batch size and maximum buffer length are also required.\n"
   ]
  },
  {
   "cell_type": "code",
   "execution_count": 24,
   "metadata": {
    "execution": {
     "iopub.execute_input": "2021-02-09T12:10:01.752451Z",
     "iopub.status.busy": "2021-02-09T12:10:01.751798Z",
     "iopub.status.idle": "2021-02-09T12:10:01.763918Z",
     "shell.execute_reply": "2021-02-09T12:10:01.764374Z"
    },
    "id": "vX2zGUWJGWAl"
   },
   "outputs": [],
   "source": [
    "replay_buffer = tf_uniform_replay_buffer.TFUniformReplayBuffer(\n",
    "    data_spec=agent.collect_data_spec,\n",
    "    batch_size=train_env.batch_size,\n",
    "    max_length=replay_buffer_max_length)"
   ]
  },
  {
   "cell_type": "markdown",
   "metadata": {
    "id": "ZGNTDJpZs4NN"
   },
   "source": [
    "For most agents, `collect_data_spec` is a named tuple called `Trajectory`, containing the specs for observations, actions, rewards, and other items."
   ]
  },
  {
   "cell_type": "code",
   "execution_count": 25,
   "metadata": {
    "execution": {
     "iopub.execute_input": "2021-02-09T12:10:01.770403Z",
     "iopub.status.busy": "2021-02-09T12:10:01.769483Z",
     "iopub.status.idle": "2021-02-09T12:10:01.772650Z",
     "shell.execute_reply": "2021-02-09T12:10:01.773067Z"
    },
    "id": "_IZ-3HcqgE1z"
   },
   "outputs": [
    {
     "data": {
      "text/plain": [
       "Trajectory(step_type=TensorSpec(shape=(), dtype=tf.int32, name='step_type'), observation=BoundedTensorSpec(shape=(4,), dtype=tf.float32, name='observation', minimum=array([-4.8000002e+00, -3.4028235e+38, -4.1887903e-01, -3.4028235e+38],\n",
       "      dtype=float32), maximum=array([4.8000002e+00, 3.4028235e+38, 4.1887903e-01, 3.4028235e+38],\n",
       "      dtype=float32)), action=BoundedTensorSpec(shape=(), dtype=tf.int64, name='action', minimum=array(0), maximum=array(1)), policy_info=(), next_step_type=TensorSpec(shape=(), dtype=tf.int32, name='step_type'), reward=TensorSpec(shape=(), dtype=tf.float32, name='reward'), discount=BoundedTensorSpec(shape=(), dtype=tf.float32, name='discount', minimum=array(0., dtype=float32), maximum=array(1., dtype=float32)))"
      ]
     },
     "execution_count": 1,
     "metadata": {},
     "output_type": "execute_result"
    }
   ],
   "source": [
    "agent.collect_data_spec"
   ]
  },
  {
   "cell_type": "code",
   "execution_count": 26,
   "metadata": {
    "execution": {
     "iopub.execute_input": "2021-02-09T12:10:01.777672Z",
     "iopub.status.busy": "2021-02-09T12:10:01.776781Z",
     "iopub.status.idle": "2021-02-09T12:10:01.781651Z",
     "shell.execute_reply": "2021-02-09T12:10:01.781123Z"
    },
    "id": "sy6g1tGcfRlw"
   },
   "outputs": [
    {
     "data": {
      "text/plain": [
       "('step_type',\n",
       " 'observation',\n",
       " 'action',\n",
       " 'policy_info',\n",
       " 'next_step_type',\n",
       " 'reward',\n",
       " 'discount')"
      ]
     },
     "execution_count": 1,
     "metadata": {},
     "output_type": "execute_result"
    }
   ],
   "source": [
    "agent.collect_data_spec._fields"
   ]
  },
  {
   "cell_type": "markdown",
   "metadata": {
    "id": "rVD5nQ9ZGo8_"
   },
   "source": [
    "## Data Collection\n",
    "\n",
    "Now execute the random policy in the environment for a few steps, recording the data in the replay buffer."
   ]
  },
  {
   "cell_type": "code",
   "execution_count": 27,
   "metadata": {
    "execution": {
     "iopub.execute_input": "2021-02-09T12:10:01.787996Z",
     "iopub.status.busy": "2021-02-09T12:10:01.787329Z",
     "iopub.status.idle": "2021-02-09T12:10:02.216519Z",
     "shell.execute_reply": "2021-02-09T12:10:02.215857Z"
    },
    "id": "wr1KSAEGG4h9"
   },
   "outputs": [],
   "source": [
    "#@test {\"skip\": true}\n",
    "def collect_step(environment, policy, buffer):\n",
    "  time_step = environment.current_time_step()\n",
    "  action_step = policy.action(time_step)\n",
    "  next_time_step = environment.step(action_step.action)\n",
    "  traj = trajectory.from_transition(time_step, action_step, next_time_step)\n",
    "\n",
    "  # Add trajectory to the replay buffer\n",
    "  buffer.add_batch(traj)\n",
    "\n",
    "def collect_data(env, policy, buffer, steps):\n",
    "  for _ in range(steps):\n",
    "    collect_step(env, policy, buffer)\n",
    "\n",
    "collect_data(train_env, random_policy, replay_buffer, initial_collect_steps)\n",
    "\n",
    "# This loop is so common in RL, that we provide standard implementations. \n",
    "# For more details see the drivers module.\n",
    "# https://www.tensorflow.org/agents/api_docs/python/tf_agents/drivers"
   ]
  },
  {
   "cell_type": "markdown",
   "metadata": {
    "id": "84z5pQJdoKxo"
   },
   "source": [
    "The replay buffer is now a collection of Trajectories."
   ]
  },
  {
   "cell_type": "code",
   "execution_count": 28,
   "metadata": {
    "execution": {
     "iopub.execute_input": "2021-02-09T12:10:02.220996Z",
     "iopub.status.busy": "2021-02-09T12:10:02.220245Z",
     "iopub.status.idle": "2021-02-09T12:10:02.222437Z",
     "shell.execute_reply": "2021-02-09T12:10:02.222878Z"
    },
    "id": "4wZnLu2ViO4E"
   },
   "outputs": [],
   "source": [
    "# For the curious:\n",
    "# Uncomment to peel one of these off and inspect it.\n",
    "# iter(replay_buffer.as_dataset()).next()"
   ]
  },
  {
   "cell_type": "markdown",
   "metadata": {
    "id": "TujU-PMUsKjS"
   },
   "source": [
    "The agent needs access to the replay buffer. This is provided by creating an iterable `tf.data.Dataset` pipeline which will feed data to the agent.\n",
    "\n",
    "Each row of the replay buffer only stores a single observation step. But since the DQN Agent needs both the current and next observation to compute the loss, the dataset pipeline will sample two adjacent rows for each item in the batch (`num_steps=2`).\n",
    "\n",
    "This dataset is also optimized by running parallel calls and prefetching data."
   ]
  },
  {
   "cell_type": "code",
   "execution_count": 29,
   "metadata": {
    "execution": {
     "iopub.execute_input": "2021-02-09T12:10:02.228262Z",
     "iopub.status.busy": "2021-02-09T12:10:02.227598Z",
     "iopub.status.idle": "2021-02-09T12:10:03.000822Z",
     "shell.execute_reply": "2021-02-09T12:10:03.000165Z"
    },
    "id": "ba7bilizt_qW"
   },
   "outputs": [
    {
     "name": "stdout",
     "output_type": "stream",
     "text": [
      "WARNING:tensorflow:From /tmpfs/src/tf_docs_env/lib/python3.6/site-packages/tensorflow/python/autograph/operators/control_flow.py:1218: ReplayBuffer.get_next (from tf_agents.replay_buffers.replay_buffer) is deprecated and will be removed in a future version.\n",
      "Instructions for updating:\n",
      "Use `as_dataset(..., single_deterministic_pass=False) instead.\n"
     ]
    },
    {
     "data": {
      "text/plain": [
       "<PrefetchDataset shapes: (Trajectory(step_type=(64, 2), observation=(64, 2, 4), action=(64, 2), policy_info=(), next_step_type=(64, 2), reward=(64, 2), discount=(64, 2)), BufferInfo(ids=(64, 2), probabilities=(64,))), types: (Trajectory(step_type=tf.int32, observation=tf.float32, action=tf.int64, policy_info=(), next_step_type=tf.int32, reward=tf.float32, discount=tf.float32), BufferInfo(ids=tf.int64, probabilities=tf.float32))>"
      ]
     },
     "execution_count": 1,
     "metadata": {},
     "output_type": "execute_result"
    }
   ],
   "source": [
    "# Dataset generates trajectories with shape [Bx2x...]\n",
    "dataset = replay_buffer.as_dataset(\n",
    "    num_parallel_calls=3, \n",
    "    sample_batch_size=batch_size, \n",
    "    num_steps=2).prefetch(3)\n",
    "\n",
    "\n",
    "dataset"
   ]
  },
  {
   "cell_type": "code",
   "execution_count": 30,
   "metadata": {
    "execution": {
     "iopub.execute_input": "2021-02-09T12:10:03.005628Z",
     "iopub.status.busy": "2021-02-09T12:10:03.004273Z",
     "iopub.status.idle": "2021-02-09T12:10:03.066168Z",
     "shell.execute_reply": "2021-02-09T12:10:03.065640Z"
    },
    "id": "K13AST-2ppOq"
   },
   "outputs": [
    {
     "name": "stdout",
     "output_type": "stream",
     "text": [
      "<tensorflow.python.data.ops.iterator_ops.OwnedIterator object at 0x7fd45c8c1d30>\n"
     ]
    }
   ],
   "source": [
    "iterator = iter(dataset)\n",
    "print(iterator)"
   ]
  },
  {
   "cell_type": "code",
   "execution_count": 31,
   "metadata": {
    "execution": {
     "iopub.execute_input": "2021-02-09T12:10:03.070252Z",
     "iopub.status.busy": "2021-02-09T12:10:03.069431Z",
     "iopub.status.idle": "2021-02-09T12:10:03.072043Z",
     "shell.execute_reply": "2021-02-09T12:10:03.071523Z"
    },
    "id": "Th5w5Sff0b16"
   },
   "outputs": [],
   "source": [
    "# For the curious:\n",
    "# Uncomment to see what the dataset iterator is feeding to the agent.\n",
    "# Compare this representation of replay data \n",
    "# to the collection of individual trajectories shown earlier.\n",
    "\n",
    "# iterator.next()"
   ]
  },
  {
   "cell_type": "markdown",
   "metadata": {
    "id": "hBc9lj9VWWtZ"
   },
   "source": [
    "## Training the agent\n",
    "\n",
    "Two things must happen during the training loop:\n",
    "\n",
    "-   collect data from the environment\n",
    "-   use that data to train the agent's neural network(s)\n",
    "\n",
    "This example also periodicially evaluates the policy and prints the current score.\n",
    "\n",
    "The following will take ~5 minutes to run."
   ]
  },
  {
   "cell_type": "code",
   "execution_count": 32,
   "metadata": {
    "execution": {
     "iopub.execute_input": "2021-02-09T12:10:03.082569Z",
     "iopub.status.busy": "2021-02-09T12:10:03.081857Z",
     "iopub.status.idle": "2021-02-09T12:16:31.001672Z",
     "shell.execute_reply": "2021-02-09T12:16:31.001077Z"
    },
    "id": "0pTbJ3PeyF-u"
   },
   "outputs": [
    {
     "name": "stdout",
     "output_type": "stream",
     "text": [
      "WARNING:tensorflow:From /tmpfs/src/tf_docs_env/lib/python3.6/site-packages/tensorflow/python/util/dispatch.py:201: calling foldr_v2 (from tensorflow.python.ops.functional_ops) with back_prop=False is deprecated and will be removed in a future version.\n",
      "Instructions for updating:\n",
      "back_prop=False is deprecated. Consider using tf.stop_gradient instead.\n",
      "Instead of:\n",
      "results = tf.foldr(fn, elems, back_prop=False)\n",
      "Use:\n",
      "results = tf.nest.map_structure(tf.stop_gradient, tf.foldr(fn, elems))\n"
     ]
    },
    {
     "name": "stdout",
     "output_type": "stream",
     "text": [
      "step = 200: loss = 7.1376953125\n"
     ]
    },
    {
     "name": "stdout",
     "output_type": "stream",
     "text": [
      "step = 400: loss = 10.289593696594238\n"
     ]
    },
    {
     "name": "stdout",
     "output_type": "stream",
     "text": [
      "step = 600: loss = 19.545475006103516\n"
     ]
    },
    {
     "name": "stdout",
     "output_type": "stream",
     "text": [
      "step = 800: loss = 36.43363952636719\n"
     ]
    },
    {
     "name": "stdout",
     "output_type": "stream",
     "text": [
      "step = 1000: loss = 5.419467449188232\n"
     ]
    },
    {
     "name": "stdout",
     "output_type": "stream",
     "text": [
      "step = 1000: Average Return = 54.20000076293945\n"
     ]
    },
    {
     "name": "stdout",
     "output_type": "stream",
     "text": [
      "step = 1200: loss = 34.57895278930664\n"
     ]
    },
    {
     "name": "stdout",
     "output_type": "stream",
     "text": [
      "step = 1400: loss = 46.99689483642578\n"
     ]
    },
    {
     "name": "stdout",
     "output_type": "stream",
     "text": [
      "step = 1600: loss = 40.32734298706055\n"
     ]
    },
    {
     "name": "stdout",
     "output_type": "stream",
     "text": [
      "step = 1800: loss = 47.736488342285156\n"
     ]
    },
    {
     "name": "stdout",
     "output_type": "stream",
     "text": [
      "step = 2000: loss = 49.739967346191406\n"
     ]
    },
    {
     "name": "stdout",
     "output_type": "stream",
     "text": [
      "step = 2000: Average Return = 190.0\n"
     ]
    },
    {
     "name": "stdout",
     "output_type": "stream",
     "text": [
      "step = 2200: loss = 844.77099609375\n"
     ]
    },
    {
     "name": "stdout",
     "output_type": "stream",
     "text": [
      "step = 2400: loss = 4119.0439453125\n"
     ]
    },
    {
     "name": "stdout",
     "output_type": "stream",
     "text": [
      "step = 2600: loss = 255.4365234375\n"
     ]
    },
    {
     "name": "stdout",
     "output_type": "stream",
     "text": [
      "step = 2800: loss = 143.8880157470703\n"
     ]
    },
    {
     "name": "stdout",
     "output_type": "stream",
     "text": [
      "step = 3000: loss = 225.29849243164062\n"
     ]
    },
    {
     "name": "stdout",
     "output_type": "stream",
     "text": [
      "step = 3000: Average Return = 200.0\n"
     ]
    },
    {
     "name": "stdout",
     "output_type": "stream",
     "text": [
      "step = 3200: loss = 599.4447021484375\n"
     ]
    },
    {
     "name": "stdout",
     "output_type": "stream",
     "text": [
      "step = 3400: loss = 1019.076171875\n"
     ]
    },
    {
     "name": "stdout",
     "output_type": "stream",
     "text": [
      "step = 3600: loss = 1293.42919921875\n"
     ]
    },
    {
     "name": "stdout",
     "output_type": "stream",
     "text": [
      "step = 3800: loss = 2320.72216796875\n"
     ]
    },
    {
     "name": "stdout",
     "output_type": "stream",
     "text": [
      "step = 4000: loss = 41184.2109375\n"
     ]
    },
    {
     "name": "stdout",
     "output_type": "stream",
     "text": [
      "step = 4000: Average Return = 200.0\n"
     ]
    },
    {
     "name": "stdout",
     "output_type": "stream",
     "text": [
      "step = 4200: loss = 4963.77880859375\n"
     ]
    },
    {
     "name": "stdout",
     "output_type": "stream",
     "text": [
      "step = 4400: loss = 5559.41552734375\n"
     ]
    },
    {
     "name": "stdout",
     "output_type": "stream",
     "text": [
      "step = 4600: loss = 5049.33203125\n"
     ]
    },
    {
     "name": "stdout",
     "output_type": "stream",
     "text": [
      "step = 4800: loss = 78073.1328125\n"
     ]
    },
    {
     "name": "stdout",
     "output_type": "stream",
     "text": [
      "step = 5000: loss = 36796.953125\n"
     ]
    },
    {
     "name": "stdout",
     "output_type": "stream",
     "text": [
      "step = 5000: Average Return = 200.0\n"
     ]
    },
    {
     "name": "stdout",
     "output_type": "stream",
     "text": [
      "step = 5200: loss = 9767.94140625\n"
     ]
    },
    {
     "name": "stdout",
     "output_type": "stream",
     "text": [
      "step = 5400: loss = 22039.0625\n"
     ]
    },
    {
     "name": "stdout",
     "output_type": "stream",
     "text": [
      "step = 5600: loss = 22485.873046875\n"
     ]
    },
    {
     "name": "stdout",
     "output_type": "stream",
     "text": [
      "step = 5800: loss = 388653.09375\n"
     ]
    },
    {
     "name": "stdout",
     "output_type": "stream",
     "text": [
      "step = 6000: loss = 216484.203125\n"
     ]
    },
    {
     "name": "stdout",
     "output_type": "stream",
     "text": [
      "step = 6000: Average Return = 200.0\n"
     ]
    },
    {
     "name": "stdout",
     "output_type": "stream",
     "text": [
      "step = 6200: loss = 25190.736328125\n"
     ]
    },
    {
     "name": "stdout",
     "output_type": "stream",
     "text": [
      "step = 6400: loss = 34655.4296875\n"
     ]
    },
    {
     "name": "stdout",
     "output_type": "stream",
     "text": [
      "step = 6600: loss = 46708.58984375\n"
     ]
    },
    {
     "name": "stdout",
     "output_type": "stream",
     "text": [
      "step = 6800: loss = 53557.33984375\n"
     ]
    },
    {
     "name": "stdout",
     "output_type": "stream",
     "text": [
      "step = 7000: loss = 32926.9296875\n"
     ]
    },
    {
     "name": "stdout",
     "output_type": "stream",
     "text": [
      "step = 7000: Average Return = 200.0\n"
     ]
    },
    {
     "name": "stdout",
     "output_type": "stream",
     "text": [
      "step = 7200: loss = 45613.109375\n"
     ]
    },
    {
     "name": "stdout",
     "output_type": "stream",
     "text": [
      "step = 7400: loss = 37991.77734375\n"
     ]
    },
    {
     "name": "stdout",
     "output_type": "stream",
     "text": [
      "step = 7600: loss = 69465.1796875\n"
     ]
    },
    {
     "name": "stdout",
     "output_type": "stream",
     "text": [
      "step = 7800: loss = 82083.4140625\n"
     ]
    },
    {
     "name": "stdout",
     "output_type": "stream",
     "text": [
      "step = 8000: loss = 45056.90234375\n"
     ]
    },
    {
     "name": "stdout",
     "output_type": "stream",
     "text": [
      "step = 8000: Average Return = 200.0\n"
     ]
    },
    {
     "name": "stdout",
     "output_type": "stream",
     "text": [
      "step = 8200: loss = 82084.65625\n"
     ]
    },
    {
     "name": "stdout",
     "output_type": "stream",
     "text": [
      "step = 8400: loss = 123847.4375\n"
     ]
    },
    {
     "name": "stdout",
     "output_type": "stream",
     "text": [
      "step = 8600: loss = 78031.5\n"
     ]
    },
    {
     "name": "stdout",
     "output_type": "stream",
     "text": [
      "step = 8800: loss = 67286.640625\n"
     ]
    },
    {
     "name": "stdout",
     "output_type": "stream",
     "text": [
      "step = 9000: loss = 227665.625\n"
     ]
    },
    {
     "name": "stdout",
     "output_type": "stream",
     "text": [
      "step = 9000: Average Return = 200.0\n"
     ]
    },
    {
     "name": "stdout",
     "output_type": "stream",
     "text": [
      "step = 9200: loss = 189473.8125\n"
     ]
    },
    {
     "name": "stdout",
     "output_type": "stream",
     "text": [
      "step = 9400: loss = 175909.5625\n"
     ]
    },
    {
     "name": "stdout",
     "output_type": "stream",
     "text": [
      "step = 9600: loss = 219817.296875\n"
     ]
    },
    {
     "name": "stdout",
     "output_type": "stream",
     "text": [
      "step = 9800: loss = 402358.21875\n"
     ]
    },
    {
     "name": "stdout",
     "output_type": "stream",
     "text": [
      "step = 10000: loss = 295174.6875\n"
     ]
    },
    {
     "name": "stdout",
     "output_type": "stream",
     "text": [
      "step = 10000: Average Return = 200.0\n"
     ]
    },
    {
     "name": "stdout",
     "output_type": "stream",
     "text": [
      "step = 10200: loss = 297499.125\n"
     ]
    },
    {
     "name": "stdout",
     "output_type": "stream",
     "text": [
      "step = 10400: loss = 328237.8125\n"
     ]
    },
    {
     "name": "stdout",
     "output_type": "stream",
     "text": [
      "step = 10600: loss = 6439973.5\n"
     ]
    },
    {
     "name": "stdout",
     "output_type": "stream",
     "text": [
      "step = 10800: loss = 196471.09375\n"
     ]
    },
    {
     "name": "stdout",
     "output_type": "stream",
     "text": [
      "step = 11000: loss = 412917.0\n"
     ]
    },
    {
     "name": "stdout",
     "output_type": "stream",
     "text": [
      "step = 11000: Average Return = 200.0\n"
     ]
    },
    {
     "name": "stdout",
     "output_type": "stream",
     "text": [
      "step = 11200: loss = 224290.40625\n"
     ]
    },
    {
     "name": "stdout",
     "output_type": "stream",
     "text": [
      "step = 11400: loss = 215624.25\n"
     ]
    },
    {
     "name": "stdout",
     "output_type": "stream",
     "text": [
      "step = 11600: loss = 428307.0625\n"
     ]
    },
    {
     "name": "stdout",
     "output_type": "stream",
     "text": [
      "step = 11800: loss = 979577.5625\n"
     ]
    },
    {
     "name": "stdout",
     "output_type": "stream",
     "text": [
      "step = 12000: loss = 192212.125\n"
     ]
    },
    {
     "name": "stdout",
     "output_type": "stream",
     "text": [
      "step = 12000: Average Return = 200.0\n"
     ]
    },
    {
     "name": "stdout",
     "output_type": "stream",
     "text": [
      "step = 12200: loss = 395367.75\n"
     ]
    },
    {
     "name": "stdout",
     "output_type": "stream",
     "text": [
      "step = 12400: loss = 24781564.0\n"
     ]
    },
    {
     "name": "stdout",
     "output_type": "stream",
     "text": [
      "step = 12600: loss = 10260239.0\n"
     ]
    },
    {
     "name": "stdout",
     "output_type": "stream",
     "text": [
      "step = 12800: loss = 540727.875\n"
     ]
    },
    {
     "name": "stdout",
     "output_type": "stream",
     "text": [
      "step = 13000: loss = 638093.25\n"
     ]
    },
    {
     "name": "stdout",
     "output_type": "stream",
     "text": [
      "step = 13000: Average Return = 200.0\n"
     ]
    },
    {
     "name": "stdout",
     "output_type": "stream",
     "text": [
      "step = 13200: loss = 774659.4375\n"
     ]
    },
    {
     "name": "stdout",
     "output_type": "stream",
     "text": [
      "step = 13400: loss = 725100.875\n"
     ]
    },
    {
     "name": "stdout",
     "output_type": "stream",
     "text": [
      "step = 13600: loss = 759670.625\n"
     ]
    },
    {
     "name": "stdout",
     "output_type": "stream",
     "text": [
      "step = 13800: loss = 650109.0625\n"
     ]
    },
    {
     "name": "stdout",
     "output_type": "stream",
     "text": [
      "step = 14000: loss = 714944.5\n"
     ]
    },
    {
     "name": "stdout",
     "output_type": "stream",
     "text": [
      "step = 14000: Average Return = 200.0\n"
     ]
    },
    {
     "name": "stdout",
     "output_type": "stream",
     "text": [
      "step = 14200: loss = 765532.1875\n"
     ]
    },
    {
     "name": "stdout",
     "output_type": "stream",
     "text": [
      "step = 14400: loss = 559825.3125\n"
     ]
    },
    {
     "name": "stdout",
     "output_type": "stream",
     "text": [
      "step = 14600: loss = 1272693.375\n"
     ]
    },
    {
     "name": "stdout",
     "output_type": "stream",
     "text": [
      "step = 14800: loss = 1612590.75\n"
     ]
    },
    {
     "name": "stdout",
     "output_type": "stream",
     "text": [
      "step = 15000: loss = 1986240.25\n"
     ]
    },
    {
     "name": "stdout",
     "output_type": "stream",
     "text": [
      "step = 15000: Average Return = 200.0\n"
     ]
    },
    {
     "name": "stdout",
     "output_type": "stream",
     "text": [
      "step = 15200: loss = 1077601.125\n"
     ]
    },
    {
     "name": "stdout",
     "output_type": "stream",
     "text": [
      "step = 15400: loss = 1231381.125\n"
     ]
    },
    {
     "name": "stdout",
     "output_type": "stream",
     "text": [
      "step = 15600: loss = 2455884.5\n"
     ]
    },
    {
     "name": "stdout",
     "output_type": "stream",
     "text": [
      "step = 15800: loss = 23788086.0\n"
     ]
    },
    {
     "name": "stdout",
     "output_type": "stream",
     "text": [
      "step = 16000: loss = 1422684.0\n"
     ]
    },
    {
     "name": "stdout",
     "output_type": "stream",
     "text": [
      "step = 16000: Average Return = 200.0\n"
     ]
    },
    {
     "name": "stdout",
     "output_type": "stream",
     "text": [
      "step = 16200: loss = 2394509.0\n"
     ]
    },
    {
     "name": "stdout",
     "output_type": "stream",
     "text": [
      "step = 16400: loss = 4006896.0\n"
     ]
    },
    {
     "name": "stdout",
     "output_type": "stream",
     "text": [
      "step = 16600: loss = 1646453.625\n"
     ]
    },
    {
     "name": "stdout",
     "output_type": "stream",
     "text": [
      "step = 16800: loss = 1340689.125\n"
     ]
    },
    {
     "name": "stdout",
     "output_type": "stream",
     "text": [
      "step = 17000: loss = 26381168.0\n"
     ]
    },
    {
     "name": "stdout",
     "output_type": "stream",
     "text": [
      "step = 17000: Average Return = 200.0\n"
     ]
    },
    {
     "name": "stdout",
     "output_type": "stream",
     "text": [
      "step = 17200: loss = 2301365.75\n"
     ]
    },
    {
     "name": "stdout",
     "output_type": "stream",
     "text": [
      "step = 17400: loss = 589999.5\n"
     ]
    },
    {
     "name": "stdout",
     "output_type": "stream",
     "text": [
      "step = 17600: loss = 1951961.5\n"
     ]
    },
    {
     "name": "stdout",
     "output_type": "stream",
     "text": [
      "step = 17800: loss = 717706.3125\n"
     ]
    },
    {
     "name": "stdout",
     "output_type": "stream",
     "text": [
      "step = 18000: loss = 1537313.875\n"
     ]
    },
    {
     "name": "stdout",
     "output_type": "stream",
     "text": [
      "step = 18000: Average Return = 200.0\n"
     ]
    },
    {
     "name": "stdout",
     "output_type": "stream",
     "text": [
      "step = 18200: loss = 2864821.0\n"
     ]
    },
    {
     "name": "stdout",
     "output_type": "stream",
     "text": [
      "step = 18400: loss = 1825217.5\n"
     ]
    },
    {
     "name": "stdout",
     "output_type": "stream",
     "text": [
      "step = 18600: loss = 2375406.75\n"
     ]
    },
    {
     "name": "stdout",
     "output_type": "stream",
     "text": [
      "step = 18800: loss = 4396603.0\n"
     ]
    },
    {
     "name": "stdout",
     "output_type": "stream",
     "text": [
      "step = 19000: loss = 2847116.0\n"
     ]
    },
    {
     "name": "stdout",
     "output_type": "stream",
     "text": [
      "step = 19000: Average Return = 200.0\n"
     ]
    },
    {
     "name": "stdout",
     "output_type": "stream",
     "text": [
      "step = 19200: loss = 2379508.5\n"
     ]
    },
    {
     "name": "stdout",
     "output_type": "stream",
     "text": [
      "step = 19400: loss = 785688.625\n"
     ]
    },
    {
     "name": "stdout",
     "output_type": "stream",
     "text": [
      "step = 19600: loss = 2396494.0\n"
     ]
    },
    {
     "name": "stdout",
     "output_type": "stream",
     "text": [
      "step = 19800: loss = 3612146.75\n"
     ]
    },
    {
     "name": "stdout",
     "output_type": "stream",
     "text": [
      "step = 20000: loss = 3842961.75\n"
     ]
    },
    {
     "name": "stdout",
     "output_type": "stream",
     "text": [
      "step = 20000: Average Return = 200.0\n"
     ]
    }
   ],
   "source": [
    "#@test {\"skip\": true}\n",
    "try:\n",
    "  %%time\n",
    "except:\n",
    "  pass\n",
    "\n",
    "# (Optional) Optimize by wrapping some of the code in a graph using TF function.\n",
    "agent.train = common.function(agent.train)\n",
    "\n",
    "# Reset the train step\n",
    "agent.train_step_counter.assign(0)\n",
    "\n",
    "# Evaluate the agent's policy once before training.\n",
    "avg_return = compute_avg_return(eval_env, agent.policy, num_eval_episodes)\n",
    "returns = [avg_return]\n",
    "\n",
    "for _ in range(num_iterations):\n",
    "\n",
    "  # Collect a few steps using collect_policy and save to the replay buffer.\n",
    "  collect_data(train_env, agent.collect_policy, replay_buffer, collect_steps_per_iteration)\n",
    "\n",
    "  # Sample a batch of data from the buffer and update the agent's network.\n",
    "  experience, unused_info = next(iterator)\n",
    "  train_loss = agent.train(experience).loss\n",
    "\n",
    "  step = agent.train_step_counter.numpy()\n",
    "\n",
    "  if step % log_interval == 0:\n",
    "    print('step = {0}: loss = {1}'.format(step, train_loss))\n",
    "\n",
    "  if step % eval_interval == 0:\n",
    "    avg_return = compute_avg_return(eval_env, agent.policy, num_eval_episodes)\n",
    "    print('step = {0}: Average Return = {1}'.format(step, avg_return))\n",
    "    returns.append(avg_return)"
   ]
  },
  {
   "cell_type": "markdown",
   "metadata": {
    "id": "68jNcA_TiJDq"
   },
   "source": [
    "## Visualization\n"
   ]
  },
  {
   "cell_type": "markdown",
   "metadata": {
    "id": "aO-LWCdbbOIC"
   },
   "source": [
    "### Plots\n",
    "\n",
    "Use `matplotlib.pyplot` to chart how the policy improved during training.\n",
    "\n",
    "One iteration of `Cartpole-v0` consists of 200 time steps. The environment gives a reward of `+1` for each step the pole stays up, so the maximum return for one episode is 200. The charts shows the return increasing towards that maximum each time it is evaluated during training. (It may be a little unstable and not increase monotonically each time.)"
   ]
  },
  {
   "cell_type": "code",
   "execution_count": 33,
   "metadata": {
    "execution": {
     "iopub.execute_input": "2021-02-09T12:16:31.022159Z",
     "iopub.status.busy": "2021-02-09T12:16:31.021544Z",
     "iopub.status.idle": "2021-02-09T12:16:31.143147Z",
     "shell.execute_reply": "2021-02-09T12:16:31.142668Z"
    },
    "id": "NxtL1mbOYCVO"
   },
   "outputs": [
    {
     "data": {
      "text/plain": [
       "(1.3400002002716054, 250.0)"
      ]
     },
     "execution_count": 1,
     "metadata": {},
     "output_type": "execute_result"
    },
    {
     "data": {
      "image/png": "[encoded data removed]",
      "text/plain": [
       "<Figure size 432x288 with 1 Axes>"
      ]
     },
     "metadata": {
      "needs_background": "light"
     },
     "output_type": "display_data"
    }
   ],
   "source": [
    "#@test {\"skip\": true}\n",
    "\n",
    "iterations = range(0, num_iterations + 1, eval_interval)\n",
    "plt.plot(iterations, returns)\n",
    "plt.ylabel('Average Return')\n",
    "plt.xlabel('Iterations')\n",
    "plt.ylim(top=250)"
   ]
  },
  {
   "cell_type": "markdown",
   "metadata": {
    "id": "M7-XpPP99Cy7"
   },
   "source": [
    "### Videos"
   ]
  },
  {
   "cell_type": "markdown",
   "metadata": {
    "id": "9pGfGxSH32gn"
   },
   "source": [
    "Charts are nice. But more exciting is seeing an agent actually performing a task in an environment. \n",
    "\n",
    "First, create a function to embed videos in the notebook."
   ]
  },
  {
   "cell_type": "code",
   "execution_count": 34,
   "metadata": {
    "execution": {
     "iopub.execute_input": "2021-02-09T12:16:31.148722Z",
     "iopub.status.busy": "2021-02-09T12:16:31.148088Z",
     "iopub.status.idle": "2021-02-09T12:16:31.150146Z",
     "shell.execute_reply": "2021-02-09T12:16:31.149689Z"
    },
    "id": "ULaGr8pvOKbl"
   },
   "outputs": [],
   "source": [
    "def embed_mp4(filename):\n",
    "  \"\"\"Embeds an mp4 file in the notebook.\"\"\"\n",
    "  video = open(filename,'rb').read()\n",
    "  b64 = base64.b64encode(video)\n",
    "  tag = '''\n",
    "  <video width=\"640\" height=\"480\" controls>\n",
    "    <source src=\"data:video/mp4;base64,{0}\" type=\"video/mp4\">\n",
    "  Your browser does not support the video tag.\n",
    "  </video>'''.format(b64.decode())\n",
    "\n",
    "  return IPython.display.HTML(tag)"
   ]
  },
  {
   "cell_type": "markdown",
   "metadata": {
    "id": "9c_PH-pX4Pr5"
   },
   "source": [
    "Now iterate through a few episodes of the Cartpole game with the agent. The underlying Python environment (the one \"inside\" the TensorFlow environment wrapper) provides a `render()` method, which outputs an image of the environment state. These can be collected into a video."
   ]
  },
  {
   "cell_type": "code",
   "execution_count": 35,
   "metadata": {
    "execution": {
     "iopub.execute_input": "2021-02-09T12:16:31.156504Z",
     "iopub.status.busy": "2021-02-09T12:16:31.155852Z",
     "iopub.status.idle": "2021-02-09T12:16:43.760977Z",
     "shell.execute_reply": "2021-02-09T12:16:43.761419Z"
    },
    "id": "owOVWB158NlF"
   },
   "outputs": [
    {
     "name": "stderr",
     "output_type": "stream",
     "text": [
      "WARNING:root:IMAGEIO FFMPEG_WRITER WARNING: input image is not divisible by macro_block_size=16, resizing from (400, 600) to (400, 608) to ensure video compatibility with most codecs and players. To prevent resizing, make your input image divisible by the macro_block_size or set the macro_block_size to None (risking incompatibility). You may also see a FFMPEG warning concerning speedloss due to data not being aligned.\n"
     ]
    },
    {
     "data": {
      "text/html": [
       "\n",
       "  <video width=\"640\" height=\"480\" controls>\n",
       "    <source src=\"data:video/mp4;base64,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\" type=\"video/mp4\">\n",
       "  Your browser does not support the video tag.\n",
       "  </video>"
      ],
      "text/plain": [
       "<IPython.core.display.HTML object>"
      ]
     },
     "execution_count": 1,
     "metadata": {},
     "output_type": "execute_result"
    }
   ],
   "source": [
    "def create_policy_eval_video(policy, filename, num_episodes=5, fps=30):\n",
    "  filename = filename + \".mp4\"\n",
    "  with imageio.get_writer(filename, fps=fps) as video:\n",
    "    for _ in range(num_episodes):\n",
    "      time_step = eval_env.reset()\n",
    "      video.append_data(eval_py_env.render())\n",
    "      while not time_step.is_last():\n",
    "        action_step = policy.action(time_step)\n",
    "        time_step = eval_env.step(action_step.action)\n",
    "        video.append_data(eval_py_env.render())\n",
    "  return embed_mp4(filename)\n",
    "\n",
    "\n",
    "\n",
    "\n",
    "create_policy_eval_video(agent.policy, \"trained-agent\")"
   ]
  },
  {
   "cell_type": "markdown",
   "metadata": {
    "id": "povaAOcZygLw"
   },
   "source": [
    "For fun, compare the trained agent (above) to an agent moving randomly. (It does not do as well.)"
   ]
  },
  {
   "cell_type": "code",
   "execution_count": 36,
   "metadata": {
    "execution": {
     "iopub.execute_input": "2021-02-09T12:16:43.767783Z",
     "iopub.status.busy": "2021-02-09T12:16:43.766656Z",
     "iopub.status.idle": "2021-02-09T12:16:44.631402Z",
     "shell.execute_reply": "2021-02-09T12:16:44.631877Z"
    },
    "id": "pJZIdC37yNH4"
   },
   "outputs": [
    {
     "name": "stderr",
     "output_type": "stream",
     "text": [
      "WARNING:root:IMAGEIO FFMPEG_WRITER WARNING: input image is not divisible by macro_block_size=16, resizing from (400, 600) to (400, 608) to ensure video compatibility with most codecs and players. To prevent resizing, make your input image divisible by the macro_block_size or set the macro_block_size to None (risking incompatibility). You may also see a FFMPEG warning concerning speedloss due to data not being aligned.\n"
     ]
    },
    {
     "data": {
      "text/html": [
       "\n",
       "  <video width=\"640\" height=\"480\" controls>\n",
       "    <source src=\"data:video/mp4;base64,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\" type=\"video/mp4\">\n",
       "  Your browser does not support the video tag.\n",
       "  </video>"
      ],
      "text/plain": [
       "<IPython.core.display.HTML object>"
      ]
     },
     "execution_count": 1,
     "metadata": {},
     "output_type": "execute_result"
    }
   ],
   "source": [
    "create_policy_eval_video(random_policy, \"random-agent\")"
   ]
  }
 ],
 "metadata": {
  "colab": {
   "collapsed_sections": [],
   "name": "DQN Tutorial.ipynb",
   "private_outputs": true,
   "provenance": [],
   "toc_visible": true
  },
  "kernelspec": {
   "display_name": "Python 3",
   "language": "python",
   "name": "python3"
  },
  "language_info": {
   "codemirror_mode": {
    "name": "ipython",
    "version": 3
   },
   "file_extension": ".py",
   "mimetype": "text/x-python",
   "name": "python",
   "nbconvert_exporter": "python",
   "pygments_lexer": "ipython3",
   "version": "3.6.9"
  },
  "pycharm": {
   "stem_cell": {
    "cell_type": "raw",
    "metadata": {
     "collapsed": false
    },
    "source": []
   }
  }
 },
 "nbformat": 4,
 "nbformat_minor": 0
}
