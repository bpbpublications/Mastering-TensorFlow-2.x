{
 "cells": [
  {
   "cell_type": "markdown",
   "metadata": {},
   "source": [
    "# Agent Sample\n",
    "## Creation \n",
    "Create and agent\n",
    "```\n",
    "agent = DqnAgent(q_network=.., optimizer=...)\n",
    "```\n",
    "Collect Policy\n",
    "\n",
    "```\n",
    "policy = agent.collect_policy()\n",
    "```\n",
    "\n",
    "Main method on the agent is train. Here we train from a batch of experience\n",
    "\n",
    "```\n",
    "loss_info = agent.train(trajectories = projection)\n",
    "```\n",
    "\n",
    "The Deployment Policy\n",
    "```\n",
    "deploymeent_policy = agent.policy()\n",
    "\n",
    "```\n",
    "\n"
   ]
  },
  {
   "cell_type": "markdown",
   "metadata": {},
   "source": [
    "## Training\n",
    "\n",
    "Create a Network\n",
    "\n",
    "```\n",
    "q_net = q_network.QNetwork(observation_spec, action_spec)\n",
    "```\n",
    "\n",
    "Build an agent with that network\n",
    "\n",
    "```\n",
    "dqn_agent = DqnAgent(\n",
    "    q_network = q_net,\n",
    "    optimizer = AdamOptimizer(learning_rate = learning_rate))\n",
    "```\n",
    "\n",
    "Get experience and train the agent:\n",
    "\n",
    "```\n",
    "dataset = replay_buffer.as_dataset().step(num_steps = 2).fetch(3\n",
    "\n",
    "for batched_experience in dataset:\n",
    "    agent.train(batched_experience)\n",
    "```"
   ]
  },
  {
   "cell_type": "markdown",
   "metadata": {},
   "source": [
    "## Collection Experience"
   ]
  },
  {
   "cell_type": "markdown",
   "metadata": {},
   "source": [
    "```\n",
    "tf_env = TFPyEnvironment([..])\n",
    "\n",
    "replace_buffer = TFUniformReplayBuffer(agent.collect_dataset)\n",
    "\n",
    "driver = DynmaicStepDriver(tf_env, agent.collect_policy, observers=[replay_buffer.add_batch], num_step=100)\n",
    "\n",
    "final_time_step, final_policy_state = driver.run()\n",
    "```"
   ]
  },
  {
   "cell_type": "code",
   "execution_count": null,
   "metadata": {},
   "outputs": [],
   "source": []
  }
 ],
 "metadata": {
  "kernelspec": {
   "display_name": "Python 3",
   "language": "python",
   "name": "python3"
  },
  "language_info": {
   "codemirror_mode": {
    "name": "ipython",
    "version": 3
   },
   "file_extension": ".py",
   "mimetype": "text/x-python",
   "name": "python",
   "nbconvert_exporter": "python",
   "pygments_lexer": "ipython3",
   "version": "3.7.4"
  }
 },
 "nbformat": 4,
 "nbformat_minor": 4
}
