{
 "cells": [
  {
   "cell_type": "code",
   "execution_count": 1,
   "metadata": {},
   "outputs": [],
   "source": [
    "import tf_agents"
   ]
  },
  {
   "cell_type": "code",
   "execution_count": 3,
   "metadata": {},
   "outputs": [],
   "source": [
    "class MyQNetwork(tf_agents.networks.Network):\n",
    "    def __init__(self, no_of_actions):\n",
    "        self._forward = tf.keras.Sequential(\n",
    "        [tf.keras.layers.Conv2D(32,(8,8),4,activation='relu'),\n",
    "         tf.keras.layers.Dense(number_of_actions)])\n",
    "        \n",
    "    def call(self, state=(), observations):\n",
    "        logits = self._forward(observations)\n",
    "        return logits, state"
   ]
  },
  {
   "cell_type": "code",
   "execution_count": null,
   "metadata": {},
   "outputs": [],
   "source": []
  }
 ],
 "metadata": {
  "kernelspec": {
   "display_name": "Python 3",
   "language": "python",
   "name": "python3"
  },
  "language_info": {
   "codemirror_mode": {
    "name": "ipython",
    "version": 3
   },
   "file_extension": ".py",
   "mimetype": "text/x-python",
   "name": "python",
   "nbconvert_exporter": "python",
   "pygments_lexer": "ipython3",
   "version": "3.7.4"
  }
 },
 "nbformat": 4,
 "nbformat_minor": 4
}
