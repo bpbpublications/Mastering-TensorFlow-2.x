{
 "cells": [
  {
   "cell_type": "code",
   "execution_count": 2,
   "metadata": {},
   "outputs": [],
   "source": [
    "from tf_agents.environments import py_environment"
   ]
  },
  {
   "cell_type": "code",
   "execution_count": 4,
   "metadata": {},
   "outputs": [],
   "source": [
    "class BreakoutEnv(py_environment.PyEnvironment):\n",
    "    \n",
    "    def observation_spec(self):\n",
    "        # defines the observations\n",
    "        pass\n",
    "    \n",
    "    def action_spec(self):\n",
    "        # defines the action\n",
    "        pass\n",
    "        \n",
    "    def _reset(self):\n",
    "        # reset the state\n",
    "        pass\n",
    "    \n",
    "    def _apply_action(self, action):\n",
    "        # apply action\n",
    "        pass\n",
    "    \n",
    "    def _step(self,action):\n",
    "        # apply action and return observation and reward\n",
    "        observation,reward = self._apply_action(action)\n",
    "        return TimeStep(observation, reward)"
   ]
  }
 ],
 "metadata": {
  "kernelspec": {
   "display_name": "Python 3",
   "language": "python",
   "name": "python3"
  },
  "language_info": {
   "codemirror_mode": {
    "name": "ipython",
    "version": 3
   },
   "file_extension": ".py",
   "mimetype": "text/x-python",
   "name": "python",
   "nbconvert_exporter": "python",
   "pygments_lexer": "ipython3",
   "version": "3.7.4"
  }
 },
 "nbformat": 4,
 "nbformat_minor": 4
}
