{
 "cells": [
  {
   "cell_type": "code",
   "execution_count": 4,
   "metadata": {},
   "outputs": [],
   "source": [
    "from tf_agents.policies import tf_policy\n",
    "\n",
    "class MyPolicy(tf_policy.TFPolicy):\n",
    "    \n",
    "    def __init__(self, network):\n",
    "        pass\n",
    "    \n",
    "    def _distribution(self, time_step, policy_state):\n",
    "        logits, next_state = self._network(time_step.observation, policy_state, )\n",
    "        return PolicyStep(tfp.distribution.Categorical(logits),next_state, info={\"logits:\",logits})\n",
    "    "
   ]
  },
  {
   "cell_type": "code",
   "execution_count": null,
   "metadata": {},
   "outputs": [],
   "source": []
  }
 ],
 "metadata": {
  "kernelspec": {
   "display_name": "Python 3",
   "language": "python",
   "name": "python3"
  },
  "language_info": {
   "codemirror_mode": {
    "name": "ipython",
    "version": 3
   },
   "file_extension": ".py",
   "mimetype": "text/x-python",
   "name": "python",
   "nbconvert_exporter": "python",
   "pygments_lexer": "ipython3",
   "version": "3.7.4"
  }
 },
 "nbformat": 4,
 "nbformat_minor": 4
}
