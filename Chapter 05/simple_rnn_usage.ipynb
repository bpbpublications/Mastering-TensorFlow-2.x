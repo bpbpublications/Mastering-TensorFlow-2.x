{
 "cells": [
  {
   "cell_type": "code",
   "execution_count": 3,
   "metadata": {},
   "outputs": [],
   "source": [
    "from tensorflow.python import keras\n",
    "from tensorflow.python.eager import context\n",
    "from tensorflow.python.framework import dtypes\n",
    "from tensorflow.python.framework import test_util as tf_test_util\n",
    "#from tensorflow.python.keras import combinations\n",
    "from tensorflow.python.keras import testing_utils\n",
    "from tensorflow.python.platform import test\n",
    "from tensorflow.python.training import gradient_descent"
   ]
  },
  {
   "cell_type": "code",
   "execution_count": 6,
   "metadata": {},
   "outputs": [
    {
     "data": {
      "text/plain": [
       "0.275797"
      ]
     },
     "execution_count": 6,
     "metadata": {},
     "output_type": "execute_result"
    }
   ],
   "source": [
    "import numpy as np\n",
    "num_samples = 2\n",
    "timesteps = 3\n",
    "embedding_dim = 4\n",
    "units = 2\n",
    "\n",
    "layer = keras.layers.SimpleRNN(units, input_shape=(None, embedding_dim))\n",
    "model = keras.models.Sequential()\n",
    "model.add(layer)\n",
    "model.compile('rmsprop', 'mse')\n",
    "x = np.random.random((num_samples, timesteps, embedding_dim))\n",
    "y = np.random.random((num_samples, units))\n",
    "model.train_on_batch(x, y)"
   ]
  },
  {
   "cell_type": "markdown",
   "metadata": {},
   "source": [
    "## Applying constraints to SimpleRNN"
   ]
  },
  {
   "cell_type": "code",
   "execution_count": 8,
   "metadata": {},
   "outputs": [],
   "source": [
    "embedding_dim = 4\n",
    "layer_class = keras.layers.SimpleRNN\n",
    "k_constraint = keras.constraints.max_norm(0.01)\n",
    "r_constraint = keras.constraints.max_norm(0.01)\n",
    "b_constraint = keras.constraints.max_norm(0.01)\n",
    "layer = layer_class(\n",
    "        5,\n",
    "        return_sequences=False,\n",
    "        weights=None,\n",
    "        input_shape=(None, embedding_dim),\n",
    "        kernel_constraint=k_constraint,\n",
    "        recurrent_constraint=r_constraint,\n",
    "        bias_constraint=b_constraint)\n",
    "layer.build((None, None, embedding_dim))"
   ]
  },
  {
   "cell_type": "markdown",
   "metadata": {},
   "source": [
    "## Masking along with SimpleRNN"
   ]
  },
  {
   "cell_type": "code",
   "execution_count": 14,
   "metadata": {},
   "outputs": [
    {
     "name": "stdout",
     "output_type": "stream",
     "text": [
      "\r",
      "2/2 [==============================] - 1s 494ms/sample - loss: 6.1299\n"
     ]
    },
    {
     "ename": "AttributeError",
     "evalue": "'Masking' object has no attribute '_keras_mask'",
     "output_type": "error",
     "traceback": [
      "\u001b[0;31m---------------------------------------------------------------------------\u001b[0m",
      "\u001b[0;31mAttributeError\u001b[0m                            Traceback (most recent call last)",
      "\u001b[0;32m<ipython-input-14-b70ffc71cd78>\u001b[0m in \u001b[0;36m<module>\u001b[0;34m\u001b[0m\n\u001b[1;32m      8\u001b[0m \u001b[0mmodel\u001b[0m\u001b[0;34m.\u001b[0m\u001b[0mcompile\u001b[0m\u001b[0;34m(\u001b[0m\u001b[0mloss\u001b[0m\u001b[0;34m=\u001b[0m\u001b[0;34m'categorical_crossentropy'\u001b[0m\u001b[0;34m,\u001b[0m \u001b[0moptimizer\u001b[0m\u001b[0;34m=\u001b[0m\u001b[0;34m'rmsprop'\u001b[0m\u001b[0;34m)\u001b[0m\u001b[0;34m\u001b[0m\u001b[0;34m\u001b[0m\u001b[0m\n\u001b[1;32m      9\u001b[0m \u001b[0mmodel\u001b[0m\u001b[0;34m.\u001b[0m\u001b[0mfit\u001b[0m\u001b[0;34m(\u001b[0m\u001b[0minputs\u001b[0m\u001b[0;34m,\u001b[0m \u001b[0mtargets\u001b[0m\u001b[0;34m,\u001b[0m \u001b[0mepochs\u001b[0m\u001b[0;34m=\u001b[0m\u001b[0;36m1\u001b[0m\u001b[0;34m,\u001b[0m \u001b[0mbatch_size\u001b[0m\u001b[0;34m=\u001b[0m\u001b[0;36m2\u001b[0m\u001b[0;34m,\u001b[0m \u001b[0mverbose\u001b[0m\u001b[0;34m=\u001b[0m\u001b[0;36m1\u001b[0m\u001b[0;34m)\u001b[0m\u001b[0;34m\u001b[0m\u001b[0;34m\u001b[0m\u001b[0m\n\u001b[0;32m---> 10\u001b[0;31m \u001b[0mprint\u001b[0m\u001b[0;34m(\u001b[0m\u001b[0mkeras\u001b[0m\u001b[0;34m.\u001b[0m\u001b[0mlayers\u001b[0m\u001b[0;34m.\u001b[0m\u001b[0mMasking\u001b[0m\u001b[0;34m(\u001b[0m\u001b[0minput_shape\u001b[0m\u001b[0;34m=\u001b[0m\u001b[0;34m(\u001b[0m\u001b[0;36m3\u001b[0m\u001b[0;34m,\u001b[0m \u001b[0;36m4\u001b[0m\u001b[0;34m)\u001b[0m\u001b[0;34m)\u001b[0m\u001b[0;34m.\u001b[0m\u001b[0m_keras_mask\u001b[0m\u001b[0;34m)\u001b[0m\u001b[0;34m\u001b[0m\u001b[0;34m\u001b[0m\u001b[0m\n\u001b[0m",
      "\u001b[0;31mAttributeError\u001b[0m: 'Masking' object has no attribute '_keras_mask'"
     ]
    }
   ],
   "source": [
    "layer_class = keras.layers.SimpleRNN\n",
    "inputs = np.random.random((2, 3, 4))\n",
    "targets = np.abs(np.random.random((2, 3, 5)))\n",
    "targets /= targets.sum(axis=-1, keepdims=True)\n",
    "model = keras.models.Sequential()\n",
    "model.add(keras.layers.Masking(input_shape=(3, 4)))\n",
    "model.add(layer_class(units=5, return_sequences=True, unroll=False))\n",
    "model.compile(loss='categorical_crossentropy', optimizer='rmsprop')\n",
    "model.fit(inputs, targets, epochs=1, batch_size=2, verbose=1)\n",
    "print(keras.layers.Masking(input_shape=(3, 4))._keras_mask)"
   ]
  },
  {
   "cell_type": "code",
   "execution_count": null,
   "metadata": {},
   "outputs": [],
   "source": []
  }
 ],
 "metadata": {
  "kernelspec": {
   "display_name": "Python 3",
   "language": "python",
   "name": "python3"
  },
  "language_info": {
   "codemirror_mode": {
    "name": "ipython",
    "version": 3
   },
   "file_extension": ".py",
   "mimetype": "text/x-python",
   "name": "python",
   "nbconvert_exporter": "python",
   "pygments_lexer": "ipython3",
   "version": "3.7.4"
  }
 },
 "nbformat": 4,
 "nbformat_minor": 4
}
