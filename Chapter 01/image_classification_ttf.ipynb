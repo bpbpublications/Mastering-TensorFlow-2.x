{
 "cells": [
  {
   "cell_type": "code",
   "execution_count": 8,
   "metadata": {},
   "outputs": [
    {
     "name": "stdout",
     "output_type": "stream",
     "text": [
      "Requirement already up-to-date: tensorflow_federated in /Users/rdua/opt/anaconda3/lib/python3.7/site-packages (0.11.0)\n",
      "Requirement already satisfied, skipping upgrade: grpcio~=1.24.3 in /Users/rdua/opt/anaconda3/lib/python3.7/site-packages (from tensorflow_federated) (1.24.3)\n",
      "Requirement already satisfied, skipping upgrade: tensorflow-model-optimization~=0.1.3 in /Users/rdua/opt/anaconda3/lib/python3.7/site-packages (from tensorflow_federated) (0.1.3)\n",
      "Requirement already satisfied, skipping upgrade: tensorflow-addons~=0.6.0 in /Users/rdua/opt/anaconda3/lib/python3.7/site-packages (from tensorflow_federated) (0.6.0)\n",
      "Requirement already satisfied, skipping upgrade: six~=1.10 in /Users/rdua/opt/anaconda3/lib/python3.7/site-packages (from tensorflow_federated) (1.12.0)\n",
      "Requirement already satisfied, skipping upgrade: retrying~=1.3.3 in /Users/rdua/opt/anaconda3/lib/python3.7/site-packages (from tensorflow_federated) (1.3.3)\n",
      "Requirement already satisfied, skipping upgrade: attrs~=18.2 in /Users/rdua/opt/anaconda3/lib/python3.7/site-packages (from tensorflow_federated) (18.2.0)\n",
      "Requirement already satisfied, skipping upgrade: absl-py~=0.7 in /Users/rdua/opt/anaconda3/lib/python3.7/site-packages (from tensorflow_federated) (0.8.1)\n",
      "Requirement already satisfied, skipping upgrade: h5py~=2.6 in /Users/rdua/opt/anaconda3/lib/python3.7/site-packages (from tensorflow_federated) (2.9.0)\n",
      "Requirement already satisfied, skipping upgrade: portpicker~=1.3.1 in /Users/rdua/opt/anaconda3/lib/python3.7/site-packages (from tensorflow_federated) (1.3.1)\n",
      "Requirement already satisfied, skipping upgrade: tensorflow~=2.0.0 in /Users/rdua/opt/anaconda3/lib/python3.7/site-packages (from tensorflow_federated) (2.0.0)\n",
      "Requirement already satisfied, skipping upgrade: numpy~=1.14 in /Users/rdua/opt/anaconda3/lib/python3.7/site-packages (from tensorflow_federated) (1.17.2)\n",
      "Requirement already satisfied, skipping upgrade: enum34~=1.1 in /Users/rdua/opt/anaconda3/lib/python3.7/site-packages (from tensorflow_federated) (1.1.6)\n",
      "Requirement already satisfied, skipping upgrade: dm-tree~=0.1.1 in /Users/rdua/opt/anaconda3/lib/python3.7/site-packages (from tensorflow_federated) (0.1.1)\n",
      "Requirement already satisfied, skipping upgrade: tensorflow-privacy~=0.2.0 in /Users/rdua/opt/anaconda3/lib/python3.7/site-packages (from tensorflow_federated) (0.2.2)\n",
      "Requirement already satisfied, skipping upgrade: cachetools~=3.1.1 in /Users/rdua/opt/anaconda3/lib/python3.7/site-packages (from tensorflow_federated) (3.1.1)\n",
      "Requirement already satisfied, skipping upgrade: protobuf>=3.6.1 in /Users/rdua/opt/anaconda3/lib/python3.7/site-packages (from tensorflow~=2.0.0->tensorflow_federated) (3.10.0)\n",
      "Requirement already satisfied, skipping upgrade: wheel>=0.26 in /Users/rdua/opt/anaconda3/lib/python3.7/site-packages (from tensorflow~=2.0.0->tensorflow_federated) (0.33.6)\n",
      "Requirement already satisfied, skipping upgrade: keras-preprocessing>=1.0.5 in /Users/rdua/opt/anaconda3/lib/python3.7/site-packages (from tensorflow~=2.0.0->tensorflow_federated) (1.1.0)\n",
      "Requirement already satisfied, skipping upgrade: keras-applications>=1.0.8 in /Users/rdua/opt/anaconda3/lib/python3.7/site-packages (from tensorflow~=2.0.0->tensorflow_federated) (1.0.8)\n",
      "Requirement already satisfied, skipping upgrade: opt-einsum>=2.3.2 in /Users/rdua/opt/anaconda3/lib/python3.7/site-packages (from tensorflow~=2.0.0->tensorflow_federated) (3.1.0)\n",
      "Requirement already satisfied, skipping upgrade: gast==0.2.2 in /Users/rdua/opt/anaconda3/lib/python3.7/site-packages (from tensorflow~=2.0.0->tensorflow_federated) (0.2.2)\n",
      "Requirement already satisfied, skipping upgrade: tensorboard<2.1.0,>=2.0.0 in /Users/rdua/opt/anaconda3/lib/python3.7/site-packages (from tensorflow~=2.0.0->tensorflow_federated) (2.0.1)\n",
      "Requirement already satisfied, skipping upgrade: termcolor>=1.1.0 in /Users/rdua/opt/anaconda3/lib/python3.7/site-packages (from tensorflow~=2.0.0->tensorflow_federated) (1.1.0)\n",
      "Requirement already satisfied, skipping upgrade: tensorflow-estimator<2.1.0,>=2.0.0 in /Users/rdua/opt/anaconda3/lib/python3.7/site-packages (from tensorflow~=2.0.0->tensorflow_federated) (2.0.1)\n",
      "Requirement already satisfied, skipping upgrade: wrapt>=1.11.1 in /Users/rdua/opt/anaconda3/lib/python3.7/site-packages (from tensorflow~=2.0.0->tensorflow_federated) (1.11.2)\n",
      "Requirement already satisfied, skipping upgrade: astor>=0.6.0 in /Users/rdua/opt/anaconda3/lib/python3.7/site-packages (from tensorflow~=2.0.0->tensorflow_federated) (0.8.0)\n",
      "Requirement already satisfied, skipping upgrade: google-pasta>=0.1.6 in /Users/rdua/opt/anaconda3/lib/python3.7/site-packages (from tensorflow~=2.0.0->tensorflow_federated) (0.1.8)\n",
      "Requirement already satisfied, skipping upgrade: scipy>=0.17 in /Users/rdua/opt/anaconda3/lib/python3.7/site-packages (from tensorflow-privacy~=0.2.0->tensorflow_federated) (1.3.1)\n",
      "Requirement already satisfied, skipping upgrade: mpmath in /Users/rdua/opt/anaconda3/lib/python3.7/site-packages (from tensorflow-privacy~=0.2.0->tensorflow_federated) (1.1.0)\n",
      "Requirement already satisfied, skipping upgrade: setuptools in /Users/rdua/opt/anaconda3/lib/python3.7/site-packages (from protobuf>=3.6.1->tensorflow~=2.0.0->tensorflow_federated) (41.4.0)\n",
      "Requirement already satisfied, skipping upgrade: google-auth-oauthlib<0.5,>=0.4.1 in /Users/rdua/opt/anaconda3/lib/python3.7/site-packages (from tensorboard<2.1.0,>=2.0.0->tensorflow~=2.0.0->tensorflow_federated) (0.4.1)\n",
      "Requirement already satisfied, skipping upgrade: markdown>=2.6.8 in /Users/rdua/opt/anaconda3/lib/python3.7/site-packages (from tensorboard<2.1.0,>=2.0.0->tensorflow~=2.0.0->tensorflow_federated) (3.1.1)\n",
      "Requirement already satisfied, skipping upgrade: google-auth<2,>=1.6.3 in /Users/rdua/opt/anaconda3/lib/python3.7/site-packages (from tensorboard<2.1.0,>=2.0.0->tensorflow~=2.0.0->tensorflow_federated) (1.7.1)\n",
      "Requirement already satisfied, skipping upgrade: werkzeug>=0.11.15 in /Users/rdua/opt/anaconda3/lib/python3.7/site-packages (from tensorboard<2.1.0,>=2.0.0->tensorflow~=2.0.0->tensorflow_federated) (0.16.0)\n",
      "Requirement already satisfied, skipping upgrade: requests-oauthlib>=0.7.0 in /Users/rdua/opt/anaconda3/lib/python3.7/site-packages (from google-auth-oauthlib<0.5,>=0.4.1->tensorboard<2.1.0,>=2.0.0->tensorflow~=2.0.0->tensorflow_federated) (1.3.0)\n",
      "Requirement already satisfied, skipping upgrade: pyasn1-modules>=0.2.1 in /Users/rdua/opt/anaconda3/lib/python3.7/site-packages (from google-auth<2,>=1.6.3->tensorboard<2.1.0,>=2.0.0->tensorflow~=2.0.0->tensorflow_federated) (0.2.7)\n",
      "Requirement already satisfied, skipping upgrade: rsa<4.1,>=3.1.4 in /Users/rdua/opt/anaconda3/lib/python3.7/site-packages (from google-auth<2,>=1.6.3->tensorboard<2.1.0,>=2.0.0->tensorflow~=2.0.0->tensorflow_federated) (4.0)\n",
      "Requirement already satisfied, skipping upgrade: requests>=2.0.0 in /Users/rdua/opt/anaconda3/lib/python3.7/site-packages (from requests-oauthlib>=0.7.0->google-auth-oauthlib<0.5,>=0.4.1->tensorboard<2.1.0,>=2.0.0->tensorflow~=2.0.0->tensorflow_federated) (2.22.0)\n",
      "Requirement already satisfied, skipping upgrade: oauthlib>=3.0.0 in /Users/rdua/opt/anaconda3/lib/python3.7/site-packages (from requests-oauthlib>=0.7.0->google-auth-oauthlib<0.5,>=0.4.1->tensorboard<2.1.0,>=2.0.0->tensorflow~=2.0.0->tensorflow_federated) (3.1.0)\n",
      "Requirement already satisfied, skipping upgrade: pyasn1<0.5.0,>=0.4.6 in /Users/rdua/opt/anaconda3/lib/python3.7/site-packages (from pyasn1-modules>=0.2.1->google-auth<2,>=1.6.3->tensorboard<2.1.0,>=2.0.0->tensorflow~=2.0.0->tensorflow_federated) (0.4.8)\n",
      "Requirement already satisfied, skipping upgrade: idna<2.9,>=2.5 in /Users/rdua/opt/anaconda3/lib/python3.7/site-packages (from requests>=2.0.0->requests-oauthlib>=0.7.0->google-auth-oauthlib<0.5,>=0.4.1->tensorboard<2.1.0,>=2.0.0->tensorflow~=2.0.0->tensorflow_federated) (2.8)\n",
      "Requirement already satisfied, skipping upgrade: urllib3!=1.25.0,!=1.25.1,<1.26,>=1.21.1 in /Users/rdua/opt/anaconda3/lib/python3.7/site-packages (from requests>=2.0.0->requests-oauthlib>=0.7.0->google-auth-oauthlib<0.5,>=0.4.1->tensorboard<2.1.0,>=2.0.0->tensorflow~=2.0.0->tensorflow_federated) (1.24.2)\n",
      "Requirement already satisfied, skipping upgrade: chardet<3.1.0,>=3.0.2 in /Users/rdua/opt/anaconda3/lib/python3.7/site-packages (from requests>=2.0.0->requests-oauthlib>=0.7.0->google-auth-oauthlib<0.5,>=0.4.1->tensorboard<2.1.0,>=2.0.0->tensorflow~=2.0.0->tensorflow_federated) (3.0.4)\n",
      "Requirement already satisfied, skipping upgrade: certifi>=2017.4.17 in /Users/rdua/opt/anaconda3/lib/python3.7/site-packages (from requests>=2.0.0->requests-oauthlib>=0.7.0->google-auth-oauthlib<0.5,>=0.4.1->tensorboard<2.1.0,>=2.0.0->tensorflow~=2.0.0->tensorflow_federated) (2019.9.11)\n"
     ]
    }
   ],
   "source": [
    "!python3 -m pip install --upgrade tensorflow_federated"
   ]
  },
  {
   "cell_type": "code",
   "execution_count": 13,
   "metadata": {},
   "outputs": [
    {
     "name": "stdout",
     "output_type": "stream",
     "text": [
      "0.11.0\n"
     ]
    }
   ],
   "source": [
    "import tensorflow as tf\n",
    "import tensorflow_federated as tff\n",
    "print(tff.__version__)"
   ]
  },
  {
   "cell_type": "code",
   "execution_count": 18,
   "metadata": {},
   "outputs": [],
   "source": [
    "# = tff.simulation.datasets.emnist.load_data();\n",
    "emnist_train, emnist_test = tff.simulation.datasets.emnist.load_data()"
   ]
  },
  {
   "cell_type": "code",
   "execution_count": null,
   "metadata": {},
   "outputs": [],
   "source": []
  }
 ],
 "metadata": {
  "kernelspec": {
   "display_name": "Python 3",
   "language": "python",
   "name": "python3"
  },
  "language_info": {
   "codemirror_mode": {
    "name": "ipython",
    "version": 3
   },
   "file_extension": ".py",
   "mimetype": "text/x-python",
   "name": "python",
   "nbconvert_exporter": "python",
   "pygments_lexer": "ipython3",
   "version": "3.7.4"
  }
 },
 "nbformat": 4,
 "nbformat_minor": 2
}
