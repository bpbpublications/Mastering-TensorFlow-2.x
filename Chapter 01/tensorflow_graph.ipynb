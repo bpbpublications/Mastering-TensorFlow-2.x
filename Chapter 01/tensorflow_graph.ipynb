{
 "cells": [
  {
   "cell_type": "code",
   "execution_count": null,
   "metadata": {},
   "outputs": [],
   "source": [
    "# reference https://www.tensorflow.org/tensorboard/graphs\n",
    "import tensorflow as tf"
   ]
  },
  {
   "cell_type": "code",
   "execution_count": 4,
   "metadata": {},
   "outputs": [],
   "source": [
    "#!python3 -m pip install tensorboard\n",
    "!rm -rf ./logs/func"
   ]
  },
  {
   "cell_type": "code",
   "execution_count": 5,
   "metadata": {},
   "outputs": [],
   "source": [
    "# The function to be traced.\n",
    "from datetime import datetime \n",
    "@tf.function\n",
    "def my_func(A,x,b):\n",
    "  y = tf.add(tf.matmul(A, x), b, name=\"result\")\n",
    "  return y\n",
    "\n",
    "# Set up logging.\n",
    "stamp = datetime.now().strftime(\"%Y%m%d-%H%M%S\")\n",
    "logdir = './logs/func/%s' % stamp\n",
    "writer = tf.summary.create_file_writer(logdir)\n",
    "\n",
    "A = tf.constant([[1, 2], [3, 4]], dtype=tf.float32)\n",
    "x = tf.constant([[0, 10], [0, 0.5]])\n",
    "b = tf.constant([[1, -1]], dtype=tf.float32)\n",
    "\n",
    "# Bracket the function call with\n",
    "# tf.summary.trace_on() and tf.summary.trace_export().\n",
    "tf.summary.trace_on(graph=True, profiler=True)\n",
    "# Call only one tf.function when tracing.\n",
    "y = my_func(A,x,b)\n",
    "with writer.as_default():\n",
    "  tf.summary.trace_export(\n",
    "      name=\"my_func_trace\",\n",
    "      step=0,\n",
    "      profiler_outdir=logdir)"
   ]
  },
  {
   "cell_type": "code",
   "execution_count": null,
   "metadata": {},
   "outputs": [
    {
     "name": "stdout",
     "output_type": "stream",
     "text": [
      "Serving TensorBoard on localhost; to expose to the network, use a proxy or pass --bind_all\n",
      "TensorBoard 2.0.1 at http://localhost:6006/ (Press CTRL+C to quit)\n",
      "W0201 16:44:19.707226 123145421570048 application.py:425] path /data/plugin/debugger/health_pills not found, sending 404\n",
      "E0201 16:44:19.707968 123145421570048 _internal.py:122] 127.0.0.1 - - [01/Feb/2020 16:44:19] code 400, message Bad request syntax ('------WebKitFormBoundaryy21VjUJuq03L12B7')\n",
      "W0201 16:44:19.708456 123145400549376 application.py:425] path /data/plugin/debugger/numerics_alert_report not found, sending 404\n",
      "W0201 16:44:19.712585 123145400549376 application.py:425] path /data/plugin/debugger/health_pills not found, sending 404\n",
      "E0201 16:44:19.713407 123145400549376 _internal.py:122] 127.0.0.1 - - [01/Feb/2020 16:44:19] code 400, message Bad request syntax ('------WebKitFormBoundarylFbgt7iesq0q573y')\n",
      "W0201 16:44:19.724035 123145416314880 application.py:425] path /data/plugin/debugger/numerics_alert_report not found, sending 404\n",
      "W0201 16:44:19.726779 123145416314880 application.py:425] path /data/plugin/debugger/health_pills not found, sending 404\n",
      "W0201 16:44:19.728089 123145395294208 application.py:425] path /data/plugin/debugger/numerics_alert_report not found, sending 404\n",
      "E0201 16:44:19.728380 123145416314880 _internal.py:122] 127.0.0.1 - - [01/Feb/2020 16:44:19] code 400, message Bad request syntax ('------WebKitFormBoundaryjqMRPDyg5KZrz4CI')\n",
      "W0201 16:44:19.732921 123145395294208 application.py:425] path /data/plugin/debugger/health_pills not found, sending 404\n",
      "E0201 16:44:19.733906 123145395294208 _internal.py:122] 127.0.0.1 - - [01/Feb/2020 16:44:19] code 400, message Bad request syntax ('------WebKitFormBoundary6gnxQAtAWV6Rcgea')\n",
      "W0201 16:44:19.734903 123145400549376 application.py:425] path /data/plugin/debugger/numerics_alert_report not found, sending 404\n"
     ]
    }
   ],
   "source": [
    "!tensorboard --logdir ./logs/func/"
   ]
  },
  {
   "cell_type": "code",
   "execution_count": null,
   "metadata": {},
   "outputs": [],
   "source": []
  }
 ],
 "metadata": {
  "kernelspec": {
   "display_name": "Python 3",
   "language": "python",
   "name": "python3"
  },
  "language_info": {
   "codemirror_mode": {
    "name": "ipython",
    "version": 3
   },
   "file_extension": ".py",
   "mimetype": "text/x-python",
   "name": "python",
   "nbconvert_exporter": "python",
   "pygments_lexer": "ipython3",
   "version": "3.7.4"
  }
 },
 "nbformat": 4,
 "nbformat_minor": 2
}
