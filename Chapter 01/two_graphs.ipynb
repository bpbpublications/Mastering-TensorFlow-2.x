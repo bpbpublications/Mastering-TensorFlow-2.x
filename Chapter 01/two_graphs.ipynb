{
 "cells": [
  {
   "cell_type": "code",
   "execution_count": 1,
   "metadata": {},
   "outputs": [],
   "source": [
    "import tensorflow as tf"
   ]
  },
  {
   "cell_type": "code",
   "execution_count": 2,
   "metadata": {},
   "outputs": [
    {
     "name": "stdout",
     "output_type": "stream",
     "text": [
      "Tensor(\"scope_a/x:0\", shape=(), dtype=int32)\n",
      "Tensor(\"scope_b/x:0\", shape=(), dtype=int32)\n"
     ]
    }
   ],
   "source": [
    "graph1 = tf.Graph()\n",
    "graph2 = tf.Graph()\n",
    "\n",
    "with graph1.as_default():\n",
    "    A = tf.constant([[1, 2], [3, 4]], dtype=tf.float32)\n",
    "    x = tf.constant([[0, 10], [0, 0.5]])\n",
    "    b = tf.constant([[1, -1]], dtype=tf.float32)\n",
    "    y = tf.add(tf.matmul(A, x), b, name=\"result\")\n",
    "\n",
    "with graph2.as_default():\n",
    "    with tf.name_scope(\"scope_a\"):\n",
    "        x = tf.constant(1, name=\"x\")\n",
    "        print(x)\n",
    "    with tf.name_scope(\"scope_b\"):\n",
    "        x = tf.constant(10, name=\"x\")\n",
    "        print(x)\n",
    "    y = tf.constant(12)\n",
    "    z = x * y"
   ]
  },
  {
   "cell_type": "code",
   "execution_count": null,
   "metadata": {},
   "outputs": [],
   "source": []
  }
 ],
 "metadata": {
  "kernelspec": {
   "display_name": "Python 3",
   "language": "python",
   "name": "python3"
  },
  "language_info": {
   "codemirror_mode": {
    "name": "ipython",
    "version": 3
   },
   "file_extension": ".py",
   "mimetype": "text/x-python",
   "name": "python",
   "nbconvert_exporter": "python",
   "pygments_lexer": "ipython3",
   "version": "3.7.4"
  }
 },
 "nbformat": 4,
 "nbformat_minor": 2
}
