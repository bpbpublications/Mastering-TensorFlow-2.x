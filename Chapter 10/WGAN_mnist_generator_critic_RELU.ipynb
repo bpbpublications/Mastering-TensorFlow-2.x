{
 "cells": [
  {
   "cell_type": "markdown",
   "metadata": {
    "colab_type": "text",
    "id": "view-in-github"
   },
   "source": [
    "<a href=\"https://colab.research.google.com/github/rajdeepd/tensorflow_2.0_book_code/blob/master/ch08/WGAN_mnist_example2.ipynb\" target=\"_parent\"><img src=\"https://colab.research.google.com/assets/colab-badge.svg\" alt=\"Open In Colab\"/></a>"
   ]
  },
  {
   "cell_type": "code",
   "execution_count": 1,
   "metadata": {
    "id": "LBWSmkvm4f9K"
   },
   "outputs": [],
   "source": [
    "# example of a wgan for generating handwritten digits\n",
    "from numpy import expand_dims\n",
    "from numpy import mean\n",
    "from numpy import ones\n",
    "from numpy.random import randn\n",
    "from numpy.random import randint\n",
    "from tensorflow.keras.datasets.mnist import load_data\n",
    "from tensorflow.keras import backend\n",
    "from tensorflow.keras.optimizers import RMSprop\n",
    "from tensorflow.keras.models import Sequential\n",
    "from tensorflow.keras.layers import Dense\n",
    "from tensorflow.keras.layers import Reshape\n",
    "from tensorflow.keras.layers import Flatten\n",
    "from tensorflow.keras.layers import Conv2D\n",
    "from tensorflow.keras.layers import Conv2DTranspose\n",
    "from tensorflow.keras.layers import LeakyReLU\n",
    "from tensorflow.keras.layers import ReLU\n",
    "from tensorflow.keras.layers import BatchNormalization\n",
    "from tensorflow.keras.initializers import RandomNormal\n",
    "from tensorflow.keras.constraints import Constraint\n",
    "from matplotlib import pyplot"
   ]
  },
  {
   "cell_type": "code",
   "execution_count": 2,
   "metadata": {
    "id": "xzRLjn8d45xV"
   },
   "outputs": [],
   "source": [
    "# clip model weights to a given hypercube\n",
    "class ClipConstraint(Constraint):\n",
    "    # set clip value when initialized\n",
    "    def __init__(self, clip_value):\n",
    "        self.clip_value = clip_value\n",
    "\n",
    "    # clip model weights to hypercube\n",
    "    def __call__(self, weights):\n",
    "        return backend.clip(weights, -self.clip_value, self.clip_value)\n",
    "\n",
    "    # get the config\n",
    "    def get_config(self):\n",
    "        return {'clip_value': self.clip_value}\n"
   ]
  },
  {
   "cell_type": "code",
   "execution_count": 3,
   "metadata": {
    "id": "8De_MLNz4_X7"
   },
   "outputs": [],
   "source": [
    "# calculate wasserstein loss\n",
    "def wasserstein_loss(y_true, y_pred):\n",
    "    return backend.mean(y_true * y_pred)"
   ]
  },
  {
   "cell_type": "code",
   "execution_count": 15,
   "metadata": {
    "id": "S7_QS_Ff5Fpj"
   },
   "outputs": [],
   "source": [
    "# define the critic model\n",
    "def make_critic(in_shape=(28,28,1)):\n",
    "    # weight initialization\n",
    "    init = RandomNormal(stddev=0.02)\n",
    "    # weight constraint\n",
    "    const = ClipConstraint(0.01)\n",
    "    # define model\n",
    "    model = Sequential()\n",
    "    # downsample to 14x14\n",
    "    model.add(Conv2D(64, (4,4), strides=(2,2), padding='same', kernel_initializer=init, kernel_constraint=const, input_shape=in_shape))\n",
    "    model.add(BatchNormalization())\n",
    "    model.add(ReLU())\n",
    "    # downsample to 7x7\n",
    "    model.add(Conv2D(64, (4,4), strides=(2,2), padding='same', kernel_initializer=init, kernel_constraint=const))\n",
    "    model.add(BatchNormalization())\n",
    "    model.add(ReLU())\n",
    "    # scoring, linear activation\n",
    "    model.add(Flatten())\n",
    "    model.add(Dense(1))\n",
    "    # compile model\n",
    "    opt = RMSprop(lr=0.00005)\n",
    "    model.compile(loss=wasserstein_loss, optimizer=opt)\n",
    "    model.summary()\n",
    "    return model\n",
    "\n",
    "# define the standalone generator model\n",
    "def make_generator(latent_dim):\n",
    "    # weight initialization\n",
    "    init = RandomNormal(stddev=0.02)\n",
    "    # define model\n",
    "    model = Sequential()\n",
    "    # foundation for 7x7 image\n",
    "    n_nodes = 128 * 7 * 7\n",
    "    model.add(Dense(n_nodes, kernel_initializer=init, input_dim=latent_dim))\n",
    "    model.add(ReLU())\n",
    "    model.add(Reshape((7, 7, 128)))\n",
    "    # upsample to 14x14\n",
    "    model.add(Conv2DTranspose(128, (4,4), strides=(2,2), padding='same', kernel_initializer=init))\n",
    "    model.add(BatchNormalization())\n",
    "    model.add(ReLU())\n",
    "    # upsample to 28x28\n",
    "    model.add(Conv2DTranspose(128, (4,4), strides=(2,2), padding='same', kernel_initializer=init))\n",
    "    model.add(BatchNormalization())\n",
    "    model.add(ReLU())\n",
    "    # output 28x28x1\n",
    "    model.add(Conv2D(1, (7,7), activation='tanh', padding='same', kernel_initializer=init))\n",
    "    model.summary()\n",
    "    return model"
   ]
  },
  {
   "cell_type": "code",
   "execution_count": 16,
   "metadata": {
    "id": "v2LmRAc_5Oe4"
   },
   "outputs": [],
   "source": [
    "# define the combined generator and critic model, for updating the generator\n",
    "def make_gan(generator, critic):\n",
    "    # make weights in the critic not trainable\n",
    "    critic.trainable = False\n",
    "    # connect them\n",
    "    model = Sequential()\n",
    "    # add generator\n",
    "    model.add(generator)\n",
    "    # add the critic\n",
    "    model.add(critic)\n",
    "    # compile model\n",
    "    opt = RMSprop(lr=0.00005)\n",
    "    model.compile(loss=wasserstein_loss, optimizer=opt)\n",
    "    return model"
   ]
  },
  {
   "cell_type": "code",
   "execution_count": 17,
   "metadata": {
    "id": "kfNcKECN5UEW"
   },
   "outputs": [],
   "source": [
    "# load images\n",
    "def load_real_samples():\n",
    "    # load dataset\n",
    "    (trainX, trainy), (_, _) = load_data()\n",
    "    # select all of the examples for a given class\n",
    "    selected_ix = trainy == 7\n",
    "    X = trainX[selected_ix]\n",
    "    # expand to 3d, e.g. add channels\n",
    "    X = expand_dims(X, axis=-1)\n",
    "    # convert from ints to floats\n",
    "    X = X.astype('float32')\n",
    "    # scale from [0,255] to [-1,1]\n",
    "    X = (X - 127.5) / 127.5\n",
    "    return X"
   ]
  },
  {
   "cell_type": "code",
   "execution_count": 18,
   "metadata": {
    "id": "EghSvzEo5hG-"
   },
   "outputs": [],
   "source": [
    "# select real samples\n",
    "def generate_real_samples(dataset, n_samples):\n",
    "    # choose random instances\n",
    "    ix = randint(0, dataset.shape[0], n_samples)\n",
    "    # select images\n",
    "    X = dataset[ix]\n",
    "    # generate class labels, -1 for 'real'\n",
    "    y = -ones((n_samples, 1))\n",
    "    return X, y\n"
   ]
  },
  {
   "cell_type": "code",
   "execution_count": 19,
   "metadata": {
    "id": "8yw2Ez36KuqZ"
   },
   "outputs": [],
   "source": [
    "# generate points in latent space as input for the generator\n",
    "def generate_latent_points(latent_dim, n_samples):\n",
    "    # generate points in the latent space\n",
    "    x_input = randn(latent_dim * n_samples)\n",
    "    # reshape into a batch of inputs for the network\n",
    "    x_input = x_input.reshape(n_samples, latent_dim)\n",
    "    return x_input"
   ]
  },
  {
   "cell_type": "code",
   "execution_count": 20,
   "metadata": {
    "id": "Y4Zii7dvKy2r"
   },
   "outputs": [],
   "source": [
    "# use the generator to generate n fake examples, with class labels\n",
    "def generate_fake_samples(generator, latent_dim, n_samples):\n",
    "    # generate points in latent space\n",
    "    x_input = generate_latent_points(latent_dim, n_samples)\n",
    "    # predict outputs\n",
    "    X = generator.predict(x_input)\n",
    "    # create class labels with 1.0 for 'fake'\n",
    "    y = ones((n_samples, 1))\n",
    "    return X, y"
   ]
  },
  {
   "cell_type": "code",
   "execution_count": 21,
   "metadata": {
    "id": "xITwykPOK3O3"
   },
   "outputs": [],
   "source": [
    "# generate samples and save as a plot and save the model\n",
    "def summarize_performance(step, g_model, latent_dim, n_samples=100):\n",
    "    # prepare fake examples\n",
    "    X, _ = generate_fake_samples(g_model, latent_dim, n_samples)\n",
    "    # scale from [-1,1] to [0,1]\n",
    "    X = (X + 1) / 2.0\n",
    "    # plot images\n",
    "    for i in range(10 * 10):\n",
    "        # define subplot\n",
    "        pyplot.subplot(10, 10, 1 + i)\n",
    "        # turn off axis\n",
    "        pyplot.axis('off')\n",
    "        # plot raw pixel data\n",
    "        pyplot.imshow(X[i, :, :, 0], cmap='gray_r')\n",
    "    # save plot to file\n",
    "    filename1 = 'generated_plot_%04d.png' % (step+1)\n",
    "    pyplot.savefig(filename1)\n",
    "    pyplot.close()\n",
    "    # save the generator model\n",
    "    filename2 = 'model_%04d.h5' % (step+1)\n",
    "    g_model.save(filename2)\n",
    "    print('>Saved: %s and %s' % (filename1, filename2))"
   ]
  },
  {
   "cell_type": "code",
   "execution_count": 33,
   "metadata": {
    "id": "Yhmj3qmHK4vW"
   },
   "outputs": [],
   "source": [
    "# create a line plot of loss for the gan and save to file\n",
    "%matplotlib inline\n",
    "def plot_history(d1_hist, d2_hist, g_hist):\n",
    "    # plot history\n",
    "    pyplot.plot(d1_hist, label='crit_real')\n",
    "    pyplot.plot(d2_hist, label='crit_fake')\n",
    "    pyplot.plot(g_hist, label='gen')\n",
    "    pyplot.legend()\n",
    "    pyplot.title('WGAN - ReLU')\n",
    "    pyplot.show()\n",
    "    pyplot.savefig('plot_wgan_line_plot_loss.png')\n",
    "    pyplot.close()"
   ]
  },
  {
   "cell_type": "code",
   "execution_count": 25,
   "metadata": {
    "id": "RYnFW4OOLCwN"
   },
   "outputs": [
    {
     "name": "stdout",
     "output_type": "stream",
     "text": [
      "2021-01-18 20:15:37\n",
      "wgan_losses_relu_2021-01-18 20:15:37.csv\n"
     ]
    }
   ],
   "source": [
    "# train the generator and critic\n",
    "from datetime import datetime\n",
    "now = datetime.now().strftime(\"%Y-%m-%d %H:%M:%S\")\n",
    "print(now)\n",
    "filename = 'wgan_losses_relu_' + now + '.csv'\n",
    "print(filename)\n",
    "file = open(filename, 'w+', newline ='\\n') \n",
    "\n",
    "def train(g_model, c_model, gan_model, dataset, latent_dim, n_epochs=1, n_batch=64, n_critic=5):\n",
    "    # calculate the number of batches per training epoch\n",
    "    bat_per_epo = int(dataset.shape[0] / n_batch)\n",
    "    # calculate the nufile = open('g4g.csv', 'w+', newline ='') mber of training iterations\n",
    "    n_steps = bat_per_epo * n_epochs\n",
    "    # calculate the size of half a batch of samples\n",
    "    half_batch = int(n_batch / 2)\n",
    "    # lists for keeping track of loss\n",
    "    c1_hist, c2_hist, g_hist = list(), list(), list()\n",
    "    # manually enumerate epochs\n",
    "    for i in range(n_steps):\n",
    "        # update the critic more than the generator\n",
    "        c1_tmp, c2_tmp = list(), list()\n",
    "        for _ in range(n_critic):\n",
    "            # get randomly selected 'real' samples\n",
    "            X_real, y_real = generate_real_samples(dataset, half_batch)\n",
    "            # update critic model weights\n",
    "            c_loss1 = c_model.train_on_batch(X_real, y_real)\n",
    "            c1_tmp.append(c_loss1)\n",
    "            # generate 'fake' examples\n",
    "            X_fake, y_fake = generate_fake_samples(g_model, latent_dim, half_batch)\n",
    "            # update critic model weights\n",
    "            c_loss2 = c_model.train_on_batch(X_fake, y_fake)\n",
    "            c2_tmp.append(c_loss2)\n",
    "        # store critic loss\n",
    "        c1_hist.append(mean(c1_tmp))\n",
    "        c2_hist.append(mean(c2_tmp))\n",
    "        # prepare points in latent space as input for the generator\n",
    "        X_gan = generate_latent_points(latent_dim, n_batch)\n",
    "        # create inverted labels for the fake samples\n",
    "        y_gan = -ones((n_batch, 1))\n",
    "        # update the generator via the critic's error\n",
    "        g_loss = gan_model.train_on_batch(X_gan, y_gan)\n",
    "        g_hist.append(g_loss)\n",
    "        # summarize loss on this batch\n",
    "        print('>%d, c1=%.3f, c2=%.3f g=%.3f' % (i+1, c1_hist[-1], c2_hist[-1], g_loss))\n",
    "        file.write(str(i+1) + \", \" + str(c1_hist[-1]) + \", \" + str(c2_hist[-1]) + \", \" + str(g_loss) + \"\\n\" )\n",
    "        file.flush()\n",
    "        \n",
    "        # evaluate the model performance every 'epoch'\n",
    "        if (i+1) % bat_per_epo == 0:\n",
    "            summarize_performance(i, g_model, latent_dim)\n",
    "    #return 1\n",
    "    #file.close()\n",
    "    return c1_hist, c2_hist, g_hist\n",
    "    # line plots of loss"
   ]
  },
  {
   "cell_type": "code",
   "execution_count": 26,
   "metadata": {
    "colab": {
     "base_uri": "https://localhost:8080/"
    },
    "id": "dyZTceybLGxr",
    "outputId": "bbc41e7e-b06c-4ba3-fe4b-bef3ae688a5a"
   },
   "outputs": [
    {
     "name": "stdout",
     "output_type": "stream",
     "text": [
      "Model: \"sequential_4\"\n",
      "_________________________________________________________________\n",
      "Layer (type)                 Output Shape              Param #   \n",
      "=================================================================\n",
      "conv2d_4 (Conv2D)            (None, 14, 14, 64)        1088      \n",
      "_________________________________________________________________\n",
      "batch_normalization_5 (Batch (None, 14, 14, 64)        256       \n",
      "_________________________________________________________________\n",
      "re_lu_5 (ReLU)               (None, 14, 14, 64)        0         \n",
      "_________________________________________________________________\n",
      "conv2d_5 (Conv2D)            (None, 7, 7, 64)          65600     \n",
      "_________________________________________________________________\n",
      "batch_normalization_6 (Batch (None, 7, 7, 64)          256       \n",
      "_________________________________________________________________\n",
      "re_lu_6 (ReLU)               (None, 7, 7, 64)          0         \n",
      "_________________________________________________________________\n",
      "flatten_1 (Flatten)          (None, 3136)              0         \n",
      "_________________________________________________________________\n",
      "dense_2 (Dense)              (None, 1)                 3137      \n",
      "=================================================================\n",
      "Total params: 70,337\n",
      "Trainable params: 70,081\n",
      "Non-trainable params: 256\n",
      "_________________________________________________________________\n",
      "Model: \"sequential_5\"\n",
      "_________________________________________________________________\n",
      "Layer (type)                 Output Shape              Param #   \n",
      "=================================================================\n",
      "dense_3 (Dense)              (None, 6272)              319872    \n",
      "_________________________________________________________________\n",
      "re_lu_7 (ReLU)               (None, 6272)              0         \n",
      "_________________________________________________________________\n",
      "reshape_1 (Reshape)          (None, 7, 7, 128)         0         \n",
      "_________________________________________________________________\n",
      "conv2d_transpose_2 (Conv2DTr (None, 14, 14, 128)       262272    \n",
      "_________________________________________________________________\n",
      "batch_normalization_7 (Batch (None, 14, 14, 128)       512       \n",
      "_________________________________________________________________\n",
      "re_lu_8 (ReLU)               (None, 14, 14, 128)       0         \n",
      "_________________________________________________________________\n",
      "conv2d_transpose_3 (Conv2DTr (None, 28, 28, 128)       262272    \n",
      "_________________________________________________________________\n",
      "batch_normalization_8 (Batch (None, 28, 28, 128)       512       \n",
      "_________________________________________________________________\n",
      "re_lu_9 (ReLU)               (None, 28, 28, 128)       0         \n",
      "_________________________________________________________________\n",
      "conv2d_6 (Conv2D)            (None, 28, 28, 1)         6273      \n",
      "=================================================================\n",
      "Total params: 851,713\n",
      "Trainable params: 851,201\n",
      "Non-trainable params: 512\n",
      "_________________________________________________________________\n",
      "(6265, 28, 28, 1)\n"
     ]
    }
   ],
   "source": [
    "# size of the latent space\n",
    "latent_dim = 50\n",
    "# create the critic\n",
    "critic = make_critic()\n",
    "# create the generator\n",
    "generator = make_generator(latent_dim)\n",
    "# create the gan\n",
    "gan_model = make_gan(generator, critic)\n",
    "# load image data\n",
    "dataset = load_real_samples()\n",
    "print(dataset.shape)\n",
    "# train model"
   ]
  },
  {
   "cell_type": "code",
   "execution_count": 27,
   "metadata": {},
   "outputs": [
    {
     "name": "stdout",
     "output_type": "stream",
     "text": [
      ">1, c1=-0.247, c2=-0.016 g=-0.003\n",
      ">2, c1=-4.160, c2=0.040 g=-0.013\n",
      ">3, c1=-7.013, c2=0.086 g=-0.028\n",
      ">4, c1=-9.168, c2=0.146 g=-0.043\n",
      ">5, c1=-11.061, c2=0.191 g=-0.060\n",
      ">6, c1=-12.687, c2=0.223 g=-0.078\n",
      ">7, c1=-14.125, c2=0.241 g=-0.099\n",
      ">8, c1=-15.351, c2=0.262 g=-0.124\n",
      ">9, c1=-16.917, c2=0.276 g=-0.149\n",
      ">10, c1=-17.811, c2=0.257 g=-0.180\n",
      ">11, c1=-19.007, c2=0.246 g=-0.214\n",
      ">12, c1=-19.735, c2=0.248 g=-0.253\n",
      ">13, c1=-20.560, c2=0.193 g=-0.297\n",
      ">14, c1=-21.206, c2=0.153 g=-0.344\n",
      ">15, c1=-21.883, c2=0.062 g=-0.396\n",
      ">16, c1=-22.850, c2=-0.088 g=-0.446\n",
      ">17, c1=-23.781, c2=-0.274 g=-0.504\n",
      ">18, c1=-24.075, c2=-0.508 g=-0.566\n",
      ">19, c1=-24.438, c2=-0.771 g=-0.636\n",
      ">20, c1=-25.138, c2=-1.095 g=-0.708\n",
      ">21, c1=-26.047, c2=-1.448 g=-0.792\n",
      ">22, c1=-26.086, c2=-1.885 g=-0.886\n",
      ">23, c1=-26.873, c2=-2.353 g=-0.983\n",
      ">24, c1=-27.184, c2=-2.873 g=-1.112\n",
      ">25, c1=-27.378, c2=-3.446 g=-1.236\n",
      ">26, c1=-28.437, c2=-4.066 g=-1.388\n",
      ">27, c1=-28.689, c2=-4.749 g=-1.546\n",
      ">28, c1=-29.184, c2=-5.488 g=-1.727\n",
      ">29, c1=-29.637, c2=-6.262 g=-1.911\n",
      ">30, c1=-29.908, c2=-7.102 g=-2.137\n",
      ">31, c1=-30.899, c2=-7.972 g=-2.391\n",
      ">32, c1=-31.225, c2=-8.893 g=-2.656\n",
      ">33, c1=-31.603, c2=-9.819 g=-2.953\n",
      ">34, c1=-31.876, c2=-10.787 g=-3.297\n",
      ">35, c1=-32.314, c2=-11.693 g=-3.688\n",
      ">36, c1=-32.532, c2=-12.630 g=-4.102\n",
      ">37, c1=-33.050, c2=-13.528 g=-4.537\n",
      ">38, c1=-33.660, c2=-14.475 g=-5.096\n",
      ">39, c1=-33.896, c2=-15.394 g=-5.607\n",
      ">40, c1=-34.856, c2=-16.281 g=-6.247\n",
      ">41, c1=-35.197, c2=-17.143 g=-6.952\n",
      ">42, c1=-35.720, c2=-17.980 g=-7.627\n",
      ">43, c1=-36.535, c2=-18.872 g=-8.453\n",
      ">44, c1=-36.160, c2=-19.671 g=-9.411\n",
      ">45, c1=-37.197, c2=-20.563 g=-10.378\n",
      ">46, c1=-37.423, c2=-21.348 g=-11.286\n",
      ">47, c1=-38.334, c2=-22.197 g=-12.475\n",
      ">48, c1=-38.507, c2=-22.952 g=-13.490\n",
      ">49, c1=-39.153, c2=-23.761 g=-14.700\n",
      ">50, c1=-39.626, c2=-24.509 g=-16.010\n",
      ">51, c1=-40.082, c2=-25.222 g=-17.191\n",
      ">52, c1=-40.859, c2=-25.933 g=-18.511\n",
      ">53, c1=-40.801, c2=-26.682 g=-19.985\n",
      ">54, c1=-41.320, c2=-27.360 g=-21.523\n",
      ">55, c1=-42.018, c2=-28.002 g=-22.648\n",
      ">56, c1=-42.285, c2=-28.716 g=-23.951\n",
      ">57, c1=-43.098, c2=-29.370 g=-25.430\n",
      ">58, c1=-43.891, c2=-30.047 g=-26.607\n",
      ">59, c1=-44.184, c2=-30.603 g=-28.128\n",
      ">60, c1=-44.285, c2=-31.266 g=-29.825\n",
      ">61, c1=-45.333, c2=-31.835 g=-30.755\n",
      ">62, c1=-45.338, c2=-32.457 g=-32.096\n",
      ">63, c1=-46.181, c2=-33.047 g=-33.417\n",
      ">64, c1=-46.040, c2=-33.618 g=-34.908\n",
      ">65, c1=-46.935, c2=-34.196 g=-35.959\n",
      ">66, c1=-47.286, c2=-34.687 g=-37.113\n",
      ">67, c1=-48.515, c2=-35.310 g=-37.900\n",
      ">68, c1=-48.548, c2=-35.732 g=-39.106\n",
      ">69, c1=-49.708, c2=-36.309 g=-39.904\n",
      ">70, c1=-49.955, c2=-36.849 g=-40.645\n",
      ">71, c1=-50.324, c2=-37.339 g=-41.071\n",
      ">72, c1=-51.076, c2=-37.873 g=-42.434\n",
      ">73, c1=-51.463, c2=-38.369 g=-43.060\n",
      ">74, c1=-52.486, c2=-38.844 g=-43.146\n",
      ">75, c1=-52.387, c2=-39.332 g=-43.831\n",
      ">76, c1=-52.956, c2=-39.825 g=-44.597\n",
      ">77, c1=-53.788, c2=-40.292 g=-44.546\n",
      ">78, c1=-53.990, c2=-40.810 g=-45.793\n",
      ">79, c1=-54.448, c2=-41.221 g=-46.340\n",
      ">80, c1=-55.132, c2=-41.719 g=-46.026\n",
      ">81, c1=-55.857, c2=-42.177 g=-46.577\n",
      ">82, c1=-55.919, c2=-42.590 g=-46.795\n",
      ">83, c1=-56.848, c2=-43.073 g=-47.247\n",
      ">84, c1=-57.424, c2=-43.565 g=-47.719\n",
      ">85, c1=-57.903, c2=-43.970 g=-48.071\n",
      ">86, c1=-58.699, c2=-44.451 g=-48.200\n",
      ">87, c1=-59.327, c2=-44.880 g=-48.948\n",
      ">88, c1=-59.685, c2=-45.295 g=-48.799\n",
      ">89, c1=-60.325, c2=-45.692 g=-48.394\n",
      ">90, c1=-60.416, c2=-46.120 g=-49.402\n",
      ">91, c1=-61.214, c2=-46.573 g=-49.302\n",
      ">92, c1=-61.001, c2=-46.896 g=-50.454\n",
      ">93, c1=-61.679, c2=-47.301 g=-51.013\n",
      ">94, c1=-63.178, c2=-47.692 g=-49.758\n",
      ">95, c1=-63.142, c2=-48.056 g=-49.952\n",
      ">96, c1=-63.931, c2=-48.461 g=-49.531\n",
      ">97, c1=-64.044, c2=-48.853 g=-49.490\n",
      ">Saved: generated_plot_0097.png and model_0097.h5\n"
     ]
    }
   ],
   "source": [
    "c1_hist, c2_hist, g_hist = train(generator, critic, gan_model, dataset, latent_dim)"
   ]
  },
  {
   "cell_type": "code",
   "execution_count": 34,
   "metadata": {},
   "outputs": [
    {
     "data": {
      "image/png": "[encoded data removed]",
      "text/plain": [
       "<Figure size 432x288 with 1 Axes>"
      ]
     },
     "metadata": {
      "needs_background": "light"
     },
     "output_type": "display_data"
    }
   ],
   "source": [
    "plot_history(c1_hist, c2_hist, g_hist)"
   ]
  },
  {
   "cell_type": "code",
   "execution_count": null,
   "metadata": {},
   "outputs": [],
   "source": []
  }
 ],
 "metadata": {
  "colab": {
   "authorship_tag": "ABX9TyN9bBxoLT09k18gZQuYO7zX",
   "include_colab_link": true,
   "name": "WGAN_mnist_example2.ipynb",
   "provenance": []
  },
  "kernelspec": {
   "display_name": "Python 3",
   "language": "python",
   "name": "python3"
  },
  "language_info": {
   "codemirror_mode": {
    "name": "ipython",
    "version": 3
   },
   "file_extension": ".py",
   "mimetype": "text/x-python",
   "name": "python",
   "nbconvert_exporter": "python",
   "pygments_lexer": "ipython3",
   "version": "3.7.4"
  }
 },
 "nbformat": 4,
 "nbformat_minor": 1
}
