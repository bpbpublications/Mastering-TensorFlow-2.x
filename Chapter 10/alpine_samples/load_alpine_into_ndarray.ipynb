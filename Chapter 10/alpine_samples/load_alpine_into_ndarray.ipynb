{
 "cells": [
  {
   "cell_type": "code",
   "execution_count": 33,
   "metadata": {},
   "outputs": [
    {
     "name": "stdout",
     "output_type": "stream",
     "text": [
      "['20171030_134121.jpg', '20171030_135012.jpg', '20171030_134907.jpg', '20171030_135428.jpg', '20171030_133845.jpg', '20171030_135856.jpg', '20171030_134035.jpg', '20171030_134141.jpg', '20171030_134949.jpg', '20171030_135110.jpg', '20171030_134025.jpg', '20171030_135850.jpg', '20171030_135139.jpg', '20171030_134153.jpg', '20171030_135728.jpg', '20171030_134026.jpg', '20171030_134956.jpg', '20171030_135042.jpg', '20171030_135136.jpg', '20171030_135125.jpg', '20171030_135118.jpg', '20171030_135127.jpg', '20171030_133928.jpg', '20171030_134920.jpg', '20171030_133915.jpg', '20171030_134936.jpg', '20171030_134857.jpg', '20171030_135153.jpg', '20171030_133911.jpg', '20171030_134918.jpg', '20171030_134105.jpg', '20171030_135031.jpg', '20171030_135019.jpg']\n"
     ]
    }
   ],
   "source": [
    "data_dir = '/Users/rdua/Downloads/alpine/alpine'\n",
    "\n",
    "import os\n",
    "filelist = os.listdir(data_dir)\n",
    "print(filelist)"
   ]
  },
  {
   "cell_type": "code",
   "execution_count": 40,
   "metadata": {},
   "outputs": [],
   "source": [
    "import numpy as np\n",
    "from PIL import Image\n",
    "\n",
    "x = np.array([np.array(Image.open(data_dir + \"/\" + fname)) for fname in filelist])"
   ]
  },
  {
   "cell_type": "code",
   "execution_count": 42,
   "metadata": {},
   "outputs": [],
   "source": [
    "y = []\n",
    "for x1 in x:\n",
    "    #half = 0.1\n",
    "    #out = img1_pil.resize( [int(half * s) for s in x1.size] )\n",
    "    y.append(x1.reshape(4032,9072))"
   ]
  },
  {
   "cell_type": "code",
   "execution_count": 43,
   "metadata": {},
   "outputs": [
    {
     "data": {
      "text/plain": [
       "(4032, 9072)"
      ]
     },
     "execution_count": 43,
     "metadata": {},
     "output_type": "execute_result"
    }
   ],
   "source": [
    "y[0].shape"
   ]
  },
  {
   "cell_type": "code",
   "execution_count": 44,
   "metadata": {},
   "outputs": [
    {
     "data": {
      "text/plain": [
       "array([[148, 181, 188, ..., 156, 188, 203],\n",
       "       [148, 181, 188, ..., 156, 188, 203],\n",
       "       [148, 181, 188, ..., 156, 188, 203],\n",
       "       ...,\n",
       "       [ 53,  36,  26, ...,  37,  19,  17],\n",
       "       [ 53,  36,  26, ...,  37,  19,  17],\n",
       "       [ 53,  36,  26, ...,  37,  19,  17]], dtype=uint8)"
      ]
     },
     "execution_count": 44,
     "metadata": {},
     "output_type": "execute_result"
    }
   ],
   "source": [
    "y[0]"
   ]
  },
  {
   "cell_type": "code",
   "execution_count": 60,
   "metadata": {},
   "outputs": [
    {
     "data": {
      "text/plain": [
       "[array([[150, 183, 190, ..., 156, 188, 203],\n",
       "        [152, 185, 192, ..., 156, 188, 203],\n",
       "        [152, 185, 192, ..., 158, 190, 205],\n",
       "        ...,\n",
       "        [ 44,  27,  17, ...,  38,  20,  18],\n",
       "        [ 49,  32,  22, ...,  38,  20,  18],\n",
       "        [ 47,  30,  20, ...,  33,  15,  13]], dtype=uint8),\n",
       " array([[ 78,  79,  71, ...,  44,  45,  37],\n",
       "        [ 77,  78,  70, ...,  44,  45,  37],\n",
       "        [ 70,  82,  64, ...,  50,  51,  43],\n",
       "        ...,\n",
       "        [118, 125, 131, ...,  97,  89,  76],\n",
       "        [116, 123, 129, ..., 125, 108,  98],\n",
       "        [112, 119, 125, ..., 127, 110, 100]], dtype=uint8),\n",
       " array([[233, 218, 197, ..., 113,  96,  86],\n",
       "        [235, 220, 199, ..., 112,  95,  85],\n",
       "        [234, 219, 198, ..., 111,  94,  84],\n",
       "        ...,\n",
       "        [183, 137, 103, ..., 210, 165, 113],\n",
       "        [158, 112,  78, ..., 201, 150,  99],\n",
       "        [143,  97,  63, ..., 202, 150, 100]], dtype=uint8),\n",
       " array([[ 26,   8,   6, ..., 216, 191, 184],\n",
       "        [ 25,   8,   6, ..., 214, 189, 182],\n",
       "        [ 29,   5,   7, ..., 214, 189, 182],\n",
       "        ...,\n",
       "        [ 64,  23,  21, ..., 117,  61,  38],\n",
       "        [ 61,  20,  18, ..., 115,  59,  36],\n",
       "        [ 63,  22,  20, ..., 115,  59,  36]], dtype=uint8),\n",
       " array([[ 99,  84,  63, ..., 193, 155, 134],\n",
       "        [ 97,  82,  61, ..., 193, 155, 134],\n",
       "        [ 99,  84,  63, ..., 193, 156, 128],\n",
       "        ...,\n",
       "        [177, 141, 112, ..., 211, 190, 163],\n",
       "        [176, 147, 115, ..., 203, 182, 155],\n",
       "        [173, 144, 112, ..., 208, 187, 160]], dtype=uint8),\n",
       " array([[167, 130, 101, ..., 130,  92,  71],\n",
       "        [169, 132, 103, ..., 133,  95,  74],\n",
       "        [169, 132, 103, ..., 129,  91,  70],\n",
       "        ...,\n",
       "        [ 28,  21,  17, ..., 102,  75,  75],\n",
       "        [ 28,  19,  22, ..., 112,  79,  74],\n",
       "        [ 28,  19,  22, ..., 116,  83,  78]], dtype=uint8),\n",
       " array([[169, 184, 187, ..., 171, 186, 189],\n",
       "        [169, 184, 187, ..., 169, 184, 187],\n",
       "        [169, 184, 187, ..., 169, 184, 187],\n",
       "        ...,\n",
       "        [ 32,  25,  18, ...,  39,  22,  19],\n",
       "        [ 28,  21,  15, ...,  39,  16,  16],\n",
       "        [ 25,  18,  12, ...,  43,  17,  18]], dtype=uint8),\n",
       " array([[164, 197, 204, ..., 158, 181, 199],\n",
       "        [164, 197, 204, ..., 155, 182, 199],\n",
       "        [164, 197, 204, ..., 150, 182, 197],\n",
       "        ...,\n",
       "        [ 71,  32,  12, ...,  44,  26,  24],\n",
       "        [ 70,  37,  14, ...,  39,  21,  19],\n",
       "        [ 65,  35,  11, ...,  44,  26,  25]], dtype=uint8),\n",
       " array([[226, 211, 190, ..., 211, 204, 198],\n",
       "        [218, 203, 182, ..., 206, 199, 193],\n",
       "        [214, 199, 178, ..., 180, 173, 167],\n",
       "        ...,\n",
       "        [204, 204, 204, ..., 126, 109,  99],\n",
       "        [206, 206, 206, ..., 127, 110, 100],\n",
       "        [206, 206, 206, ..., 129, 112, 102]], dtype=uint8),\n",
       " array([[244, 207, 178, ..., 104,  79,  72],\n",
       "        [241, 204, 175, ...,  88,  63,  56],\n",
       "        [241, 204, 175, ...,  67,  49,  39],\n",
       "        ...,\n",
       "        [220, 176, 131, ..., 225, 167, 112],\n",
       "        [216, 172, 127, ..., 220, 168, 118],\n",
       "        [216, 172, 127, ..., 220, 168, 118]], dtype=uint8),\n",
       " array([[152, 177, 186, ..., 165, 180, 183],\n",
       "        [157, 177, 188, ..., 165, 180, 187],\n",
       "        [161, 175, 188, ..., 165, 179, 192],\n",
       "        ...,\n",
       "        [ 64,  31,  26, ...,  38,  20,  18],\n",
       "        [ 66,  33,  28, ...,  32,  14,  16],\n",
       "        [ 71,  38,  33, ...,  33,  14,  20]], dtype=uint8),\n",
       " array([[132, 111,  84, ..., 120,  87,  82],\n",
       "        [133, 112,  85, ..., 118,  85,  80],\n",
       "        [131, 108,  89, ..., 120,  87,  82],\n",
       "        ...,\n",
       "        [ 42,  23,  29, ..., 155, 122, 125],\n",
       "        [ 42,  23,  29, ..., 150, 124, 125],\n",
       "        [ 41,  22,  28, ..., 150, 124, 125]], dtype=uint8),\n",
       " array([[178, 171, 165, ...,  70,  84,  97],\n",
       "        [198, 191, 186, ...,  70,  84,  97],\n",
       "        [202, 193, 195, ...,  62,  76,  89],\n",
       "        ...,\n",
       "        [175, 174, 182, ..., 134, 104,  80],\n",
       "        [172, 171, 179, ..., 143, 113,  89],\n",
       "        [172, 171, 179, ..., 142, 112,  88]], dtype=uint8),\n",
       " array([[173, 188, 191, ..., 173, 188, 191],\n",
       "        [173, 188, 191, ..., 173, 188, 191],\n",
       "        [173, 188, 191, ..., 173, 188, 191],\n",
       "        ...,\n",
       "        [ 38,  19,  17, ...,  37,  19,  17],\n",
       "        [ 33,  21,  17, ...,  37,  19,  17],\n",
       "        [ 24,  17,  11, ...,  40,  22,  20]], dtype=uint8),\n",
       " array([[122,  90,  75, ..., 122,  97,  90],\n",
       "        [124,  92,  77, ..., 122,  97,  90],\n",
       "        [124,  92,  77, ..., 124,  99,  92],\n",
       "        ...,\n",
       "        [208, 168, 156, ..., 153,  89,  67],\n",
       "        [205, 165, 153, ..., 150,  86,  58],\n",
       "        [209, 169, 157, ..., 148,  84,  56]], dtype=uint8),\n",
       " array([[161, 176, 179, ..., 165, 180, 183],\n",
       "        [161, 176, 179, ..., 165, 180, 183],\n",
       "        [161, 176, 179, ..., 165, 180, 183],\n",
       "        ...,\n",
       "        [ 60,  35,  28, ...,  32,  14,  12],\n",
       "        [ 57,  32,  25, ...,  33,  15,  13],\n",
       "        [ 59,  34,  27, ...,  36,  18,  16]], dtype=uint8),\n",
       " array([[221, 200, 173, ..., 168, 162, 148],\n",
       "        [226, 205, 178, ..., 152, 146, 132],\n",
       "        [229, 208, 181, ..., 109, 102,  94],\n",
       "        ...,\n",
       "        [206, 206, 206, ..., 121, 106,  85],\n",
       "        [206, 206, 206, ..., 122, 107,  86],\n",
       "        [204, 204, 204, ..., 122, 107,  86]], dtype=uint8),\n",
       " array([[184, 164, 129, ..., 186, 180, 166],\n",
       "        [182, 162, 127, ..., 188, 182, 168],\n",
       "        [184, 164, 129, ..., 186, 180, 166],\n",
       "        ...,\n",
       "        [102, 101, 111, ..., 104,  98,  84],\n",
       "        [104, 101, 120, ..., 104,  98,  84],\n",
       "        [104, 101, 120, ..., 106, 100,  86]], dtype=uint8),\n",
       " array([[211, 193, 191, ...,  94,  94,  94],\n",
       "        [208, 190, 188, ...,  92,  92,  92],\n",
       "        [208, 190, 188, ...,  92,  92,  92],\n",
       "        ...,\n",
       "        [155, 122, 109, ..., 137, 100,  72],\n",
       "        [160, 127, 122, ..., 135,  97,  76],\n",
       "        [156, 123, 118, ..., 134,  96,  75]], dtype=uint8),\n",
       " array([[238, 217, 190, ..., 109,  91,  89],\n",
       "        [238, 217, 190, ..., 109,  91,  89],\n",
       "        [238, 217, 190, ..., 108,  90,  88],\n",
       "        ...,\n",
       "        [205, 161, 116, ..., 212, 167, 113],\n",
       "        [208, 164, 119, ..., 213, 163, 105],\n",
       "        [208, 164, 119, ..., 212, 162, 103]], dtype=uint8),\n",
       " array([[183, 156, 116, ...,  45,  38,  32],\n",
       "        [204, 177, 137, ...,  46,  39,  33],\n",
       "        [226, 198, 158, ...,  45,  38,  32],\n",
       "        ...,\n",
       "        [229, 195, 147, ..., 212, 153,  97],\n",
       "        [219, 185, 137, ..., 210, 151,  95],\n",
       "        [209, 175, 127, ..., 214, 155,  99]], dtype=uint8),\n",
       " array([[158, 141, 131, ..., 199, 176, 158],\n",
       "        [155, 138, 127, ..., 187, 164, 146],\n",
       "        [150, 133, 123, ..., 138, 115,  97],\n",
       "        ...,\n",
       "        [212, 181, 150, ..., 206, 163, 110],\n",
       "        [208, 171, 142, ..., 211, 168, 115],\n",
       "        [205, 168, 139, ..., 219, 176, 123]], dtype=uint8),\n",
       " array([[ 87,  80,  73, ..., 201, 183, 181],\n",
       "        [ 83,  78,  56, ..., 201, 183, 181],\n",
       "        [ 83,  79,  52, ..., 201, 183, 181],\n",
       "        ...,\n",
       "        [ 29,  23,   9, ...,  55,  40,  32],\n",
       "        [ 31,  25,  11, ...,  45,  36,  39],\n",
       "        [ 35,  29,  15, ...,  41,  32,  35]], dtype=uint8),\n",
       " array([[222, 207, 186, ..., 197, 180, 170],\n",
       "        [222, 207, 186, ..., 197, 180, 170],\n",
       "        [222, 207, 186, ..., 191, 183, 170],\n",
       "        ...,\n",
       "        [126, 126, 136, ...,  98,  92,  79],\n",
       "        [150, 156, 172, ..., 100,  93,  87],\n",
       "        [148, 154, 170, ..., 101,  94,  88]], dtype=uint8),\n",
       " array([[197, 182, 161, ..., 205, 198, 192],\n",
       "        [199, 181, 161, ..., 206, 199, 193],\n",
       "        [200, 177, 159, ..., 206, 199, 193],\n",
       "        ...,\n",
       "        [105,  58,  32, ...,  22,  13,  17],\n",
       "        [105,  58,  32, ...,  31,  16,  17],\n",
       "        [100,  53,  27, ...,  33,  14,  12]], dtype=uint8),\n",
       " array([[188, 165, 147, ..., 192, 193, 185],\n",
       "        [214, 191, 173, ..., 192, 193, 185],\n",
       "        [216, 200, 180, ..., 193, 193, 192],\n",
       "        ...,\n",
       "        [145, 166, 193, ...,  83,  76,  70],\n",
       "        [145, 166, 193, ...,  89,  82,  76],\n",
       "        [141, 162, 189, ..., 103,  96,  90]], dtype=uint8),\n",
       " array([[205, 190, 169, ...,  76,  69,  63],\n",
       "        [205, 190, 169, ...,  79,  72,  66],\n",
       "        [209, 187, 169, ...,  98,  91,  85],\n",
       "        ...,\n",
       "        [183, 139,  94, ..., 217, 182, 144],\n",
       "        [168, 124,  79, ..., 217, 182, 144],\n",
       "        [162, 118,  73, ..., 209, 174, 136]], dtype=uint8),\n",
       " array([[ 58,  64,  78, ...,  46,  55,  52],\n",
       "        [ 38,  47,  44, ...,  49,  58,  55],\n",
       "        [ 34,  36,  34, ...,  64,  72,  76],\n",
       "        ...,\n",
       "        [212, 195, 185, ..., 196, 175, 149],\n",
       "        [208, 191, 181, ..., 202, 179, 161],\n",
       "        [203, 186, 176, ..., 202, 179, 161]], dtype=uint8),\n",
       " array([[ 82,  79,  53, ..., 198, 173, 166],\n",
       "        [ 86,  77,  58, ..., 196, 174, 166],\n",
       "        [ 90,  73,  63, ..., 193, 176, 166],\n",
       "        ...,\n",
       "        [ 27,  18,  22, ..., 187, 155, 140],\n",
       "        [ 23,  15,  13, ..., 188, 156, 141],\n",
       "        [ 29,  22,  16, ..., 187, 155, 140]], dtype=uint8),\n",
       " array([[153, 130, 113, ...,  46,  46,  46],\n",
       "        [191, 170, 151, ...,  40,  40,  40],\n",
       "        [145, 123, 105, ...,  42,  42,  42],\n",
       "        ...,\n",
       "        [113,  96,  86, ..., 111, 104,  98],\n",
       "        [109,  92,  82, ..., 114, 107, 101],\n",
       "        [109,  92,  82, ..., 114, 107, 101]], dtype=uint8),\n",
       " array([[169, 184, 187, ..., 173, 188, 191],\n",
       "        [168, 183, 186, ..., 172, 187, 190],\n",
       "        [166, 181, 184, ..., 170, 185, 188],\n",
       "        ...,\n",
       "        [ 26,  19,  13, ...,  40,  23,  13],\n",
       "        [ 32,  14,  12, ...,  37,  20,  10],\n",
       "        [ 36,   9,  10, ...,  36,  19,   9]], dtype=uint8),\n",
       " array([[214, 194, 159, ..., 126, 120, 106],\n",
       "        [214, 194, 159, ..., 126, 120, 106],\n",
       "        [214, 194, 159, ..., 126, 120, 106],\n",
       "        ...,\n",
       "        [211, 182, 150, ..., 204, 161, 108],\n",
       "        [208, 179, 147, ..., 206, 163, 110],\n",
       "        [202, 173, 141, ..., 208, 165, 112]], dtype=uint8),\n",
       " array([[211, 197, 168, ..., 112, 113, 105],\n",
       "        [209, 195, 166, ..., 110, 111, 103],\n",
       "        [209, 195, 172, ..., 112, 113, 105],\n",
       "        ...,\n",
       "        [136, 148, 168, ..., 118, 111, 105],\n",
       "        [131, 145, 158, ..., 116, 109, 103],\n",
       "        [131, 145, 158, ..., 115, 108, 102]], dtype=uint8)]"
      ]
     },
     "execution_count": 60,
     "metadata": {},
     "output_type": "execute_result"
    }
   ],
   "source": [
    "import numpy as np\n",
    "y1 = []\n",
    "for f in filelist:\n",
    "    full_f = data_dir + \"/\" + f\n",
    "    img = Image.open(full_f)\n",
    "    half = 0.1\n",
    "    out = img.resize( [int(half * s) for s in img1_pil.size] )\n",
    "    out1 = numpy.asarray(out).reshape(403,906)\n",
    "    y1.append(out1)\n",
    "y1"
   ]
  },
  {
   "cell_type": "code",
   "execution_count": 61,
   "metadata": {},
   "outputs": [],
   "source": [
    "y2 = numpy.asarray(y1)"
   ]
  },
  {
   "cell_type": "code",
   "execution_count": 62,
   "metadata": {},
   "outputs": [
    {
     "data": {
      "text/plain": [
       "(33, 403, 906)"
      ]
     },
     "execution_count": 62,
     "metadata": {},
     "output_type": "execute_result"
    }
   ],
   "source": [
    "y2.shape"
   ]
  },
  {
   "cell_type": "code",
   "execution_count": 63,
   "metadata": {},
   "outputs": [],
   "source": [
    "from PIL import Image \n",
    "img1 = \"20171030_134121.jpg\"\n",
    "img1_pil = Image.open(data_dir + \"/\"+ img1)"
   ]
  },
  {
   "cell_type": "code",
   "execution_count": 73,
   "metadata": {},
   "outputs": [
    {
     "data": {
      "image/png": "[encoded data removed]",
      "text/plain": [
       "<PIL.Image.Image image mode=RGB size=151x201 at 0x7F90A0DDED10>"
      ]
     },
     "execution_count": 73,
     "metadata": {},
     "output_type": "execute_result"
    }
   ],
   "source": [
    "half = 0.05\n",
    "out = img1_pil.resize( [int(half * s) for s in img1_pil.size] )\n",
    "out"
   ]
  },
  {
   "cell_type": "code",
   "execution_count": 69,
   "metadata": {},
   "outputs": [
    {
     "data": {
      "text/plain": [
       "151"
      ]
     },
     "execution_count": 69,
     "metadata": {},
     "output_type": "execute_result"
    }
   ],
   "source": [
    "out.width"
   ]
  },
  {
   "cell_type": "code",
   "execution_count": 70,
   "metadata": {},
   "outputs": [
    {
     "data": {
      "text/plain": [
       "201"
      ]
     },
     "execution_count": 70,
     "metadata": {},
     "output_type": "execute_result"
    }
   ],
   "source": [
    "out.height"
   ]
  },
  {
   "cell_type": "code",
   "execution_count": 75,
   "metadata": {},
   "outputs": [
    {
     "data": {
      "text/plain": [
       "(201, 151, 3)"
      ]
     },
     "execution_count": 75,
     "metadata": {},
     "output_type": "execute_result"
    }
   ],
   "source": [
    "np.asarray(out).shape"
   ]
  },
  {
   "cell_type": "code",
   "execution_count": 76,
   "metadata": {},
   "outputs": [
    {
     "name": "stdout",
     "output_type": "stream",
     "text": [
      "/Users/rdua/opt/anaconda3/envs/tf/bin/python\r\n"
     ]
    }
   ],
   "source": [
    "!which python"
   ]
  },
  {
   "cell_type": "code",
   "execution_count": null,
   "metadata": {},
   "outputs": [],
   "source": []
  }
 ],
 "metadata": {
  "kernelspec": {
   "display_name": "Python 3.7.7 64-bit ('tf': conda)",
   "language": "python",
   "name": "python37764bittfconda003636c015c146309c74c3bc0052f30e"
  },
  "language_info": {
   "codemirror_mode": {
    "name": "ipython",
    "version": 3
   },
   "file_extension": ".py",
   "mimetype": "text/x-python",
   "name": "python",
   "nbconvert_exporter": "python",
   "pygments_lexer": "ipython3",
   "version": "3.7.7"
  }
 },
 "nbformat": 4,
 "nbformat_minor": 4
}
