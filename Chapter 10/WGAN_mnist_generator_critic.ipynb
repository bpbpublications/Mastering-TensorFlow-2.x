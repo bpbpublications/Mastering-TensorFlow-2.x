{
 "cells": [
  {
   "cell_type": "markdown",
   "metadata": {
    "colab_type": "text",
    "id": "view-in-github"
   },
   "source": [
    "<a href=\"https://colab.research.google.com/github/rajdeepd/tensorflow_2.0_book_code/blob/master/ch08/WGAN_mnist_example2.ipynb\" target=\"_parent\"><img src=\"https://colab.research.google.com/assets/colab-badge.svg\" alt=\"Open In Colab\"/></a>"
   ]
  },
  {
   "cell_type": "code",
   "execution_count": 19,
   "metadata": {
    "id": "LBWSmkvm4f9K"
   },
   "outputs": [],
   "source": [
    "# example of a wgan for generating handwritten digits\n",
    "from numpy import expand_dims\n",
    "from numpy import mean\n",
    "from numpy import ones\n",
    "from numpy.random import randn\n",
    "from numpy.random import randint\n",
    "from tensorflow.keras.datasets.mnist import load_data\n",
    "from tensorflow.keras import backend\n",
    "from tensorflow.keras.optimizers import RMSprop\n",
    "from tensorflow.keras.models import Sequential\n",
    "from tensorflow.keras.layers import Dense\n",
    "from tensorflow.keras.layers import Reshape\n",
    "from tensorflow.keras.layers import Flatten\n",
    "from tensorflow.keras.layers import Conv2D\n",
    "from tensorflow.keras.layers import Conv2DTranspose\n",
    "from tensorflow.keras.layers import LeakyReLU\n",
    "from tensorflow.keras.layers import BatchNormalization\n",
    "from tensorflow.keras.initializers import RandomNormal\n",
    "from tensorflow.keras.constraints import Constraint\n",
    "from matplotlib import pyplot"
   ]
  },
  {
   "cell_type": "code",
   "execution_count": 20,
   "metadata": {
    "id": "xzRLjn8d45xV"
   },
   "outputs": [],
   "source": [
    "# clip model weights to a given hypercube\n",
    "class ClipConstraint(Constraint):\n",
    "    # set clip value when initialized\n",
    "    def __init__(self, clip_value):\n",
    "        self.clip_value = clip_value\n",
    "\n",
    "    # clip model weights to hypercube\n",
    "    def __call__(self, weights):\n",
    "        return backend.clip(weights, -self.clip_value, self.clip_value)\n",
    "\n",
    "    # get the config\n",
    "    def get_config(self):\n",
    "        return {'clip_value': self.clip_value}\n"
   ]
  },
  {
   "cell_type": "code",
   "execution_count": 21,
   "metadata": {
    "id": "8De_MLNz4_X7"
   },
   "outputs": [],
   "source": [
    "# calculate wasserstein loss\n",
    "def wasserstein_loss(y_true, y_pred):\n",
    "    return backend.mean(y_true * y_pred)"
   ]
  },
  {
   "cell_type": "code",
   "execution_count": 48,
   "metadata": {
    "id": "S7_QS_Ff5Fpj"
   },
   "outputs": [],
   "source": [
    "# define the critic model\n",
    "def make_critic(in_shape=(28,28,1)):\n",
    "    # weight initialization\n",
    "    init = RandomNormal(stddev=0.02)\n",
    "    # weight constraint\n",
    "    const = ClipConstraint(0.01)\n",
    "    # define model\n",
    "    model = Sequential()\n",
    "    # downsample to 14x14\n",
    "    model.add(Conv2D(64, (4,4), strides=(2,2), padding='same', kernel_initializer=init, kernel_constraint=const, input_shape=in_shape))\n",
    "    model.add(BatchNormalization())\n",
    "    model.add(LeakyReLU(alpha=0.2))\n",
    "    # downsample to 7x7\n",
    "    model.add(Conv2D(64, (4,4), strides=(2,2), padding='same', kernel_initializer=init, kernel_constraint=const))\n",
    "    model.add(BatchNormalization())\n",
    "    model.add(LeakyReLU(alpha=0.2))\n",
    "    # scoring, linear activation\n",
    "    model.add(Flatten())\n",
    "    model.add(Dense(1))\n",
    "    # compile model\n",
    "    opt = RMSprop(lr=0.00005)\n",
    "    model.compile(loss=wasserstein_loss, optimizer=opt)\n",
    "    model.summary()\n",
    "    return model\n",
    "\n",
    "# define the standalone generator model\n",
    "def make_generator(latent_dim):\n",
    "    # weight initialization\n",
    "    init = RandomNormal(stddev=0.02)\n",
    "    # define model\n",
    "    model = Sequential()\n",
    "    # foundation for 7x7 image\n",
    "    n_nodes = 128 * 7 * 7\n",
    "    model.add(Dense(n_nodes, kernel_initializer=init, input_dim=latent_dim))\n",
    "    model.add(LeakyReLU(alpha=0.2))\n",
    "    model.add(Reshape((7, 7, 128)))\n",
    "    # upsample to 14x14\n",
    "    model.add(Conv2DTranspose(128, (4,4), strides=(2,2), padding='same', kernel_initializer=init))\n",
    "    model.add(BatchNormalization())\n",
    "    model.add(LeakyReLU(alpha=0.2))\n",
    "    # upsample to 28x28\n",
    "    model.add(Conv2DTranspose(128, (4,4), strides=(2,2), padding='same', kernel_initializer=init))\n",
    "    model.add(BatchNormalization())\n",
    "    model.add(LeakyReLU(alpha=0.2))\n",
    "    # output 28x28x1\n",
    "    model.add(Conv2D(1, (7,7), activation='tanh', padding='same', kernel_initializer=init))\n",
    "    model.summary()\n",
    "    return model"
   ]
  },
  {
   "cell_type": "code",
   "execution_count": 46,
   "metadata": {
    "id": "v2LmRAc_5Oe4"
   },
   "outputs": [],
   "source": [
    "# define the combined generator and critic model, for updating the generator\n",
    "def make_gan(generator, critic):\n",
    "    # make weights in the critic not trainable\n",
    "    critic.trainable = False\n",
    "    # connect them\n",
    "    model = Sequential()\n",
    "    # add generator\n",
    "    model.add(generator)\n",
    "    # add the critic\n",
    "    model.add(critic)\n",
    "    # compile model\n",
    "    opt = RMSprop(lr=0.00005)\n",
    "    model.compile(loss=wasserstein_loss, optimizer=opt)\n",
    "    return model"
   ]
  },
  {
   "cell_type": "code",
   "execution_count": 37,
   "metadata": {
    "id": "kfNcKECN5UEW"
   },
   "outputs": [],
   "source": [
    "# load images\n",
    "def load_real_samples():\n",
    "    # load dataset\n",
    "    (trainX, trainy), (_, _) = load_data()\n",
    "    # select all of the examples for a given class\n",
    "    selected_ix = trainy == 7\n",
    "    X = trainX[selected_ix]\n",
    "    # expand to 3d, e.g. add channels\n",
    "    X = expand_dims(X, axis=-1)\n",
    "    # convert from ints to floats\n",
    "    X = X.astype('float32')\n",
    "    # scale from [0,255] to [-1,1]\n",
    "    X = (X - 127.5) / 127.5\n",
    "    return X"
   ]
  },
  {
   "cell_type": "code",
   "execution_count": 38,
   "metadata": {
    "id": "EghSvzEo5hG-"
   },
   "outputs": [],
   "source": [
    "# select real samples\n",
    "def generate_real_samples(dataset, n_samples):\n",
    "    # choose random instances\n",
    "    ix = randint(0, dataset.shape[0], n_samples)\n",
    "    # select images\n",
    "    X = dataset[ix]\n",
    "    # generate class labels, -1 for 'real'\n",
    "    y = -ones((n_samples, 1))\n",
    "    return X, y\n"
   ]
  },
  {
   "cell_type": "code",
   "execution_count": 39,
   "metadata": {
    "id": "8yw2Ez36KuqZ"
   },
   "outputs": [],
   "source": [
    "# generate points in latent space as input for the generator\n",
    "def generate_latent_points(latent_dim, n_samples):\n",
    "    # generate points in the latent space\n",
    "    x_input = randn(latent_dim * n_samples)\n",
    "    # reshape into a batch of inputs for the network\n",
    "    x_input = x_input.reshape(n_samples, latent_dim)\n",
    "    return x_input"
   ]
  },
  {
   "cell_type": "code",
   "execution_count": 40,
   "metadata": {
    "id": "Y4Zii7dvKy2r"
   },
   "outputs": [],
   "source": [
    "# use the generator to generate n fake examples, with class labels\n",
    "def generate_fake_samples(generator, latent_dim, n_samples):\n",
    "    # generate points in latent space\n",
    "    x_input = generate_latent_points(latent_dim, n_samples)\n",
    "    # predict outputs\n",
    "    X = generator.predict(x_input)\n",
    "    # create class labels with 1.0 for 'fake'\n",
    "    y = ones((n_samples, 1))\n",
    "    return X, y"
   ]
  },
  {
   "cell_type": "code",
   "execution_count": 41,
   "metadata": {
    "id": "xITwykPOK3O3"
   },
   "outputs": [],
   "source": [
    "# generate samples and save as a plot and save the model\n",
    "def summarize_performance(step, g_model, latent_dim, n_samples=100):\n",
    "    # prepare fake examples\n",
    "    X, _ = generate_fake_samples(g_model, latent_dim, n_samples)\n",
    "    # scale from [-1,1] to [0,1]\n",
    "    X = (X + 1) / 2.0\n",
    "    # plot images\n",
    "    for i in range(10 * 10):\n",
    "        # define subplot\n",
    "        pyplot.subplot(10, 10, 1 + i)\n",
    "        # turn off axis\n",
    "        pyplot.axis('off')\n",
    "        # plot raw pixel data\n",
    "        pyplot.imshow(X[i, :, :, 0], cmap='gray_r')\n",
    "    # save plot to file\n",
    "    filename1 = 'generated_plot_%04d.png' % (step+1)\n",
    "    pyplot.savefig(filename1)\n",
    "    pyplot.close()\n",
    "    # save the generator model\n",
    "    filename2 = 'model_%04d.h5' % (step+1)\n",
    "    g_model.save(filename2)\n",
    "    print('>Saved: %s and %s' % (filename1, filename2))"
   ]
  },
  {
   "cell_type": "code",
   "execution_count": 42,
   "metadata": {
    "id": "Yhmj3qmHK4vW"
   },
   "outputs": [],
   "source": [
    "# create a line plot of loss for the gan and save to file\n",
    "%matplotlib inline\n",
    "def plot_history(d1_hist, d2_hist, g_hist):\n",
    "    # plot history\n",
    "    pyplot.plot(d1_hist, label='crit_real')\n",
    "    pyplot.plot(d2_hist, label='crit_fake')\n",
    "    pyplot.plot(g_hist, label='gen')\n",
    "    pyplot.legend()\n",
    "    pyplot.show()\n",
    "    pyplot.savefig('plot_wgan_line_plot_loss.png')\n",
    "    pyplot.close()"
   ]
  },
  {
   "cell_type": "code",
   "execution_count": 88,
   "metadata": {
    "id": "RYnFW4OOLCwN"
   },
   "outputs": [
    {
     "name": "stdout",
     "output_type": "stream",
     "text": [
      "2021-01-18 19:46:33\n",
      "wgan_losses_2021-01-18 19:46:33.csv\n"
     ]
    }
   ],
   "source": [
    "# train the generator and critic\n",
    "from datetime import datetime\n",
    "now = datetime.now().strftime(\"%Y-%m-%d %H:%M:%S\")\n",
    "print(now)\n",
    "filename = 'wgan_losses_' + now + '.csv'\n",
    "print(filename)\n",
    "file = open(filename, 'w+', newline ='\\n') \n",
    "\n",
    "def train(g_model, c_model, gan_model, dataset, latent_dim, n_epochs=1, n_batch=64, n_critic=5):\n",
    "    # calculate the number of batches per training epoch\n",
    "    bat_per_epo = int(dataset.shape[0] / n_batch)\n",
    "    # calculate the nufile = open('g4g.csv', 'w+', newline ='') mber of training iterations\n",
    "    n_steps = bat_per_epo * n_epochs\n",
    "    # calculate the size of half a batch of samples\n",
    "    half_batch = int(n_batch / 2)\n",
    "    # lists for keeping track of loss\n",
    "    c1_hist, c2_hist, g_hist = list(), list(), list()\n",
    "    # manually enumerate epochs\n",
    "    for i in range(n_steps):\n",
    "        # update the critic more than the generator\n",
    "        c1_tmp, c2_tmp = list(), list()\n",
    "        for _ in range(n_critic):\n",
    "            # get randomly selected 'real' samples\n",
    "            X_real, y_real = generate_real_samples(dataset, half_batch)\n",
    "            # update critic model weights\n",
    "            c_loss1 = c_model.train_on_batch(X_real, y_real)\n",
    "            c1_tmp.append(c_loss1)\n",
    "            # generate 'fake' examples\n",
    "            X_fake, y_fake = generate_fake_samples(g_model, latent_dim, half_batch)\n",
    "            # update critic model weights\n",
    "            c_loss2 = c_model.train_on_batch(X_fake, y_fake)\n",
    "            c2_tmp.append(c_loss2)\n",
    "        # store critic loss\n",
    "        c1_hist.append(mean(c1_tmp))\n",
    "        c2_hist.append(mean(c2_tmp))\n",
    "        # prepare points in latent space as input for the generator\n",
    "        X_gan = generate_latent_points(latent_dim, n_batch)\n",
    "        # create inverted labels for the fake samples\n",
    "        y_gan = -ones((n_batch, 1))\n",
    "        # update the generator via the critic's error\n",
    "        g_loss = gan_model.train_on_batch(X_gan, y_gan)\n",
    "        g_hist.append(g_loss)\n",
    "        # summarize loss on this batch\n",
    "        print('>%d, c1=%.3f, c2=%.3f g=%.3f' % (i+1, c1_hist[-1], c2_hist[-1], g_loss))\n",
    "        file.write(str(i+1) + \", \" + str(c1_hist[-1]) + \", \" + str(c2_hist[-1]) + \", \" + str(g_loss) + \"\\n\" )\n",
    "        file.flush()\n",
    "        \n",
    "        # evaluate the model performance every 'epoch'\n",
    "        if (i+1) % bat_per_epo == 0:\n",
    "            summarize_performance(i, g_model, latent_dim)\n",
    "    #return 1\n",
    "    #file.close()\n",
    "    return c1_hist, c2_hist, g_hist\n",
    "    # line plots of loss"
   ]
  },
  {
   "cell_type": "code",
   "execution_count": 89,
   "metadata": {
    "colab": {
     "base_uri": "https://localhost:8080/"
    },
    "id": "dyZTceybLGxr",
    "outputId": "bbc41e7e-b06c-4ba3-fe4b-bef3ae688a5a"
   },
   "outputs": [
    {
     "name": "stdout",
     "output_type": "stream",
     "text": [
      "Model: \"sequential_40\"\n",
      "_________________________________________________________________\n",
      "Layer (type)                 Output Shape              Param #   \n",
      "=================================================================\n",
      "conv2d_41 (Conv2D)           (None, 14, 14, 64)        1088      \n",
      "_________________________________________________________________\n",
      "batch_normalization_54 (Batc (None, 14, 14, 64)        256       \n",
      "_________________________________________________________________\n",
      "leaky_re_lu_67 (LeakyReLU)   (None, 14, 14, 64)        0         \n",
      "_________________________________________________________________\n",
      "conv2d_42 (Conv2D)           (None, 7, 7, 64)          65600     \n",
      "_________________________________________________________________\n",
      "batch_normalization_55 (Batc (None, 7, 7, 64)          256       \n",
      "_________________________________________________________________\n",
      "leaky_re_lu_68 (LeakyReLU)   (None, 7, 7, 64)          0         \n",
      "_________________________________________________________________\n",
      "flatten_14 (Flatten)         (None, 3136)              0         \n",
      "_________________________________________________________________\n",
      "dense_27 (Dense)             (None, 1)                 3137      \n",
      "=================================================================\n",
      "Total params: 70,337\n",
      "Trainable params: 70,081\n",
      "Non-trainable params: 256\n",
      "_________________________________________________________________\n",
      "Model: \"sequential_41\"\n",
      "_________________________________________________________________\n",
      "Layer (type)                 Output Shape              Param #   \n",
      "=================================================================\n",
      "dense_28 (Dense)             (None, 6272)              319872    \n",
      "_________________________________________________________________\n",
      "leaky_re_lu_69 (LeakyReLU)   (None, 6272)              0         \n",
      "_________________________________________________________________\n",
      "reshape_13 (Reshape)         (None, 7, 7, 128)         0         \n",
      "_________________________________________________________________\n",
      "conv2d_transpose_26 (Conv2DT (None, 14, 14, 128)       262272    \n",
      "_________________________________________________________________\n",
      "batch_normalization_56 (Batc (None, 14, 14, 128)       512       \n",
      "_________________________________________________________________\n",
      "leaky_re_lu_70 (LeakyReLU)   (None, 14, 14, 128)       0         \n",
      "_________________________________________________________________\n",
      "conv2d_transpose_27 (Conv2DT (None, 28, 28, 128)       262272    \n",
      "_________________________________________________________________\n",
      "batch_normalization_57 (Batc (None, 28, 28, 128)       512       \n",
      "_________________________________________________________________\n",
      "leaky_re_lu_71 (LeakyReLU)   (None, 28, 28, 128)       0         \n",
      "_________________________________________________________________\n",
      "conv2d_43 (Conv2D)           (None, 28, 28, 1)         6273      \n",
      "=================================================================\n",
      "Total params: 851,713\n",
      "Trainable params: 851,201\n",
      "Non-trainable params: 512\n",
      "_________________________________________________________________\n",
      "(6265, 28, 28, 1)\n"
     ]
    }
   ],
   "source": [
    "# size of the latent space\n",
    "latent_dim = 50\n",
    "# create the critic\n",
    "critic = make_critic()\n",
    "# create the generator\n",
    "generator = make_generator(latent_dim)\n",
    "# create the gan\n",
    "gan_model = make_gan(generator, critic)\n",
    "# load image data\n",
    "dataset = load_real_samples()\n",
    "print(dataset.shape)\n",
    "# train model"
   ]
  },
  {
   "cell_type": "code",
   "execution_count": 90,
   "metadata": {},
   "outputs": [
    {
     "name": "stdout",
     "output_type": "stream",
     "text": [
      ">1, c1=-2.113, c2=0.029 g=-0.003\n",
      ">2, c1=-6.357, c2=0.111 g=-0.013\n",
      ">3, c1=-9.058, c2=0.167 g=-0.021\n",
      ">4, c1=-11.640, c2=0.230 g=-0.029\n",
      ">5, c1=-13.716, c2=0.260 g=-0.037\n",
      ">6, c1=-15.433, c2=0.311 g=-0.049\n",
      ">7, c1=-16.977, c2=0.371 g=-0.062\n",
      ">8, c1=-18.361, c2=0.389 g=-0.079\n",
      ">9, c1=-19.579, c2=0.430 g=-0.094\n",
      ">10, c1=-20.595, c2=0.486 g=-0.116\n",
      ">11, c1=-21.987, c2=0.516 g=-0.138\n",
      ">12, c1=-22.653, c2=0.603 g=-0.169\n",
      ">13, c1=-23.476, c2=0.650 g=-0.201\n",
      ">14, c1=-24.602, c2=0.719 g=-0.238\n",
      ">15, c1=-25.313, c2=0.760 g=-0.281\n",
      ">16, c1=-25.959, c2=0.798 g=-0.322\n",
      ">17, c1=-26.897, c2=0.821 g=-0.367\n",
      ">18, c1=-27.656, c2=0.826 g=-0.429\n",
      ">19, c1=-28.107, c2=0.868 g=-0.471\n",
      ">20, c1=-28.936, c2=0.828 g=-0.542\n",
      ">21, c1=-29.068, c2=0.793 g=-0.626\n",
      ">22, c1=-30.398, c2=0.733 g=-0.697\n",
      ">23, c1=-30.061, c2=0.642 g=-0.794\n",
      ">24, c1=-30.696, c2=0.565 g=-0.898\n",
      ">25, c1=-30.905, c2=0.375 g=-1.011\n",
      ">26, c1=-32.001, c2=0.190 g=-1.140\n",
      ">27, c1=-32.453, c2=-0.141 g=-1.273\n",
      ">28, c1=-32.480, c2=-0.382 g=-1.429\n",
      ">29, c1=-33.727, c2=-0.796 g=-1.583\n",
      ">30, c1=-34.048, c2=-1.196 g=-1.781\n",
      ">31, c1=-34.474, c2=-1.604 g=-2.015\n",
      ">32, c1=-34.938, c2=-2.153 g=-2.230\n",
      ">33, c1=-35.534, c2=-2.813 g=-2.502\n",
      ">34, c1=-35.352, c2=-3.285 g=-2.867\n",
      ">35, c1=-37.273, c2=-3.972 g=-3.128\n",
      ">36, c1=-36.490, c2=-4.833 g=-3.519\n",
      ">37, c1=-36.923, c2=-5.884 g=-3.964\n",
      ">38, c1=-37.627, c2=-6.862 g=-4.387\n",
      ">39, c1=-37.761, c2=-8.297 g=-4.958\n",
      ">40, c1=-38.543, c2=-9.490 g=-5.465\n",
      ">41, c1=-39.151, c2=-10.883 g=-6.148\n",
      ">42, c1=-39.313, c2=-12.123 g=-6.837\n",
      ">43, c1=-39.521, c2=-13.774 g=-7.701\n",
      ">44, c1=-39.766, c2=-15.101 g=-8.570\n",
      ">45, c1=-40.589, c2=-16.300 g=-9.498\n",
      ">46, c1=-40.908, c2=-17.917 g=-10.543\n",
      ">47, c1=-42.242, c2=-19.085 g=-12.000\n",
      ">48, c1=-42.591, c2=-20.220 g=-13.184\n",
      ">49, c1=-42.950, c2=-22.068 g=-14.694\n",
      ">50, c1=-43.285, c2=-23.347 g=-16.448\n",
      ">51, c1=-43.458, c2=-24.962 g=-18.162\n",
      ">52, c1=-44.943, c2=-26.305 g=-19.956\n",
      ">53, c1=-44.483, c2=-27.647 g=-22.184\n",
      ">54, c1=-46.026, c2=-28.851 g=-24.290\n",
      ">55, c1=-46.628, c2=-30.103 g=-26.519\n",
      ">56, c1=-46.842, c2=-31.124 g=-28.689\n",
      ">57, c1=-47.840, c2=-32.484 g=-30.445\n",
      ">58, c1=-48.097, c2=-33.642 g=-33.297\n",
      ">59, c1=-48.930, c2=-34.615 g=-35.723\n",
      ">60, c1=-49.619, c2=-35.703 g=-38.862\n",
      ">61, c1=-50.097, c2=-36.534 g=-40.710\n",
      ">62, c1=-51.067, c2=-37.454 g=-43.175\n",
      ">63, c1=-51.974, c2=-38.468 g=-45.064\n",
      ">64, c1=-52.862, c2=-39.327 g=-46.756\n",
      ">65, c1=-53.167, c2=-40.137 g=-49.693\n",
      ">66, c1=-53.559, c2=-40.990 g=-53.004\n",
      ">67, c1=-54.640, c2=-41.520 g=-56.590\n",
      ">68, c1=-55.036, c2=-42.088 g=-58.453\n",
      ">69, c1=-56.076, c2=-43.002 g=-62.019\n",
      ">70, c1=-56.742, c2=-43.730 g=-63.989\n",
      ">71, c1=-56.796, c2=-44.622 g=-65.731\n",
      ">72, c1=-57.403, c2=-45.496 g=-68.663\n",
      ">73, c1=-58.606, c2=-46.192 g=-69.044\n",
      ">74, c1=-58.242, c2=-47.021 g=-71.602\n",
      ">75, c1=-59.769, c2=-47.837 g=-71.570\n",
      ">76, c1=-59.937, c2=-48.608 g=-74.330\n",
      ">77, c1=-61.008, c2=-49.392 g=-76.903\n",
      ">78, c1=-60.528, c2=-49.788 g=-77.051\n",
      ">79, c1=-61.982, c2=-50.620 g=-78.669\n",
      ">80, c1=-62.870, c2=-51.304 g=-79.782\n",
      ">81, c1=-62.984, c2=-51.994 g=-81.967\n",
      ">82, c1=-64.061, c2=-52.669 g=-82.588\n",
      ">83, c1=-64.273, c2=-53.390 g=-83.897\n",
      ">84, c1=-65.448, c2=-54.086 g=-83.115\n",
      ">85, c1=-65.964, c2=-54.929 g=-82.830\n",
      ">86, c1=-66.002, c2=-55.598 g=-86.264\n",
      ">87, c1=-67.152, c2=-56.418 g=-87.102\n",
      ">88, c1=-67.739, c2=-57.230 g=-88.426\n",
      ">89, c1=-68.430, c2=-57.668 g=-86.946\n",
      ">90, c1=-68.894, c2=-58.176 g=-89.094\n",
      ">91, c1=-69.814, c2=-58.656 g=-88.707\n",
      ">92, c1=-70.278, c2=-59.417 g=-89.110\n",
      ">93, c1=-70.466, c2=-60.237 g=-90.347\n",
      ">94, c1=-71.441, c2=-61.140 g=-90.824\n",
      ">95, c1=-71.974, c2=-61.487 g=-92.484\n",
      ">96, c1=-72.931, c2=-62.682 g=-92.194\n",
      ">97, c1=-73.246, c2=-63.308 g=-97.709\n",
      ">Saved: generated_plot_0097.png and model_0097.h5\n"
     ]
    }
   ],
   "source": [
    "c1_hist, c2_hist, g_hist = train(generator, critic, gan_model, dataset, latent_dim)"
   ]
  },
  {
   "cell_type": "code",
   "execution_count": 92,
   "metadata": {},
   "outputs": [
    {
     "data": {
      "image/png": "[encoded data removed]",
      "text/plain": [
       "<Figure size 432x288 with 1 Axes>"
      ]
     },
     "metadata": {
      "needs_background": "light"
     },
     "output_type": "display_data"
    }
   ],
   "source": [
    "plot_history(c1_hist, c2_hist, g_hist)"
   ]
  },
  {
   "cell_type": "code",
   "execution_count": null,
   "metadata": {},
   "outputs": [],
   "source": []
  }
 ],
 "metadata": {
  "colab": {
   "authorship_tag": "ABX9TyN9bBxoLT09k18gZQuYO7zX",
   "include_colab_link": true,
   "name": "WGAN_mnist_example2.ipynb",
   "provenance": []
  },
  "kernelspec": {
   "display_name": "Python 3",
   "language": "python",
   "name": "python3"
  },
  "language_info": {
   "codemirror_mode": {
    "name": "ipython",
    "version": 3
   },
   "file_extension": ".py",
   "mimetype": "text/x-python",
   "name": "python",
   "nbconvert_exporter": "python",
   "pygments_lexer": "ipython3",
   "version": "3.7.4"
  }
 },
 "nbformat": 4,
 "nbformat_minor": 1
}
