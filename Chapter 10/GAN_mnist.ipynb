{
  "nbformat": 4,
  "nbformat_minor": 0,
  "metadata": {
    "kernelspec": {
      "display_name": "Python 3.7.7 64-bit ('tf': conda)",
      "language": "python",
      "name": "python37764bittfconda003636c015c146309c74c3bc0052f30e"
    },
    "language_info": {
      "codemirror_mode": {
        "name": "ipython",
        "version": 3
      },
      "file_extension": ".py",
      "mimetype": "text/x-python",
      "name": "python",
      "nbconvert_exporter": "python",
      "pygments_lexer": "ipython3",
      "version": "3.7.7"
    },
    "colab": {
      "name": "GAN_mnist.ipynb",
      "provenance": []
    }
  },
  "cells": [
    {
      "cell_type": "markdown",
      "metadata": {
        "id": "qyDV1vLkUZzD"
      },
      "source": [
        "# Demistifying GANs in TensorFlow 2.0"
      ]
    },
    {
      "cell_type": "code",
      "metadata": {
        "id": "ZqN3fKxsUZzF"
      },
      "source": [
        "import tensorflow as tf\n",
        "import numpy as np\n",
        "import matplotlib.pyplot as plt\n",
        "from tensorflow import keras"
      ],
      "execution_count": 1,
      "outputs": []
    },
    {
      "cell_type": "code",
      "metadata": {
        "id": "mLNOs2a2UZzG",
        "outputId": "9e902d83-1402-451d-933d-1e60495bddfd",
        "colab": {
          "base_uri": "https://localhost:8080/"
        }
      },
      "source": [
        "print(tf.__version__)"
      ],
      "execution_count": 2,
      "outputs": [
        {
          "output_type": "stream",
          "text": [
            "2.5.0\n"
          ],
          "name": "stdout"
        }
      ]
    },
    {
      "cell_type": "markdown",
      "metadata": {
        "id": "5dRpQ2ukUZzI"
      },
      "source": [
        "## Global Parameters"
      ]
    },
    {
      "cell_type": "code",
      "metadata": {
        "id": "F872DSWIUZzI"
      },
      "source": [
        "BATCH_SIZE = 256\n",
        "BUFFER_SIZE = 60000\n",
        "EPOCHES = 300\n",
        "OUTPUT_DIR = \"img\" # The output directory where the images of the generator a stored during training"
      ],
      "execution_count": 4,
      "outputs": []
    },
    {
      "cell_type": "markdown",
      "metadata": {
        "id": "fu4ZAJQrUZzL"
      },
      "source": [
        "## Loading the MNIST dataset"
      ]
    },
    {
      "cell_type": "code",
      "metadata": {
        "id": "Rsi3dfG0UZzM"
      },
      "source": [
        "mnist = keras.datasets.mnist"
      ],
      "execution_count": 5,
      "outputs": []
    },
    {
      "cell_type": "code",
      "metadata": {
        "id": "_T6pH33hUZzM",
        "outputId": "c624a751-1c09-4cbc-9d37-3a2182509118",
        "colab": {
          "base_uri": "https://localhost:8080/"
        }
      },
      "source": [
        "(train_images, train_labels), (test_images, test_labels) = mnist.load_data()"
      ],
      "execution_count": 6,
      "outputs": [
        {
          "output_type": "stream",
          "text": [
            "Downloading data from https://storage.googleapis.com/tensorflow/tf-keras-datasets/mnist.npz\n",
            "11493376/11490434 [==============================] - 0s 0us/step\n"
          ],
          "name": "stdout"
        }
      ]
    },
    {
      "cell_type": "code",
      "metadata": {
        "id": "9wFmk_UwUZzM",
        "outputId": "a500b5a0-390d-4328-c18d-367a464aaba8",
        "colab": {
          "base_uri": "https://localhost:8080/"
        }
      },
      "source": [
        "#train_images[0]\n",
        "(train_images[0].shape)"
      ],
      "execution_count": 7,
      "outputs": [
        {
          "output_type": "execute_result",
          "data": {
            "text/plain": [
              "(28, 28)"
            ]
          },
          "metadata": {
            "tags": []
          },
          "execution_count": 7
        }
      ]
    },
    {
      "cell_type": "code",
      "metadata": {
        "id": "XrKX-YiyUZzN",
        "outputId": "8d1b4122-ae02-4876-b133-f80cc9f327ba",
        "colab": {
          "base_uri": "https://localhost:8080/"
        }
      },
      "source": [
        "train_images.shape"
      ],
      "execution_count": 8,
      "outputs": [
        {
          "output_type": "execute_result",
          "data": {
            "text/plain": [
              "(60000, 28, 28)"
            ]
          },
          "metadata": {
            "tags": []
          },
          "execution_count": 8
        }
      ]
    },
    {
      "cell_type": "code",
      "metadata": {
        "id": "39QBPL34UZzO",
        "outputId": "d090a747-16b5-48f8-f101-e8717cf5aa76",
        "colab": {
          "base_uri": "https://localhost:8080/",
          "height": 282
        }
      },
      "source": [
        "plt.imshow(train_images[1], cmap = \"gray\")"
      ],
      "execution_count": 9,
      "outputs": [
        {
          "output_type": "execute_result",
          "data": {
            "text/plain": [
              "<matplotlib.image.AxesImage at 0x7f5a460e29d0>"
            ]
          },
          "metadata": {
            "tags": []
          },
          "execution_count": 9
        },
        {
          "output_type": "display_data",
          "data": {
            "image/png": "[encoded data removed]",
            "text/plain": [
              "<Figure size 432x288 with 1 Axes>"
            ]
          },
          "metadata": {
            "tags": [],
            "needs_background": "light"
          }
        }
      ]
    },
    {
      "cell_type": "markdown",
      "metadata": {
        "id": "35IxN1NjUZzO"
      },
      "source": [
        "### Adding the Data to tf.Dataset"
      ]
    },
    {
      "cell_type": "code",
      "metadata": {
        "id": "ZLUjLHDAUZzO"
      },
      "source": [
        "train_images = train_images.astype(\"float32\")\n",
        "train_images = (train_images - 127.5) / 127.5"
      ],
      "execution_count": 21,
      "outputs": []
    },
    {
      "cell_type": "code",
      "metadata": {
        "id": "jUORjRo4UZzO"
      },
      "source": [
        "train_dataset = tf.data.Dataset.from_tensor_slices(train_images.reshape(train_images.shape[0],784)).shuffle(BUFFER_SIZE).batch(BATCH_SIZE)"
      ],
      "execution_count": 11,
      "outputs": []
    },
    {
      "cell_type": "code",
      "metadata": {
        "id": "v8EcW5NWUZzP",
        "outputId": "8171f35a-cb9d-4ff3-c1ce-7f03ad4bbfdb",
        "colab": {
          "base_uri": "https://localhost:8080/"
        }
      },
      "source": [
        "train_dataset"
      ],
      "execution_count": 22,
      "outputs": [
        {
          "output_type": "execute_result",
          "data": {
            "text/plain": [
              "<BatchDataset shapes: (None, 784), types: tf.float32>"
            ]
          },
          "metadata": {
            "tags": []
          },
          "execution_count": 22
        }
      ]
    },
    {
      "cell_type": "markdown",
      "metadata": {
        "id": "i7fO2zCHUZzP"
      },
      "source": [
        "## Generator Network"
      ]
    },
    {
      "cell_type": "code",
      "metadata": {
        "id": "O_LvxjSlUZzP"
      },
      "source": [
        "class Generator(keras.Model):\n",
        "    \n",
        "    def __init__(self, random_noise_size = 100):\n",
        "        super().__init__(name='generator')\n",
        "        #layers\n",
        "        self.input_layer = keras.layers.Dense(units = random_noise_size)\n",
        "        self.dense_1 = keras.layers.Dense(units = 128)\n",
        "        self.leaky_1 =  keras.layers.LeakyReLU(alpha = 0.01)\n",
        "        self.dense_2 = keras.layers.Dense(units = 128)\n",
        "        self.leaky_2 = keras.layers.LeakyReLU(alpha = 0.01)\n",
        "        self.dense_3 = keras.layers.Dense(units = 256)\n",
        "        self.leaky_3 = keras.layers.LeakyReLU(alpha = 0.01)\n",
        "        self.output_layer = keras.layers.Dense(units=784, activation = \"tanh\")\n",
        "        \n",
        "    def call(self, input_tensor):\n",
        "        ## Definition of Forward Pass\n",
        "        x = self.input_layer(input_tensor)\n",
        "        x = self.dense_1(x)\n",
        "        x = self.leaky_1(x)\n",
        "        x = self.dense_2(x)\n",
        "        x = self.leaky_2(x)\n",
        "        x = self.dense_3(x)\n",
        "        x = self.leaky_3(x)\n",
        "        return  self.output_layer(x)\n",
        "    \n",
        "    def generate_noise(self,batch_size, random_noise_size):\n",
        "        return np.random.uniform(-1,1, size = (batch_size, random_noise_size))"
      ],
      "execution_count": 23,
      "outputs": []
    },
    {
      "cell_type": "markdown",
      "metadata": {
        "id": "B9ruDQPgUZzQ"
      },
      "source": [
        "### Objective Function"
      ]
    },
    {
      "cell_type": "code",
      "metadata": {
        "id": "Qud6D4WMUZzQ"
      },
      "source": [
        "cross_entropy = tf.keras.losses.BinaryCrossentropy(from_logits = True)"
      ],
      "execution_count": 24,
      "outputs": []
    },
    {
      "cell_type": "code",
      "metadata": {
        "id": "aSSKuFrMUZzQ"
      },
      "source": [
        "def generator_objective(dx_of_gx):\n",
        "    # Labels are true here because generator thinks he produces real images. \n",
        "    return cross_entropy(tf.ones_like(dx_of_gx), dx_of_gx) "
      ],
      "execution_count": 25,
      "outputs": []
    },
    {
      "cell_type": "markdown",
      "metadata": {
        "id": "_mAIwOEgUZzQ"
      },
      "source": [
        "### Plotting The Noise (Fake Image)"
      ]
    },
    {
      "cell_type": "code",
      "metadata": {
        "id": "pDxs1dfWUZzR"
      },
      "source": [
        "generator = Generator()"
      ],
      "execution_count": 26,
      "outputs": []
    },
    {
      "cell_type": "code",
      "metadata": {
        "id": "r9eVNPR1UZzR"
      },
      "source": [
        "fake_image = generator(np.random.uniform(-1,1, size =(1,100)))"
      ],
      "execution_count": 30,
      "outputs": []
    },
    {
      "cell_type": "code",
      "metadata": {
        "id": "e5PCIoKwUZzR"
      },
      "source": [
        "fake_image = tf.reshape(fake_image, shape = (28,28))"
      ],
      "execution_count": 31,
      "outputs": []
    },
    {
      "cell_type": "code",
      "metadata": {
        "id": "12Bkk-SqUZzR",
        "outputId": "42a59566-b388-4e94-b984-dd891bbfef5b",
        "colab": {
          "base_uri": "https://localhost:8080/",
          "height": 282
        }
      },
      "source": [
        "plt.imshow(fake_image, cmap = \"gray\")"
      ],
      "execution_count": 32,
      "outputs": [
        {
          "output_type": "execute_result",
          "data": {
            "text/plain": [
              "<matplotlib.image.AxesImage at 0x7f5a4223ff10>"
            ]
          },
          "metadata": {
            "tags": []
          },
          "execution_count": 32
        },
        {
          "output_type": "display_data",
          "data": {
            "image/png": "[encoded data removed]",
            "text/plain": [
              "<Figure size 432x288 with 1 Axes>"
            ]
          },
          "metadata": {
            "tags": [],
            "needs_background": "light"
          }
        }
      ]
    },
    {
      "cell_type": "markdown",
      "metadata": {
        "id": "i4JM7QJaUZzR"
      },
      "source": [
        "## Discriminator Network"
      ]
    },
    {
      "cell_type": "code",
      "metadata": {
        "id": "IQAaJ2l8UZzS"
      },
      "source": [
        "class Discriminator(keras.Model):\n",
        "    def __init__(self):\n",
        "        super().__init__(name = \"discriminator\")\n",
        "        \n",
        "        #Layers\n",
        "        self.input_layer = keras.layers.Dense(units = 784)\n",
        "        self.dense_1 = keras.layers.Dense(units = 128)\n",
        "        self.leaky_1 =  keras.layers.LeakyReLU(alpha = 0.01)\n",
        "        self.dense_2 = keras.layers.Dense(units = 128)\n",
        "        self.leaky_2 = keras.layers.LeakyReLU(alpha = 0.01)\n",
        "        self.dense_3 = keras.layers.Dense(units = 128)\n",
        "        self.leaky_3 = keras.layers.LeakyReLU(alpha = 0.01)\n",
        "        \n",
        "        self.logits = keras.layers.Dense(units = 1)  # This neuron tells us if the input is fake or real\n",
        "    def call(self, input_tensor):\n",
        "          ## Definition of Forward Pass\n",
        "        x = self.input_layer(input_tensor)\n",
        "        x = self.dense_1(x)\n",
        "        x = self.leaky_1(x)\n",
        "        x = self.leaky_2(x)\n",
        "        x = self.leaky_3(x)\n",
        "        x = self.leaky_3(x)\n",
        "        x = self.logits(x)\n",
        "        return x"
      ],
      "execution_count": 33,
      "outputs": []
    },
    {
      "cell_type": "code",
      "metadata": {
        "id": "4O7tnbOlUZzS"
      },
      "source": [
        "discriminator = Discriminator()"
      ],
      "execution_count": 34,
      "outputs": []
    },
    {
      "cell_type": "markdown",
      "metadata": {
        "id": "FgkE6WIOUZzS"
      },
      "source": [
        "### Objective Function"
      ]
    },
    {
      "cell_type": "code",
      "metadata": {
        "id": "9DOXdbdaUZzS"
      },
      "source": [
        "def discriminator_objective(d_x, g_z, smoothing_factor = 0.9):\n",
        "    \"\"\"\n",
        "    d_x = real output\n",
        "    g_z = fake output\n",
        "    \"\"\"\n",
        "    real_loss = cross_entropy(tf.ones_like(d_x) * smoothing_factor, d_x) # If we feed the discriminator with real images, we assume they all are the right pictures --> Because of that label == 1\n",
        "    fake_loss = cross_entropy(tf.zeros_like(g_z), g_z) # Each noise we feed in are fakes image --> Because of that labels are 0\n",
        "    \n",
        "    total_loss = real_loss + fake_loss\n",
        "    \n",
        "    return total_loss"
      ],
      "execution_count": 43,
      "outputs": []
    },
    {
      "cell_type": "markdown",
      "metadata": {
        "id": "wngCTuasUZzS"
      },
      "source": [
        "## Optimizer"
      ]
    },
    {
      "cell_type": "code",
      "metadata": {
        "id": "dRiGqhkeUZzT"
      },
      "source": [
        "generator_optimizer = keras.optimizers.RMSprop()\n",
        "discriminator_optimizer = keras.optimizers.RMSprop()"
      ],
      "execution_count": 36,
      "outputs": []
    },
    {
      "cell_type": "markdown",
      "metadata": {
        "id": "jsA72e8cUZzT"
      },
      "source": [
        "## Training Functions"
      ]
    },
    {
      "cell_type": "code",
      "metadata": {
        "id": "LcEbbebeUZzT"
      },
      "source": [
        "@tf.function()\n",
        "def training_step(generator: Discriminator, discriminator: Discriminator, images:np.ndarray , k:int =1, batch_size = 32):\n",
        "    for _ in range(k):\n",
        "         with tf.GradientTape() as gen_tape, tf.GradientTape() as disc_tape:\n",
        "            noise = generator.generate_noise(batch_size, 100)\n",
        "            g_z = generator(noise)\n",
        "            d_x_true = discriminator(images) # Trainable?\n",
        "            d_x_fake = discriminator(g_z) # dx_of_gx\n",
        "\n",
        "            discriminator_loss = discriminator_objective(d_x_true, d_x_fake)\n",
        "            # Adjusting Gradient of Discriminator\n",
        "            gradients_of_discriminator = disc_tape.gradient(discriminator_loss, discriminator.trainable_variables)\n",
        "            discriminator_optimizer.apply_gradients(zip(gradients_of_discriminator, discriminator.trainable_variables)) # Takes a list of gradient and variables pairs\n",
        "            \n",
        "              \n",
        "            generator_loss = generator_objective(d_x_fake)\n",
        "            # Adjusting Gradient of Generator\n",
        "            gradients_of_generator = gen_tape.gradient(generator_loss, generator.trainable_variables)\n",
        "            generator_optimizer.apply_gradients(zip(gradients_of_generator, generator.trainable_variables)) \n",
        "    "
      ],
      "execution_count": 37,
      "outputs": []
    },
    {
      "cell_type": "code",
      "metadata": {
        "id": "3iF8LUBbUZzT"
      },
      "source": [
        "seed = np.random.uniform(-1,1, size = (1, 100)) # generating some noise for the training"
      ],
      "execution_count": 38,
      "outputs": []
    },
    {
      "cell_type": "code",
      "metadata": {
        "id": "Xw9FramYUZzU"
      },
      "source": [
        "# Just to make sure the output directory exists..\n",
        "import os\n",
        "directory=OUTPUT_DIR\n",
        "if not os.path.exists(directory):\n",
        "    os.makedirs(directory)"
      ],
      "execution_count": 39,
      "outputs": []
    },
    {
      "cell_type": "code",
      "metadata": {
        "id": "Ob_RuLr6UZzU"
      },
      "source": [
        "def training(dataset, epoches):\n",
        "    for epoch in range(epoches):\n",
        "        for batch in dataset: \n",
        "            training_step(generator, discriminator, batch ,batch_size = BATCH_SIZE, k = 1)\n",
        "            \n",
        "        ## After ith epoch plot image \n",
        "        if (epoch % 50) == 0: \n",
        "            fake_image = tf.reshape(generator(seed), shape = (28,28))\n",
        "            print(\"{}/{} epoches\".format(epoch, epoches))\n",
        "            #plt.imshow(fake_image, cmap = \"gray\")\n",
        "            plt.imsave(\"{}/{}.png\".format(OUTPUT_DIR,epoch),fake_image, cmap = \"gray\")"
      ],
      "execution_count": 40,
      "outputs": []
    },
    {
      "cell_type": "code",
      "metadata": {
        "id": "F8dy0lUiUZzU",
        "outputId": "8b0fb014-91d0-47c3-84c7-03b0cf62cd99",
        "colab": {
          "base_uri": "https://localhost:8080/"
        }
      },
      "source": [
        "%%time\n",
        "training(train_dataset, EPOCHES)"
      ],
      "execution_count": 41,
      "outputs": [
        {
          "output_type": "stream",
          "text": [
            "0/300 epoches\n",
            "50/300 epoches\n",
            "100/300 epoches\n",
            "150/300 epoches\n",
            "200/300 epoches\n",
            "250/300 epoches\n",
            "CPU times: user 1h 57min 2s, sys: 10min 15s, total: 2h 7min 18s\n",
            "Wall time: 1h 8min 27s\n"
          ],
          "name": "stdout"
        }
      ]
    },
    {
      "cell_type": "markdown",
      "metadata": {
        "id": "vprwrrXLUZzU"
      },
      "source": [
        "## Testing the Generator"
      ]
    },
    {
      "cell_type": "code",
      "metadata": {
        "id": "fm1qsWnuUZzU",
        "outputId": "42d8269f-d45a-4f32-b045-5c3600c2b3ee",
        "colab": {
          "base_uri": "https://localhost:8080/",
          "height": 282
        }
      },
      "source": [
        "fake_image = generator(np.random.uniform(-1,1, size = (1, 100)))\n",
        "plt.imshow(tf.reshape(fake_image, shape = (28,28)), cmap=\"gray\")"
      ],
      "execution_count": 44,
      "outputs": [
        {
          "output_type": "execute_result",
          "data": {
            "text/plain": [
              "<matplotlib.image.AxesImage at 0x7f5a406c6750>"
            ]
          },
          "metadata": {
            "tags": []
          },
          "execution_count": 44
        },
        {
          "output_type": "display_data",
          "data": {
            "image/png": "[encoded data removed]",
            "text/plain": [
              "<Figure size 432x288 with 1 Axes>"
            ]
          },
          "metadata": {
            "tags": [],
            "needs_background": "light"
          }
        }
      ]
    },
    {
      "cell_type": "raw",
      "metadata": {
        "id": "BoWLJKdaUZzV"
      },
      "source": [
        "plt.imsave(\"article/0.png\",tf.reshape(fake_image, shape = (28,28)), cmap=\"gray\")"
      ]
    },
    {
      "cell_type": "markdown",
      "metadata": {
        "id": "afUYce-_UZzV"
      },
      "source": [
        "## Obsolete Training Function\n",
        "\n",
        "I tried to implement the training step with the k factor as described in the original paper. I achieved much worse results as with the function above. Maybe i did something wrong?!\n"
      ]
    },
    {
      "cell_type": "markdown",
      "metadata": {
        "id": "Rz0rTa8uUZzV"
      },
      "source": [
        "@tf.function()\n",
        "def training_step(generator: Discriminator, discriminator: Discriminator, images:np.ndarray , k:int =1, batch_size = 256):\n",
        "    for _ in range(k):\n",
        "        with tf.GradientTape() as disc_tape:\n",
        "            noise = generator.generate_noise(batch_size, 100)\n",
        "            g_z = generator(noise)\n",
        "            d_x_true = discriminator(images) # Trainable?\n",
        "            d_x_fake = discriminator(g_z) # dx_of_gx\n",
        "\n",
        "            discriminator_loss = discriminator_objective(d_x_true, d_x_fake, smoothing_factor=0.9)\n",
        "            # Adjusting Gradient of Discriminator\n",
        "            gradients_of_discriminator = disc_tape.gradient(discriminator_loss, discriminator.trainable_variables)\n",
        "            discriminator_optimizer.apply_gradients(zip(gradients_of_discriminator, discriminator.trainable_variables)) # Takes a list of gradient and variables pairs\n",
        "    \n",
        "    with tf.GradientTape() as gen_tape:\n",
        "        noise = generator.generate_noise(batch_size, 100)\n",
        "        d_x_fake = discriminator(generator(noise))\n",
        "        generator_loss = generator_objective(d_x_fake)\n",
        "        # Adjusting Gradient of Generator\n",
        "        gradients_of_generator = gen_tape.gradient(generator_loss, generator.trainable_variables)\n",
        "        generator_optimizer.apply_gradients(zip(gradients_of_generator, generator.trainable_variables)) "
      ]
    },
    {
      "cell_type": "code",
      "metadata": {
        "id": "XX8WXo3yUZzV"
      },
      "source": [
        ""
      ],
      "execution_count": null,
      "outputs": []
    },
    {
      "cell_type": "code",
      "metadata": {
        "id": "kt6cRfonUZzV"
      },
      "source": [
        ""
      ],
      "execution_count": null,
      "outputs": []
    }
  ]
}