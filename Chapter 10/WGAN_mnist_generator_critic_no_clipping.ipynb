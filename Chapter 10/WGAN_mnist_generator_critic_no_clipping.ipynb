{
 "cells": [
  {
   "cell_type": "markdown",
   "metadata": {
    "colab_type": "text",
    "id": "view-in-github"
   },
   "source": [
    "<a href=\"https://colab.research.google.com/github/rajdeepd/tensorflow_2.0_book_code/blob/master/ch08/WGAN_mnist_example2.ipynb\" target=\"_parent\"><img src=\"https://colab.research.google.com/assets/colab-badge.svg\" alt=\"Open In Colab\"/></a>"
   ]
  },
  {
   "cell_type": "code",
   "execution_count": 1,
   "metadata": {
    "id": "LBWSmkvm4f9K"
   },
   "outputs": [],
   "source": [
    "# example of a wgan for generating handwritten digits\n",
    "from numpy import expand_dims\n",
    "from numpy import mean\n",
    "from numpy import ones\n",
    "from numpy.random import randn\n",
    "from numpy.random import randint\n",
    "from tensorflow.keras.datasets.mnist import load_data\n",
    "from tensorflow.keras import backend\n",
    "from tensorflow.keras.optimizers import RMSprop\n",
    "from tensorflow.keras.models import Sequential\n",
    "from tensorflow.keras.layers import Dense\n",
    "from tensorflow.keras.layers import Reshape\n",
    "from tensorflow.keras.layers import Flatten\n",
    "from tensorflow.keras.layers import Conv2D\n",
    "from tensorflow.keras.layers import Conv2DTranspose\n",
    "from tensorflow.keras.layers import LeakyReLU\n",
    "from tensorflow.keras.layers import BatchNormalization\n",
    "from tensorflow.keras.initializers import RandomNormal\n",
    "from tensorflow.keras.constraints import Constraint\n",
    "from matplotlib import pyplot"
   ]
  },
  {
   "cell_type": "code",
   "execution_count": 2,
   "metadata": {
    "id": "xzRLjn8d45xV"
   },
   "outputs": [],
   "source": [
    "# clip model weights to a given hypercube\n",
    "class ClipConstraint(Constraint):\n",
    "    # set clip value when initialized\n",
    "    def __init__(self, clip_value):\n",
    "        self.clip_value = clip_value\n",
    "\n",
    "    # clip model weights to hypercube\n",
    "    def __call__(self, weights):\n",
    "        return backend.clip(weights, -self.clip_value, self.clip_value)\n",
    "\n",
    "    # get the config\n",
    "    def get_config(self):\n",
    "        return {'clip_value': self.clip_value}\n"
   ]
  },
  {
   "cell_type": "code",
   "execution_count": 3,
   "metadata": {
    "id": "8De_MLNz4_X7"
   },
   "outputs": [],
   "source": [
    "# calculate wasserstein loss\n",
    "def wasserstein_loss(y_true, y_pred):\n",
    "    return backend.mean(y_true * y_pred)"
   ]
  },
  {
   "cell_type": "code",
   "execution_count": 8,
   "metadata": {
    "id": "S7_QS_Ff5Fpj"
   },
   "outputs": [],
   "source": [
    "# define the critic model\n",
    "def make_critic(in_shape=(28,28,1)):\n",
    "    # weight initialization\n",
    "    init = RandomNormal(stddev=0.02)\n",
    "    # weight constraint\n",
    "    const = ClipConstraint(0.01)\n",
    "    # define model\n",
    "    model = Sequential()\n",
    "    # downsample to 14x14\n",
    "    model.add(Conv2D(64, (4,4), strides=(2,2), padding='same', kernel_initializer=init, kernel_constraint=None, input_shape=in_shape))\n",
    "    model.add(BatchNormalization())\n",
    "    model.add(LeakyReLU(alpha=0.2))\n",
    "    # downsample to 7x7\n",
    "    model.add(Conv2D(64, (4,4), strides=(2,2), padding='same', kernel_initializer=init, kernel_constraint=None))\n",
    "    model.add(BatchNormalization())\n",
    "    model.add(LeakyReLU(alpha=0.2))\n",
    "    # scoring, linear activation\n",
    "    model.add(Flatten())\n",
    "    model.add(Dense(1))\n",
    "    # compile model\n",
    "    opt = RMSprop(lr=0.00005)\n",
    "    model.compile(loss=wasserstein_loss, optimizer=opt)\n",
    "    model.summary()\n",
    "    return model\n",
    "\n",
    "# define the standalone generator model\n",
    "def make_generator(latent_dim):\n",
    "    # weight initialization\n",
    "    init = RandomNormal(stddev=0.02)\n",
    "    # define model\n",
    "    model = Sequential()\n",
    "    # foundation for 7x7 image\n",
    "    n_nodes = 128 * 7 * 7\n",
    "    model.add(Dense(n_nodes, kernel_initializer=init, input_dim=latent_dim))\n",
    "    model.add(LeakyReLU(alpha=0.2))\n",
    "    model.add(Reshape((7, 7, 128)))\n",
    "    # upsample to 14x14\n",
    "    model.add(Conv2DTranspose(128, (4,4), strides=(2,2), padding='same', kernel_initializer=init))\n",
    "    model.add(BatchNormalization())\n",
    "    model.add(LeakyReLU(alpha=0.2))\n",
    "    # upsample to 28x28\n",
    "    model.add(Conv2DTranspose(128, (4,4), strides=(2,2), padding='same', kernel_initializer=init))\n",
    "    model.add(BatchNormalization())\n",
    "    model.add(LeakyReLU(alpha=0.2))\n",
    "    # output 28x28x1\n",
    "    model.add(Conv2D(1, (7,7), activation='tanh', padding='same', kernel_initializer=init))\n",
    "    model.summary()\n",
    "    return model"
   ]
  },
  {
   "cell_type": "code",
   "execution_count": 9,
   "metadata": {
    "id": "v2LmRAc_5Oe4"
   },
   "outputs": [],
   "source": [
    "# define the combined generator and critic model, for updating the generator\n",
    "def make_gan(generator, critic):\n",
    "    # make weights in the critic not trainable\n",
    "    critic.trainable = False\n",
    "    # connect them\n",
    "    model = Sequential()\n",
    "    # add generator\n",
    "    model.add(generator)\n",
    "    # add the critic\n",
    "    model.add(critic)\n",
    "    # compile model\n",
    "    opt = RMSprop(lr=0.00005)\n",
    "    model.compile(loss=wasserstein_loss, optimizer=opt)\n",
    "    return model"
   ]
  },
  {
   "cell_type": "code",
   "execution_count": 10,
   "metadata": {
    "id": "kfNcKECN5UEW"
   },
   "outputs": [],
   "source": [
    "# load images\n",
    "def load_real_samples():\n",
    "    # load dataset\n",
    "    (trainX, trainy), (_, _) = load_data()\n",
    "    # select all of the examples for a given class\n",
    "    selected_ix = trainy == 7\n",
    "    X = trainX[selected_ix]\n",
    "    # expand to 3d, e.g. add channels\n",
    "    X = expand_dims(X, axis=-1)\n",
    "    # convert from ints to floats\n",
    "    X = X.astype('float32')\n",
    "    # scale from [0,255] to [-1,1]\n",
    "    X = (X - 127.5) / 127.5\n",
    "    return X"
   ]
  },
  {
   "cell_type": "code",
   "execution_count": 11,
   "metadata": {
    "id": "EghSvzEo5hG-"
   },
   "outputs": [],
   "source": [
    "# select real samples\n",
    "def generate_real_samples(dataset, n_samples):\n",
    "    # choose random instances\n",
    "    ix = randint(0, dataset.shape[0], n_samples)\n",
    "    # select images\n",
    "    X = dataset[ix]\n",
    "    # generate class labels, -1 for 'real'\n",
    "    y = -ones((n_samples, 1))\n",
    "    return X, y\n"
   ]
  },
  {
   "cell_type": "code",
   "execution_count": 12,
   "metadata": {
    "id": "8yw2Ez36KuqZ"
   },
   "outputs": [],
   "source": [
    "# generate points in latent space as input for the generator\n",
    "def generate_latent_points(latent_dim, n_samples):\n",
    "    # generate points in the latent space\n",
    "    x_input = randn(latent_dim * n_samples)\n",
    "    # reshape into a batch of inputs for the network\n",
    "    x_input = x_input.reshape(n_samples, latent_dim)\n",
    "    return x_input"
   ]
  },
  {
   "cell_type": "code",
   "execution_count": 13,
   "metadata": {
    "id": "Y4Zii7dvKy2r"
   },
   "outputs": [],
   "source": [
    "# use the generator to generate n fake examples, with class labels\n",
    "def generate_fake_samples(generator, latent_dim, n_samples):\n",
    "    # generate points in latent space\n",
    "    x_input = generate_latent_points(latent_dim, n_samples)\n",
    "    # predict outputs\n",
    "    X = generator.predict(x_input)\n",
    "    # create class labels with 1.0 for 'fake'\n",
    "    y = ones((n_samples, 1))\n",
    "    return X, y"
   ]
  },
  {
   "cell_type": "code",
   "execution_count": 14,
   "metadata": {
    "id": "xITwykPOK3O3"
   },
   "outputs": [],
   "source": [
    "# generate samples and save as a plot and save the model\n",
    "def summarize_performance(step, g_model, latent_dim, n_samples=100):\n",
    "    # prepare fake examples\n",
    "    X, _ = generate_fake_samples(g_model, latent_dim, n_samples)\n",
    "    # scale from [-1,1] to [0,1]\n",
    "    X = (X + 1) / 2.0\n",
    "    # plot images\n",
    "    for i in range(10 * 10):\n",
    "        # define subplot\n",
    "        pyplot.subplot(10, 10, 1 + i)\n",
    "        # turn off axis\n",
    "        pyplot.axis('off')\n",
    "        # plot raw pixel data\n",
    "        pyplot.imshow(X[i, :, :, 0], cmap='gray_r')\n",
    "    # save plot to file\n",
    "    filename1 = 'generated_plot_%04d.png' % (step+1)\n",
    "    pyplot.savefig(filename1)\n",
    "    pyplot.close()\n",
    "    # save the generator model\n",
    "    filename2 = 'model_%04d.h5' % (step+1)\n",
    "    g_model.save(filename2)\n",
    "    print('>Saved: %s and %s' % (filename1, filename2))"
   ]
  },
  {
   "cell_type": "code",
   "execution_count": 26,
   "metadata": {
    "id": "Yhmj3qmHK4vW"
   },
   "outputs": [],
   "source": [
    "# create a line plot of loss for the gan and save to file\n",
    "%matplotlib inline\n",
    "def plot_history(d1_hist, d2_hist, g_hist):\n",
    "    # plot history\n",
    "    pyplot.plot(d1_hist, label='crit_real')\n",
    "    pyplot.plot(d2_hist, label='crit_fake')\n",
    "    pyplot.plot(g_hist, label='gen')\n",
    "    pyplot.legend()\n",
    "    pyplot.title('WGAN Losses - No Clipping')\n",
    "    pyplot.show()\n",
    "    pyplot.savefig('plot_wgan_line_plot_loss.png')\n",
    "    pyplot.close()"
   ]
  },
  {
   "cell_type": "code",
   "execution_count": 23,
   "metadata": {
    "id": "RYnFW4OOLCwN"
   },
   "outputs": [
    {
     "name": "stdout",
     "output_type": "stream",
     "text": [
      "2021-01-19 20:27:02\n",
      "wgan_losses_no_clipping_2021-01-19 20:27:02.csv\n"
     ]
    }
   ],
   "source": [
    "# train the generator and critic\n",
    "from datetime import datetime\n",
    "now = datetime.now().strftime(\"%Y-%m-%d %H:%M:%S\")\n",
    "print(now)\n",
    "filename = 'wgan_losses_no_clipping_' + now + '.csv'\n",
    "print(filename)\n",
    "file = open(filename, 'w+', newline ='\\n') \n",
    "\n",
    "def train(g_model, c_model, gan_model, dataset, latent_dim, n_epochs=1, n_batch=64, n_critic=5):\n",
    "    # calculate the number of batches per training epoch\n",
    "    bat_per_epo = int(dataset.shape[0] / n_batch)\n",
    "    # calculate the nufile = open('g4g.csv', 'w+', newline ='') mber of training iterations\n",
    "    n_steps = bat_per_epo * n_epochs\n",
    "    # calculate the size of half a batch of samples\n",
    "    half_batch = int(n_batch / 2)\n",
    "    # lists for keeping track of loss\n",
    "    c1_hist, c2_hist, g_hist = list(), list(), list()\n",
    "    # manually enumerate epochs\n",
    "    for i in range(n_steps):\n",
    "        # update the critic more than the generator\n",
    "        c1_tmp, c2_tmp = list(), list()\n",
    "        for _ in range(n_critic):\n",
    "            # get randomly selected 'real' samples\n",
    "            X_real, y_real = generate_real_samples(dataset, half_batch)\n",
    "            # update critic model weights\n",
    "            c_loss1 = c_model.train_on_batch(X_real, y_real)\n",
    "            c1_tmp.append(c_loss1)\n",
    "            # generate 'fake' examples\n",
    "            X_fake, y_fake = generate_fake_samples(g_model, latent_dim, half_batch)\n",
    "            # update critic model weights\n",
    "            c_loss2 = c_model.train_on_batch(X_fake, y_fake)\n",
    "            c2_tmp.append(c_loss2)\n",
    "        # store critic loss\n",
    "        c1_hist.append(mean(c1_tmp))\n",
    "        c2_hist.append(mean(c2_tmp))\n",
    "        # prepare points in latent space as input for the generator\n",
    "        X_gan = generate_latent_points(latent_dim, n_batch)\n",
    "        # create inverted labels for the fake samples\n",
    "        y_gan = -ones((n_batch, 1))\n",
    "        # update the generator via the critic's error\n",
    "        g_loss = gan_model.train_on_batch(X_gan, y_gan)\n",
    "        g_hist.append(g_loss)\n",
    "        # summarize loss on this batch\n",
    "        print('>%d, c1=%.3f, c2=%.3f g=%.3f' % (i+1, c1_hist[-1], c2_hist[-1], g_loss))\n",
    "        file.write(str(i+1) + \", \" + str(c1_hist[-1]) + \", \" + str(c2_hist[-1]) + \", \" + str(g_loss) + \"\\n\" )\n",
    "        file.flush()\n",
    "        \n",
    "        # evaluate the model performance every 'epoch'\n",
    "        if (i+1) % bat_per_epo == 0:\n",
    "            summarize_performance(i, g_model, latent_dim)\n",
    "    #return 1\n",
    "    #file.close()\n",
    "    return c1_hist, c2_hist, g_hist\n",
    "    # line plots of loss"
   ]
  },
  {
   "cell_type": "code",
   "execution_count": 24,
   "metadata": {
    "colab": {
     "base_uri": "https://localhost:8080/"
    },
    "id": "dyZTceybLGxr",
    "outputId": "bbc41e7e-b06c-4ba3-fe4b-bef3ae688a5a"
   },
   "outputs": [
    {
     "name": "stdout",
     "output_type": "stream",
     "text": [
      "Model: \"sequential_6\"\n",
      "_________________________________________________________________\n",
      "Layer (type)                 Output Shape              Param #   \n",
      "=================================================================\n",
      "conv2d_6 (Conv2D)            (None, 14, 14, 64)        1088      \n",
      "_________________________________________________________________\n",
      "batch_normalization_8 (Batch (None, 14, 14, 64)        256       \n",
      "_________________________________________________________________\n",
      "leaky_re_lu_10 (LeakyReLU)   (None, 14, 14, 64)        0         \n",
      "_________________________________________________________________\n",
      "conv2d_7 (Conv2D)            (None, 7, 7, 64)          65600     \n",
      "_________________________________________________________________\n",
      "batch_normalization_9 (Batch (None, 7, 7, 64)          256       \n",
      "_________________________________________________________________\n",
      "leaky_re_lu_11 (LeakyReLU)   (None, 7, 7, 64)          0         \n",
      "_________________________________________________________________\n",
      "flatten_2 (Flatten)          (None, 3136)              0         \n",
      "_________________________________________________________________\n",
      "dense_4 (Dense)              (None, 1)                 3137      \n",
      "=================================================================\n",
      "Total params: 70,337\n",
      "Trainable params: 70,081\n",
      "Non-trainable params: 256\n",
      "_________________________________________________________________\n",
      "Model: \"sequential_7\"\n",
      "_________________________________________________________________\n",
      "Layer (type)                 Output Shape              Param #   \n",
      "=================================================================\n",
      "dense_5 (Dense)              (None, 6272)              319872    \n",
      "_________________________________________________________________\n",
      "leaky_re_lu_12 (LeakyReLU)   (None, 6272)              0         \n",
      "_________________________________________________________________\n",
      "reshape_2 (Reshape)          (None, 7, 7, 128)         0         \n",
      "_________________________________________________________________\n",
      "conv2d_transpose_4 (Conv2DTr (None, 14, 14, 128)       262272    \n",
      "_________________________________________________________________\n",
      "batch_normalization_10 (Batc (None, 14, 14, 128)       512       \n",
      "_________________________________________________________________\n",
      "leaky_re_lu_13 (LeakyReLU)   (None, 14, 14, 128)       0         \n",
      "_________________________________________________________________\n",
      "conv2d_transpose_5 (Conv2DTr (None, 28, 28, 128)       262272    \n",
      "_________________________________________________________________\n",
      "batch_normalization_11 (Batc (None, 28, 28, 128)       512       \n",
      "_________________________________________________________________\n",
      "leaky_re_lu_14 (LeakyReLU)   (None, 28, 28, 128)       0         \n",
      "_________________________________________________________________\n",
      "conv2d_8 (Conv2D)            (None, 28, 28, 1)         6273      \n",
      "=================================================================\n",
      "Total params: 851,713\n",
      "Trainable params: 851,201\n",
      "Non-trainable params: 512\n",
      "_________________________________________________________________\n",
      "(6265, 28, 28, 1)\n"
     ]
    }
   ],
   "source": [
    "# size of the latent space\n",
    "latent_dim = 50\n",
    "# create the critic\n",
    "critic = make_critic()\n",
    "# create the generator\n",
    "generator = make_generator(latent_dim)\n",
    "# create the gan\n",
    "gan_model = make_gan(generator, critic)\n",
    "# load image data\n",
    "dataset = load_real_samples()\n",
    "print(dataset.shape)\n",
    "# train model"
   ]
  },
  {
   "cell_type": "code",
   "execution_count": 25,
   "metadata": {},
   "outputs": [
    {
     "name": "stdout",
     "output_type": "stream",
     "text": [
      ">1, c1=-1.757, c2=-0.005 g=0.006\n",
      ">2, c1=-4.521, c2=0.128 g=-0.050\n",
      ">3, c1=-6.561, c2=-0.068 g=-0.093\n",
      ">4, c1=-8.589, c2=-0.148 g=-0.126\n",
      ">5, c1=-9.857, c2=-0.456 g=-0.163\n",
      ">6, c1=-11.100, c2=-0.615 g=-0.193\n",
      ">7, c1=-12.767, c2=-0.879 g=-0.214\n",
      ">8, c1=-14.054, c2=-1.390 g=-0.246\n",
      ">9, c1=-15.035, c2=-1.654 g=-0.279\n",
      ">10, c1=-16.176, c2=-2.115 g=-0.309\n",
      ">11, c1=-17.135, c2=-2.489 g=-0.350\n",
      ">12, c1=-17.864, c2=-2.892 g=-0.391\n",
      ">13, c1=-18.604, c2=-3.277 g=-0.453\n",
      ">14, c1=-20.152, c2=-3.538 g=-0.512\n",
      ">15, c1=-20.155, c2=-4.358 g=-0.552\n",
      ">16, c1=-21.545, c2=-4.986 g=-0.613\n",
      ">17, c1=-21.611, c2=-6.001 g=-0.622\n",
      ">18, c1=-22.471, c2=-6.943 g=-0.672\n",
      ">19, c1=-23.457, c2=-8.236 g=-0.695\n",
      ">20, c1=-24.033, c2=-9.436 g=-0.707\n",
      ">21, c1=-23.976, c2=-10.725 g=-0.714\n",
      ">22, c1=-24.703, c2=-11.777 g=-0.760\n",
      ">23, c1=-26.059, c2=-13.188 g=-0.722\n",
      ">24, c1=-26.132, c2=-14.419 g=-0.722\n",
      ">25, c1=-26.922, c2=-15.432 g=-0.754\n",
      ">26, c1=-27.948, c2=-16.905 g=-0.760\n",
      ">27, c1=-28.395, c2=-17.949 g=-0.736\n",
      ">28, c1=-29.235, c2=-18.979 g=-0.761\n",
      ">29, c1=-29.790, c2=-20.239 g=-0.752\n",
      ">30, c1=-30.142, c2=-21.346 g=-0.706\n",
      ">31, c1=-30.831, c2=-22.573 g=-0.730\n",
      ">32, c1=-32.293, c2=-23.527 g=-0.759\n",
      ">33, c1=-31.981, c2=-24.594 g=-0.779\n",
      ">34, c1=-33.149, c2=-25.760 g=-0.834\n",
      ">35, c1=-33.471, c2=-26.701 g=-0.904\n",
      ">36, c1=-35.125, c2=-27.695 g=-0.961\n",
      ">37, c1=-35.199, c2=-28.542 g=-1.090\n",
      ">38, c1=-35.636, c2=-29.763 g=-1.121\n",
      ">39, c1=-36.368, c2=-30.497 g=-1.272\n",
      ">40, c1=-37.153, c2=-31.582 g=-1.478\n",
      ">41, c1=-37.674, c2=-32.521 g=-1.647\n",
      ">42, c1=-38.410, c2=-33.056 g=-2.010\n",
      ">43, c1=-39.162, c2=-33.954 g=-2.226\n",
      ">44, c1=-40.391, c2=-34.700 g=-2.796\n",
      ">45, c1=-41.556, c2=-35.935 g=-2.911\n",
      ">46, c1=-41.620, c2=-36.555 g=-3.527\n",
      ">47, c1=-42.579, c2=-37.449 g=-3.941\n",
      ">48, c1=-42.679, c2=-38.566 g=-4.449\n",
      ">49, c1=-43.570, c2=-39.233 g=-5.340\n",
      ">50, c1=-44.223, c2=-39.960 g=-6.223\n",
      ">51, c1=-45.713, c2=-41.227 g=-6.434\n",
      ">52, c1=-45.809, c2=-41.831 g=-7.556\n",
      ">53, c1=-46.503, c2=-42.958 g=-8.189\n",
      ">54, c1=-47.765, c2=-43.843 g=-8.549\n",
      ">55, c1=-48.608, c2=-44.892 g=-9.190\n",
      ">56, c1=-49.002, c2=-45.726 g=-9.698\n",
      ">57, c1=-49.783, c2=-46.296 g=-10.932\n",
      ">58, c1=-50.153, c2=-47.214 g=-11.346\n",
      ">59, c1=-50.841, c2=-47.831 g=-12.395\n",
      ">60, c1=-51.415, c2=-48.835 g=-13.508\n",
      ">61, c1=-52.862, c2=-49.609 g=-14.412\n",
      ">62, c1=-52.942, c2=-50.698 g=-14.800\n",
      ">63, c1=-53.856, c2=-51.574 g=-16.064\n",
      ">64, c1=-54.852, c2=-52.587 g=-16.283\n",
      ">65, c1=-55.537, c2=-53.305 g=-17.288\n",
      ">66, c1=-55.716, c2=-54.338 g=-17.840\n",
      ">67, c1=-56.531, c2=-54.997 g=-19.376\n",
      ">68, c1=-57.167, c2=-56.041 g=-19.765\n",
      ">69, c1=-57.959, c2=-57.012 g=-20.540\n",
      ">70, c1=-58.748, c2=-57.479 g=-21.464\n",
      ">71, c1=-60.026, c2=-58.516 g=-22.242\n",
      ">72, c1=-59.977, c2=-59.482 g=-22.661\n",
      ">73, c1=-60.914, c2=-60.155 g=-23.548\n",
      ">74, c1=-62.056, c2=-61.130 g=-24.601\n",
      ">75, c1=-61.978, c2=-61.889 g=-24.716\n",
      ">76, c1=-63.480, c2=-62.887 g=-24.893\n",
      ">77, c1=-64.238, c2=-63.731 g=-25.611\n",
      ">78, c1=-64.697, c2=-64.298 g=-26.778\n",
      ">79, c1=-65.389, c2=-65.270 g=-25.532\n",
      ">80, c1=-66.196, c2=-66.255 g=-26.570\n",
      ">81, c1=-67.162, c2=-67.006 g=-26.445\n",
      ">82, c1=-67.947, c2=-67.955 g=-26.734\n",
      ">83, c1=-69.004, c2=-68.734 g=-26.648\n",
      ">84, c1=-69.294, c2=-69.407 g=-26.875\n",
      ">85, c1=-70.132, c2=-70.469 g=-26.846\n",
      ">86, c1=-70.119, c2=-71.106 g=-26.536\n",
      ">87, c1=-71.328, c2=-71.996 g=-26.308\n",
      ">88, c1=-72.468, c2=-72.784 g=-26.907\n",
      ">89, c1=-72.739, c2=-73.557 g=-27.338\n",
      ">90, c1=-74.136, c2=-74.511 g=-27.586\n",
      ">91, c1=-73.924, c2=-75.369 g=-26.653\n",
      ">92, c1=-75.496, c2=-76.001 g=-27.255\n",
      ">93, c1=-75.478, c2=-76.721 g=-27.175\n",
      ">94, c1=-76.298, c2=-77.557 g=-28.143\n",
      ">95, c1=-77.152, c2=-78.525 g=-29.134\n",
      ">96, c1=-77.748, c2=-79.026 g=-28.731\n",
      ">97, c1=-78.296, c2=-79.912 g=-29.494\n",
      ">Saved: generated_plot_0097.png and model_0097.h5\n"
     ]
    }
   ],
   "source": [
    "c1_hist, c2_hist, g_hist = train(generator, critic, gan_model, dataset, latent_dim)"
   ]
  },
  {
   "cell_type": "code",
   "execution_count": 27,
   "metadata": {},
   "outputs": [
    {
     "data": {
      "image/png": "[encoded data removed]",
      "text/plain": [
       "<Figure size 432x288 with 1 Axes>"
      ]
     },
     "metadata": {
      "needs_background": "light"
     },
     "output_type": "display_data"
    }
   ],
   "source": [
    "plot_history(c1_hist, c2_hist, g_hist)"
   ]
  },
  {
   "cell_type": "code",
   "execution_count": null,
   "metadata": {},
   "outputs": [],
   "source": []
  }
 ],
 "metadata": {
  "colab": {
   "authorship_tag": "ABX9TyN9bBxoLT09k18gZQuYO7zX",
   "include_colab_link": true,
   "name": "WGAN_mnist_example2.ipynb",
   "provenance": []
  },
  "kernelspec": {
   "display_name": "Python 3",
   "language": "python",
   "name": "python3"
  },
  "language_info": {
   "codemirror_mode": {
    "name": "ipython",
    "version": 3
   },
   "file_extension": ".py",
   "mimetype": "text/x-python",
   "name": "python",
   "nbconvert_exporter": "python",
   "pygments_lexer": "ipython3",
   "version": "3.7.4"
  }
 },
 "nbformat": 4,
 "nbformat_minor": 1
}
