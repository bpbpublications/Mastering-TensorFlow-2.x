{
  "nbformat": 4,
  "nbformat_minor": 0,
  "metadata": {
    "colab": {
      "name": "weight_clustering_example_basic.ipynb",
      "provenance": [],
      "collapsed_sections": [],
      "toc_visible": true
    },
    "kernelspec": {
      "display_name": "Python 3",
      "name": "python3"
    }
  },
  "cells": [
    {
      "cell_type": "markdown",
      "metadata": {
        "id": "MfBg1C5NB3X0"
      },
      "source": [
        "<table class=\"tfo-notebook-buttons\" align=\"left\">\n",
        "\n",
        "  <td>\n",
        "    <a target=\"_blank\" href=\"https://colab.research.google.com/github/rajdeepd/tensorflow_2.0_book_code/blob/master/ch09/weight_clustering_example_mnist_basic.ipynb\"><img src=\"https://www.tensorflow.org/images/colab_logo_32px.png\" />Run in Google Colab</a>\n",
        "  </td>\n",
        "  <td>\n",
        "    <a target=\"_blank\" href=\"https://github.com/rajdeepd/tensorflow_2.0_book_code/blob/master/ch09/weight_clustering_example_mnist_basic.ipynb\"><img src=\"https://www.tensorflow.org/images/GitHub-Mark-32px.png\" />View on GitHub</a>\n",
        "  </td>\n",
        "\n",
        "</table>"
      ]
    },
    {
      "cell_type": "markdown",
      "metadata": {
        "id": "SyiSRgdtSGPC"
      },
      "source": [
        "# Weight Clustering Keras example"
      ]
    },
    {
      "cell_type": "markdown",
      "metadata": {
        "id": "dKnJyAaASGPD"
      },
      "source": [
        "## Overview\n",
        "\n",
        "This is an example showing the usage of the **Weight Clustering** API, part of the TensorFlow Model Optimization Toolkit's collaborative optimization pipeline.\n",
        "\n",
        "### Other pages\n",
        "\n",
        "For an introduction to the pipeline and other available techniques, see the [collaborative optimization overview page](https://www.tensorflow.org/model_optimization/guide/combine/collaborative_optimization).\n",
        "\n",
        "### Contents\n",
        "\n",
        "In the tutorial, you will:\n",
        "\n",
        "1. Train a `tf.keras` model for the MNIST dataset from scratch.\n",
        "2. Fine-tune the model with clustering and see the accuracy.\n",
      ]
    },
    {
      "cell_type": "markdown",
      "metadata": {
        "id": "RgcQznnZSGPE"
      },
      "source": [
        "## Setup\n",
        "\n",
        "You can run this Jupyter Notebook in local [virtualenv](https://www.tensorflow.org/install/pip?lang=python3#2.-create-a-virtual-environment-recommended) or [colab](https://colab.sandbox.google.com/)."
      ]
    },
    {
      "cell_type": "code",
      "metadata": {
        "id": "3asgXMqnSGPE",
        "colab": {
          "base_uri": "https://localhost:8080/"
        },
        "outputId": "0a1f1c7b-df76-45b0-d5d0-e2e7189dced6"
      },
      "source": [
        "! pip install -q tensorflow-model-optimization"
      ],
      "execution_count": null,
      "outputs": [
        {
          "output_type": "stream",
          "name": "stdout",
          "text": [
            "\u001b[?25l\r\u001b[K     |█▌                              | 10 kB 21.6 MB/s eta 0:00:01\r\u001b[K     |███                             | 20 kB 28.2 MB/s eta 0:00:01\r\u001b[K     |████▋                           | 30 kB 34.5 MB/s eta 0:00:01\r\u001b[K     |██████▏                         | 40 kB 39.4 MB/s eta 0:00:01\r\u001b[K     |███████▊                        | 51 kB 39.7 MB/s eta 0:00:01\r\u001b[K     |█████████▎                      | 61 kB 32.5 MB/s eta 0:00:01\r\u001b[K     |██████████▊                     | 71 kB 28.8 MB/s eta 0:00:01\r\u001b[K     |████████████▎                   | 81 kB 29.8 MB/s eta 0:00:01\r\u001b[K     |█████████████▉                  | 92 kB 30.3 MB/s eta 0:00:01\r\u001b[K     |███████████████▍                | 102 kB 32.2 MB/s eta 0:00:01\r\u001b[K     |█████████████████               | 112 kB 32.2 MB/s eta 0:00:01\r\u001b[K     |██████████████████▌             | 122 kB 32.2 MB/s eta 0:00:01\r\u001b[K     |████████████████████            | 133 kB 32.2 MB/s eta 0:00:01\r\u001b[K     |█████████████████████▌          | 143 kB 32.2 MB/s eta 0:00:01\r\u001b[K     |███████████████████████         | 153 kB 32.2 MB/s eta 0:00:01\r\u001b[K     |████████████████████████▋       | 163 kB 32.2 MB/s eta 0:00:01\r\u001b[K     |██████████████████████████▏     | 174 kB 32.2 MB/s eta 0:00:01\r\u001b[K     |███████████████████████████▊    | 184 kB 32.2 MB/s eta 0:00:01\r\u001b[K     |█████████████████████████████▏  | 194 kB 32.2 MB/s eta 0:00:01\r\u001b[K     |██████████████████████████████▊ | 204 kB 32.2 MB/s eta 0:00:01\r\u001b[K     |████████████████████████████████| 213 kB 32.2 MB/s \n",
            "\u001b[?25h"
          ]
        }
      ]
    },
    {
      "cell_type": "markdown",
      "metadata": {
        "id": "CO_S7HvXrJdt"
      },
      "source": [
        "## Make the necessary import"
      ]
    },
    {
      "cell_type": "code",
      "metadata": {
        "id": "gL6JiLXkSGPI"
      },
      "source": [
        "import tensorflow as tf\n",
        "\n",
        "import numpy as np\n",
        "import tempfile\n",
        "import zipfile\n",
        "import os"
      ],
      "execution_count": null,
      "outputs": []
    },
    {
      "cell_type": "markdown",
      "metadata": {
        "id": "dKzOfl5FSGPL"
      },
      "source": [
        "## Train a tf.keras model for MNIST without clustering\n",
        "1. load the dataset\n",
        "2. train and test images normalize\n",
        "3. Create Sequential model\n",
        "4. Compile the model with following parameters\n",
        "  \n",
        "   * Use `adam` optimizer\n",
        "   * `SparseCategoricalCrossentropy`\n",
        "   * Optimize for `accuracy` metrics\n",
        "5. Run model.fit(..) with `train_images` and `train_labels` for 10 epochs and validation split of 0.1"
      ]
    },
    {
      "cell_type": "code",
      "metadata": {
        "id": "w7Fd6jZ7SGPL",
        "colab": {
          "base_uri": "https://localhost:8080/"
        },
        "outputId": "b7314f25-abc8-4136-d0b5-fbccd208fb97"
      },
      "source": [
        "# Load MNIST dataset\n",
        "mnist = tf.keras.datasets.mnist\n",
        "(train_images, train_labels), (test_images, test_labels) = mnist.load_data()\n",
        "\n",
        "# Normalize the input image so that each pixel value is between 0 to 1.\n",
        "train_images = train_images / 255.0\n",
        "test_images  = test_images / 255.0\n",
        "\n",
        "model = tf.keras.Sequential([\n",
        "  tf.keras.layers.InputLayer(input_shape=(28, 28)),\n",
        "  tf.keras.layers.Reshape(target_shape=(28, 28, 1)),\n",
        "  tf.keras.layers.Conv2D(filters=12, kernel_size=(3, 3),\n",
        "                         activation=tf.nn.relu),\n",
        "  tf.keras.layers.MaxPooling2D(pool_size=(2, 2)),\n",
        "  tf.keras.layers.Flatten(),\n",
        "  tf.keras.layers.Dense(10)\n",
        "])\n",
        "\n",
        "# Train the digit classification model\n",
        "model.compile(optimizer='adam',\n",
        "              loss=tf.keras.losses.SparseCategoricalCrossentropy(from_logits=True),\n",
        "              metrics=['accuracy'])\n",
        "\n",
        "model.fit(\n",
        "    train_images,\n",
        "    train_labels,\n",
        "    validation_split=0.1,\n",
        "    epochs=10\n",
        ")"
      ],
      "execution_count": null,
      "outputs": [
        {
          "output_type": "stream",
          "name": "stdout",
          "text": [
            "Downloading data from https://storage.googleapis.com/tensorflow/tf-keras-datasets/mnist.npz\n",
            "11493376/11490434 [==============================] - 0s 0us/step\n",
            "11501568/11490434 [==============================] - 0s 0us/step\n",
            "Epoch 1/10\n",
            "1688/1688 [==============================] - 18s 10ms/step - loss: 0.3037 - accuracy: 0.9137 - val_loss: 0.1267 - val_accuracy: 0.9680\n",
            "Epoch 2/10\n",
            "1688/1688 [==============================] - 17s 10ms/step - loss: 0.1228 - accuracy: 0.9649 - val_loss: 0.0912 - val_accuracy: 0.9743\n",
            "Epoch 3/10\n",
            "1688/1688 [==============================] - 17s 10ms/step - loss: 0.0863 - accuracy: 0.9751 - val_loss: 0.0721 - val_accuracy: 0.9800\n",
            "Epoch 4/10\n",
            "1688/1688 [==============================] - 17s 10ms/step - loss: 0.0696 - accuracy: 0.9799 - val_loss: 0.0637 - val_accuracy: 0.9825\n",
            "Epoch 5/10\n",
            "1688/1688 [==============================] - 17s 10ms/step - loss: 0.0593 - accuracy: 0.9823 - val_loss: 0.0717 - val_accuracy: 0.9802\n",
            "Epoch 6/10\n",
            "1688/1688 [==============================] - 17s 10ms/step - loss: 0.0527 - accuracy: 0.9845 - val_loss: 0.0590 - val_accuracy: 0.9843\n",
            "Epoch 7/10\n",
            "1688/1688 [==============================] - 17s 10ms/step - loss: 0.0470 - accuracy: 0.9861 - val_loss: 0.0606 - val_accuracy: 0.9833\n",
            "Epoch 8/10\n",
            "1688/1688 [==============================] - 17s 10ms/step - loss: 0.0425 - accuracy: 0.9871 - val_loss: 0.0597 - val_accuracy: 0.9840\n",
            "Epoch 9/10\n",
            "1688/1688 [==============================] - 17s 10ms/step - loss: 0.0388 - accuracy: 0.9884 - val_loss: 0.0569 - val_accuracy: 0.9843\n",
            "Epoch 10/10\n",
            "1688/1688 [==============================] - 17s 10ms/step - loss: 0.0355 - accuracy: 0.9896 - val_loss: 0.0634 - val_accuracy: 0.9842\n"
          ]
        },
        {
          "output_type": "execute_result",
          "data": {
            "text/plain": [
              "<keras.callbacks.History at 0x7ffb1b45ce10>"
            ]
          },
          "metadata": {},
          "execution_count": 3
        }
      ]
    },
    {
      "cell_type": "markdown",
      "metadata": {
        "id": "rBOQ8MeESGPO"
      },
      "source": [
        "### Evaluate the baseline model and save it for later usage"
      ]
    },
    {
      "cell_type": "code",
      "metadata": {
        "id": "HYulekocSGPP",
        "colab": {
          "base_uri": "https://localhost:8080/"
        },
        "outputId": "2ad71997-9ab4-4750-a879-5e09188410df"
      },
      "source": [
        "_, baseline_model_accuracy = model.evaluate(\n",
        "    test_images, test_labels, verbose=0)\n",
        "\n",
        "print('Baseline test accuracy:', baseline_model_accuracy)\n",
        "\n",
        "_, keras_file = tempfile.mkstemp('.h5')\n",
        "print('Saving model to: ', keras_file)\n",
        "tf.keras.models.save_model(model, keras_file, include_optimizer=False)"
      ],
      "execution_count": null,
      "outputs": [
        {
          "output_type": "stream",
          "name": "stdout",
          "text": [
            "Baseline test accuracy: 0.9824000000953674\n",
            "Saving model to:  /tmp/tmp6feo6no6.h5\n"
          ]
        }
      ]
    },
    {
      "cell_type": "markdown",
      "metadata": {
        "id": "cWPgcnjKSGPR"
      },
      "source": [
        "## Cluster and fine-tune the model with 8 clusters"
      ]
    },
    {
      "cell_type": "markdown",
      "metadata": {
        "id": "Y2wKK7w9SGPS"
      },
      "source": [
        "Apply the `cluster_weights()` API to cluster the whole pre-trained model to demonstrate and observe its effectiveness in reducing the model size when applying zip, while maintaining accuracy. For more details refer to the  [clustering comprehensive guide](https://www.tensorflow.org/model_optimization/guide/clustering/clustering_comprehensive_guide)."
      ]
    },
    {
      "cell_type": "markdown",
      "metadata": {
        "id": "ea40z522SGPT"
      },
      "source": [
        "### Define the model and apply the clustering API"
      ]
    },
    {
      "cell_type": "markdown",
      "metadata": {
        "id": "7aOB5vjOZMTS"
      },
      "source": [
        "The model needs to be pre-trained before using the clustering API. This function wraps a keras model or layer with clustering functionality which clusters the layer's weights during training. For examples, using this with number_of_clusters equals 8 will ensure that each weight tensor has no more than 8 unique values."
      ]
    },
    {
      "cell_type": "code",
      "metadata": {
        "id": "OzqKKt0mSGPT",
        "colab": {
          "base_uri": "https://localhost:8080/"
        },
        "outputId": "fb60ca4e-77d6-4d32-9f59-019aaa142c4d"
      },
      "source": [
        "import tensorflow_model_optimization as tfmot\n",
        "\n",
        "cluster_weights = tfmot.clustering.keras.cluster_weights\n",
        "CentroidInitialization = tfmot.clustering.keras.CentroidInitialization\n",
        "\n",
        "clustering_params = {\n",
        "  'number_of_clusters': 8,\n",
        "  'cluster_centroids_init': CentroidInitialization.KMEANS_PLUS_PLUS\n",
        "}\n",
        "\n",
        "clustered_model = cluster_weights(model, **clustering_params)\n",
        "\n",
        "# Use smaller learning rate for fine-tuning\n",
        "opt = tf.keras.optimizers.Adam(learning_rate=1e-5)\n",
        "\n",
        "clustered_model.compile(\n",
        "  loss=tf.keras.losses.SparseCategoricalCrossentropy(from_logits=True),\n",
        "  optimizer=opt,\n",
        "  metrics=['accuracy'])\n",
        "\n",
        "clustered_model.summary()"
      ],
      "execution_count": null,
      "outputs": [
        {
          "output_type": "stream",
          "name": "stdout",
          "text": [
            "Model: \"sequential\"\n",
            "_________________________________________________________________\n",
            "Layer (type)                 Output Shape              Param #   \n",
            "=================================================================\n",
            "cluster_reshape (ClusterWeig (None, 28, 28, 1)         0         \n",
            "_________________________________________________________________\n",
            "cluster_conv2d (ClusterWeigh (None, 26, 26, 12)        236       \n",
            "_________________________________________________________________\n",
            "cluster_max_pooling2d (Clust (None, 13, 13, 12)        0         \n",
            "_________________________________________________________________\n",
            "cluster_flatten (ClusterWeig (None, 2028)              0         \n",
            "_________________________________________________________________\n",
            "cluster_dense (ClusterWeight (None, 10)                40578     \n",
            "=================================================================\n",
            "Total params: 40,814\n",
            "Trainable params: 20,426\n",
            "Non-trainable params: 20,388\n",
            "_________________________________________________________________\n"
          ]
        }
      ]
    },
    {
      "cell_type": "markdown",
      "metadata": {
        "id": "ev4MyClmSGPW"
      },
      "source": [
        "### Fine-tune the model and evaluate the accuracy against baseline"
      ]
    },
    {
      "cell_type": "markdown",
      "metadata": {
        "id": "vQoy9CcASGPX"
      },
      "source": [
        "Fine-tune the model with clustering for 3 epochs."
      ]
    },
    {
      "cell_type": "code",
      "metadata": {
        "id": "jn29-coXSGPX",
        "colab": {
          "base_uri": "https://localhost:8080/"
        },
        "outputId": "1c769602-6e42-48a1-ef5b-c3664d4b9ff3"
      },
      "source": [
        "# Fine-tune model\n",
        "clustered_model.fit(\n",
        "  train_images,\n",
        "  train_labels,\n",
        "  epochs=3,\n",
        "  validation_split=0.1)"
      ],
      "execution_count": null,
      "outputs": [
        {
          "output_type": "stream",
          "name": "stdout",
          "text": [
            "Epoch 1/3\n",
            "1688/1688 [==============================] - 22s 13ms/step - loss: 0.0494 - accuracy: 0.9843 - val_loss: 0.0648 - val_accuracy: 0.9837\n",
            "Epoch 2/3\n",
            "1688/1688 [==============================] - 21s 13ms/step - loss: 0.0361 - accuracy: 0.9887 - val_loss: 0.0614 - val_accuracy: 0.9843\n",
            "Epoch 3/3\n",
            "1688/1688 [==============================] - 21s 12ms/step - loss: 0.0340 - accuracy: 0.9895 - val_loss: 0.0595 - val_accuracy: 0.9848\n"
          ]
        },
        {
          "output_type": "execute_result",
          "data": {
            "text/plain": [
              "<keras.callbacks.History at 0x7ffb1881d690>"
            ]
          },
          "metadata": {},
          "execution_count": 6
        }
      ]
    },
    {
      "cell_type": "markdown",
      "metadata": {
        "id": "iHCYA7twR2ro"
      },
      "source": [
        "Define helper functions to calculate and print the number of clustering in each kernel of the model."
      ]
    },
    {
      "cell_type": "code",
      "metadata": {
        "id": "f3gf1TDjR2rp"
      },
      "source": [
        "def print_model_weight_clusters(model):\n",
        "\n",
        "    for layer in model.layers:\n",
        "        if isinstance(layer, tf.keras.layers.Wrapper):\n",
        "            weights = layer.trainable_weights\n",
        "        else:\n",
        "            weights = layer.weights\n",
        "        for weight in weights:\n",
        "            # ignore auxiliary quantization weights\n",
        "            if \"quantize_layer\" in weight.name:\n",
        "                continue\n",
        "            if \"kernel\" in weight.name:\n",
        "                unique_count = len(np.unique(weight))\n",
        "                print(\n",
        "                    f\"{layer.name}/{weight.name}: {unique_count} clusters \"\n",
        "                )"
      ],
      "execution_count": null,
      "outputs": []
    },
    {
      "cell_type": "markdown",
      "metadata": {
        "id": "QS3VBSXAR2rq"
      },
      "source": [
        "Check that the model kernels were correctly clustered. We need to strip the clustering wrapper first."
      ]
    },
    {
      "cell_type": "code",
      "metadata": {
        "id": "5l1jOLMfR2rq",
        "colab": {
          "base_uri": "https://localhost:8080/"
        },
        "outputId": "a8de6321-1947-4027-db18-d33a13bfe8e7"
      },
      "source": [
        "stripped_clustered_model = tfmot.clustering.keras.strip_clustering(clustered_model)\n",
        "\n",
        "print_model_weight_clusters(stripped_clustered_model)"
      ],
      "execution_count": null,
      "outputs": [
        {
          "output_type": "stream",
          "name": "stdout",
          "text": [
            "conv2d/kernel:0: 8 clusters \n",
            "dense/kernel:0: 8 clusters \n"
          ]
        }
      ]
    },
    {
      "cell_type": "markdown",
      "metadata": {
        "id": "dvaZKoxtTORx"
      },
      "source": [
        "For this example, there is minimal loss in test accuracy after clustering, compared to the baseline."
      ]
    },
    {
      "cell_type": "code",
      "metadata": {
        "id": "bE7MxpWLTaQ1",
        "colab": {
          "base_uri": "https://localhost:8080/"
        },
        "outputId": "ea84a036-8d88-42f4-fbc7-ecb14604f531"
      },
      "source": [
        "_, clustered_model_accuracy = clustered_model.evaluate(\n",
        "  test_images, test_labels, verbose=0)\n",
        "\n",
        "print('Baseline test accuracy:', baseline_model_accuracy)\n",
        "print('Clustered test accuracy:', clustered_model_accuracy)"
      ],
      "execution_count": null,
      "outputs": [
        {
          "output_type": "stream",
          "name": "stdout",
          "text": [
            "Baseline test accuracy: 0.9824000000953674\n",
            "Clustered test accuracy: 0.9797000288963318\n"
          ]
        }
      ]
    },
    {
      "cell_type": "markdown",
      "metadata": {
        "id": "X1MBu6Q9R2rz"
      },
      "source": [
        "## Conclusion"
      ]
    },
    {
      "cell_type": "markdown",
      "metadata": {
        "id": "7JhbpowqSGP1"
      },
      "source": [
        "In this tutorial, we learnt that the accuracy of the normal model and clustered model almost remains the sample"
      ]
    }
  ]
}
