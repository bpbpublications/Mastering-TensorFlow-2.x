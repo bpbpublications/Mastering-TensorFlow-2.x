{
  "nbformat": 4,
  "nbformat_minor": 0,
  "metadata": {
    "colab": {
      "name": "weight_clustering_example_mnist.ipynb",
      "provenance": [],
      "collapsed_sections": [],
      "toc_visible": true
    },
    "kernelspec": {
      "display_name": "Python 3",
      "name": "python3"
    }
  },
  "cells": [
    {
      "cell_type": "markdown",
      "metadata": {
        "id": "MfBg1C5NB3X0"
      },
      "source": [
        "<table class=\"tfo-notebook-buttons\" align=\"left\">\n",
        "\n",
        "  <td>\n",
        "    <a target=\"_blank\" href=\"https://colab.research.google.com/github/rajdeepd/tensorflow_2.0_book_code/blob/master/ch09/weight_clustering_example_mnist.ipynb\"><img src=\"https://www.tensorflow.org/images/colab_logo_32px.png\" />Run in Google Colab</a>\n",
        "  </td>\n",
        "  <td>\n",
        "    <a target=\"_blank\" href=\"https://github.com/rajdeepd/tensorflow_2.0_book_code/blob/master/ch09/weight_clustering_example_mnist.ipynb\"><img src=\"https://www.tensorflow.org/images/GitHub-Mark-32px.png\" />View on GitHub</a>\n",
        "  </td>\n",
        "\n",
        "</table>"
      ]
    },
    {
      "cell_type": "markdown",
      "metadata": {
        "id": "SyiSRgdtSGPC"
      },
      "source": [
        "# Weight Clustering Keras example"
      ]
    },
    {
      "cell_type": "markdown",
      "metadata": {
        "id": "dKnJyAaASGPD"
      },
      "source": [
        "## Overview\n",
        "\n",
        "This is an  example showing the usage of the **Weight Clustering** API, part of the TensorFlow Model Optimization Toolkit's collaborative optimization pipeline.\n",
        "\n",
        "### Other pages\n",
        "\n",
        "For an introduction to the pipeline and other available techniques, see the [collaborative optimization overview page](https://www.tensorflow.org/model_optimization/guide/combine/collaborative_optimization).\n",
        "\n",
        "### Contents\n",
        "\n",
        "In the tutorial, you will:\n",
        "\n",
        "1. Train a `tf.keras` model for the MNIST dataset from scratch.\n",
        "2. Fine-tune the model with clustering and see the accuracy.\n"
      ]
    },
    {
      "cell_type": "markdown",
      "metadata": {
        "id": "RgcQznnZSGPE"
      },
      "source": [
        "## Setup\n",
        "\n",
        "You can run this Jupyter Notebook in local [virtualenv](https://www.tensorflow.org/install/pip?lang=python3#2.-create-a-virtual-environment-recommended) or [colab](https://colab.sandbox.google.com/)."
      ]
    },
    {
      "cell_type": "code",
      "metadata": {
        "id": "3asgXMqnSGPE",
        "colab": {
          "base_uri": "https://localhost:8080/"
        },
        "outputId": "49d46f8e-bdbd-4c7a-8270-6565fff170f8"
      },
      "source": [
        "! pip install -q tensorflow-model-optimization"
      ],
      "execution_count": 1,
      "outputs": [
        {
          "output_type": "stream",
          "name": "stdout",
          "text": [
            "\u001b[?25l\r\u001b[K     |█▌                              | 10 kB 22.3 MB/s eta 0:00:01\r\u001b[K     |███                             | 20 kB 22.7 MB/s eta 0:00:01\r\u001b[K     |████▋                           | 30 kB 19.8 MB/s eta 0:00:01\r\u001b[K     |██████▏                         | 40 kB 13.7 MB/s eta 0:00:01\r\u001b[K     |███████▊                        | 51 kB 5.9 MB/s eta 0:00:01\r\u001b[K     |█████████▎                      | 61 kB 5.7 MB/s eta 0:00:01\r\u001b[K     |██████████▊                     | 71 kB 5.6 MB/s eta 0:00:01\r\u001b[K     |████████████▎                   | 81 kB 6.2 MB/s eta 0:00:01\r\u001b[K     |█████████████▉                  | 92 kB 6.1 MB/s eta 0:00:01\r\u001b[K     |███████████████▍                | 102 kB 5.4 MB/s eta 0:00:01\r\u001b[K     |█████████████████               | 112 kB 5.4 MB/s eta 0:00:01\r\u001b[K     |██████████████████▌             | 122 kB 5.4 MB/s eta 0:00:01\r\u001b[K     |████████████████████            | 133 kB 5.4 MB/s eta 0:00:01\r\u001b[K     |█████████████████████▌          | 143 kB 5.4 MB/s eta 0:00:01\r\u001b[K     |███████████████████████         | 153 kB 5.4 MB/s eta 0:00:01\r\u001b[K     |████████████████████████▋       | 163 kB 5.4 MB/s eta 0:00:01\r\u001b[K     |██████████████████████████▏     | 174 kB 5.4 MB/s eta 0:00:01\r\u001b[K     |███████████████████████████▊    | 184 kB 5.4 MB/s eta 0:00:01\r\u001b[K     |█████████████████████████████▏  | 194 kB 5.4 MB/s eta 0:00:01\r\u001b[K     |██████████████████████████████▊ | 204 kB 5.4 MB/s eta 0:00:01\r\u001b[K     |████████████████████████████████| 213 kB 5.4 MB/s \n",
            "\u001b[?25h"
          ]
        }
      ]
    },
    {
      "cell_type": "markdown",
      "metadata": {
        "id": "CO_S7HvXrJdt"
      },
      "source": [
        "## Make the necessary import"
      ]
    },
    {
      "cell_type": "code",
      "metadata": {
        "id": "gL6JiLXkSGPI"
      },
      "source": [
        "import tensorflow as tf\n",
        "\n",
        "import numpy as np\n",
        "import tempfile\n",
        "import zipfile\n",
        "import os"
      ],
      "execution_count": 2,
      "outputs": []
    },
    {
      "cell_type": "markdown",
      "metadata": {
        "id": "dKzOfl5FSGPL"
      },
      "source": [
        "## Train a tf.keras model for MNIST without clustering\n",
        "1. load the dataset\n",
        "2. train and test images normalize\n",
        "3. Create Sequential model\n",
        "4. Compile the model with following parameters\n",
        "  \n",
        "   * Use `adam` optimizer\n",
        "   * `SparseCategoricalCrossentropy`\n",
        "   * Optimize for `accuracy` metrics\n",
        "5. Run model.fit(..) with `train_images` and `train_labels` for 10 epochs and validation split of 0.1"
      ]
    },
    {
      "cell_type": "code",
      "metadata": {
        "id": "w7Fd6jZ7SGPL",
        "colab": {
          "base_uri": "https://localhost:8080/"
        },
        "outputId": "cbc05759-6fa7-413c-f7a4-0b67b0816753"
      },
      "source": [
        "# Load MNIST dataset\n",
        "mnist = tf.keras.datasets.mnist\n",
        "(train_images, train_labels), (test_images, test_labels) = mnist.load_data()\n",
        "\n",
        "# Normalize the input image so that each pixel value is between 0 to 1.\n",
        "train_images = train_images / 255.0\n",
        "test_images  = test_images / 255.0\n",
        "\n",
        "model = tf.keras.Sequential([\n",
        "  tf.keras.layers.InputLayer(input_shape=(28, 28)),\n",
        "  tf.keras.layers.Reshape(target_shape=(28, 28, 1)),\n",
        "  tf.keras.layers.Conv2D(filters=12, kernel_size=(3, 3),\n",
        "                         activation=tf.nn.relu),\n",
        "  tf.keras.layers.MaxPooling2D(pool_size=(2, 2)),\n",
        "  tf.keras.layers.Flatten(),\n",
        "  tf.keras.layers.Dense(10)\n",
        "])\n",
        "\n",
        "# Train the digit classification model\n",
        "model.compile(optimizer='adam',\n",
        "              loss=tf.keras.losses.SparseCategoricalCrossentropy(from_logits=True),\n",
        "              metrics=['accuracy'])\n",
        "\n",
        "model.summary()"
      ],
      "execution_count": 3,
      "outputs": [
        {
          "output_type": "stream",
          "name": "stdout",
          "text": [
            "Downloading data from https://storage.googleapis.com/tensorflow/tf-keras-datasets/mnist.npz\n",
            "11493376/11490434 [==============================] - 0s 0us/step\n",
            "11501568/11490434 [==============================] - 0s 0us/step\n",
            "Model: \"sequential\"\n",
            "_________________________________________________________________\n",
            " Layer (type)                Output Shape              Param #   \n",
            "=================================================================\n",
            " reshape (Reshape)           (None, 28, 28, 1)         0         \n",
            "                                                                 \n",
            " conv2d (Conv2D)             (None, 26, 26, 12)        120       \n",
            "                                                                 \n",
            " max_pooling2d (MaxPooling2D  (None, 13, 13, 12)       0         \n",
            " )                                                               \n",
            "                                                                 \n",
            " flatten (Flatten)           (None, 2028)              0         \n",
            "                                                                 \n",
            " dense (Dense)               (None, 10)                20290     \n",
            "                                                                 \n",
            "=================================================================\n",
            "Total params: 20,410\n",
            "Trainable params: 20,410\n",
            "Non-trainable params: 0\n",
            "_________________________________________________________________\n"
          ]
        }
      ]
    },
    {
      "cell_type": "code",
      "metadata": {
        "colab": {
          "base_uri": "https://localhost:8080/"
        },
        "id": "gKSeIA039enT",
        "outputId": "789e50ab-3ae3-4c23-bec3-48148a47adbf"
      },
      "source": [
        "model.fit(\n",
        "    train_images,\n",
        "    train_labels,\n",
        "    validation_split=0.1,\n",
        "    epochs=10\n",
        ")"
      ],
      "execution_count": 4,
      "outputs": [
        {
          "output_type": "stream",
          "name": "stdout",
          "text": [
            "Epoch 1/10\n",
            "1688/1688 [==============================] - 20s 11ms/step - loss: 0.3044 - accuracy: 0.9138 - val_loss: 0.1231 - val_accuracy: 0.9668\n",
            "Epoch 2/10\n",
            "1688/1688 [==============================] - 19s 11ms/step - loss: 0.1195 - accuracy: 0.9656 - val_loss: 0.0821 - val_accuracy: 0.9808\n",
            "Epoch 3/10\n",
            "1688/1688 [==============================] - 19s 11ms/step - loss: 0.0870 - accuracy: 0.9750 - val_loss: 0.0730 - val_accuracy: 0.9818\n",
            "Epoch 4/10\n",
            "1688/1688 [==============================] - 19s 11ms/step - loss: 0.0713 - accuracy: 0.9789 - val_loss: 0.0691 - val_accuracy: 0.9815\n",
            "Epoch 5/10\n",
            "1688/1688 [==============================] - 19s 11ms/step - loss: 0.0620 - accuracy: 0.9816 - val_loss: 0.0607 - val_accuracy: 0.9833\n",
            "Epoch 6/10\n",
            "1688/1688 [==============================] - 19s 11ms/step - loss: 0.0539 - accuracy: 0.9840 - val_loss: 0.0641 - val_accuracy: 0.9830\n",
            "Epoch 7/10\n",
            "1688/1688 [==============================] - 19s 11ms/step - loss: 0.0494 - accuracy: 0.9851 - val_loss: 0.0603 - val_accuracy: 0.9835\n",
            "Epoch 8/10\n",
            "1688/1688 [==============================] - 19s 11ms/step - loss: 0.0456 - accuracy: 0.9860 - val_loss: 0.0557 - val_accuracy: 0.9853\n",
            "Epoch 9/10\n",
            "1688/1688 [==============================] - 19s 11ms/step - loss: 0.0409 - accuracy: 0.9876 - val_loss: 0.0672 - val_accuracy: 0.9815\n",
            "Epoch 10/10\n",
            "1688/1688 [==============================] - 19s 11ms/step - loss: 0.0368 - accuracy: 0.9892 - val_loss: 0.0593 - val_accuracy: 0.9822\n"
          ]
        },
        {
          "output_type": "execute_result",
          "data": {
            "text/plain": [
              "<keras.callbacks.History at 0x7f7b774a2bd0>"
            ]
          },
          "metadata": {},
          "execution_count": 4
        }
      ]
    },
    {
      "cell_type": "markdown",
      "metadata": {
        "id": "rBOQ8MeESGPO"
      },
      "source": [
        "### Evaluate the baseline model and save it for later usage"
      ]
    },
    {
      "cell_type": "code",
      "metadata": {
        "id": "HYulekocSGPP",
        "colab": {
          "base_uri": "https://localhost:8080/"
        },
        "outputId": "345f7d87-3bfb-40e8-88c5-c7cd0b6a6f6f"
      },
      "source": [
        "_, baseline_model_accuracy = model.evaluate(\n",
        "    test_images, test_labels, verbose=0)\n",
        "\n",
        "print('Baseline test accuracy:', baseline_model_accuracy)\n",
        "\n",
        "_, keras_file = tempfile.mkstemp('.h5')\n",
        "print('Saving model to: ', keras_file)\n",
        "tf.keras.models.save_model(model, keras_file, include_optimizer=False)"
      ],
      "execution_count": 5,
      "outputs": [
        {
          "output_type": "stream",
          "name": "stdout",
          "text": [
            "Baseline test accuracy: 0.980400025844574\n",
            "Saving model to:  /tmp/tmphmmwd_7l.h5\n"
          ]
        }
      ]
    },
    {
      "cell_type": "code",
      "metadata": {
        "colab": {
          "base_uri": "https://localhost:8080/"
        },
        "id": "h3grXiXc_Be0",
        "outputId": "e39edf16-1e9d-4206-e2d4-198e6f6bc6d7"
      },
      "source": [
        "float_converter = tf.lite.TFLiteConverter.from_keras_model(model)\n",
        "float_tflite_model = float_converter.convert()\n",
        "# Measure sizes of models.\n",
        "_, float_file = tempfile.mkstemp('.tflite')\n",
        "with open(float_file, 'wb') as f:\n",
        "  f.write(float_tflite_model)\n",
        "\n",
        "print(\"Float model in Mb:\", os.path.getsize(float_file) / float(2**20))"
      ],
      "execution_count": 11,
      "outputs": [
        {
          "output_type": "stream",
          "name": "stdout",
          "text": [
            "INFO:tensorflow:Assets written to: /tmp/tmp2ou6zxm1/assets\n"
          ]
        },
        {
          "output_type": "stream",
          "name": "stderr",
          "text": [
            "WARNING:absl:Buffer deduplication procedure will be skipped when flatbuffer library is not properly loaded\n"
          ]
        },
        {
          "output_type": "stream",
          "name": "stdout",
          "text": [
            "Float model in Mb: 0.08062362670898438\n"
          ]
        }
      ]
    },
    {
      "cell_type": "markdown",
      "metadata": {
        "id": "cWPgcnjKSGPR"
      },
      "source": [
        "## Cluster and fine-tune the model with 8 clusters"
      ]
    },
    {
      "cell_type": "markdown",
      "metadata": {
        "id": "Y2wKK7w9SGPS"
      },
      "source": [
        "Apply the `cluster_weights()` API to cluster the whole pre-trained model to demonstrate and observe its effectiveness in reducing the model size when applying zip, while maintaining accuracy. For more details refer to the  [clustering comprehensive guide](https://www.tensorflow.org/model_optimization/guide/clustering/clustering_comprehensive_guide)."
      ]
    },
    {
      "cell_type": "markdown",
      "metadata": {
        "id": "ea40z522SGPT"
      },
      "source": [
        "### Define the model and apply the clustering API"
      ]
    },
    {
      "cell_type": "markdown",
      "metadata": {
        "id": "7aOB5vjOZMTS"
      },
      "source": [
        "The model needs to be pre-trained before using the clustering API. This function wraps a keras model or layer with clustering functionality which clusters the layer's weights during training. For examples, using this with number_of_clusters equals 8 will ensure that each weight tensor has no more than 8 unique values."
      ]
    },
    {
      "cell_type": "code",
      "metadata": {
        "id": "OzqKKt0mSGPT",
        "colab": {
          "base_uri": "https://localhost:8080/"
        },
        "outputId": "042ed38c-e849-4a6e-c7f3-72d7c5ef461f"
      },
      "source": [
        "import tensorflow_model_optimization as tfmot\n",
        "\n",
        "cluster_weights = tfmot.clustering.keras.cluster_weights\n",
        "CentroidInitialization = tfmot.clustering.keras.CentroidInitialization\n",
        "\n",
        "clustering_params = {\n",
        "  'number_of_clusters': 8,\n",
        "  'cluster_centroids_init': CentroidInitialization.KMEANS_PLUS_PLUS\n",
        "}\n",
        "\n",
        "clustered_model = cluster_weights(model, **clustering_params)\n",
        "\n",
        "# Use smaller learning rate for fine-tuning\n",
        "opt = tf.keras.optimizers.Adam(learning_rate=1e-5)\n",
        "\n",
        "clustered_model.compile(\n",
        "  loss=tf.keras.losses.SparseCategoricalCrossentropy(from_logits=True),\n",
        "  optimizer=opt,\n",
        "  metrics=['accuracy'])\n",
        "\n",
        "clustered_model.summary()"
      ],
      "execution_count": 6,
      "outputs": [
        {
          "output_type": "stream",
          "name": "stdout",
          "text": [
            "Model: \"sequential\"\n",
            "_________________________________________________________________\n",
            " Layer (type)                Output Shape              Param #   \n",
            "=================================================================\n",
            " cluster_reshape (ClusterWei  (None, 28, 28, 1)        0         \n",
            " ghts)                                                           \n",
            "                                                                 \n",
            " cluster_conv2d (ClusterWeig  (None, 26, 26, 12)       236       \n",
            " hts)                                                            \n",
            "                                                                 \n",
            " cluster_max_pooling2d (Clus  (None, 13, 13, 12)       0         \n",
            " terWeights)                                                     \n",
            "                                                                 \n",
            " cluster_flatten (ClusterWei  (None, 2028)             0         \n",
            " ghts)                                                           \n",
            "                                                                 \n",
            " cluster_dense (ClusterWeigh  (None, 10)               40578     \n",
            " ts)                                                             \n",
            "                                                                 \n",
            "=================================================================\n",
            "Total params: 40,814\n",
            "Trainable params: 20,426\n",
            "Non-trainable params: 20,388\n",
            "_________________________________________________________________\n"
          ]
        }
      ]
    },
    {
      "cell_type": "markdown",
      "metadata": {
        "id": "ev4MyClmSGPW"
      },
      "source": [
        "### Fine-tune the model and evaluate the accuracy against baseline"
      ]
    },
    {
      "cell_type": "markdown",
      "metadata": {
        "id": "vQoy9CcASGPX"
      },
      "source": [
        "Fine-tune the model with clustering for 3 epochs."
      ]
    },
    {
      "cell_type": "code",
      "metadata": {
        "id": "jn29-coXSGPX",
        "colab": {
          "base_uri": "https://localhost:8080/"
        },
        "outputId": "01a1b405-233b-48b9-ad9f-6f2cc774ac4f"
      },
      "source": [
        "# Fine-tune model\n",
        "clustered_model.fit(\n",
        "  train_images,\n",
        "  train_labels,\n",
        "  epochs=3,\n",
        "  validation_split=0.1)"
      ],
      "execution_count": 7,
      "outputs": [
        {
          "output_type": "stream",
          "name": "stdout",
          "text": [
            "Epoch 1/3\n",
            "1688/1688 [==============================] - 25s 14ms/step - loss: 0.0459 - accuracy: 0.9846 - val_loss: 0.0658 - val_accuracy: 0.9808\n",
            "Epoch 2/3\n",
            "1688/1688 [==============================] - 23s 14ms/step - loss: 0.0366 - accuracy: 0.9890 - val_loss: 0.0629 - val_accuracy: 0.9817\n",
            "Epoch 3/3\n",
            "1688/1688 [==============================] - 24s 14ms/step - loss: 0.0349 - accuracy: 0.9897 - val_loss: 0.0611 - val_accuracy: 0.9832\n"
          ]
        },
        {
          "output_type": "execute_result",
          "data": {
            "text/plain": [
              "<keras.callbacks.History at 0x7f7b747d5910>"
            ]
          },
          "metadata": {},
          "execution_count": 7
        }
      ]
    },
    {
      "cell_type": "markdown",
      "metadata": {
        "id": "iHCYA7twR2ro"
      },
      "source": [
        "Define helper functions to calculate and print the number of clustering in each kernel of the model."
      ]
    },
    {
      "cell_type": "code",
      "metadata": {
        "id": "f3gf1TDjR2rp"
      },
      "source": [
        "def print_model_weight_clusters(model):\n",
        "\n",
        "    for layer in model.layers:\n",
        "        if isinstance(layer, tf.keras.layers.Wrapper):\n",
        "            weights = layer.trainable_weights\n",
        "        else:\n",
        "            weights = layer.weights\n",
        "        for weight in weights:\n",
        "            # ignore auxiliary quantization weights\n",
        "            if \"quantize_layer\" in weight.name:\n",
        "                continue\n",
        "            if \"kernel\" in weight.name:\n",
        "                unique_count = len(np.unique(weight))\n",
        "                print(\n",
        "                    f\"{layer.name}/{weight.name}: {unique_count} clusters \"\n",
        "                )"
      ],
      "execution_count": 8,
      "outputs": []
    },
    {
      "cell_type": "markdown",
      "metadata": {
        "id": "QS3VBSXAR2rq"
      },
      "source": [
        "Check that the model kernels were correctly clustered. We need to strip the clustering wrapper first."
      ]
    },
    {
      "cell_type": "code",
      "metadata": {
        "id": "5l1jOLMfR2rq",
        "colab": {
          "base_uri": "https://localhost:8080/"
        },
        "outputId": "a7527c19-57ef-411a-b20e-34d1d5febda5"
      },
      "source": [
        "stripped_clustered_model = tfmot.clustering.keras.strip_clustering(clustered_model)\n",
        "\n",
        "print_model_weight_clusters(stripped_clustered_model)"
      ],
      "execution_count": 9,
      "outputs": [
        {
          "output_type": "stream",
          "name": "stdout",
          "text": [
            "conv2d/kernel:0: 8 clusters \n",
            "dense/kernel:0: 8 clusters \n"
          ]
        }
      ]
    },
    {
      "cell_type": "markdown",
      "metadata": {
        "id": "dvaZKoxtTORx"
      },
      "source": [
        "For this example, there is minimal loss in test accuracy after clustering, compared to the baseline."
      ]
    },
    {
      "cell_type": "code",
      "metadata": {
        "id": "bE7MxpWLTaQ1",
        "colab": {
          "base_uri": "https://localhost:8080/"
        },
        "outputId": "2fdfa26b-947c-41e9-dd2e-defc6badec84"
      },
      "source": [
        "_, clustered_model_accuracy = clustered_model.evaluate(\n",
        "  test_images, test_labels, verbose=0)\n",
        "\n",
        "print('Baseline test accuracy:', baseline_model_accuracy)\n",
        "print('Clustered test accuracy:', clustered_model_accuracy)"
      ],
      "execution_count": 10,
      "outputs": [
        {
          "output_type": "stream",
          "name": "stdout",
          "text": [
            "Baseline test accuracy: 0.980400025844574\n",
            "Clustered test accuracy: 0.9803000092506409\n"
          ]
        }
      ]
    },
    {
      "cell_type": "markdown",
      "metadata": {
        "id": "6MdzCD7rFant"
      },
      "source": [
        "## Compare the size of normal model, clustered model and clustered TFLite model"
      ]
    },
    {
      "cell_type": "code",
      "metadata": {
        "colab": {
          "base_uri": "https://localhost:8080/"
        },
        "id": "UGnR8OLUEkJJ",
        "outputId": "cadb2b37-70bb-4135-8266-553842cb11e4"
      },
      "source": [
        "final_model = tfmot.clustering.keras.strip_clustering(clustered_model)\n",
        "\n",
        "_, clustered_keras_file = tempfile.mkstemp('.h5')\n",
        "print('Saving clustered model to: ', clustered_keras_file)\n",
        "tf.keras.models.save_model(final_model, clustered_keras_file, \n",
        "                           include_optimizer=False)"
      ],
      "execution_count": 15,
      "outputs": [
        {
          "output_type": "stream",
          "name": "stdout",
          "text": [
            "Saving clustered model to:  /tmp/tmpfdst095x.h5\n",
            "WARNING:tensorflow:Compiled the loaded model, but the compiled metrics have yet to be built. `model.compile_metrics` will be empty until you train or evaluate the model.\n"
          ]
        },
        {
          "output_type": "stream",
          "name": "stderr",
          "text": [
            "WARNING:tensorflow:Compiled the loaded model, but the compiled metrics have yet to be built. `model.compile_metrics` will be empty until you train or evaluate the model.\n"
          ]
        }
      ]
    },
    {
      "cell_type": "markdown",
      "metadata": {
        "id": "JSLmkfjNEqiA"
      },
      "source": [
        "Create and save TFLite model from clustered model"
      ]
    },
    {
      "cell_type": "code",
      "metadata": {
        "colab": {
          "base_uri": "https://localhost:8080/"
        },
        "id": "TaxZCZMgErHn",
        "outputId": "7f427290-702d-4bbc-a51e-eaafe4825cda"
      },
      "source": [
        "clustered_tflite_file = '/tmp/clustered_mnist.tflite'\n",
        "converter = tf.lite.TFLiteConverter.from_keras_model(final_model)\n",
        "tflite_clustered_model = converter.convert()\n",
        "with open(clustered_tflite_file, 'wb') as f:\n",
        "  f.write(tflite_clustered_model)\n",
        "print('Saved clustered TFLite model to:', clustered_tflite_file)"
      ],
      "execution_count": 16,
      "outputs": [
        {
          "output_type": "stream",
          "name": "stdout",
          "text": [
            "INFO:tensorflow:Assets written to: /tmp/tmpfmsd8iy5/assets\n"
          ]
        },
        {
          "output_type": "stream",
          "name": "stderr",
          "text": [
            "INFO:tensorflow:Assets written to: /tmp/tmpfmsd8iy5/assets\n",
            "WARNING:absl:Buffer deduplication procedure will be skipped when flatbuffer library is not properly loaded\n"
          ]
        },
        {
          "output_type": "stream",
          "name": "stdout",
          "text": [
            "Saved clustered TFLite model to: /tmp/clustered_mnist.tflite\n"
          ]
        }
      ]
    },
    {
      "cell_type": "markdown",
      "metadata": {
        "id": "6jBUsSxBFEzI"
      },
      "source": [
        "Helper function to zip the file"
      ]
    },
    {
      "cell_type": "code",
      "metadata": {
        "id": "n078lagcFELR"
      },
      "source": [
        "def get_gzipped_model_size(file):\n",
        "  # It returns the size of the gzipped model in bytes.\n",
        "  import os\n",
        "  import zipfile\n",
        "\n",
        "  _, zipped_file = tempfile.mkstemp('.zip')\n",
        "  with zipfile.ZipFile(zipped_file, 'w', compression=zipfile.ZIP_DEFLATED) as f:\n",
        "    f.write(file)\n",
        "\n",
        "  return os.path.getsize(zipped_file)"
      ],
      "execution_count": 17,
      "outputs": []
    },
    {
      "cell_type": "markdown",
      "metadata": {
        "id": "TJIXLlUhFOop"
      },
      "source": [
        "Compare the models"
      ]
    },
    {
      "cell_type": "code",
      "metadata": {
        "colab": {
          "base_uri": "https://localhost:8080/"
        },
        "id": "1nhr1Y_YFNvW",
        "outputId": "74676338-8dc6-4b91-aa9d-77c6611be3f7"
      },
      "source": [
        "print(\"Size of gzipped baseline Keras model: %.2f bytes\" % (get_gzipped_model_size(keras_file)))\n",
        "print(\"Size of gzipped clustered Keras model: %.2f bytes\" % (get_gzipped_model_size(clustered_keras_file)))\n",
        "print(\"Size of gzipped clustered TFlite model: %.2f bytes\" % (get_gzipped_model_size(clustered_tflite_file)))"
      ],
      "execution_count": 18,
      "outputs": [
        {
          "output_type": "stream",
          "name": "stdout",
          "text": [
            "Size of gzipped baseline Keras model: 78280.00 bytes\n",
            "Size of gzipped clustered Keras model: 13414.00 bytes\n",
            "Size of gzipped clustered TFlite model: 12969.00 bytes\n"
          ]
        }
      ]
    },
    {
      "cell_type": "markdown",
      "metadata": {
        "id": "X1MBu6Q9R2rz"
      },
      "source": [
        "## Conclusion"
      ]
    },
    {
      "cell_type": "markdown",
      "metadata": {
        "id": "7JhbpowqSGP1"
      },
      "source": [
        "In this tutorial, you learned how to create a model, cluster it using the `cluster_weights()` API and compared the model accuracy"
      ]
    }
  ]
}