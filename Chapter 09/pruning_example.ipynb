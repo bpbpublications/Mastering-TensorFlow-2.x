{
  "nbformat": 4,
  "nbformat_minor": 0,
  "metadata": {
    "colab": {
      "name": "pruning_example.ipynb",
      "provenance": [],
      "authorship_tag": "ABX9TyPPtzC1EVjQTK74zrHNTC8F",
      "include_colab_link": true
    },
    "kernelspec": {
      "name": "python3",
      "display_name": "Python 3"
    },
    "language_info": {
      "name": "python"
    }
  },
  "cells": [
    {
      "cell_type": "markdown",
      "metadata": {
        "id": "view-in-github",
        "colab_type": "text"
      },
      "source": [
        "<a href=\"https://colab.research.google.com/github/rajdeepd/tensorflow_2.0_book_code/blob/master/ch09/pruning_example.ipynb\" target=\"_parent\"><img src=\"https://colab.research.google.com/assets/colab-badge.svg\" alt=\"Open In Colab\"/></a>"
      ]
    },
    {
      "cell_type": "code",
      "metadata": {
        "id": "zozr82xnifB8"
      },
      "source": [
        "def calc1_f(x):\n",
        "  return x + 10*x*x\n",
        "\n",
        "def calc2_f(x):\n",
        "  return 0.1*x + 10*x*x\n",
        "\n",
        "def calc3_f(x):\n",
        "  return 0.01*x + 10*x*x"
      ],
      "execution_count": 22,
      "outputs": []
    },
    {
      "cell_type": "code",
      "metadata": {
        "id": "lsFop18LJZjK"
      },
      "source": [
        "\n",
        "dict_a = {}\n",
        "x_list = []\n",
        "y1_list = []\n",
        "y2_list = []\n",
        "y3_list = []\n",
        "for x in range(1,10):\n",
        "  y1 = calc1_f(x)\n",
        "  y2 = calc2_f(x)\n",
        "  y3 = calc3_f(x)\n",
        "  #dict_a[x] = y\n",
        "  x_list.append(x)\n",
        "  y1_list.append(y1)\n",
        "  y2_list.append(y2)\n",
        "  y3_list.append(y3)\n",
        "  #print(str(x) + \":\" + str(y))"
      ],
      "execution_count": 24,
      "outputs": []
    },
    {
      "cell_type": "code",
      "metadata": {
        "colab": {
          "base_uri": "https://localhost:8080/",
          "height": 302
        },
        "id": "dTBS-8_AJ3g2",
        "outputId": "a10e5e5d-853e-4e5e-aad6-0d466de042d7"
      },
      "source": [
        "%matplotlib inline\n",
        "import matplotlib.pyplot as plt\n",
        "plt.plot(x_list,y1_list,label = \"f(x) = x + 10$\\mathregular{x^2}$\")\n",
        "plt.plot(x_list,y2_list,label = \"f(x) = 0.1x + 10$\\mathregular{x^2}$\")\n",
        "plt.plot(x_list,y3_list,label = \"f(x) = 0.01x + 10$\\mathregular{x^2}$\")\n",
        "plt.legend()\n",
        "plt.title(\"Plot variations of function: f(x) = x + 10$\\mathregular{x^2}$\")"
      ],
      "execution_count": 28,
      "outputs": [
        {
          "output_type": "execute_result",
          "data": {
            "text/plain": [
              "Text(0.5, 1.0, 'Plot variations of function: f(x) = x + 10$\\\\mathregular{x^2}$')"
            ]
          },
          "metadata": {
            "tags": []
          },
          "execution_count": 28
        },
        {
          "output_type": "display_data",
          "data": {
            "image/png": "[encoded data removed]",
            "text/plain": [
              "<Figure size 432x288 with 1 Axes>"
            ]
          },
          "metadata": {
            "tags": [],
            "needs_background": "light"
          }
        }
      ]
    },
    {
      "cell_type": "code",
      "metadata": {
        "id": "Cjxh1R4RWa-W"
      },
      "source": [
        ""
      ],
      "execution_count": null,
      "outputs": []
    }
  ]
}