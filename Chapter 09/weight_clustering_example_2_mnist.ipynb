{
  "nbformat": 4,
  "nbformat_minor": 0,
  "metadata": {
    "colab": {
      "name": "weight_clustering_example_2_mnist.ipynb",
      "provenance": [],
      "collapsed_sections": [],
      "toc_visible": true
    },
    "kernelspec": {
      "display_name": "Python 3",
      "name": "python3"
    }
  },
  "cells": [
    {
      "cell_type": "markdown",
      "metadata": {
        "id": "MfBg1C5NB3X0"
      },
      "source": [
        "<table class=\"tfo-notebook-buttons\" align=\"left\">\n",
        "\n",
        "  <td>\n",
        "    <a target=\"_blank\" href=\"https://colab.research.google.com/github/rajdeepd/tensorflow_2.0_book_code/blob/master/ch09/weight_clustering_example_2_mnist.ipynb\"><img src=\"https://www.tensorflow.org/images/colab_logo_32px.png\" />Run in Google Colab</a>\n",
        "  </td>\n",
        "  <td>\n",
        "    <a target=\"_blank\" href=\"https://github.com/rajdeepd/tensorflow_2.0_book_code/blob/master/ch09/weight_clustering_example_2_mnist.ipynb\"><img src=\"https://www.tensorflow.org/images/GitHub-Mark-32px.png\" />View on GitHub</a>\n",
        "  </td>\n",
        "\n",
        "</table>"
      ]
    },
    {
      "cell_type": "markdown",
      "metadata": {
        "id": "SyiSRgdtSGPC"
      },
      "source": [
        "# Weight Clustering Keras example"
      ]
    },
    {
      "cell_type": "markdown",
      "metadata": {
        "id": "dKnJyAaASGPD"
      },
      "source": [
        "## Overview\n",
        "\n",
        "This is an  example showing the usage of the **Weight Clustering** API, part of the TensorFlow Model Optimization Toolkit's collaborative optimization pipeline. We will use 4 and 8 clusters and see the affect on accuracy\n",
        "\n"
      ]
    },
    {
      "cell_type": "markdown",
      "metadata": {
        "id": "RgcQznnZSGPE"
      },
      "source": [
        "## Setup\n",
        "\n",
        "You can run this Jupyter Notebook in local [virtualenv](https://www.tensorflow.org/install/pip?lang=python3#2.-create-a-virtual-environment-recommended) or [colab](https://colab.sandbox.google.com/)."
      ]
    },
    {
      "cell_type": "code",
      "metadata": {
        "id": "3asgXMqnSGPE"
      },
      "source": [
        "! pip install -q tensorflow-model-optimization"
      ],
      "execution_count": 1,
      "outputs": []
    },
    {
      "cell_type": "markdown",
      "metadata": {
        "id": "CO_S7HvXrJdt"
      },
      "source": [
        "## Make the necessary import"
      ]
    },
    {
      "cell_type": "code",
      "metadata": {
        "id": "gL6JiLXkSGPI"
      },
      "source": [
        "import tensorflow as tf\n",
        "\n",
        "import numpy as np\n",
        "import tempfile\n",
        "import zipfile\n",
        "import os"
      ],
      "execution_count": 2,
      "outputs": []
    },
    {
      "cell_type": "markdown",
      "metadata": {
        "id": "dKzOfl5FSGPL"
      },
      "source": [
        "## Train a tf.keras model for MNIST without clustering\n",
        "1. load the dataset\n",
        "2. train and test images normalize\n",
        "3. Create Sequential model\n",
        "4. Compile the model with following parameters\n",
        "  \n",
        "   * Use `adam` optimizer\n",
        "   * `SparseCategoricalCrossentropy`\n",
        "   * Optimize for `accuracy` metrics\n",
        "5. Run model.fit(..) with `train_images` and `train_labels` for 10 epochs and validation split of 0.1"
      ]
    },
    {
      "cell_type": "code",
      "metadata": {
        "id": "w7Fd6jZ7SGPL",
        "colab": {
          "base_uri": "https://localhost:8080/"
        },
        "outputId": "145e6f21-ba81-40f7-c0f4-6dc7ba600211"
      },
      "source": [
        "# Load MNIST dataset\n",
        "mnist = tf.keras.datasets.mnist\n",
        "(train_images, train_labels), (test_images, test_labels) = mnist.load_data()\n",
        "\n",
        "# Normalize the input image so that each pixel value is between 0 to 1.\n",
        "train_images = train_images / 255.0\n",
        "test_images  = test_images / 255.0\n",
        "\n",
        "model = tf.keras.Sequential([\n",
        "  tf.keras.layers.InputLayer(input_shape=(28, 28)),\n",
        "  tf.keras.layers.Reshape(target_shape=(28, 28, 1)),\n",
        "  tf.keras.layers.Conv2D(filters=12, kernel_size=(3, 3),\n",
        "                         activation=tf.nn.relu),\n",
        "  tf.keras.layers.MaxPooling2D(pool_size=(2, 2)),\n",
        "  tf.keras.layers.Flatten(),\n",
        "  tf.keras.layers.Dense(10)\n",
        "])\n",
        "\n",
        "# Train the digit classification model\n",
        "model.compile(optimizer='adam',\n",
        "              loss=tf.keras.losses.SparseCategoricalCrossentropy(from_logits=True),\n",
        "              metrics=['accuracy'])\n",
        "\n",
        "model.fit(\n",
        "    train_images,\n",
        "    train_labels,\n",
        "    validation_split=0.1,\n",
        "    epochs=1\n",
        ")"
      ],
      "execution_count": 3,
      "outputs": [
        {
          "output_type": "stream",
          "name": "stdout",
          "text": [
            "1688/1688 [==============================] - 19s 11ms/step - loss: 0.3035 - accuracy: 0.9139 - val_loss: 0.1229 - val_accuracy: 0.9677\n"
          ]
        },
        {
          "output_type": "execute_result",
          "data": {
            "text/plain": [
              "<keras.callbacks.History at 0x7fa572f65790>"
            ]
          },
          "metadata": {},
          "execution_count": 3
        }
      ]
    },
    {
      "cell_type": "markdown",
      "metadata": {
        "id": "rBOQ8MeESGPO"
      },
      "source": [
        "### Evaluate the baseline model and save it for later usage"
      ]
    },
    {
      "cell_type": "code",
      "metadata": {
        "id": "HYulekocSGPP",
        "colab": {
          "base_uri": "https://localhost:8080/"
        },
        "outputId": "c855abb4-8413-452f-e298-d9d6c4f925bf"
      },
      "source": [
        "_, baseline_model_accuracy = model.evaluate(\n",
        "    test_images, test_labels, verbose=0)\n",
        "\n",
        "print('Baseline test accuracy:', baseline_model_accuracy)\n",
        "\n",
        "_, keras_file = tempfile.mkstemp('.h5')\n",
        "print('Saving model to: ', keras_file)\n",
        "tf.keras.models.save_model(model, keras_file, include_optimizer=False)"
      ],
      "execution_count": 4,
      "outputs": [
        {
          "output_type": "stream",
          "name": "stdout",
          "text": [
            "Baseline test accuracy: 0.958299994468689\n",
            "Saving model to:  /tmp/tmp9gpn1bs4.h5\n"
          ]
        }
      ]
    },
    {
      "cell_type": "markdown",
      "metadata": {
        "id": "cWPgcnjKSGPR"
      },
      "source": [
        "## Cluster and fine-tune the model with 4 and 8 clusters"
      ]
    },
    {
      "cell_type": "markdown",
      "metadata": {
        "id": "Y2wKK7w9SGPS"
      },
      "source": [
        "Apply the `cluster_weights()` API to cluster the whole pre-trained model to demonstrate and observe its effectiveness in reducing the model size when applying zip, while maintaining accuracy. For more details refer to the  [clustering comprehensive guide](https://www.tensorflow.org/model_optimization/guide/clustering/clustering_comprehensive_guide)."
      ]
    },
    {
      "cell_type": "markdown",
      "metadata": {
        "id": "ea40z522SGPT"
      },
      "source": [
        "### Define the model and apply the clustering API"
      ]
    },
    {
      "cell_type": "markdown",
      "metadata": {
        "id": "7aOB5vjOZMTS"
      },
      "source": [
        "The model needs to be pre-trained before using the clustering API. This function wraps a keras model or layer with clustering functionality which clusters the layer's weights during training. For examples, using this with number_of_clusters equals 8 will ensure that each weight tensor has no more than 8 unique values."
      ]
    },
    {
      "cell_type": "code",
      "metadata": {
        "id": "OzqKKt0mSGPT"
      },
      "source": [
        "import tensorflow_model_optimization as tfmot\n"
      ],
      "execution_count": 5,
      "outputs": []
    },
    {
      "cell_type": "code",
      "metadata": {
        "id": "sLx6PxfqOgqi",
        "outputId": "19db684a-8801-416d-b8bf-2e8d4b140fc8",
        "colab": {
          "base_uri": "https://localhost:8080/"
        }
      },
      "source": [
        "CentroidInitialization = tfmot.clustering.keras.CentroidInitialization\n",
        "cluster_weights_4 = tfmot.clustering.keras.cluster_weights\n",
        "model_4 = tf.keras.Sequential([\n",
        "  tf.keras.layers.InputLayer(input_shape=(28, 28)),\n",
        "  tf.keras.layers.Reshape(target_shape=(28, 28, 1)),\n",
        "  tf.keras.layers.Conv2D(filters=12, kernel_size=(3, 3),\n",
        "                         activation=tf.nn.relu),\n",
        "  tf.keras.layers.MaxPooling2D(pool_size=(2, 2)),\n",
        "  tf.keras.layers.Flatten(),\n",
        "  tf.keras.layers.Dense(10)\n",
        "])\n",
        "\n",
        "# Train the digit classification model\n",
        "model_4.compile(optimizer='adam',\n",
        "              loss=tf.keras.losses.SparseCategoricalCrossentropy(from_logits=True),\n",
        "              metrics=['accuracy'])\n",
        "\n",
        "model_4.fit(\n",
        "    train_images,\n",
        "    train_labels,\n",
        "    validation_split=0.1,\n",
        "    epochs=1\n",
        ")\n",
        "cluster_weights_4_ = tfmot.clustering.keras.cluster_weights\n",
        "clustering_params_4 = {\n",
        "  'number_of_clusters': 4,\n",
        "  'cluster_centroids_init': CentroidInitialization.KMEANS_PLUS_PLUS\n",
        "}\n",
        "\n",
        "clustered_model_4 = cluster_weights_4(model_4, **clustering_params_4)\n",
        "\n",
        "# Use smaller learning rate for fine-tuning\n",
        "opt = tf.keras.optimizers.Adam(learning_rate=1e-7)\n",
        "\n",
        "clustered_model_4.compile(\n",
        "  loss=tf.keras.losses.SparseCategoricalCrossentropy(from_logits=True),\n",
        "  optimizer=opt,\n",
        "  metrics=['accuracy'])"
      ],
      "execution_count": 10,
      "outputs": [
        {
          "output_type": "stream",
          "name": "stdout",
          "text": [
            "1688/1688 [==============================] - 19s 11ms/step - loss: 0.3064 - accuracy: 0.9122 - val_loss: 0.1341 - val_accuracy: 0.9638\n"
          ]
        }
      ]
    },
    {
      "cell_type": "code",
      "metadata": {
        "id": "kyN3X-Coj6Jz",
        "outputId": "1cf5f54f-4c60-4a58-b7a6-541e0e708ebd",
        "colab": {
          "base_uri": "https://localhost:8080/"
        }
      },
      "source": [
        "cluster_weights_8 = tfmot.clustering.keras.cluster_weights\n",
        "model_8 = tf.keras.Sequential([\n",
        "  tf.keras.layers.InputLayer(input_shape=(28, 28)),\n",
        "  tf.keras.layers.Reshape(target_shape=(28, 28, 1)),\n",
        "  tf.keras.layers.Conv2D(filters=12, kernel_size=(3, 3),\n",
        "                         activation=tf.nn.relu),\n",
        "  tf.keras.layers.MaxPooling2D(pool_size=(2, 2)),\n",
        "  tf.keras.layers.Flatten(),\n",
        "  tf.keras.layers.Dense(10)\n",
        "])\n",
        "\n",
        "# Train the digit classification model\n",
        "model_8.compile(optimizer='adam',\n",
        "              loss=tf.keras.losses.SparseCategoricalCrossentropy(from_logits=True),\n",
        "              metrics=['accuracy'])\n",
        "\n",
        "model_8.fit(\n",
        "    train_images,\n",
        "    train_labels,\n",
        "    validation_split=0.1,\n",
        "    epochs=1\n",
        ")\n",
        "cluster_weights_8_ = tfmot.clustering.keras.cluster_weights\n",
        "clustering_params_8 = {\n",
        "  'number_of_clusters': 8,\n",
        "  'cluster_centroids_init': CentroidInitialization.KMEANS_PLUS_PLUS\n",
        "}\n",
        "\n",
        "clustered_model_8 = cluster_weights_8(model_8, **clustering_params_4)\n",
        "\n",
        "# Use smaller learning rate for fine-tuning\n",
        "opt = tf.keras.optimizers.Adam(learning_rate=1e-7)\n",
        "\n",
        "clustered_model_8.compile(\n",
        "  loss=tf.keras.losses.SparseCategoricalCrossentropy(from_logits=True),\n",
        "  optimizer=opt,\n",
        "  metrics=['accuracy'])"
      ],
      "execution_count": 11,
      "outputs": [
        {
          "output_type": "stream",
          "name": "stdout",
          "text": [
            "1688/1688 [==============================] - 19s 11ms/step - loss: 0.3158 - accuracy: 0.9107 - val_loss: 0.1311 - val_accuracy: 0.9648\n"
          ]
        }
      ]
    },
    {
      "cell_type": "markdown",
      "metadata": {
        "id": "ev4MyClmSGPW"
      },
      "source": [
        "### Fine-tune the model and evaluate the accuracy against baseline"
      ]
    },
    {
      "cell_type": "markdown",
      "metadata": {
        "id": "vQoy9CcASGPX"
      },
      "source": [
        "Fine-tune the model with clustering for 3 epochs."
      ]
    },
    {
      "cell_type": "code",
      "metadata": {
        "id": "jn29-coXSGPX",
        "colab": {
          "base_uri": "https://localhost:8080/"
        },
        "outputId": "5e661122-dd2f-47f5-a094-aeab25b41794"
      },
      "source": [
        "# Fine-tune model\n",
        "clustered_model_4.fit(\n",
        "  train_images,\n",
        "  train_labels,\n",
        "  epochs=3,\n",
        "  validation_split=0.1)"
      ],
      "execution_count": 12,
      "outputs": [
        {
          "output_type": "stream",
          "name": "stdout",
          "text": [
            "Epoch 1/3\n",
            "1688/1688 [==============================] - 23s 13ms/step - loss: 0.2617 - accuracy: 0.9329 - val_loss: 0.2189 - val_accuracy: 0.9460\n",
            "Epoch 2/3\n",
            "1688/1688 [==============================] - 22s 13ms/step - loss: 0.2582 - accuracy: 0.9340 - val_loss: 0.2163 - val_accuracy: 0.9463\n",
            "Epoch 3/3\n",
            "1688/1688 [==============================] - 23s 13ms/step - loss: 0.2539 - accuracy: 0.9352 - val_loss: 0.2115 - val_accuracy: 0.9482\n"
          ]
        },
        {
          "output_type": "execute_result",
          "data": {
            "text/plain": [
              "<keras.callbacks.History at 0x7fa572c16790>"
            ]
          },
          "metadata": {},
          "execution_count": 12
        }
      ]
    },
    {
      "cell_type": "code",
      "metadata": {
        "id": "YoGFSdYaIfMP",
        "outputId": "7a594471-0bca-426a-ec35-430ab0934b32",
        "colab": {
          "base_uri": "https://localhost:8080/"
        }
      },
      "source": [
        "# Fine-tune model\n",
        "clustered_model_8.fit(\n",
        "  train_images,\n",
        "  train_labels,\n",
        "  epochs=3,\n",
        "  validation_split=0.1)"
      ],
      "execution_count": 13,
      "outputs": [
        {
          "output_type": "stream",
          "name": "stdout",
          "text": [
            "Epoch 1/3\n",
            "1688/1688 [==============================] - 24s 14ms/step - loss: 0.3037 - accuracy: 0.9223 - val_loss: 0.2528 - val_accuracy: 0.9383\n",
            "Epoch 2/3\n",
            "1688/1688 [==============================] - 22s 13ms/step - loss: 0.3012 - accuracy: 0.9231 - val_loss: 0.2504 - val_accuracy: 0.9387\n",
            "Epoch 3/3\n",
            "1688/1688 [==============================] - 23s 13ms/step - loss: 0.2978 - accuracy: 0.9238 - val_loss: 0.2471 - val_accuracy: 0.9388\n"
          ]
        },
        {
          "output_type": "execute_result",
          "data": {
            "text/plain": [
              "<keras.callbacks.History at 0x7fa5727941d0>"
            ]
          },
          "metadata": {},
          "execution_count": 13
        }
      ]
    },
    {
      "cell_type": "markdown",
      "metadata": {
        "id": "iHCYA7twR2ro"
      },
      "source": [
        "Define helper functions to calculate and print the number of clustering in each kernel of the model."
      ]
    },
    {
      "cell_type": "code",
      "metadata": {
        "id": "f3gf1TDjR2rp"
      },
      "source": [
        "def print_model_weight_clusters(model):\n",
        "\n",
        "    for layer in model.layers:\n",
        "        if isinstance(layer, tf.keras.layers.Wrapper):\n",
        "            weights = layer.trainable_weights\n",
        "        else:\n",
        "            weights = layer.weights\n",
        "        for weight in weights:\n",
        "            # ignore auxiliary quantization weights\n",
        "            if \"quantize_layer\" in weight.name:\n",
        "                continue\n",
        "            if \"kernel\" in weight.name:\n",
        "                unique_count = len(np.unique(weight))\n",
        "                print(\n",
        "                    f\"{layer.name}/{weight.name}: {unique_count} clusters \"\n",
        "                )"
      ],
      "execution_count": 14,
      "outputs": []
    },
    {
      "cell_type": "markdown",
      "metadata": {
        "id": "QS3VBSXAR2rq"
      },
      "source": [
        "Check that the model kernels were correctly clustered. We need to strip the clustering wrapper first."
      ]
    },
    {
      "cell_type": "code",
      "metadata": {
        "id": "5l1jOLMfR2rq",
        "colab": {
          "base_uri": "https://localhost:8080/"
        },
        "outputId": "ceee9e41-de2d-46ba-a33b-5eed43dfbf3f"
      },
      "source": [
        "stripped_clustered_model_4 = tfmot.clustering.keras.strip_clustering(clustered_model_4)\n",
        "print_model_weight_clusters(stripped_clustered_model_4)\n",
        "\n",
        "stripped_clustered_model_8 = tfmot.clustering.keras.strip_clustering(clustered_model_8)\n",
        "print_model_weight_clusters(stripped_clustered_model_8)"
      ],
      "execution_count": 15,
      "outputs": [
        {
          "output_type": "stream",
          "name": "stdout",
          "text": [
            "conv2d_5/kernel:0: 4 clusters \n",
            "dense_5/kernel:0: 4 clusters \n",
            "conv2d_6/kernel:0: 4 clusters \n",
            "dense_6/kernel:0: 4 clusters \n"
          ]
        }
      ]
    },
    {
      "cell_type": "markdown",
      "metadata": {
        "id": "dvaZKoxtTORx"
      },
      "source": [
        "For this example, there is minimal loss in test accuracy after clustering, compared to the baseline."
      ]
    },
    {
      "cell_type": "code",
      "metadata": {
        "id": "bE7MxpWLTaQ1",
        "colab": {
          "base_uri": "https://localhost:8080/"
        },
        "outputId": "9a2afcd8-bc39-4669-cd7e-39f5af7ca5ae"
      },
      "source": [
        "_, clustered_model_accuracy_4 = clustered_model_4.evaluate(\n",
        "  test_images, test_labels, verbose=0)\n",
        "_, clustered_model_accuracy_8 = clustered_model_8.evaluate(\n",
        "  test_images, test_labels, verbose=0)\n",
        "print('Baseline test accuracy:', baseline_model_accuracy)\n",
        "print('Clustered 4 clusters test accuracy:', clustered_model_accuracy_4)\n",
        "print('Clustered 8 clusters test accuracy:', clustered_model_accuracy_8)"
      ],
      "execution_count": 16,
      "outputs": [
        {
          "output_type": "stream",
          "name": "stdout",
          "text": [
            "Baseline test accuracy: 0.958299994468689\n",
            "Clustered 4 clusters test accuracy: 0.9391999840736389\n",
            "Clustered 8 clusters test accuracy: 0.9294999837875366\n"
          ]
        }
      ]
    },
    {
      "cell_type": "markdown",
      "metadata": {
        "id": "X1MBu6Q9R2rz"
      },
      "source": [
        "## Conclusion"
      ]
    },
    {
      "cell_type": "markdown",
      "metadata": {
        "id": "7JhbpowqSGP1"
      },
      "source": [
        "In this sample, we use`cluster_weights()` API to create two clustered models with 4 and 8 clusters and compared the model accuracy."
      ]
    }
  ]
}