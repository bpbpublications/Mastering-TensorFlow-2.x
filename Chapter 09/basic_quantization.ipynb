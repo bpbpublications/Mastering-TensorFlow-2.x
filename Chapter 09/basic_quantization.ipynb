{
  "nbformat": 4,
  "nbformat_minor": 0,
  "metadata": {
    "kernelspec": {
      "display_name": "Python 3",
      "language": "python",
      "name": "python3"
    },
    "language_info": {
      "codemirror_mode": {
        "name": "ipython",
        "version": 3
      },
      "file_extension": ".py",
      "mimetype": "text/x-python",
      "name": "python",
      "nbconvert_exporter": "python",
      "pygments_lexer": "ipython3",
      "version": "3.7.4"
    },
    "colab": {
      "name": "basic_quantization.ipynb",
      "provenance": []
    }
  },
  "cells": [
    {
      "cell_type": "code",
      "metadata": {
        "id": "oZj_dOdzR2Zd",
        "outputId": "5ee22af1-a78e-4f05-a1fa-76b4a41291de",
        "colab": {
          "base_uri": "https://localhost:8080/"
        }
      },
      "source": [
        "!which python"
      ],
      "execution_count": 1,
      "outputs": [
        {
          "output_type": "stream",
          "name": "stdout",
          "text": [
            "/usr/local/bin/python\n"
          ]
        }
      ]
    },
    {
      "cell_type": "code",
      "metadata": {
        "id": "590GfUrhR2Zg",
        "outputId": "e23983e4-caef-43e9-bd68-63e055c33b4e",
        "colab": {
          "base_uri": "https://localhost:8080/"
        }
      },
      "source": [
        "! pip install tensorflow-model-optimization\n",
        "\n",
        "#! pip install tensorflow"
      ],
      "execution_count": 2,
      "outputs": [
        {
          "output_type": "stream",
          "name": "stdout",
          "text": [
            "Collecting tensorflow-model-optimization\n",
            "  Downloading tensorflow_model_optimization-0.6.0-py2.py3-none-any.whl (211 kB)\n",
            "\u001b[?25l\r\u001b[K     |█▌                              | 10 kB 27.5 MB/s eta 0:00:01\r\u001b[K     |███                             | 20 kB 34.5 MB/s eta 0:00:01\r\u001b[K     |████▋                           | 30 kB 40.4 MB/s eta 0:00:01\r\u001b[K     |██████▏                         | 40 kB 41.1 MB/s eta 0:00:01\r\u001b[K     |███████▊                        | 51 kB 43.0 MB/s eta 0:00:01\r\u001b[K     |█████████▎                      | 61 kB 44.7 MB/s eta 0:00:01\r\u001b[K     |██████████▉                     | 71 kB 32.2 MB/s eta 0:00:01\r\u001b[K     |████████████▍                   | 81 kB 33.6 MB/s eta 0:00:01\r\u001b[K     |██████████████                  | 92 kB 35.6 MB/s eta 0:00:01\r\u001b[K     |███████████████▌                | 102 kB 36.3 MB/s eta 0:00:01\r\u001b[K     |█████████████████               | 112 kB 36.3 MB/s eta 0:00:01\r\u001b[K     |██████████████████▋             | 122 kB 36.3 MB/s eta 0:00:01\r\u001b[K     |████████████████████▏           | 133 kB 36.3 MB/s eta 0:00:01\r\u001b[K     |█████████████████████▊          | 143 kB 36.3 MB/s eta 0:00:01\r\u001b[K     |███████████████████████▎        | 153 kB 36.3 MB/s eta 0:00:01\r\u001b[K     |████████████████████████▉       | 163 kB 36.3 MB/s eta 0:00:01\r\u001b[K     |██████████████████████████▍     | 174 kB 36.3 MB/s eta 0:00:01\r\u001b[K     |████████████████████████████    | 184 kB 36.3 MB/s eta 0:00:01\r\u001b[K     |█████████████████████████████▌  | 194 kB 36.3 MB/s eta 0:00:01\r\u001b[K     |███████████████████████████████ | 204 kB 36.3 MB/s eta 0:00:01\r\u001b[K     |████████████████████████████████| 211 kB 36.3 MB/s \n",
            "\u001b[?25hRequirement already satisfied: dm-tree~=0.1.1 in /usr/local/lib/python3.7/dist-packages (from tensorflow-model-optimization) (0.1.6)\n",
            "Requirement already satisfied: numpy~=1.14 in /usr/local/lib/python3.7/dist-packages (from tensorflow-model-optimization) (1.19.5)\n",
            "Requirement already satisfied: six~=1.10 in /usr/local/lib/python3.7/dist-packages (from tensorflow-model-optimization) (1.15.0)\n",
            "Installing collected packages: tensorflow-model-optimization\n",
            "Successfully installed tensorflow-model-optimization-0.6.0\n",
            "Requirement already satisfied: tensorflow in /usr/local/lib/python3.7/dist-packages (2.6.0)\n",
            "Requirement already satisfied: termcolor~=1.1.0 in /usr/local/lib/python3.7/dist-packages (from tensorflow) (1.1.0)\n",
            "Requirement already satisfied: tensorboard~=2.6 in /usr/local/lib/python3.7/dist-packages (from tensorflow) (2.6.0)\n",
            "Requirement already satisfied: flatbuffers~=1.12.0 in /usr/local/lib/python3.7/dist-packages (from tensorflow) (1.12)\n",
            "Requirement already satisfied: gast==0.4.0 in /usr/local/lib/python3.7/dist-packages (from tensorflow) (0.4.0)\n",
            "Requirement already satisfied: clang~=5.0 in /usr/local/lib/python3.7/dist-packages (from tensorflow) (5.0)\n",
            "Requirement already satisfied: keras-preprocessing~=1.1.2 in /usr/local/lib/python3.7/dist-packages (from tensorflow) (1.1.2)\n",
            "Requirement already satisfied: astunparse~=1.6.3 in /usr/local/lib/python3.7/dist-packages (from tensorflow) (1.6.3)\n",
            "Requirement already satisfied: typing-extensions~=3.7.4 in /usr/local/lib/python3.7/dist-packages (from tensorflow) (3.7.4.3)\n",
            "Requirement already satisfied: numpy~=1.19.2 in /usr/local/lib/python3.7/dist-packages (from tensorflow) (1.19.5)\n",
            "Requirement already satisfied: wheel~=0.35 in /usr/local/lib/python3.7/dist-packages (from tensorflow) (0.37.0)\n",
            "Requirement already satisfied: opt-einsum~=3.3.0 in /usr/local/lib/python3.7/dist-packages (from tensorflow) (3.3.0)\n",
            "Requirement already satisfied: wrapt~=1.12.1 in /usr/local/lib/python3.7/dist-packages (from tensorflow) (1.12.1)\n",
            "Requirement already satisfied: six~=1.15.0 in /usr/local/lib/python3.7/dist-packages (from tensorflow) (1.15.0)\n",
            "Requirement already satisfied: tensorflow-estimator~=2.6 in /usr/local/lib/python3.7/dist-packages (from tensorflow) (2.6.0)\n",
            "Requirement already satisfied: absl-py~=0.10 in /usr/local/lib/python3.7/dist-packages (from tensorflow) (0.12.0)\n",
            "Requirement already satisfied: grpcio<2.0,>=1.37.0 in /usr/local/lib/python3.7/dist-packages (from tensorflow) (1.39.0)\n",
            "Requirement already satisfied: keras~=2.6 in /usr/local/lib/python3.7/dist-packages (from tensorflow) (2.6.0)\n",
            "Requirement already satisfied: protobuf>=3.9.2 in /usr/local/lib/python3.7/dist-packages (from tensorflow) (3.17.3)\n",
            "Requirement already satisfied: h5py~=3.1.0 in /usr/local/lib/python3.7/dist-packages (from tensorflow) (3.1.0)\n",
            "Requirement already satisfied: google-pasta~=0.2 in /usr/local/lib/python3.7/dist-packages (from tensorflow) (0.2.0)\n",
            "Requirement already satisfied: cached-property in /usr/local/lib/python3.7/dist-packages (from h5py~=3.1.0->tensorflow) (1.5.2)\n",
            "Requirement already satisfied: tensorboard-data-server<0.7.0,>=0.6.0 in /usr/local/lib/python3.7/dist-packages (from tensorboard~=2.6->tensorflow) (0.6.1)\n",
            "Requirement already satisfied: werkzeug>=0.11.15 in /usr/local/lib/python3.7/dist-packages (from tensorboard~=2.6->tensorflow) (1.0.1)\n",
            "Requirement already satisfied: markdown>=2.6.8 in /usr/local/lib/python3.7/dist-packages (from tensorboard~=2.6->tensorflow) (3.3.4)\n",
            "Requirement already satisfied: google-auth<2,>=1.6.3 in /usr/local/lib/python3.7/dist-packages (from tensorboard~=2.6->tensorflow) (1.34.0)\n",
            "Requirement already satisfied: setuptools>=41.0.0 in /usr/local/lib/python3.7/dist-packages (from tensorboard~=2.6->tensorflow) (57.4.0)\n",
            "Requirement already satisfied: requests<3,>=2.21.0 in /usr/local/lib/python3.7/dist-packages (from tensorboard~=2.6->tensorflow) (2.23.0)\n",
            "Requirement already satisfied: google-auth-oauthlib<0.5,>=0.4.1 in /usr/local/lib/python3.7/dist-packages (from tensorboard~=2.6->tensorflow) (0.4.5)\n",
            "Requirement already satisfied: tensorboard-plugin-wit>=1.6.0 in /usr/local/lib/python3.7/dist-packages (from tensorboard~=2.6->tensorflow) (1.8.0)\n",
            "Requirement already satisfied: rsa<5,>=3.1.4 in /usr/local/lib/python3.7/dist-packages (from google-auth<2,>=1.6.3->tensorboard~=2.6->tensorflow) (4.7.2)\n",
            "Requirement already satisfied: pyasn1-modules>=0.2.1 in /usr/local/lib/python3.7/dist-packages (from google-auth<2,>=1.6.3->tensorboard~=2.6->tensorflow) (0.2.8)\n",
            "Requirement already satisfied: cachetools<5.0,>=2.0.0 in /usr/local/lib/python3.7/dist-packages (from google-auth<2,>=1.6.3->tensorboard~=2.6->tensorflow) (4.2.2)\n",
            "Requirement already satisfied: requests-oauthlib>=0.7.0 in /usr/local/lib/python3.7/dist-packages (from google-auth-oauthlib<0.5,>=0.4.1->tensorboard~=2.6->tensorflow) (1.3.0)\n",
            "Requirement already satisfied: importlib-metadata in /usr/local/lib/python3.7/dist-packages (from markdown>=2.6.8->tensorboard~=2.6->tensorflow) (4.6.4)\n",
            "Requirement already satisfied: pyasn1<0.5.0,>=0.4.6 in /usr/local/lib/python3.7/dist-packages (from pyasn1-modules>=0.2.1->google-auth<2,>=1.6.3->tensorboard~=2.6->tensorflow) (0.4.8)\n",
            "Requirement already satisfied: urllib3!=1.25.0,!=1.25.1,<1.26,>=1.21.1 in /usr/local/lib/python3.7/dist-packages (from requests<3,>=2.21.0->tensorboard~=2.6->tensorflow) (1.24.3)\n",
            "Requirement already satisfied: idna<3,>=2.5 in /usr/local/lib/python3.7/dist-packages (from requests<3,>=2.21.0->tensorboard~=2.6->tensorflow) (2.10)\n",
            "Requirement already satisfied: certifi>=2017.4.17 in /usr/local/lib/python3.7/dist-packages (from requests<3,>=2.21.0->tensorboard~=2.6->tensorflow) (2021.5.30)\n",
            "Requirement already satisfied: chardet<4,>=3.0.2 in /usr/local/lib/python3.7/dist-packages (from requests<3,>=2.21.0->tensorboard~=2.6->tensorflow) (3.0.4)\n",
            "Requirement already satisfied: oauthlib>=3.0.0 in /usr/local/lib/python3.7/dist-packages (from requests-oauthlib>=0.7.0->google-auth-oauthlib<0.5,>=0.4.1->tensorboard~=2.6->tensorflow) (3.1.1)\n",
            "Requirement already satisfied: zipp>=0.5 in /usr/local/lib/python3.7/dist-packages (from importlib-metadata->markdown>=2.6.8->tensorboard~=2.6->tensorflow) (3.5.0)\n"
          ]
        }
      ]
    },
    {
      "cell_type": "code",
      "metadata": {
        "id": "GiMJAcrNR2Zh",
        "outputId": "fcab94fb-5a53-44c9-f3f6-7dd2ce628cd0",
        "colab": {
          "base_uri": "https://localhost:8080/",
          "height": 35
        }
      },
      "source": [
        "import numpy as np\n",
        "import tensorflow as tf\n",
        "import inspect\n",
        "tf.__version__"
      ],
      "execution_count": 3,
      "outputs": [
        {
          "output_type": "execute_result",
          "data": {
            "application/vnd.google.colaboratory.intrinsic+json": {
              "type": "string"
            },
            "text/plain": [
              "'2.6.0'"
            ]
          },
          "metadata": {},
          "execution_count": 3
        }
      ]
    },
    {
      "cell_type": "code",
      "metadata": {
        "id": "n1JtaobsR2Zh"
      },
      "source": [
        "model_type = 'InceptionV3'\n",
        "_MODEL_INPUT_SHAPES = {\n",
        "      'InceptionV3': (75, 75, 3)\n",
        "  }\n",
        "def _get_model(model_type):\n",
        "    model_fn = [\n",
        "        y for x, y in inspect.getmembers(tf.keras.applications)\n",
        "        if x == model_type\n",
        "    ][0]\n",
        "\n",
        "    input_shape = _MODEL_INPUT_SHAPES.get(\n",
        "        model_type, (32, 32, 3))\n",
        "\n",
        "    return model_fn(weights=None, input_shape=input_shape)\n",
        "model = _get_model(model_type)"
      ],
      "execution_count": 4,
      "outputs": []
    },
    {
      "cell_type": "code",
      "metadata": {
        "id": "9Y2Po9MwR2Zi"
      },
      "source": [
        "def _batch(dims, batch_size):\n",
        "    if dims[0] is None:\n",
        "      dims[0] = batch_size\n",
        "    return dims\n",
        "\n",
        "x_train = np.random.randn(\n",
        "        *_batch(model.input.get_shape().as_list(), 2)).astype('float32')\n",
        "y_train = tf.keras.utils.to_categorical(\n",
        "        np.random.randint(1000, size=(2, 1)), 1000)"
      ],
      "execution_count": 5,
      "outputs": []
    },
    {
      "cell_type": "code",
      "metadata": {
        "id": "Y7PuOhIDR2Zi",
        "outputId": "81a147b6-49fd-4f1f-dff5-ca8d5fb5b6cc",
        "colab": {
          "base_uri": "https://localhost:8080/"
        }
      },
      "source": [
        "x_train.shape"
      ],
      "execution_count": 6,
      "outputs": [
        {
          "output_type": "execute_result",
          "data": {
            "text/plain": [
              "(2, 75, 75, 3)"
            ]
          },
          "metadata": {},
          "execution_count": 6
        }
      ]
    },
    {
      "cell_type": "code",
      "metadata": {
        "id": "r_4EAXtiR2Zj",
        "outputId": "0a1be29e-6ac7-49f6-ffd7-a133b1a0993b",
        "colab": {
          "base_uri": "https://localhost:8080/"
        }
      },
      "source": [
        "y_train.shape"
      ],
      "execution_count": 7,
      "outputs": [
        {
          "output_type": "execute_result",
          "data": {
            "text/plain": [
              "(2, 1000)"
            ]
          },
          "metadata": {},
          "execution_count": 7
        }
      ]
    },
    {
      "cell_type": "code",
      "metadata": {
        "id": "JLVTuAwIR2Zj"
      },
      "source": [
        "from tensorflow.python.keras import keras_parameterized\n",
        "import tensorflow_model_optimization as tfmot\n",
        "\n",
        "quantize_model = tfmot.quantization.keras.quantize_model\n",
        "\n",
        "# q_aware stands for for quantization aware.\n",
        "q_aware_model = quantize_model(model)\n"
      ],
      "execution_count": 8,
      "outputs": []
    },
    {
      "cell_type": "code",
      "metadata": {
        "id": "j0htEDpnR2Zk",
        "outputId": "e3bfed0f-ce44-4d27-c591-47ffa49578d0",
        "colab": {
          "base_uri": "https://localhost:8080/"
        }
      },
      "source": [
        "model.compile(\n",
        "        loss='categorical_crossentropy', optimizer='sgd', metrics=['accuracy'])\n",
        "model.fit(x_train, y_train,epochs=12)"
      ],
      "execution_count": 16,
      "outputs": [
        {
          "output_type": "stream",
          "name": "stdout",
          "text": [
            "Epoch 1/12\n",
            "1/1 [==============================] - 5s 5s/step - loss: 2.1978 - accuracy: 0.5000\n",
            "Epoch 2/12\n",
            "1/1 [==============================] - 0s 224ms/step - loss: 0.4005 - accuracy: 1.0000\n",
            "Epoch 3/12\n",
            "1/1 [==============================] - 0s 215ms/step - loss: 0.1096 - accuracy: 1.0000\n",
            "Epoch 4/12\n",
            "1/1 [==============================] - 0s 220ms/step - loss: 0.0540 - accuracy: 1.0000\n",
            "Epoch 5/12\n",
            "1/1 [==============================] - 0s 223ms/step - loss: 0.0210 - accuracy: 1.0000\n",
            "Epoch 6/12\n",
            "1/1 [==============================] - 0s 232ms/step - loss: 0.0119 - accuracy: 1.0000\n",
            "Epoch 7/12\n",
            "1/1 [==============================] - 0s 214ms/step - loss: 0.0079 - accuracy: 1.0000\n",
            "Epoch 8/12\n",
            "1/1 [==============================] - 0s 233ms/step - loss: 0.0072 - accuracy: 1.0000\n",
            "Epoch 9/12\n",
            "1/1 [==============================] - 0s 222ms/step - loss: 0.0061 - accuracy: 1.0000\n",
            "Epoch 10/12\n",
            "1/1 [==============================] - 0s 226ms/step - loss: 0.0052 - accuracy: 1.0000\n",
            "Epoch 11/12\n",
            "1/1 [==============================] - 0s 217ms/step - loss: 0.0042 - accuracy: 1.0000\n",
            "Epoch 12/12\n",
            "1/1 [==============================] - 0s 216ms/step - loss: 0.0035 - accuracy: 1.0000\n"
          ]
        },
        {
          "output_type": "execute_result",
          "data": {
            "text/plain": [
              "<keras.callbacks.History at 0x7f942d57c3d0>"
            ]
          },
          "metadata": {},
          "execution_count": 16
        }
      ]
    },
    {
      "cell_type": "code",
      "metadata": {
        "id": "hiN2w4RsR2Zl",
        "outputId": "7133af9a-ea1b-4692-c9aa-fcda66fc144a",
        "colab": {
          "base_uri": "https://localhost:8080/"
        }
      },
      "source": [
        "q_aware_model.compile(\n",
        "        loss='categorical_crossentropy', optimizer='sgd', metrics=['accuracy'])\n",
        "q_aware_model.fit(x_train, y_train,epochs=12)"
      ],
      "execution_count": 17,
      "outputs": [
        {
          "output_type": "stream",
          "name": "stdout",
          "text": [
            "Epoch 1/12\n",
            "1/1 [==============================] - 15s 15s/step - loss: 4.9362 - accuracy: 0.5000\n",
            "Epoch 2/12\n",
            "1/1 [==============================] - 1s 836ms/step - loss: 3.2778 - accuracy: 0.5000\n",
            "Epoch 3/12\n",
            "1/1 [==============================] - 1s 858ms/step - loss: 2.6224 - accuracy: 0.0000e+00\n",
            "Epoch 4/12\n",
            "1/1 [==============================] - 1s 838ms/step - loss: 1.6725 - accuracy: 0.5000\n",
            "Epoch 5/12\n",
            "1/1 [==============================] - 1s 836ms/step - loss: 1.6744 - accuracy: 0.5000\n",
            "Epoch 6/12\n",
            "1/1 [==============================] - 1s 849ms/step - loss: 1.6622 - accuracy: 0.5000\n",
            "Epoch 7/12\n",
            "1/1 [==============================] - 1s 854ms/step - loss: 1.6591 - accuracy: 0.5000\n",
            "Epoch 8/12\n",
            "1/1 [==============================] - 1s 851ms/step - loss: 1.6512 - accuracy: 0.5000\n",
            "Epoch 9/12\n",
            "1/1 [==============================] - 1s 874ms/step - loss: 1.6473 - accuracy: 0.5000\n",
            "Epoch 10/12\n",
            "1/1 [==============================] - 1s 851ms/step - loss: 1.6452 - accuracy: 0.5000\n",
            "Epoch 11/12\n",
            "1/1 [==============================] - 1s 873ms/step - loss: 1.6416 - accuracy: 0.5000\n",
            "Epoch 12/12\n",
            "1/1 [==============================] - 1s 863ms/step - loss: 1.6321 - accuracy: 0.5000\n"
          ]
        },
        {
          "output_type": "execute_result",
          "data": {
            "text/plain": [
              "<keras.callbacks.History at 0x7f94326fc5d0>"
            ]
          },
          "metadata": {},
          "execution_count": 17
        }
      ]
    }
  ]
}