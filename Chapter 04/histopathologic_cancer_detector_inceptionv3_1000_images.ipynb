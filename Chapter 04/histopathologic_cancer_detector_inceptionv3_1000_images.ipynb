{
 "cells": [
  {
   "cell_type": "code",
   "execution_count": 1,
   "metadata": {
    "_uuid": "812221f6046eb6002d9835e040d8d50675c4718e"
   },
   "outputs": [],
   "source": [
    "%matplotlib inline"
   ]
  },
  {
   "cell_type": "code",
   "execution_count": 2,
   "metadata": {},
   "outputs": [
    {
     "data": {
      "text/plain": [
       "'/usr/local/opt/python/bin/python3.7'"
      ]
     },
     "execution_count": 2,
     "metadata": {},
     "output_type": "execute_result"
    }
   ],
   "source": [
    "import sys\n",
    "sys.executable"
   ]
  },
  {
   "cell_type": "markdown",
   "metadata": {},
   "source": [
    "https://www.tensorflow.org/versions/r2.0/api_docs/python/tf/keras/applications/InceptionV3"
   ]
  },
  {
   "cell_type": "code",
   "execution_count": 3,
   "metadata": {
    "_cell_guid": "b1076dfc-b9ad-4769-8c92-a6c4dae69d19",
    "_kg_hide-input": false,
    "_kg_hide-output": false,
    "_uuid": "8f2839f25d086af736a60e9eeb907d3b93b6e0e5"
   },
   "outputs": [],
   "source": [
    "# Imports\n",
    "import numpy as np \n",
    "import pandas as pd \n",
    "from glob import glob \n",
    "from skimage.io import imread \n",
    "import os\n",
    "import shutil\n",
    "import matplotlib.pyplot as plt\n",
    "from sklearn.metrics import roc_curve, auc, roc_auc_score\n",
    "from sklearn.model_selection import train_test_split\n",
    "from tensorflow.keras.preprocessing.image import ImageDataGenerator\n",
    "from tensorflow.keras.applications.inception_v3 import InceptionV3\n",
    "from tensorflow.keras.applications.xception import Xception\n",
    "from tensorflow.keras.utils import plot_model\n",
    "from tensorflow.keras.layers import Dropout, Flatten, Dense, GlobalAveragePooling2D, Average, Input, Concatenate, GlobalMaxPooling2D\n",
    "from tensorflow.keras.models import Model\n",
    "from tensorflow.keras.callbacks import CSVLogger, ModelCheckpoint\n",
    "from tensorflow.keras.optimizers import Adam"
   ]
  },
  {
   "cell_type": "code",
   "execution_count": 4,
   "metadata": {
    "_uuid": "cada1e5e63e66eaccab61c40422b7d7f8fc481c6"
   },
   "outputs": [],
   "source": [
    "# Output files\n",
    "model_type='inceptionv3'\n",
    "no_of_images = 1000\n",
    "EPOCHS = 10\n",
    "_APPEND = '_' + model_type + '_' + str(no_of_images) + '_' + str(EPOCHS)  \n",
    "APPEND = _APPEND + \".png\"\n",
    "\n",
    "TRAINING_LOGS_FILE = \"training_logs\" + _APPEND + '.csv'\n",
    "MODEL_SUMMARY_FILE = \"model_summary.txt\"\n",
    "MODEL_PLOT_FILE = \"plots/model_plot_\" + APPEND\n",
    "MODEL_FILE = \"model/model_inceptionv3_1000.h5\"\n",
    "TRAINING_PLOT_FILE = \"training\" +  APPEND\n",
    "VALIDATION_PLOT_FILE = \"validation\" + APPEND\n",
    "ROC_PLOT_FILE = \"plots/roc\" + APPEND"
   ]
  },
  {
   "cell_type": "code",
   "execution_count": 5,
   "metadata": {
    "_uuid": "6b8d7a9899440da705f78f32d5c7a94c9b5434fb"
   },
   "outputs": [],
   "source": [
    "# Hyperparams\n",
    "#SAMPLE_COUNT = 85000\n",
    "#TRAINING_RATIO = 0.9\n",
    "IMAGE_SIZE = 96 \n",
    "\n",
    "BATCH_SIZE = 192\n",
    "VERBOSITY = 1\n",
    "TESTING_BATCH_SIZE = 100"
   ]
  },
  {
   "cell_type": "code",
   "execution_count": 6,
   "metadata": {},
   "outputs": [],
   "source": [
    "SAMPLE_COUNT = 200\n",
    "TRAINING_RATIO = 0.9\n",
    "TESTING_BATCH_SIZE = 100\n",
    "BATCH_SIZE = 10"
   ]
  },
  {
   "cell_type": "code",
   "execution_count": 7,
   "metadata": {
    "_cell_guid": "79c7e3d0-c299-4dcb-8224-4455121ee9b0",
    "_uuid": "d629ff2d2480ee46fbb7e2d37f6b5fab8052498a"
   },
   "outputs": [
    {
     "data": {
      "text/html": [
       "<div>\n",
       "<style scoped>\n",
       "    .dataframe tbody tr th:only-of-type {\n",
       "        vertical-align: middle;\n",
       "    }\n",
       "\n",
       "    .dataframe tbody tr th {\n",
       "        vertical-align: top;\n",
       "    }\n",
       "\n",
       "    .dataframe thead th {\n",
       "        text-align: right;\n",
       "    }\n",
       "</style>\n",
       "<table border=\"1\" class=\"dataframe\">\n",
       "  <thead>\n",
       "    <tr style=\"text-align: right;\">\n",
       "      <th></th>\n",
       "      <th>path</th>\n",
       "    </tr>\n",
       "  </thead>\n",
       "  <tbody>\n",
       "    <tr>\n",
       "      <th>0</th>\n",
       "      <td>./dataset/train1000/f0c2a0b8ef3024f407fa97d852...</td>\n",
       "    </tr>\n",
       "    <tr>\n",
       "      <th>1</th>\n",
       "      <td>./dataset/train1000/99ef485f205645918613cd0428...</td>\n",
       "    </tr>\n",
       "    <tr>\n",
       "      <th>2</th>\n",
       "      <td>./dataset/train1000/e2612e173abd0e8bb54a3c3db3...</td>\n",
       "    </tr>\n",
       "    <tr>\n",
       "      <th>3</th>\n",
       "      <td>./dataset/train1000/6d1bb57c0606f05dbd75f90a8d...</td>\n",
       "    </tr>\n",
       "    <tr>\n",
       "      <th>4</th>\n",
       "      <td>./dataset/train1000/9c043ab2adadfeb758c71d2143...</td>\n",
       "    </tr>\n",
       "  </tbody>\n",
       "</table>\n",
       "</div>"
      ],
      "text/plain": [
       "                                                path\n",
       "0  ./dataset/train1000/f0c2a0b8ef3024f407fa97d852...\n",
       "1  ./dataset/train1000/99ef485f205645918613cd0428...\n",
       "2  ./dataset/train1000/e2612e173abd0e8bb54a3c3db3...\n",
       "3  ./dataset/train1000/6d1bb57c0606f05dbd75f90a8d...\n",
       "4  ./dataset/train1000/9c043ab2adadfeb758c71d2143..."
      ]
     },
     "execution_count": 7,
     "metadata": {},
     "output_type": "execute_result"
    }
   ],
   "source": [
    "# Origina data file Data (https://www.kaggle.com/c/histopathologic-cancer-detection/data)\n",
    "#input_dir = '../input/'\n",
    "input_dir = './dataset/'\n",
    "training_dir = input_dir + 'train1000/'\n",
    "data_frame = pd.DataFrame({'path': glob(os.path.join(training_dir,'*.tif'))})\n",
    "data_frame.head()"
   ]
  },
  {
   "cell_type": "code",
   "execution_count": 8,
   "metadata": {},
   "outputs": [
    {
     "data": {
      "text/html": [
       "<div>\n",
       "<style scoped>\n",
       "    .dataframe tbody tr th:only-of-type {\n",
       "        vertical-align: middle;\n",
       "    }\n",
       "\n",
       "    .dataframe tbody tr th {\n",
       "        vertical-align: top;\n",
       "    }\n",
       "\n",
       "    .dataframe thead th {\n",
       "        text-align: right;\n",
       "    }\n",
       "</style>\n",
       "<table border=\"1\" class=\"dataframe\">\n",
       "  <thead>\n",
       "    <tr style=\"text-align: right;\">\n",
       "      <th></th>\n",
       "      <th>path</th>\n",
       "      <th>id</th>\n",
       "    </tr>\n",
       "  </thead>\n",
       "  <tbody>\n",
       "    <tr>\n",
       "      <th>0</th>\n",
       "      <td>./dataset/train1000/f0c2a0b8ef3024f407fa97d852...</td>\n",
       "      <td>f0c2a0b8ef3024f407fa97d852d49be0215cafe0</td>\n",
       "    </tr>\n",
       "    <tr>\n",
       "      <th>1</th>\n",
       "      <td>./dataset/train1000/99ef485f205645918613cd0428...</td>\n",
       "      <td>99ef485f205645918613cd04281098daa7c17819</td>\n",
       "    </tr>\n",
       "    <tr>\n",
       "      <th>2</th>\n",
       "      <td>./dataset/train1000/e2612e173abd0e8bb54a3c3db3...</td>\n",
       "      <td>e2612e173abd0e8bb54a3c3db3f264b63d80bffb</td>\n",
       "    </tr>\n",
       "    <tr>\n",
       "      <th>3</th>\n",
       "      <td>./dataset/train1000/6d1bb57c0606f05dbd75f90a8d...</td>\n",
       "      <td>6d1bb57c0606f05dbd75f90a8d9e21a57e1267e0</td>\n",
       "    </tr>\n",
       "    <tr>\n",
       "      <th>4</th>\n",
       "      <td>./dataset/train1000/9c043ab2adadfeb758c71d2143...</td>\n",
       "      <td>9c043ab2adadfeb758c71d21432fccd3e43565c0</td>\n",
       "    </tr>\n",
       "  </tbody>\n",
       "</table>\n",
       "</div>"
      ],
      "text/plain": [
       "                                                path  \\\n",
       "0  ./dataset/train1000/f0c2a0b8ef3024f407fa97d852...   \n",
       "1  ./dataset/train1000/99ef485f205645918613cd0428...   \n",
       "2  ./dataset/train1000/e2612e173abd0e8bb54a3c3db3...   \n",
       "3  ./dataset/train1000/6d1bb57c0606f05dbd75f90a8d...   \n",
       "4  ./dataset/train1000/9c043ab2adadfeb758c71d2143...   \n",
       "\n",
       "                                         id  \n",
       "0  f0c2a0b8ef3024f407fa97d852d49be0215cafe0  \n",
       "1  99ef485f205645918613cd04281098daa7c17819  \n",
       "2  e2612e173abd0e8bb54a3c3db3f264b63d80bffb  \n",
       "3  6d1bb57c0606f05dbd75f90a8d9e21a57e1267e0  \n",
       "4  9c043ab2adadfeb758c71d21432fccd3e43565c0  "
      ]
     },
     "execution_count": 8,
     "metadata": {},
     "output_type": "execute_result"
    }
   ],
   "source": [
    "data_frame['id'] = data_frame.path.map(lambda x: x.split('/')[3].split('.')[0])\n",
    "#data_frame['id'] = data_frame.path.map(lambda x: x.split('/')[3])\n",
    "data_frame.head()"
   ]
  },
  {
   "cell_type": "code",
   "execution_count": 9,
   "metadata": {},
   "outputs": [
    {
     "data": {
      "text/html": [
       "<div>\n",
       "<style scoped>\n",
       "    .dataframe tbody tr th:only-of-type {\n",
       "        vertical-align: middle;\n",
       "    }\n",
       "\n",
       "    .dataframe tbody tr th {\n",
       "        vertical-align: top;\n",
       "    }\n",
       "\n",
       "    .dataframe thead th {\n",
       "        text-align: right;\n",
       "    }\n",
       "</style>\n",
       "<table border=\"1\" class=\"dataframe\">\n",
       "  <thead>\n",
       "    <tr style=\"text-align: right;\">\n",
       "      <th></th>\n",
       "      <th>id</th>\n",
       "      <th>label</th>\n",
       "    </tr>\n",
       "  </thead>\n",
       "  <tbody>\n",
       "    <tr>\n",
       "      <th>0</th>\n",
       "      <td>f38a6374c348f90b587e046aac6079959adf3835</td>\n",
       "      <td>0</td>\n",
       "    </tr>\n",
       "    <tr>\n",
       "      <th>1</th>\n",
       "      <td>c18f2d887b7ae4f6742ee445113fa1aef383ed77</td>\n",
       "      <td>1</td>\n",
       "    </tr>\n",
       "    <tr>\n",
       "      <th>2</th>\n",
       "      <td>755db6279dae599ebb4d39a9123cce439965282d</td>\n",
       "      <td>0</td>\n",
       "    </tr>\n",
       "    <tr>\n",
       "      <th>3</th>\n",
       "      <td>bc3f0c64fb968ff4a8bd33af6971ecae77c75e08</td>\n",
       "      <td>0</td>\n",
       "    </tr>\n",
       "    <tr>\n",
       "      <th>4</th>\n",
       "      <td>068aba587a4950175d04c680d38943fd488d6a9d</td>\n",
       "      <td>0</td>\n",
       "    </tr>\n",
       "  </tbody>\n",
       "</table>\n",
       "</div>"
      ],
      "text/plain": [
       "                                         id  label\n",
       "0  f38a6374c348f90b587e046aac6079959adf3835      0\n",
       "1  c18f2d887b7ae4f6742ee445113fa1aef383ed77      1\n",
       "2  755db6279dae599ebb4d39a9123cce439965282d      0\n",
       "3  bc3f0c64fb968ff4a8bd33af6971ecae77c75e08      0\n",
       "4  068aba587a4950175d04c680d38943fd488d6a9d      0"
      ]
     },
     "execution_count": 9,
     "metadata": {},
     "output_type": "execute_result"
    }
   ],
   "source": [
    "labels = pd.read_csv(input_dir + 'train_labels.csv')\n",
    "labels.head()"
   ]
  },
  {
   "cell_type": "code",
   "execution_count": 10,
   "metadata": {},
   "outputs": [
    {
     "name": "stdout",
     "output_type": "stream",
     "text": [
      "path     1000\n",
      "id       1000\n",
      "label    1000\n",
      "dtype: int64\n"
     ]
    }
   ],
   "source": [
    "data_frame = data_frame.merge(labels, on='id')\n",
    "print(data_frame.count(axis=0))\n",
    "negatives = data_frame[data_frame.label == 0].sample(SAMPLE_COUNT)\n",
    "positives = data_frame[data_frame.label == 1].sample(SAMPLE_COUNT)\n",
    "data_frame = pd.concat([negatives, positives]).reset_index()\n",
    "data_frame = data_frame[['path', 'id', 'label']]\n",
    "data_frame['image'] = data_frame['path'].map(imread)"
   ]
  },
  {
   "cell_type": "code",
   "execution_count": 11,
   "metadata": {},
   "outputs": [
    {
     "data": {
      "text/html": [
       "<div>\n",
       "<style scoped>\n",
       "    .dataframe tbody tr th:only-of-type {\n",
       "        vertical-align: middle;\n",
       "    }\n",
       "\n",
       "    .dataframe tbody tr th {\n",
       "        vertical-align: top;\n",
       "    }\n",
       "\n",
       "    .dataframe thead th {\n",
       "        text-align: right;\n",
       "    }\n",
       "</style>\n",
       "<table border=\"1\" class=\"dataframe\">\n",
       "  <thead>\n",
       "    <tr style=\"text-align: right;\">\n",
       "      <th></th>\n",
       "      <th>path</th>\n",
       "      <th>id</th>\n",
       "      <th>label</th>\n",
       "      <th>image</th>\n",
       "    </tr>\n",
       "  </thead>\n",
       "  <tbody>\n",
       "    <tr>\n",
       "      <th>0</th>\n",
       "      <td>./dataset/train1000/575531bd1b78c5bd734f10e1e4...</td>\n",
       "      <td>575531bd1b78c5bd734f10e1e40e3e0781dbecec</td>\n",
       "      <td>0</td>\n",
       "      <td>[[[172, 96, 171], [181, 102, 185], [194, 111, ...</td>\n",
       "    </tr>\n",
       "    <tr>\n",
       "      <th>1</th>\n",
       "      <td>./dataset/train1000/0cda9eac4409be483df65415f3...</td>\n",
       "      <td>0cda9eac4409be483df65415f370131f629c20a0</td>\n",
       "      <td>0</td>\n",
       "      <td>[[[255, 167, 254], [198, 100, 183], [201, 100,...</td>\n",
       "    </tr>\n",
       "    <tr>\n",
       "      <th>2</th>\n",
       "      <td>./dataset/train1000/390fdc7a41e5c34230c8f319f7...</td>\n",
       "      <td>390fdc7a41e5c34230c8f319f7e0296e7a849718</td>\n",
       "      <td>0</td>\n",
       "      <td>[[[153, 96, 177], [125, 72, 154], [206, 159, 2...</td>\n",
       "    </tr>\n",
       "    <tr>\n",
       "      <th>3</th>\n",
       "      <td>./dataset/train1000/de577ced57bd202857611705d0...</td>\n",
       "      <td>de577ced57bd202857611705d0333547c3f454e0</td>\n",
       "      <td>0</td>\n",
       "      <td>[[[137, 84, 172], [132, 79, 169], [135, 82, 17...</td>\n",
       "    </tr>\n",
       "    <tr>\n",
       "      <th>4</th>\n",
       "      <td>./dataset/train1000/67098fff6abb8561a4ff65ed69...</td>\n",
       "      <td>67098fff6abb8561a4ff65ed69c76418af8e9adc</td>\n",
       "      <td>0</td>\n",
       "      <td>[[[155, 112, 184], [109, 65, 124], [117, 75, 1...</td>\n",
       "    </tr>\n",
       "  </tbody>\n",
       "</table>\n",
       "</div>"
      ],
      "text/plain": [
       "                                                path  \\\n",
       "0  ./dataset/train1000/575531bd1b78c5bd734f10e1e4...   \n",
       "1  ./dataset/train1000/0cda9eac4409be483df65415f3...   \n",
       "2  ./dataset/train1000/390fdc7a41e5c34230c8f319f7...   \n",
       "3  ./dataset/train1000/de577ced57bd202857611705d0...   \n",
       "4  ./dataset/train1000/67098fff6abb8561a4ff65ed69...   \n",
       "\n",
       "                                         id  label  \\\n",
       "0  575531bd1b78c5bd734f10e1e40e3e0781dbecec      0   \n",
       "1  0cda9eac4409be483df65415f370131f629c20a0      0   \n",
       "2  390fdc7a41e5c34230c8f319f7e0296e7a849718      0   \n",
       "3  de577ced57bd202857611705d0333547c3f454e0      0   \n",
       "4  67098fff6abb8561a4ff65ed69c76418af8e9adc      0   \n",
       "\n",
       "                                               image  \n",
       "0  [[[172, 96, 171], [181, 102, 185], [194, 111, ...  \n",
       "1  [[[255, 167, 254], [198, 100, 183], [201, 100,...  \n",
       "2  [[[153, 96, 177], [125, 72, 154], [206, 159, 2...  \n",
       "3  [[[137, 84, 172], [132, 79, 169], [135, 82, 17...  \n",
       "4  [[[155, 112, 184], [109, 65, 124], [117, 75, 1...  "
      ]
     },
     "execution_count": 11,
     "metadata": {},
     "output_type": "execute_result"
    }
   ],
   "source": [
    "data_frame.head()"
   ]
  },
  {
   "cell_type": "code",
   "execution_count": 12,
   "metadata": {},
   "outputs": [],
   "source": [
    "training_path = './training1000'\n",
    "validation_path = './validation1000'\n"
   ]
  },
  {
   "cell_type": "code",
   "execution_count": 13,
   "metadata": {},
   "outputs": [
    {
     "name": "stdout",
     "output_type": "stream",
     "text": [
      "path exists? ./training1000/0:True\n",
      "path exists? ./training1000/1:True\n",
      "path exists? ./validation1000/0:True\n",
      "path exists? ./validation1000/1:True\n"
     ]
    }
   ],
   "source": [
    "for folder in [training_path, validation_path]:\n",
    "    for subfolder in ['0', '1']:\n",
    "        path = os.path.join(folder, subfolder)\n",
    "        #os.makedirs(path, exist_ok=True)\n",
    "        print('path exists? ' + path + \":\" + str(os.path.exists(path)))\n",
    "        if not os.path.exists(path):\n",
    "            print('Creating dirs: ' + path)\n",
    "            os.makedirs(path)"
   ]
  },
  {
   "cell_type": "code",
   "execution_count": 14,
   "metadata": {},
   "outputs": [
    {
     "name": "stderr",
     "output_type": "stream",
     "text": [
      "/usr/local/lib/python3.7/site-packages/sklearn/model_selection/_split.py:2179: FutureWarning: From version 0.21, test_size will always complement train_size unless both are specified.\n",
      "  FutureWarning)\n"
     ]
    }
   ],
   "source": [
    "training, validation = train_test_split(data_frame, train_size=TRAINING_RATIO, stratify=data_frame['label'])\n",
    "\n",
    "data_frame.set_index('id', inplace=True)"
   ]
  },
  {
   "cell_type": "code",
   "execution_count": 15,
   "metadata": {},
   "outputs": [
    {
     "name": "stdout",
     "output_type": "stream",
     "text": [
      "./training1000 already exists\n",
      "./validation1000 already exists\n"
     ]
    }
   ],
   "source": [
    "for images_and_path in [(training, training_path), (validation, validation_path)]:\n",
    "    images = images_and_path[0]\n",
    "    path = images_and_path[1]\n",
    "    if not os.path.exists(path):\n",
    "        for image in images['id'].values:\n",
    "            file_name = image + '.tif'\n",
    "            label = str(data_frame.loc[image,'label'])\n",
    "            destination = os.path.join(path, label, file_name)\n",
    "            print(destination + ': os.path.exists?' + str(os.path.exists(destination)))\n",
    "            if not os.path.exists(destination):\n",
    "                source = os.path.join(input_dir + 'train1000', file_name)\n",
    "                shutil.copyfile(source, destination)\n",
    "    else:\n",
    "        print(path + ' already exists')"
   ]
  },
  {
   "cell_type": "code",
   "execution_count": 16,
   "metadata": {
    "_uuid": "cec14fe7a59727d5606263f17aeff81699d912e0"
   },
   "outputs": [],
   "source": [
    "# Data augmentation\n",
    "training_data_generator = ImageDataGenerator(rescale=1./255,\n",
    "                                             horizontal_flip=True,\n",
    "                                             vertical_flip=True,\n",
    "                                             rotation_range=180,\n",
    "                                             zoom_range=0.4, \n",
    "                                             width_shift_range=0.3,\n",
    "                                             height_shift_range=0.3,\n",
    "                                             shear_range=0.3,\n",
    "                                             channel_shift_range=0.3)"
   ]
  },
  {
   "cell_type": "code",
   "execution_count": 17,
   "metadata": {
    "_uuid": "ccad1f37cc2bfae0ba735b0b8e1ddb20a5930dae"
   },
   "outputs": [
    {
     "name": "stdout",
     "output_type": "stream",
     "text": [
      "Found 874 images belonging to 2 classes.\n",
      "Found 185 images belonging to 2 classes.\n",
      "Found 185 images belonging to 2 classes.\n"
     ]
    }
   ],
   "source": [
    "# Data generation\n",
    "training_generator = training_data_generator.flow_from_directory(training_path,\n",
    "                                                                 target_size=(IMAGE_SIZE,IMAGE_SIZE),\n",
    "                                                                 batch_size=BATCH_SIZE,\n",
    "                                                                 class_mode='binary')\n",
    "validation_generator = ImageDataGenerator(rescale=1./255).flow_from_directory(validation_path,\n",
    "                                                                              target_size=(IMAGE_SIZE,IMAGE_SIZE),\n",
    "                                                                              batch_size=BATCH_SIZE,\n",
    "                                                                              class_mode='binary')\n",
    "testing_generator = ImageDataGenerator(rescale=1./255).flow_from_directory(validation_path,\n",
    "                                                                           target_size=(IMAGE_SIZE,IMAGE_SIZE),\n",
    "                                                                           batch_size=BATCH_SIZE,\n",
    "                                                                           class_mode='binary',\n",
    "                                                                           shuffle=False)"
   ]
  },
  {
   "cell_type": "code",
   "execution_count": 18,
   "metadata": {},
   "outputs": [
    {
     "name": "stdout",
     "output_type": "stream",
     "text": [
      "2.0.0-beta1\n"
     ]
    }
   ],
   "source": [
    "import tensorflow as tf\n",
    "print(tf.__version__)"
   ]
  },
  {
   "cell_type": "code",
   "execution_count": 19,
   "metadata": {
    "_uuid": "1dd6a67856557351a02e4ebcfc87e1c94c7706dc"
   },
   "outputs": [
    {
     "name": "stdout",
     "output_type": "stream",
     "text": [
      "Downloading data from https://github.com/fchollet/deep-learning-models/releases/download/v0.5/inception_v3_weights_tf_dim_ordering_tf_kernels_notop.h5\n",
      "87916544/87910968 [==============================] - 52s 1us/step\n",
      "Model: \"model\"\n",
      "_________________________________________________________________\n",
      "Layer (type)                 Output Shape              Param #   \n",
      "=================================================================\n",
      "input_1 (InputLayer)         [(None, 96, 96, 3)]       0         \n",
      "_________________________________________________________________\n",
      "inception_v3 (Model)         (None, 1, 1, 2048)        21802784  \n",
      "_________________________________________________________________\n",
      "global_average_pooling2d (Gl (None, 2048)              0         \n",
      "_________________________________________________________________\n",
      "dropout (Dropout)            (None, 2048)              0         \n",
      "_________________________________________________________________\n",
      "dense (Dense)                (None, 1)                 2049      \n",
      "=================================================================\n",
      "Total params: 21,804,833\n",
      "Trainable params: 21,770,401\n",
      "Non-trainable params: 34,432\n",
      "_________________________________________________________________\n"
     ]
    },
    {
     "data": {
      "image/png": "[encoded data removed]",
      "text/plain": [
       "<IPython.core.display.Image object>"
      ]
     },
     "execution_count": 19,
     "metadata": {},
     "output_type": "execute_result"
    }
   ],
   "source": [
    "# Model\n",
    "input_shape = (IMAGE_SIZE, IMAGE_SIZE, 3)\n",
    "inputs = Input(input_shape)\n",
    "\n",
    "#xception = Xception(include_top=False, input_shape=input_shape)(inputs)\n",
    "inception_v3 = InceptionV3(include_top=False, input_shape=input_shape)(inputs)\n",
    "\n",
    "outputs = GlobalAveragePooling2D()(inception_v3)\n",
    "outputs = Dropout(0.5)(outputs)\n",
    "outputs = Dense(1, activation='sigmoid')(outputs)\n",
    "\n",
    "model = Model(inputs, outputs)\n",
    "model.compile(optimizer=Adam(lr=0.0001, decay=0.00001),\n",
    "              loss='binary_crossentropy',\n",
    "              metrics=['accuracy'])\n",
    "model.summary()\n",
    "\n",
    "plot_model(model,\n",
    "           to_file=MODEL_PLOT_FILE,\n",
    "           show_shapes=True,\n",
    "           show_layer_names=True)"
   ]
  },
  {
   "cell_type": "code",
   "execution_count": 20,
   "metadata": {
    "_uuid": "8a854c31ea90b6dada058e8048cc20a0a5907357",
    "scrolled": false
   },
   "outputs": [
    {
     "name": "stdout",
     "output_type": "stream",
     "text": [
      "Epoch 1/10\n"
     ]
    },
    {
     "name": "stderr",
     "output_type": "stream",
     "text": [
      "WARNING: Logging before flag parsing goes to stderr.\n",
      "W0817 16:17:07.823709 140736160445312 deprecation.py:323] From /Users/rdua/Library/Python/3.7/lib/python/site-packages/tensorflow/python/ops/math_grad.py:1250: add_dispatch_support.<locals>.wrapper (from tensorflow.python.ops.array_ops) is deprecated and will be removed in a future version.\n",
      "Instructions for updating:\n",
      "Use tf.where in 2.0, which has the same broadcast rule as np.where\n"
     ]
    },
    {
     "name": "stdout",
     "output_type": "stream",
     "text": [
      "87/88 [============================>.] - ETA: 2s - loss: 0.7017 - accuracy: 0.5833\n",
      "Epoch 00001: val_accuracy improved from -inf to 0.62703, saving model to model/model_inceptionv3_1000.h5\n",
      "88/88 [==============================] - 237s 3s/step - loss: 0.7029 - accuracy: 0.5812 - val_loss: 0.7185 - val_accuracy: 0.6270\n",
      "Epoch 2/10\n",
      "87/88 [============================>.] - ETA: 0s - loss: 0.6478 - accuracy: 0.6447\n",
      "Epoch 00002: val_accuracy improved from 0.62703 to 0.65946, saving model to model/model_inceptionv3_1000.h5\n",
      "88/88 [==============================] - 82s 929ms/step - loss: 0.6476 - accuracy: 0.6465 - val_loss: 0.7836 - val_accuracy: 0.6595\n",
      "Epoch 3/10\n",
      "87/88 [============================>.] - ETA: 0s - loss: 0.6235 - accuracy: 0.6887\n",
      "Epoch 00003: val_accuracy improved from 0.65946 to 0.70811, saving model to model/model_inceptionv3_1000.h5\n",
      "88/88 [==============================] - 86s 982ms/step - loss: 0.6214 - accuracy: 0.6911 - val_loss: 0.5470 - val_accuracy: 0.7081\n",
      "Epoch 4/10\n",
      "87/88 [============================>.] - ETA: 0s - loss: 0.6357 - accuracy: 0.6968\n",
      "Epoch 00004: val_accuracy improved from 0.70811 to 0.76216, saving model to model/model_inceptionv3_1000.h5\n",
      "88/88 [==============================] - 89s 1s/step - loss: 0.6371 - accuracy: 0.6968 - val_loss: 0.5219 - val_accuracy: 0.7622\n",
      "Epoch 5/10\n",
      "87/88 [============================>.] - ETA: 0s - loss: 0.5688 - accuracy: 0.7153\n",
      "Epoch 00005: val_accuracy improved from 0.76216 to 0.78378, saving model to model/model_inceptionv3_1000.h5\n",
      "88/88 [==============================] - 90s 1s/step - loss: 0.5688 - accuracy: 0.7140 - val_loss: 0.5507 - val_accuracy: 0.7838\n",
      "Epoch 6/10\n",
      "87/88 [============================>.] - ETA: 0s - loss: 0.5843 - accuracy: 0.7014\n",
      "Epoch 00006: val_accuracy did not improve from 0.78378\n",
      "88/88 [==============================] - 89s 1s/step - loss: 0.5824 - accuracy: 0.7025 - val_loss: 0.5105 - val_accuracy: 0.7676\n",
      "Epoch 7/10\n",
      "87/88 [============================>.] - ETA: 0s - loss: 0.5613 - accuracy: 0.7361\n",
      "Epoch 00007: val_accuracy improved from 0.78378 to 0.78919, saving model to model/model_inceptionv3_1000.h5\n",
      "88/88 [==============================] - 89s 1s/step - loss: 0.5592 - accuracy: 0.7368 - val_loss: 0.4245 - val_accuracy: 0.7892\n",
      "Epoch 8/10\n",
      "87/88 [============================>.] - ETA: 0s - loss: 0.5781 - accuracy: 0.7118\n",
      "Epoch 00008: val_accuracy did not improve from 0.78919\n",
      "88/88 [==============================] - 82s 933ms/step - loss: 0.5747 - accuracy: 0.7151 - val_loss: 0.5374 - val_accuracy: 0.7459\n",
      "Epoch 9/10\n",
      "87/88 [============================>.] - ETA: 0s - loss: 0.5469 - accuracy: 0.7604\n",
      "Epoch 00009: val_accuracy did not improve from 0.78919\n",
      "88/88 [==============================] - 88s 1s/step - loss: 0.5513 - accuracy: 0.7574 - val_loss: 0.5496 - val_accuracy: 0.7892\n",
      "Epoch 10/10\n",
      "87/88 [============================>.] - ETA: 0s - loss: 0.5151 - accuracy: 0.7604\n",
      "Epoch 00010: val_accuracy improved from 0.78919 to 0.81622, saving model to model/model_inceptionv3_1000.h5\n",
      "88/88 [==============================] - 89s 1s/step - loss: 0.5149 - accuracy: 0.7597 - val_loss: 0.4509 - val_accuracy: 0.8162\n"
     ]
    }
   ],
   "source": [
    "#  Training\n",
    "history = model.fit_generator(training_generator,\n",
    "                              steps_per_epoch=len(training_generator), \n",
    "                              validation_data=validation_generator,\n",
    "                              validation_steps=len(validation_generator),\n",
    "                              epochs=EPOCHS,\n",
    "                              verbose=VERBOSITY,\n",
    "                              callbacks=[#PlotLossesKeras(),\n",
    "                                         ModelCheckpoint(MODEL_FILE,\n",
    "                                                         monitor='val_accuracy',\n",
    "                                                         verbose=VERBOSITY,\n",
    "                                                         save_best_only=True,\n",
    "                                                         mode='max'),\n",
    "                                         CSVLogger(TRAINING_LOGS_FILE,\n",
    "                                                   append=True,\n",
    "                                                   separator=';')\n",
    "                              ])"
   ]
  },
  {
   "cell_type": "code",
   "execution_count": 21,
   "metadata": {},
   "outputs": [
    {
     "data": {
      "text/plain": [
       "{'loss': [0.7054001386160164,\n",
       "  0.6497240064482395,\n",
       "  0.6169239839781886,\n",
       "  0.6363812822430849,\n",
       "  0.5698406142896592,\n",
       "  0.5841108832670294,\n",
       "  0.5603480720615496,\n",
       "  0.5764401501185289,\n",
       "  0.545414591783517,\n",
       "  0.5166418291202126],\n",
       " 'accuracy': [0.5812357,\n",
       "  0.6464531,\n",
       "  0.6910755,\n",
       "  0.69679636,\n",
       "  0.7139588,\n",
       "  0.70251715,\n",
       "  0.7368421,\n",
       "  0.715103,\n",
       "  0.75743705,\n",
       "  0.7597254],\n",
       " 'val_loss': [0.7184597614564394,\n",
       "  0.7835954584573445,\n",
       "  0.5469922391991866,\n",
       "  0.5218801419985922,\n",
       "  0.550739093830711,\n",
       "  0.5105459878319188,\n",
       "  0.42451693901890203,\n",
       "  0.5373571922904566,\n",
       "  0.5496227458903664,\n",
       "  0.45087579833833796],\n",
       " 'val_accuracy': [0.62702703,\n",
       "  0.6594595,\n",
       "  0.7081081,\n",
       "  0.76216215,\n",
       "  0.7837838,\n",
       "  0.7675676,\n",
       "  0.78918916,\n",
       "  0.74594593,\n",
       "  0.78918916,\n",
       "  0.81621623]}"
      ]
     },
     "execution_count": 21,
     "metadata": {},
     "output_type": "execute_result"
    }
   ],
   "source": [
    "history.history"
   ]
  },
  {
   "cell_type": "code",
   "execution_count": 26,
   "metadata": {
    "_uuid": "dd1582290e369f0f6bed6c6856a1c850b6ec3ef4"
   },
   "outputs": [
    {
     "data": {
      "image/png": "[encoded data removed]",
      "text/plain": [
       "<Figure size 432x288 with 1 Axes>"
      ]
     },
     "metadata": {
      "needs_background": "light"
     },
     "output_type": "display_data"
    }
   ],
   "source": [
    "# Training plots\n",
    "common_title = model_type + ' with ' + str(no_of_images) + ' samples'\n",
    "epochs = [i for i in range(1, len(history.history['loss'])+1)]\n",
    "\n",
    "plt.plot(epochs, history.history['loss'], color='blue', label=\"training_loss\")\n",
    "plt.plot(epochs, history.history['val_loss'], color='red', label=\"validation_loss\")\n",
    "plt.legend(loc='best')\n",
    "plt.title('training: ' + common_title)\n",
    "plt.xlabel('epoch')\n",
    "plt.savefig(TRAINING_PLOT_FILE, bbox_inches='tight')\n",
    "plt.close()\n",
    "\n",
    "plt.plot(epochs, history.history['accuracy'], color='blue', label=\"training_accuracy\")\n",
    "plt.plot(epochs, history.history['val_accuracy'], color='red',label=\"validation_accuracy\")\n",
    "plt.legend(loc='best')\n",
    "plt.title('validation: ' + common_title)\n",
    "plt.xlabel('epoch')\n",
    "plt.savefig(VALIDATION_PLOT_FILE, bbox_inches='tight')\n",
    "plt.show()\n",
    "plt.close()"
   ]
  },
  {
   "cell_type": "code",
   "execution_count": 27,
   "metadata": {
    "_uuid": "7d366ba6530d8d2ae88f9a2947abb38c15e040a3"
   },
   "outputs": [
    {
     "name": "stdout",
     "output_type": "stream",
     "text": [
      "19/19 [==============================] - 1s 55ms/step\n"
     ]
    },
    {
     "data": {
      "image/png": "[encoded data removed]",
      "text/plain": [
       "<Figure size 432x288 with 1 Axes>"
      ]
     },
     "metadata": {
      "needs_background": "light"
     },
     "output_type": "display_data"
    }
   ],
   "source": [
    "# ROC testing plot\n",
    "#model.load_weights(MODEL_FILE)\n",
    "predictions = model.predict_generator(testing_generator, steps=len(testing_generator), verbose=VERBOSITY)\n",
    "false_positive_rate, true_positive_rate, threshold = roc_curve(testing_generator.classes, predictions)\n",
    "area_under_curve = auc(false_positive_rate, true_positive_rate)\n",
    "\n",
    "plt.plot([0, 1], [0, 1], 'k--')\n",
    "plt.plot(false_positive_rate, true_positive_rate, label='AUC = {:.3f}'.format(area_under_curve))\n",
    "plt.xlabel('False positive rate')\n",
    "plt.ylabel('True positive rate')\n",
    "plt.title('ROC curve: ' + common_title)\n",
    "plt.legend(loc='best')\n",
    "plt.savefig(ROC_PLOT_FILE, bbox_inches='tight')\n",
    "plt.show()\n",
    "plt.close()"
   ]
  },
  {
   "cell_type": "code",
   "execution_count": null,
   "metadata": {},
   "outputs": [],
   "source": []
  }
 ],
 "metadata": {
  "kernelspec": {
   "display_name": "Python 3",
   "language": "python",
   "name": "python3"
  },
  "language_info": {
   "codemirror_mode": {
    "name": "ipython",
    "version": 3
   },
   "file_extension": ".py",
   "mimetype": "text/x-python",
   "name": "python",
   "nbconvert_exporter": "python",
   "pygments_lexer": "ipython3",
   "version": "3.7.3"
  }
 },
 "nbformat": 4,
 "nbformat_minor": 1
}
