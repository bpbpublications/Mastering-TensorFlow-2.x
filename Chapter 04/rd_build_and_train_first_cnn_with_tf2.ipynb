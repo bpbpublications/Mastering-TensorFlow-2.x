{
 "cells": [
  {
   "cell_type": "markdown",
   "metadata": {
    "collapsed": true
   },
   "source": [
    "<p style=\"border: 1px solid #1CBCFF; border-left: 15px solid #1CBCFF; padding: 10px; text-align:justify;\">\n",
    "    <strong style=\"color: #1CBCFF\">Tip.</strong> <a style=\"color: #000000;\" href=\"https://nbviewer.jupyter.org/github/PacktPublishing/Hands-On-Computer-Vision-with-TensorFlow-2/blob/master/Chapter03/ch3_nb1_discover_cnns_basic_ops.ipynb\" title=\"View with Jupyter Online\">Click here to view this notebook on <code>nbviewer.jupyter.org</code></a>. \n",
    "    <br/>These notebooks are better read there, as Github default viewer ignores some of the formatting and interactive content.\n",
    "    </p>"
   ]
  },
  {
   "cell_type": "markdown",
   "metadata": {
    "collapsed": true
   },
   "source": [
    "<p style=\"background: #363636; color:#ffffff; text-align:justify; padding: 10px 25px;\">\n",
    "        <strong style=\"font-size: 1.0em;\"><span style=\"font-size: 1.2em;\"><span style=\"color: #363636;\">Mastering Deep Learning with Tensorflow 2.1<br/>by <em>Rajdeep Dua</em> </strong><br/><br/>\n",
    "        <strong>Chapter 4: Convolutional Neural Networks</strong><br/>Build and Train first CNN with TF 2.1\n",
    " </p>\n",
    "\n",
    "\n",
    "<br/>\n",
    "<p style=\"border-left: 15px solid #363636; padding: 0 10px; text-align:justify;\">\n",
    "<strong style=\"color: #363636;\">Tip.</strong> The notebooks shared on this git repository illustrate some notions from the book \"<em><strong>Mastering Deep Learning with Tensorflow 2.1</strong></em>\" written by Rajdeep Dua, published by BPB. If you enjoyed the insights shared here, <a href=\"..\" title=\"Learn more about the book!\"><strong>please consider acquiring the book!</strong></a>\n",
    "<br/><br/>"
   ]
  },
  {
   "cell_type": "code",
   "execution_count": 3,
   "metadata": {},
   "outputs": [],
   "source": [
    "import tensorflow as tf"
   ]
  },
  {
   "cell_type": "markdown",
   "metadata": {},
   "source": [
    "## Preparing the Data"
   ]
  },
  {
   "cell_type": "markdown",
   "metadata": {},
   "source": [
    "As presented in Chapter 4, we use Tensorflow and Keras helpers to load the Fashion MNIST dataset"
   ]
  },
  {
   "cell_type": "code",
   "execution_count": 4,
   "metadata": {},
   "outputs": [],
   "source": [
    "num_classes = 10\n",
    "img_rows, img_cols, img_ch = 28, 28, 1\n",
    "input_shape = (img_rows, img_cols, img_ch)"
   ]
  },
  {
   "cell_type": "code",
   "execution_count": 6,
   "metadata": {},
   "outputs": [],
   "source": [
    "(x_train, y_train), (x_test, y_test) = tf.keras.datasets.fashion_mnist.load_data()\n",
    "x_train, x_test = x_train / 255.0, x_test / 255.0\n",
    "\n",
    "x_train = x_train.reshape(x_train.shape[0], *input_shape)\n",
    "x_test = x_test.reshape(x_test.shape[0], *input_shape)"
   ]
  },
  {
   "cell_type": "markdown",
   "metadata": {},
   "source": [
    "## Building and Training LeNet-5"
   ]
  },
  {
   "cell_type": "markdown",
   "metadata": {},
   "source": [
    "We have demonstrated how CNNs can be implemented different ways depending on the _level of parametrization_ versus _succinctness_ one needs. In this case, we will use the Keras API to showcase once again how straightforward it makes implementing and using neural networks."
   ]
  },
  {
   "cell_type": "markdown",
   "metadata": {},
   "source": [
    "### Instantiating Convolutional Layers"
   ]
  },
  {
   "cell_type": "markdown",
   "metadata": {},
   "source": [
    "In the previous notebook, we presented how one can perform convolutions on images. However, in neural networks, we want the convolutions' filters to be ***trainable***, and we may want to add a ***bias*** to the results and apply an ***activation function***.\n",
    "\n",
    "We thus need to wrap the convolution operation into a `Layer` object, similar to how the fully-connected layer we implemented in Chapter 1 was built around the matrix operations.\n",
    "\n",
    "TensorFlow 2/Keras provides its own `tf.keras.Layer` class we can extend. We demonstrate below how a simple convolution layer can be dfined this way:"
   ]
  },
  {
   "cell_type": "code",
   "execution_count": 7,
   "metadata": {},
   "outputs": [],
   "source": [
    "class SimpleConvolutionLayer(tf.keras.layers.Layer):\n",
    "\n",
    "    def __init__(self, num_kernels=32, kernel_size=(3, 3), strides=(1, 1), use_bias=True):\n",
    "        \"\"\"\n",
    "        Initialize the layer.\n",
    "        :param num_kernels:     Number of kernels for the convolution\n",
    "        :param kernel_size:     Kernel size (H x W)\n",
    "        :param strides:         Vertical and horizontal stride as list\n",
    "        :param use_bias:        Flag to add a bias after covolution / before activation\n",
    "        \"\"\"\n",
    "        # First, we have to call the `Layer` super __init__(), as it initializes hidden mechanisms:\n",
    "        super().__init__()  \n",
    "        # Then we assign the parameters:\n",
    "        self.num_kernels = num_kernels\n",
    "        self.kernel_size = kernel_size\n",
    "        self.strides = strides\n",
    "        self.use_bias = use_bias\n",
    "\n",
    "    def build(self, input_shape):\n",
    "        \"\"\"\n",
    "        Build the layer, initializing its parameters according to the input shape.\n",
    "        This function will be internally called the first time the layer is used, though\n",
    "        it can also be manually called.\n",
    "        :param input_shape:     Input shape the layer will receive (e.g. B x H x W x C)\n",
    "        \"\"\"\n",
    "        # We are provided with the input shape here, so we know the number of input channels:\n",
    "        num_input_channels = input_shape[-1]  # assuming shape format BHWC\n",
    "\n",
    "        # Now we know how the shape of the tensor representing the kernels should be:\n",
    "        kernels_shape = (*self.kernel_size, num_input_channels, self.num_kernels)\n",
    "\n",
    "        # For this example, we initialize the filters with values picked from a Glorot distribution:\n",
    "        glorot_uni_initializer = tf.initializers.GlorotUniform()\n",
    "        self.kernels = self.add_weight(name='kernels',\n",
    "                                       shape=kernels_shape,\n",
    "                                       initializer=glorot_uni_initializer,\n",
    "                                       trainable=True)  # and we make the variable trainable.\n",
    "\n",
    "        if self.use_bias:  # If bias should be added, we initialize its variable too:\n",
    "            self.bias = self.add_weight(name='bias',\n",
    "                                        shape=(self.num_kernels,),\n",
    "                                        initializer='random_normal',  # e.g., using normal distribution.\n",
    "                                        trainable=True)\n",
    "\n",
    "    def call(self, inputs):\n",
    "        \"\"\"\n",
    "        Call the layer and perform its operations on the input tensors\n",
    "        :param inputs:  Input tensor\n",
    "        :return:        Output tensor\n",
    "        \"\"\"\n",
    "        # We perform the convolution:\n",
    "        z = tf.nn.conv2d(inputs, self.kernels, strides=[1, *self.strides, 1], padding='VALID')\n",
    "\n",
    "        if self.use_bias:  # we add the bias if requested:\n",
    "            z = z + self.bias\n",
    "        # Finally, we apply the activation function (e.g. ReLU):\n",
    "        return tf.nn.relu(z)\n",
    "\n",
    "    def get_config(self):\n",
    "        \"\"\"\n",
    "        Helper function to define the layer and its parameters.\n",
    "        :return:        Dictionary containing the layer's configuration\n",
    "        \"\"\"\n",
    "        return {'num_kernels': self.num_kernels,\n",
    "                'kernel_size': self.kernel_size,\n",
    "                'strides': self.strides,\n",
    "                'use_bias': self.use_bias}"
   ]
  },
  {
   "cell_type": "markdown",
   "metadata": {},
   "source": [
    "Most of TensorFlow mathematical operations (e.g. in `tf.maths` and `tf.nn`) already have their derivatives defined by the framework. \n",
    "Therefore, as long as a layer is composed of such operations, **we do not have to manually define its backward propagation**. TensorFlow will automatically cover this, which saves a lot of efforts!\n",
    "\n",
    "The convolutional layer we just implemented is therefore fully operational, and ready to be used inside a CNN, as we will demonstrate right away.\n",
    "\n",
    "***Note:*** As convolutional layers are the most basic component of CNNs, TensorFlow obviously provides its own `tf.keras.layers.Conv2D` class. The module `tf.keras.layers` contains a large variety of pre-implemented standard layers, which we recommend to use whenever possible (as they have more advacned interfaces and optimized operations). For the sake of demonstration, we will still stick to our own simpler `SimpleConvolutionLayer` for the rest of this notebook, while using other Keras pre-defined layers."
   ]
  },
  {
   "cell_type": "markdown",
   "metadata": {},
   "source": [
    "### Implementing LeNet-5"
   ]
  },
  {
   "cell_type": "markdown",
   "metadata": {},
   "source": [
    "***LeNet-5***[$^2$](#ref) is a simple CNN composed of 7 layers (2 *conv*, 2 *max-pool*, 3 *FC* + 1 helper layer to flatten the feature maps before the *FC*). For more details, we invite our readers to go back to Chapter 3.\n",
    "\n",
    "Below, we thus present how one can extend the `tf.keras.Model` class to define a custom architecture:"
   ]
  },
  {
   "cell_type": "code",
   "execution_count": 8,
   "metadata": {},
   "outputs": [],
   "source": [
    "from tensorflow.keras import Model\n",
    "from tensorflow.keras.layers import Conv2D, MaxPooling2D, Flatten, Dense"
   ]
  },
  {
   "cell_type": "code",
   "execution_count": 9,
   "metadata": {},
   "outputs": [],
   "source": [
    "class LeNet5(Model):\n",
    "    \n",
    "    def __init__(self, num_classes):\n",
    "        \"\"\"\n",
    "        Initialize the model.\n",
    "        :param num_classes:     Number of classes to predict from\n",
    "        \"\"\"\n",
    "        super(LeNet5, self).__init__()\n",
    "        # We instantiate the various layers composing LeNet-5:\n",
    "        # self.conv1 = SimpleConvolutionLayer(6, kernel_size=(5, 5))\n",
    "        # self.conv2 = SimpleConvolutionLayer(16, kernel_size=(5, 5))\n",
    "        # ... or using the existing and (recommended) Conv2D class:\n",
    "        self.conv1 = Conv2D(6, kernel_size=(5, 5), padding='same', activation='relu')\n",
    "        self.conv2 = Conv2D(16, kernel_size=(5, 5), activation='relu')\n",
    "        self.max_pool = MaxPooling2D(pool_size=(2, 2))\n",
    "        self.flatten = Flatten()\n",
    "        self.dense1 = Dense(120, activation='relu')\n",
    "        self.dense2 = Dense(84, activation='relu')\n",
    "        self.dense3 = Dense(num_classes, activation='softmax')\n",
    "        \n",
    "    def call(self, inputs):\n",
    "        \"\"\"\n",
    "        Call the layers and perform their operations on the input tensors\n",
    "        :param inputs:  Input tensor\n",
    "        :return:        Output tensor\n",
    "        \"\"\"\n",
    "        x = self.max_pool(self.conv1(inputs))        # 1st block\n",
    "        x = self.max_pool(self.conv2(x))             # 2nd block\n",
    "        x = self.flatten(x)\n",
    "        x = self.dense3(self.dense2(self.dense1(x))) # dense layers\n",
    "        return x"
   ]
  },
  {
   "cell_type": "markdown",
   "metadata": {},
   "source": [
    "## Classiyfing MNIST with a CNN\n"
   ]
  },
  {
   "cell_type": "markdown",
   "metadata": {},
   "source": [
    "Now we can instantiate and compile our model for digit classification. To train it for this task, we instantiate the optimizer (a simple _SGD_ one for this example) and define the loss (the _categorical cross-entropy_).\n",
    "\n",
    "***Note:*** The Keras loss named `\"sparse_categorical_crossentropy\"` performs the same cross-entropy operation as the `\"categorical_crossentropy\"`, but the former directly takes the ground-truth labels as inputs, while the latter requires the ground-truth labels to be _one-hotted_ before. Using the `\"sparse_...\"` loss thus saves us from manually having to transform the labels... "
   ]
  },
  {
   "cell_type": "code",
   "execution_count": 10,
   "metadata": {},
   "outputs": [],
   "source": [
    "model = LeNet5(num_classes)\n",
    "model.compile(optimizer='sgd', loss='sparse_categorical_crossentropy', metrics=['accuracy'])"
   ]
  },
  {
   "cell_type": "markdown",
   "metadata": {},
   "source": [
    "Having sub-classed `tf.keras.Model`, our model has all its functionalities. For instance, we can call `model.summary()` to print a summary of its architecture:"
   ]
  },
  {
   "cell_type": "code",
   "execution_count": 11,
   "metadata": {
    "scrolled": true
   },
   "outputs": [
    {
     "name": "stdout",
     "output_type": "stream",
     "text": [
      "Model: \"le_net5\"\n",
      "_________________________________________________________________\n",
      "Layer (type)                 Output Shape              Param #   \n",
      "=================================================================\n",
      "conv2d (Conv2D)              multiple                  156       \n",
      "_________________________________________________________________\n",
      "conv2d_1 (Conv2D)            multiple                  2416      \n",
      "_________________________________________________________________\n",
      "max_pooling2d (MaxPooling2D) multiple                  0         \n",
      "_________________________________________________________________\n",
      "flatten (Flatten)            multiple                  0         \n",
      "_________________________________________________________________\n",
      "dense (Dense)                multiple                  48120     \n",
      "_________________________________________________________________\n",
      "dense_1 (Dense)              multiple                  10164     \n",
      "_________________________________________________________________\n",
      "dense_2 (Dense)              multiple                  850       \n",
      "=================================================================\n",
      "Total params: 61,706\n",
      "Trainable params: 61,706\n",
      "Non-trainable params: 0\n",
      "_________________________________________________________________\n"
     ]
    }
   ],
   "source": [
    "# We can call `model.summary()` only if the model was built before. \n",
    "# It is normally done automatically at the first use of the network,\n",
    "# inferring the input shapes from the samples the network is given.\n",
    "# For instance, the command below would build the network (then use it for prediction):\n",
    "_ = model.predict(x_test[:10])\n",
    "\n",
    "# But we can build the model manually otherwise, providing the batched\n",
    "# input shape ourselves:\n",
    "batched_input_shape = tf.TensorShape((None, *input_shape))\n",
    "model.build(input_shape=batched_input_shape)\n",
    "\n",
    "# Method to visualize the architecture of the network:\n",
    "model.summary()"
   ]
  },
  {
   "cell_type": "markdown",
   "metadata": {},
   "source": [
    "Before launching the training, we also instantiate some Keras callbacks, i.e., utility functions automatically called at specific points during the training (before/after batch training, before/after a full epoch, etc.), in order to monitor it:"
   ]
  },
  {
   "cell_type": "code",
   "execution_count": 12,
   "metadata": {},
   "outputs": [],
   "source": [
    "callbacks = [\n",
    "    # Callback to interrupt the training if the validation loss (`val_loss`) stops improving for over 3 epochs:\n",
    "    tf.keras.callbacks.EarlyStopping(patience=5, monitor='val_loss'),\n",
    "    # Callback to log the graph, losses and metrics into TensorBoard (saving log files in `./logs` directory):\n",
    "    tf.keras.callbacks.TensorBoard(log_dir='./logs', histogram_freq=1, write_graph=True)]"
   ]
  },
  {
   "cell_type": "markdown",
   "metadata": {},
   "source": [
    "(The Tensorboard callback allows us to monitor the training from Tensorboard. For that, open a console and launch the programm with the command \"`tensorboard --logdir=./logs`\". You can then access Tensorboard from a browser, via the URL \"[`localhost:6006`](localhost:6006)\".)"
   ]
  },
  {
   "cell_type": "markdown",
   "metadata": {},
   "source": [
    "We can now pass everything to our model to train it:\n"
   ]
  },
  {
   "cell_type": "code",
   "execution_count": 13,
   "metadata": {},
   "outputs": [
    {
     "name": "stdout",
     "output_type": "stream",
     "text": [
      "Train on 60000 samples, validate on 10000 samples\n",
      "Epoch 1/80\n",
      "60000/60000 - 14s - loss: 0.8104 - accuracy: 0.7016 - val_loss: 0.5924 - val_accuracy: 0.7780\n",
      "Epoch 2/80\n",
      "60000/60000 - 14s - loss: 0.4919 - accuracy: 0.8202 - val_loss: 0.4545 - val_accuracy: 0.8361\n",
      "Epoch 3/80\n",
      "60000/60000 - 14s - loss: 0.4241 - accuracy: 0.8470 - val_loss: 0.4335 - val_accuracy: 0.8423\n",
      "Epoch 4/80\n",
      "60000/60000 - 14s - loss: 0.3870 - accuracy: 0.8597 - val_loss: 0.4021 - val_accuracy: 0.8558\n",
      "Epoch 5/80\n",
      "60000/60000 - 12s - loss: 0.3616 - accuracy: 0.8695 - val_loss: 0.3949 - val_accuracy: 0.8610\n",
      "Epoch 6/80\n",
      "60000/60000 - 13s - loss: 0.3427 - accuracy: 0.8756 - val_loss: 0.3615 - val_accuracy: 0.8722\n",
      "Epoch 7/80\n",
      "60000/60000 - 14s - loss: 0.3279 - accuracy: 0.8804 - val_loss: 0.3789 - val_accuracy: 0.8619\n",
      "Epoch 8/80\n",
      "60000/60000 - 13s - loss: 0.3154 - accuracy: 0.8851 - val_loss: 0.3465 - val_accuracy: 0.8728\n",
      "Epoch 9/80\n",
      "60000/60000 - 14s - loss: 0.3055 - accuracy: 0.8876 - val_loss: 0.3594 - val_accuracy: 0.8699\n",
      "Epoch 10/80\n",
      "60000/60000 - 13s - loss: 0.2954 - accuracy: 0.8918 - val_loss: 0.3374 - val_accuracy: 0.8764\n",
      "Epoch 11/80\n",
      "60000/60000 - 14s - loss: 0.2872 - accuracy: 0.8956 - val_loss: 0.3217 - val_accuracy: 0.8851\n",
      "Epoch 12/80\n",
      "60000/60000 - 14s - loss: 0.2791 - accuracy: 0.8973 - val_loss: 0.3156 - val_accuracy: 0.8857\n",
      "Epoch 13/80\n",
      "60000/60000 - 15s - loss: 0.2721 - accuracy: 0.9002 - val_loss: 0.3109 - val_accuracy: 0.8875\n",
      "Epoch 14/80\n",
      "60000/60000 - 14s - loss: 0.2658 - accuracy: 0.9022 - val_loss: 0.3049 - val_accuracy: 0.8930\n",
      "Epoch 15/80\n",
      "60000/60000 - 14s - loss: 0.2601 - accuracy: 0.9033 - val_loss: 0.3046 - val_accuracy: 0.8900\n",
      "Epoch 16/80\n",
      "60000/60000 - 13s - loss: 0.2550 - accuracy: 0.9052 - val_loss: 0.3020 - val_accuracy: 0.8910\n",
      "Epoch 17/80\n",
      "60000/60000 - 15s - loss: 0.2496 - accuracy: 0.9084 - val_loss: 0.3032 - val_accuracy: 0.8917\n",
      "Epoch 18/80\n",
      "60000/60000 - 15s - loss: 0.2444 - accuracy: 0.9098 - val_loss: 0.2987 - val_accuracy: 0.8950\n",
      "Epoch 19/80\n",
      "60000/60000 - 15s - loss: 0.2407 - accuracy: 0.9112 - val_loss: 0.2981 - val_accuracy: 0.8948\n",
      "Epoch 20/80\n",
      "60000/60000 - 15s - loss: 0.2350 - accuracy: 0.9130 - val_loss: 0.3067 - val_accuracy: 0.8918\n",
      "Epoch 21/80\n",
      "60000/60000 - 14s - loss: 0.2312 - accuracy: 0.9146 - val_loss: 0.3009 - val_accuracy: 0.8938\n",
      "Epoch 22/80\n",
      "60000/60000 - 15s - loss: 0.2268 - accuracy: 0.9158 - val_loss: 0.3132 - val_accuracy: 0.8905\n",
      "Epoch 23/80\n",
      "60000/60000 - 16s - loss: 0.2229 - accuracy: 0.9180 - val_loss: 0.2926 - val_accuracy: 0.8949\n",
      "Epoch 24/80\n",
      "60000/60000 - 14s - loss: 0.2189 - accuracy: 0.9196 - val_loss: 0.2997 - val_accuracy: 0.8967\n",
      "Epoch 25/80\n",
      "60000/60000 - 15s - loss: 0.2153 - accuracy: 0.9198 - val_loss: 0.3050 - val_accuracy: 0.8941\n",
      "Epoch 26/80\n",
      "60000/60000 - 15s - loss: 0.2122 - accuracy: 0.9201 - val_loss: 0.2937 - val_accuracy: 0.8968\n",
      "Epoch 27/80\n",
      "60000/60000 - 15s - loss: 0.2078 - accuracy: 0.9228 - val_loss: 0.2975 - val_accuracy: 0.8974\n",
      "Epoch 28/80\n",
      "60000/60000 - 16s - loss: 0.2039 - accuracy: 0.9233 - val_loss: 0.3213 - val_accuracy: 0.8926\n"
     ]
    }
   ],
   "source": [
    "history = model.fit(x_train, y_train,\n",
    "                    batch_size=32, epochs=80, validation_data=(x_test, y_test), \n",
    "                    verbose=2,  # change to `verbose=1` to get a progress bar\n",
    "                                # (we opt for `verbose=2` here to reduce the log size)\n",
    "                    callbacks=callbacks)"
   ]
  },
  {
   "cell_type": "code",
   "execution_count": 14,
   "metadata": {},
   "outputs": [
    {
     "data": {
      "image/png": "[encoded data removed]",
      "text/plain": [
       "<Figure size 432x288 with 1 Axes>"
      ]
     },
     "metadata": {
      "needs_background": "light"
     },
     "output_type": "display_data"
    }
   ],
   "source": [
    "import sys; sys.path.append('..')\n",
    "from common.plot_util import eval_metric\n",
    "EPOCHS=28\n",
    "%matplotlib inline\n",
    "eval_metric(model,history, 'loss',EPOCHS)"
   ]
  },
  {
   "cell_type": "code",
   "execution_count": 15,
   "metadata": {},
   "outputs": [
    {
     "data": {
      "image/png": "[encoded data removed]",
      "text/plain": [
       "<Figure size 432x288 with 1 Axes>"
      ]
     },
     "metadata": {
      "needs_background": "light"
     },
     "output_type": "display_data"
    }
   ],
   "source": [
    "eval_metric(model,history, 'accuracy',EPOCHS)"
   ]
  },
  {
   "cell_type": "markdown",
   "metadata": {},
   "source": [
    "## Conclusion\n",
    "\n",
    "Given a machine with recent GPU(s), this training is quite fast (~0.1ms/image in our case). The final accuracy we obtain on the validation dataset (**~98%!**) is also much better compared to our previous attempts with simpler networks. Indeed, the relative error has been approximately divided by 2, which is a significant improvement."
   ]
  },
  {
   "cell_type": "markdown",
   "metadata": {},
   "source": [
    "<a id=\"ref\"></a>\n",
    "#### References"
   ]
  },
  {
   "cell_type": "markdown",
   "metadata": {},
   "source": [
    "1. LeCun, Y., Cortes, C., Burges, C., 2010. MNIST handwritten digit database. AT&T Labs [Online]. Available: http://yann.lecun.com/exdb/mnist 2, 18.\n",
    "2. LeCun, Yann. \"*LeNet-5, convolutional neural networks.*\" [http://yann.lecun.com/exdb/lenet](http://yann.lecun.com/exdb/lenet) (2015): 20."
   ]
  }
 ],
 "metadata": {
  "kernelspec": {
   "display_name": "Python 3",
   "language": "python",
   "name": "python3"
  },
  "language_info": {
   "codemirror_mode": {
    "name": "ipython",
    "version": 3
   },
   "file_extension": ".py",
   "mimetype": "text/x-python",
   "name": "python",
   "nbconvert_exporter": "python",
   "pygments_lexer": "ipython3",
   "version": "3.7.4"
  }
 },
 "nbformat": 4,
 "nbformat_minor": 1
}
