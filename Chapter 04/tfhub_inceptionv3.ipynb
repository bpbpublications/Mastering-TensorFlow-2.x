{
  "nbformat": 4,
  "nbformat_minor": 0,
  "metadata": {
    "kernelspec": {
      "display_name": "Python 3",
      "language": "python",
      "name": "python3"
    },
    "language_info": {
      "codemirror_mode": {
        "name": "ipython",
        "version": 3
      },
      "file_extension": ".py",
      "mimetype": "text/x-python",
      "name": "python",
      "nbconvert_exporter": "python",
      "pygments_lexer": "ipython3",
      "version": "3.7.4"
    },
    "colab": {
      "name": "tfhub_inceptionv3.ipynb",
      "provenance": []
    }
  },
  "cells": [
    {
      "cell_type": "code",
      "metadata": {
        "id": "eaF4bYkvlltp",
        "colab_type": "code",
        "colab": {}
      },
      "source": [
        "import tensorflow as tf\n",
        "import tensorflow as tf\n",
        "try:\n",
        " import tensorflow_hub as hub\n",
        "except ModuleNotFoundError:\n",
        "    print('tensorflow_hub not installed')\n"
      ],
      "execution_count": 0,
      "outputs": []
    },
    {
      "cell_type": "code",
      "metadata": {
        "id": "G9TeVBvDlltr",
        "colab_type": "code",
        "colab": {
          "base_uri": "https://localhost:8080/",
          "height": 34
        },
        "outputId": "7159c845-e5c3-4e06-9093-49518909fe68"
      },
      "source": [
        "url = \"https://tfhub.dev/google/tf2-preview/inception_v3/feature_vector/2\"\n",
        "num_classes = 10\n",
        "hub_feature_extractor = hub.KerasLayer( # TF-Hub model as Layer\n",
        "    url, # URL of the TF-Hub model (here, an InceptionV3 extractor)\n",
        "    trainable=False, # Flag to set the layers as trainable or not\n",
        "    input_shape=(299, 299, 3), # Expected input shape (found on tfhub.dev)\n",
        "    output_shape=(2048,), # Output shape (same, found on the model's page)\n",
        "    dtype=tf.float32) # Expected dtype\n",
        "\n",
        "inception_model = tf.keras.models.Sequential(\n",
        "    [hub_feature_extractor, tf.keras.layers.Dense(num_classes, activation='softmax')], \n",
        "    name=\"inception_tf_hub\")\n",
        "inception_model"
      ],
      "execution_count": 10,
      "outputs": [
        {
          "output_type": "execute_result",
          "data": {
            "text/plain": [
              "<tensorflow.python.keras.engine.sequential.Sequential at 0x7f709b1e0e10>"
            ]
          },
          "metadata": {
            "tags": []
          },
          "execution_count": 10
        }
      ]
    },
    {
      "cell_type": "code",
      "metadata": {
        "id": "ybk7Epodlltu",
        "colab_type": "code",
        "colab": {}
      },
      "source": [
        ""
      ],
      "execution_count": 0,
      "outputs": []
    }
  ]
}
