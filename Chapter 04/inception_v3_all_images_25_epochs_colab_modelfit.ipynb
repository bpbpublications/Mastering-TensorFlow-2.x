{
  "nbformat": 4,
  "nbformat_minor": 0,
  "metadata": {
    "kernelspec": {
      "display_name": "Python 3",
      "language": "python",
      "name": "python3"
    },
    "language_info": {
      "codemirror_mode": {
        "name": "ipython",
        "version": 3
      },
      "file_extension": ".py",
      "mimetype": "text/x-python",
      "name": "python",
      "nbconvert_exporter": "python",
      "pygments_lexer": "ipython3",
      "version": "3.7.4"
    },
    "colab": {
      "name": "inception_v3_all_images_25_epochs_colab_modelfit.ipynb",
      "provenance": [],
      "machine_shape": "hm",
      "include_colab_link": true
    },
    "accelerator": "TPU"
  },
  "cells": [
    {
      "cell_type": "markdown",
      "metadata": {
        "id": "view-in-github",
        "colab_type": "text"
      },
      "source": [
        "<a href=\"https://colab.research.google.com/github/rajdeepd/tensorflow_2.0_book_code/blob/master/ch04/inception_v3_all_images_25_epochs_colab_modelfit.ipynb\" target=\"_parent\"><img src=\"https://colab.research.google.com/assets/colab-badge.svg\" alt=\"Open In Colab\"/></a>"
      ]
    },
    {
      "cell_type": "code",
      "metadata": {
        "colab": {
          "base_uri": "https://localhost:8080/"
        },
        "id": "ecwHijp-HyF0",
        "outputId": "0aff7564-e96c-43a2-dd8b-fec67de101aa"
      },
      "source": [
        "import sys\n",
        "IN_COLAB = 'google.colab' in sys.modules\n",
        "print('Google Colab? ' + str(IN_COLAB))\n",
        "\n",
        "if not IN_COLAB:\n",
        "#!python -m pip show tensorflow\n",
        "  !which python\n",
        "  !python -m pip show tensorflow"
      ],
      "execution_count": 1,
      "outputs": [
        {
          "output_type": "stream",
          "name": "stdout",
          "text": [
            "Google Colab? True\n"
          ]
        }
      ]
    },
    {
      "cell_type": "code",
      "metadata": {
        "colab": {
          "base_uri": "https://localhost:8080/"
        },
        "id": "OyiuZWNI29uM",
        "outputId": "fc350e93-3d1f-4350-9d8f-c0b1a799d99e"
      },
      "source": [
        "!pwd"
      ],
      "execution_count": 2,
      "outputs": [
        {
          "output_type": "stream",
          "name": "stdout",
          "text": [
            "/content\n"
          ]
        }
      ]
    },
    {
      "cell_type": "code",
      "metadata": {
        "colab": {
          "base_uri": "https://localhost:8080/"
        },
        "id": "r78p-VqYICcr",
        "outputId": "cb84de3b-b708-442c-bebc-22bb188f7bdd"
      },
      "source": [
        "\n",
        "\n",
        "from google.colab import drive\n",
        "drive.mount(\"/content/gdrive\")\n"
      ],
      "execution_count": 3,
      "outputs": [
        {
          "output_type": "stream",
          "name": "stdout",
          "text": [
            "Mounted at /content/gdrive\n"
          ]
        }
      ]
    },
    {
      "cell_type": "code",
      "metadata": {
        "colab": {
          "base_uri": "https://localhost:8080/"
        },
        "id": "Zw9hxoLhQFEV",
        "outputId": "990bee59-66a1-4290-e23e-7f4cdbac60e9"
      },
      "source": [
        "!ls \"/content/gdrive/My Drive/cancer_detection/metastatic_cancer\""
      ],
      "execution_count": 4,
      "outputs": [
        {
          "output_type": "stream",
          "name": "stdout",
          "text": [
            "model_summary\t\t   plots_2.6.0_google_collab  training_logs_2.5.0\n",
            "plots_2.4.1_google_collab  training\t\t      training_logs_2.6.0\n",
            "plots_2.5.0_google_collab  training_logs_2.4.1\t      validation\n"
          ]
        }
      ]
    },
    {
      "cell_type": "code",
      "metadata": {
        "_uuid": "812221f6046eb6002d9835e040d8d50675c4718e",
        "id": "m8VUETGpHyF6"
      },
      "source": [
        "%matplotlib inline"
      ],
      "execution_count": 5,
      "outputs": []
    },
    {
      "cell_type": "code",
      "metadata": {
        "colab": {
          "base_uri": "https://localhost:8080/",
          "height": 35
        },
        "id": "XP8giC12HyF7",
        "outputId": "92ede6e7-2fe8-43dc-f541-3cbeb141e2cf"
      },
      "source": [
        "import sys\n",
        "sys.executable"
      ],
      "execution_count": 6,
      "outputs": [
        {
          "output_type": "execute_result",
          "data": {
            "application/vnd.google.colaboratory.intrinsic+json": {
              "type": "string"
            },
            "text/plain": [
              "'/usr/bin/python3'"
            ]
          },
          "metadata": {},
          "execution_count": 6
        }
      ]
    },
    {
      "cell_type": "markdown",
      "metadata": {
        "id": "FYucnxApHyF8"
      },
      "source": [
        "https://www.tensorflow.org/versions/r2.0/api_docs/python/tf/keras/applications/vgg19"
      ]
    },
    {
      "cell_type": "code",
      "metadata": {
        "_cell_guid": "b1076dfc-b9ad-4769-8c92-a6c4dae69d19",
        "_kg_hide-input": false,
        "_kg_hide-output": false,
        "_uuid": "8f2839f25d086af736a60e9eeb907d3b93b6e0e5",
        "id": "N1wRW5odHyF9"
      },
      "source": [
        "# Imports\n",
        "import numpy as np \n",
        "import pandas as pd \n",
        "from glob import glob \n",
        "from skimage.io import imread \n",
        "import os\n",
        "import shutil\n",
        "import matplotlib.pyplot as plt\n",
        "from sklearn.metrics import roc_curve, auc, roc_auc_score\n",
        "from sklearn.model_selection import train_test_split\n",
        "import tensorflow\n",
        "from tensorflow.keras.preprocessing.image import ImageDataGenerator\n",
        "from tensorflow.keras.applications.inception_v3 import InceptionV3\n",
        "from tensorflow.keras.utils import plot_model\n",
        "from tensorflow.keras.layers import Dropout, Flatten, Dense, GlobalAveragePooling2D, Average, Input, Concatenate, GlobalMaxPooling2D\n",
        "from tensorflow.keras.models import Model\n",
        "from tensorflow.keras.callbacks import CSVLogger, ModelCheckpoint\n",
        "from tensorflow.keras.optimizers import Adam"
      ],
      "execution_count": 7,
      "outputs": []
    },
    {
      "cell_type": "code",
      "metadata": {
        "id": "cKRXChRbQyLE",
        "colab": {
          "base_uri": "https://localhost:8080/",
          "height": 35
        },
        "outputId": "304082a2-b839-415d-ad2f-d0ea16a06a37"
      },
      "source": [
        "#!pip show tensorflow\n",
        "TF_VERSION = tensorflow.__version__\n",
        "TF_VERSION"
      ],
      "execution_count": 8,
      "outputs": [
        {
          "output_type": "execute_result",
          "data": {
            "application/vnd.google.colaboratory.intrinsic+json": {
              "type": "string"
            },
            "text/plain": [
              "'2.6.0'"
            ]
          },
          "metadata": {},
          "execution_count": 8
        }
      ]
    },
    {
      "cell_type": "code",
      "metadata": {
        "id": "yx0hRya7SBJS"
      },
      "source": [
        "if IN_COLAB:\n",
        "  BASE = '/content/gdrive/My Drive/cancer_detection/metastatic_cancer'\n",
        "else:\n",
        "  BASE = '.'"
      ],
      "execution_count": 9,
      "outputs": []
    },
    {
      "cell_type": "code",
      "metadata": {
        "_uuid": "cada1e5e63e66eaccab61c40422b7d7f8fc481c6",
        "id": "n6iVWIE6HyF-"
      },
      "source": [
        "# Output files\n",
        "model_type='inceptionv3'\n",
        "no_of_images = 'all'\n",
        "EPOCHS = 25\n",
        "\n",
        "if IN_COLAB:\n",
        "  PLOTS = 'plots_'+ TF_VERSION + '_google_collab'\n",
        "  VERSION = TF_VERSION\n",
        "else:\n",
        "  PLOTS = 'plots_' + TF_VERSION\n",
        "  VERSION = TF_VERSION\n",
        "  \n",
        "_APPEND = '_' + model_type + '_' + str(no_of_images) + '_' + str(EPOCHS)  \n",
        "APPEND = _APPEND + \".png\"\n",
        "\n",
        "\n",
        "if IN_COLAB:\n",
        "  if not os.path.exists(BASE + \"/training_logs_\" + VERSION):\n",
        "    os.mkdir(BASE + \"/training_logs_\" + VERSION)\n",
        "\n",
        "  if not os.path.exists(BASE + \"/model_summary/\"):\n",
        "    os.mkdir(BASE + \"/model_summary/\")\n",
        "  if not os.path.exists(BASE + \"/model_summary/\" + \"model_summary_\" + VERSION):\n",
        "    os.mkdir(BASE + \"/model_summary/\" + \"model_summary_\" + VERSION)\n",
        "  if not os.path.exists(BASE + '/' + PLOTS):\n",
        "    os.mkdir(BASE + '/' + PLOTS)\n",
        "if IN_COLAB:\n",
        "  TRAINING_LOGS_FILE = BASE + \"/training_logs_\" + VERSION + '/training_logs' + _APPEND + '.csv'\n",
        "  MODEL_SUMMARY_FILE = BASE + \"/model_summary/\" \"model_summary_\" + VERSION + \"/model_summary\" + _APPEND + \".txt\"\n",
        "  MODEL_PLOT_FILE = BASE + '/' + PLOTS + \"/model_plot_\" + APPEND\n",
        "  MODEL_FILE = \"model_\" + VERSION + \"/model_\" + model_type + \"_all_collab.h5\"\n",
        "  TRAINING_PLOT_FILE = BASE + '/'+ PLOTS + \"/training\" +  APPEND\n",
        "  VALIDATION_PLOT_FILE = BASE + '/'+  PLOTS + \"/validation\" + APPEND\n",
        "  ROC_PLOT_FILE = BASE + '/'+  PLOTS + \"/roc\" + APPEND\n",
        "else:\n",
        "  TRAINING_LOGS_FILE = \"training_logs_\" + VERSION + '/training_logs' + _APPEND + '.csv'\n",
        "  MODEL_SUMMARY_FILE = \"model_summary_\" + VERSION + \"/model_summary\" + _APPEND + \".txt\"\n",
        "  MODEL_PLOT_FILE = PLOTS + \"/model_plot_\" + APPEND\n",
        "  MODEL_FILE = \"model_\" + VERSION + \"/model_\" + model_type + \"_all_collab.h5\"\n",
        "  TRAINING_PLOT_FILE = PLOTS + \"/training\" +  APPEND\n",
        "  VALIDATION_PLOT_FILE = PLOTS + \"/validation\" + APPEND\n",
        "  ROC_PLOT_FILE = PLOTS + \"/roc\" + APPEND"
      ],
      "execution_count": 10,
      "outputs": []
    },
    {
      "cell_type": "code",
      "metadata": {
        "_uuid": "6b8d7a9899440da705f78f32d5c7a94c9b5434fb",
        "id": "FlwpH4TJHyF-"
      },
      "source": [
        "# Hyperparams\n",
        "SAMPLE_COUNT = 85000\n",
        "#TRAINING_RATIO = 0.9\n",
        "IMAGE_SIZE = 96 \n",
        "IMAGE_SIZE2 = 224\n",
        "\n",
        "BATCH_SIZE = 192\n",
        "VERBOSITY = 1\n",
        "TESTING_BATCH_SIZE = 5000"
      ],
      "execution_count": 11,
      "outputs": []
    },
    {
      "cell_type": "code",
      "metadata": {
        "colab": {
          "base_uri": "https://localhost:8080/"
        },
        "id": "cr2fZ4-MpRen",
        "outputId": "16ad9e00-4d90-4190-ecd5-2ea6d563c82d"
      },
      "source": [
        "import pathlib\n",
        "data_dir = pathlib.Path(BASE)\n",
        "data_dir"
      ],
      "execution_count": 12,
      "outputs": [
        {
          "output_type": "execute_result",
          "data": {
            "text/plain": [
              "PosixPath('/content/gdrive/My Drive/cancer_detection/metastatic_cancer')"
            ]
          },
          "metadata": {},
          "execution_count": 12
        }
      ]
    },
    {
      "cell_type": "code",
      "metadata": {
        "id": "7Hk1VwtGqyaG"
      },
      "source": [
        "data_dir_training = pathlib.Path(BASE + '/training')"
      ],
      "execution_count": 13,
      "outputs": []
    },
    {
      "cell_type": "code",
      "metadata": {
        "id": "SppioLrJppVT",
        "colab": {
          "base_uri": "https://localhost:8080/"
        },
        "outputId": "8ba05679-dd7f-4998-9c19-6ac80e38d2e1"
      },
      "source": [
        "image_count = len(list(data_dir_training.glob('*/*.tif')))\n",
        "print(image_count)"
      ],
      "execution_count": 14,
      "outputs": [
        {
          "output_type": "stream",
          "name": "stdout",
          "text": [
            "360\n"
          ]
        }
      ]
    },
    {
      "cell_type": "code",
      "metadata": {
        "id": "Q5YxTVJ7p2n5",
        "colab": {
          "base_uri": "https://localhost:8080/",
          "height": 112
        },
        "outputId": "bf123baf-0425-4de9-9a5b-f6dc86e0c06b"
      },
      "source": [
        "import PIL\n",
        "import PIL.Image\n",
        "zeros = list(data_dir_training.glob('0/*'))\n",
        "PIL.Image.open(str(zeros[0]))"
      ],
      "execution_count": 15,
      "outputs": [
        {
          "output_type": "execute_result",
          "data": {
            "image/png": "[encoded data removed]",
            "text/plain": [
              "<PIL.TiffImagePlugin.TiffImageFile image mode=RGB size=96x96 at 0x7FE782D4BFD0>"
            ]
          },
          "metadata": {},
          "execution_count": 15
        }
      ]
    },
    {
      "cell_type": "code",
      "metadata": {
        "id": "_oI1iq3bq8MC",
        "colab": {
          "base_uri": "https://localhost:8080/",
          "height": 112
        },
        "outputId": "fbbf153d-8785-40e5-e68f-d7aa45dd8e84"
      },
      "source": [
        "import PIL\n",
        "import PIL.Image\n",
        "zeros = list(data_dir_training.glob('1/*'))\n",
        "PIL.Image.open(str(zeros[0]))"
      ],
      "execution_count": 16,
      "outputs": [
        {
          "output_type": "execute_result",
          "data": {
            "image/png": "[encoded data removed]",
            "text/plain": [
              "<PIL.TiffImagePlugin.TiffImageFile image mode=RGB size=96x96 at 0x7FE5A1F12F10>"
            ]
          },
          "metadata": {},
          "execution_count": 16
        }
      ]
    },
    {
      "cell_type": "code",
      "metadata": {
        "id": "6LT-GnPbHyF_"
      },
      "source": [
        "training_path=  BASE + '/training'\n",
        "validation_path = BASE + '/validation'"
      ],
      "execution_count": 17,
      "outputs": []
    },
    {
      "cell_type": "code",
      "metadata": {
        "_uuid": "cec14fe7a59727d5606263f17aeff81699d912e0",
        "id": "rspk8j2-HyF_"
      },
      "source": [
        "# Data augmentation\n",
        "training_data_generator = ImageDataGenerator(rescale=1./255,\n",
        "                                             horizontal_flip=True,\n",
        "                                             vertical_flip=True,\n",
        "                                             rotation_range=180,\n",
        "                                             zoom_range=0.4, \n",
        "                                             width_shift_range=0.3,\n",
        "                                             height_shift_range=0.3,\n",
        "                                             shear_range=0.3,\n",
        "                                             channel_shift_range=0.3)"
      ],
      "execution_count": 18,
      "outputs": []
    },
    {
      "cell_type": "code",
      "metadata": {
        "_uuid": "ccad1f37cc2bfae0ba735b0b8e1ddb20a5930dae",
        "colab": {
          "base_uri": "https://localhost:8080/"
        },
        "id": "AFtl0y8hHyGA",
        "outputId": "8daad4f7-4552-4a06-99c4-e92d735a258d"
      },
      "source": [
        "# Data generation\n",
        "training_generator = training_data_generator.flow_from_directory(training_path,\n",
        "                                                                 target_size=(IMAGE_SIZE2,IMAGE_SIZE2),\n",
        "                                                                 batch_size=BATCH_SIZE,\n",
        "                                                                 class_mode='binary')\n",
        "validation_generator = ImageDataGenerator(rescale=1./255).flow_from_directory(validation_path,\n",
        "                                                                              target_size=(IMAGE_SIZE2,\n",
        "                                                                                           IMAGE_SIZE2),\n",
        "                                                                              batch_size=BATCH_SIZE,\n",
        "                                                                              class_mode='binary')\n",
        "testing_generator = ImageDataGenerator(rescale=1./255).flow_from_directory(validation_path,\n",
        "                                                                           target_size=(IMAGE_SIZE2,IMAGE_SIZE2),\n",
        "                                                                           batch_size=BATCH_SIZE,\n",
        "                                                                           class_mode='binary',\n",
        "                                                                           shuffle=False)"
      ],
      "execution_count": 19,
      "outputs": [
        {
          "output_type": "stream",
          "name": "stdout",
          "text": [
            "Found 360 images belonging to 2 classes.\n",
            "Found 40 images belonging to 2 classes.\n",
            "Found 40 images belonging to 2 classes.\n"
          ]
        }
      ]
    },
    {
      "cell_type": "code",
      "metadata": {
        "_uuid": "1dd6a67856557351a02e4ebcfc87e1c94c7706dc",
        "colab": {
          "base_uri": "https://localhost:8080/",
          "height": 906
        },
        "id": "sdNk9O5KHyGB",
        "outputId": "1b6ea43a-cd85-48dc-9a3c-2c4608d366d2"
      },
      "source": [
        "# Model\n",
        "input_shape = (IMAGE_SIZE2, IMAGE_SIZE2, 3)\n",
        "inputs = Input(input_shape)\n",
        "\n",
        "inceptionv3 = InceptionV3(include_top=False, input_shape=(224, 224, 3))(inputs) \n",
        "outputs = GlobalAveragePooling2D()(inceptionv3)\n",
        "outputs = Dropout(0.5)(outputs)\n",
        "outputs = Dense(1, activation='sigmoid')(outputs)\n",
        "\n",
        "model = Model(inputs, outputs)\n",
        "model.compile(optimizer=Adam(lr=0.0001, decay=0.00001),\n",
        "              loss='binary_crossentropy',\n",
        "              metrics=['accuracy'])\n",
        "model.summary()\n",
        "\n",
        "plot_model(model,\n",
        "           to_file=MODEL_PLOT_FILE,\n",
        "           show_shapes=True,\n",
        "           show_layer_names=True)"
      ],
      "execution_count": 21,
      "outputs": [
        {
          "output_type": "stream",
          "name": "stdout",
          "text": [
            "Downloading data from https://storage.googleapis.com/tensorflow/keras-applications/inception_v3/inception_v3_weights_tf_dim_ordering_tf_kernels_notop.h5\n",
            "87916544/87910968 [==============================] - 0s 0us/step\n",
            "87924736/87910968 [==============================] - 0s 0us/step\n"
          ]
        },
        {
          "output_type": "stream",
          "name": "stderr",
          "text": [
            "/usr/local/lib/python3.7/dist-packages/keras/optimizer_v2/optimizer_v2.py:356: UserWarning: The `lr` argument is deprecated, use `learning_rate` instead.\n",
            "  \"The `lr` argument is deprecated, use `learning_rate` instead.\")\n"
          ]
        },
        {
          "output_type": "stream",
          "name": "stdout",
          "text": [
            "Model: \"model\"\n",
            "_________________________________________________________________\n",
            "Layer (type)                 Output Shape              Param #   \n",
            "=================================================================\n",
            "input_1 (InputLayer)         [(None, 224, 224, 3)]     0         \n",
            "_________________________________________________________________\n",
            "inception_v3 (Functional)    (None, 5, 5, 2048)        21802784  \n",
            "_________________________________________________________________\n",
            "global_average_pooling2d (Gl (None, 2048)              0         \n",
            "_________________________________________________________________\n",
            "dropout (Dropout)            (None, 2048)              0         \n",
            "_________________________________________________________________\n",
            "dense (Dense)                (None, 1)                 2049      \n",
            "=================================================================\n",
            "Total params: 21,804,833\n",
            "Trainable params: 21,770,401\n",
            "Non-trainable params: 34,432\n",
            "_________________________________________________________________\n"
          ]
        },
        {
          "output_type": "execute_result",
          "data": {
            "image/png": "[encoded data removed]",
            "text/plain": [
              "<IPython.core.display.Image object>"
            ]
          },
          "metadata": {},
          "execution_count": 21
        }
      ]
    },
    {
      "cell_type": "code",
      "metadata": {
        "id": "SGgoZS1RHyGB"
      },
      "source": [
        "import os\n",
        "if not os.path.exists(\"training_logs_\" + VERSION):\n",
        "    os.makedirs(\"training_logs_\" + VERSION)\n",
        "file = open(TRAINING_LOGS_FILE, 'w+')"
      ],
      "execution_count": 22,
      "outputs": []
    },
    {
      "cell_type": "code",
      "metadata": {
        "id": "4ehM_PxwCOnJ",
        "colab": {
          "base_uri": "https://localhost:8080/"
        },
        "outputId": "acb27422-32d1-4739-9a1d-e7eae0fe496f"
      },
      "source": [
        "history = model.fit(training_generator,\n",
        "                              steps_per_epoch=len(training_generator), \n",
        "                              validation_data=validation_generator,\n",
        "                              validation_steps=len(validation_generator),\n",
        "                              epochs=EPOCHS,\n",
        "                              verbose=VERBOSITY,\n",
        "                              callbacks=[#PlotLossesKeras(),\n",
        "                                         ModelCheckpoint(MODEL_FILE,\n",
        "                                                         monitor='val_accuracy',\n",
        "                                                         verbose=VERBOSITY,\n",
        "                                                         save_best_only=True,\n",
        "                                                         mode='max'),\n",
        "                                         CSVLogger(TRAINING_LOGS_FILE,\n",
        "                                                   append=True,\n",
        "                                                   separator=';')\n",
        "                              ])"
      ],
      "execution_count": 23,
      "outputs": [
        {
          "output_type": "stream",
          "name": "stdout",
          "text": [
            "Epoch 1/25\n",
            "2/2 [==============================] - 59s 42s/step - loss: 0.7511 - accuracy: 0.5389 - val_loss: 0.6643 - val_accuracy: 0.7000\n",
            "\n",
            "Epoch 00001: val_accuracy improved from -inf to 0.70000, saving model to model_2.6.0/model_inceptionv3_all_collab.h5\n",
            "Epoch 2/25\n",
            "2/2 [==============================] - 18s 8s/step - loss: 0.5960 - accuracy: 0.6972 - val_loss: 0.6334 - val_accuracy: 0.6250\n",
            "\n",
            "Epoch 00002: val_accuracy did not improve from 0.70000\n",
            "Epoch 3/25\n",
            "2/2 [==============================] - 17s 8s/step - loss: 0.5590 - accuracy: 0.7167 - val_loss: 0.6188 - val_accuracy: 0.6750\n",
            "\n",
            "Epoch 00003: val_accuracy did not improve from 0.70000\n",
            "Epoch 4/25\n",
            "2/2 [==============================] - 18s 7s/step - loss: 0.5087 - accuracy: 0.7722 - val_loss: 0.5952 - val_accuracy: 0.6250\n",
            "\n",
            "Epoch 00004: val_accuracy did not improve from 0.70000\n",
            "Epoch 5/25\n",
            "2/2 [==============================] - 18s 7s/step - loss: 0.4540 - accuracy: 0.8111 - val_loss: 0.5694 - val_accuracy: 0.7000\n",
            "\n",
            "Epoch 00005: val_accuracy did not improve from 0.70000\n",
            "Epoch 6/25\n",
            "2/2 [==============================] - 17s 8s/step - loss: 0.4192 - accuracy: 0.8250 - val_loss: 0.5700 - val_accuracy: 0.7000\n",
            "\n",
            "Epoch 00006: val_accuracy did not improve from 0.70000\n",
            "Epoch 7/25\n",
            "2/2 [==============================] - 17s 8s/step - loss: 0.3964 - accuracy: 0.8444 - val_loss: 0.5547 - val_accuracy: 0.7000\n",
            "\n",
            "Epoch 00007: val_accuracy did not improve from 0.70000\n",
            "Epoch 8/25\n",
            "2/2 [==============================] - 18s 7s/step - loss: 0.4209 - accuracy: 0.8250 - val_loss: 0.5284 - val_accuracy: 0.7250\n",
            "\n",
            "Epoch 00008: val_accuracy improved from 0.70000 to 0.72500, saving model to model_2.6.0/model_inceptionv3_all_collab.h5\n",
            "Epoch 9/25\n",
            "2/2 [==============================] - 17s 8s/step - loss: 0.3917 - accuracy: 0.8333 - val_loss: 0.5057 - val_accuracy: 0.8000\n",
            "\n",
            "Epoch 00009: val_accuracy improved from 0.72500 to 0.80000, saving model to model_2.6.0/model_inceptionv3_all_collab.h5\n",
            "Epoch 10/25\n",
            "2/2 [==============================] - 17s 8s/step - loss: 0.3619 - accuracy: 0.8389 - val_loss: 0.4943 - val_accuracy: 0.7750\n",
            "\n",
            "Epoch 00010: val_accuracy did not improve from 0.80000\n",
            "Epoch 11/25\n",
            "2/2 [==============================] - 17s 8s/step - loss: 0.3711 - accuracy: 0.8139 - val_loss: 0.4879 - val_accuracy: 0.7750\n",
            "\n",
            "Epoch 00011: val_accuracy did not improve from 0.80000\n",
            "Epoch 12/25\n",
            "2/2 [==============================] - 18s 7s/step - loss: 0.3404 - accuracy: 0.8583 - val_loss: 0.4740 - val_accuracy: 0.7750\n",
            "\n",
            "Epoch 00012: val_accuracy did not improve from 0.80000\n",
            "Epoch 13/25\n",
            "2/2 [==============================] - 17s 8s/step - loss: 0.3388 - accuracy: 0.8750 - val_loss: 0.4657 - val_accuracy: 0.7750\n",
            "\n",
            "Epoch 00013: val_accuracy did not improve from 0.80000\n",
            "Epoch 14/25\n",
            "2/2 [==============================] - 17s 8s/step - loss: 0.2928 - accuracy: 0.8722 - val_loss: 0.4597 - val_accuracy: 0.8250\n",
            "\n",
            "Epoch 00014: val_accuracy improved from 0.80000 to 0.82500, saving model to model_2.6.0/model_inceptionv3_all_collab.h5\n",
            "Epoch 15/25\n",
            "2/2 [==============================] - 17s 8s/step - loss: 0.3072 - accuracy: 0.8556 - val_loss: 0.4660 - val_accuracy: 0.8500\n",
            "\n",
            "Epoch 00015: val_accuracy improved from 0.82500 to 0.85000, saving model to model_2.6.0/model_inceptionv3_all_collab.h5\n",
            "Epoch 16/25\n",
            "2/2 [==============================] - 18s 7s/step - loss: 0.2683 - accuracy: 0.8972 - val_loss: 0.4816 - val_accuracy: 0.8250\n",
            "\n",
            "Epoch 00016: val_accuracy did not improve from 0.85000\n",
            "Epoch 17/25\n",
            "2/2 [==============================] - 17s 8s/step - loss: 0.3133 - accuracy: 0.8583 - val_loss: 0.4896 - val_accuracy: 0.8250\n",
            "\n",
            "Epoch 00017: val_accuracy did not improve from 0.85000\n",
            "Epoch 18/25\n",
            "2/2 [==============================] - 18s 7s/step - loss: 0.2520 - accuracy: 0.9056 - val_loss: 0.4961 - val_accuracy: 0.8000\n",
            "\n",
            "Epoch 00018: val_accuracy did not improve from 0.85000\n",
            "Epoch 19/25\n",
            "2/2 [==============================] - 17s 7s/step - loss: 0.3029 - accuracy: 0.8611 - val_loss: 0.4813 - val_accuracy: 0.8000\n",
            "\n",
            "Epoch 00019: val_accuracy did not improve from 0.85000\n",
            "Epoch 20/25\n",
            "2/2 [==============================] - 17s 8s/step - loss: 0.2625 - accuracy: 0.8833 - val_loss: 0.4491 - val_accuracy: 0.8250\n",
            "\n",
            "Epoch 00020: val_accuracy did not improve from 0.85000\n",
            "Epoch 21/25\n",
            "2/2 [==============================] - 18s 7s/step - loss: 0.2465 - accuracy: 0.9139 - val_loss: 0.4249 - val_accuracy: 0.8500\n",
            "\n",
            "Epoch 00021: val_accuracy did not improve from 0.85000\n",
            "Epoch 22/25\n",
            "2/2 [==============================] - 17s 8s/step - loss: 0.2765 - accuracy: 0.8889 - val_loss: 0.3982 - val_accuracy: 0.8500\n",
            "\n",
            "Epoch 00022: val_accuracy did not improve from 0.85000\n",
            "Epoch 23/25\n",
            "2/2 [==============================] - 18s 7s/step - loss: 0.2814 - accuracy: 0.8833 - val_loss: 0.3942 - val_accuracy: 0.8750\n",
            "\n",
            "Epoch 00023: val_accuracy improved from 0.85000 to 0.87500, saving model to model_2.6.0/model_inceptionv3_all_collab.h5\n",
            "Epoch 24/25\n",
            "2/2 [==============================] - 18s 7s/step - loss: 0.2587 - accuracy: 0.8972 - val_loss: 0.4008 - val_accuracy: 0.8750\n",
            "\n",
            "Epoch 00024: val_accuracy did not improve from 0.87500\n",
            "Epoch 25/25\n",
            "2/2 [==============================] - 17s 8s/step - loss: 0.2439 - accuracy: 0.8972 - val_loss: 0.4147 - val_accuracy: 0.8750\n",
            "\n",
            "Epoch 00025: val_accuracy did not improve from 0.87500\n"
          ]
        }
      ]
    },
    {
      "cell_type": "code",
      "metadata": {
        "scrolled": true,
        "colab": {
          "base_uri": "https://localhost:8080/"
        },
        "id": "UdftsY2oHyGC",
        "outputId": "818af3da-848a-47ba-e7e7-572a91ab66cb"
      },
      "source": [
        "history.history"
      ],
      "execution_count": 24,
      "outputs": [
        {
          "output_type": "execute_result",
          "data": {
            "text/plain": [
              "{'accuracy': [0.5388888716697693,\n",
              "  0.6972222328186035,\n",
              "  0.7166666388511658,\n",
              "  0.7722222208976746,\n",
              "  0.8111110925674438,\n",
              "  0.824999988079071,\n",
              "  0.8444444537162781,\n",
              "  0.824999988079071,\n",
              "  0.8333333134651184,\n",
              "  0.8388888835906982,\n",
              "  0.8138889074325562,\n",
              "  0.8583333492279053,\n",
              "  0.875,\n",
              "  0.8722222447395325,\n",
              "  0.855555534362793,\n",
              "  0.8972222208976746,\n",
              "  0.8583333492279053,\n",
              "  0.9055555462837219,\n",
              "  0.8611111044883728,\n",
              "  0.8833333253860474,\n",
              "  0.9138888716697693,\n",
              "  0.8888888955116272,\n",
              "  0.8833333253860474,\n",
              "  0.8972222208976746,\n",
              "  0.8972222208976746],\n",
              " 'loss': [0.7510849237442017,\n",
              "  0.5959614515304565,\n",
              "  0.5590457320213318,\n",
              "  0.508742094039917,\n",
              "  0.4539603292942047,\n",
              "  0.4192436635494232,\n",
              "  0.3963966369628906,\n",
              "  0.42088812589645386,\n",
              "  0.39166131615638733,\n",
              "  0.3618517518043518,\n",
              "  0.37105467915534973,\n",
              "  0.3404112458229065,\n",
              "  0.3387629985809326,\n",
              "  0.29283401370048523,\n",
              "  0.3072148561477661,\n",
              "  0.268312931060791,\n",
              "  0.3133174777030945,\n",
              "  0.25202080607414246,\n",
              "  0.30293020606040955,\n",
              "  0.2625221312046051,\n",
              "  0.24654217064380646,\n",
              "  0.2765243947505951,\n",
              "  0.28136909008026123,\n",
              "  0.25869235396385193,\n",
              "  0.24390576779842377],\n",
              " 'val_accuracy': [0.699999988079071,\n",
              "  0.625,\n",
              "  0.675000011920929,\n",
              "  0.625,\n",
              "  0.699999988079071,\n",
              "  0.699999988079071,\n",
              "  0.699999988079071,\n",
              "  0.7250000238418579,\n",
              "  0.800000011920929,\n",
              "  0.7749999761581421,\n",
              "  0.7749999761581421,\n",
              "  0.7749999761581421,\n",
              "  0.7749999761581421,\n",
              "  0.824999988079071,\n",
              "  0.8500000238418579,\n",
              "  0.824999988079071,\n",
              "  0.824999988079071,\n",
              "  0.800000011920929,\n",
              "  0.800000011920929,\n",
              "  0.824999988079071,\n",
              "  0.8500000238418579,\n",
              "  0.8500000238418579,\n",
              "  0.875,\n",
              "  0.875,\n",
              "  0.875],\n",
              " 'val_loss': [0.6642974615097046,\n",
              "  0.633415162563324,\n",
              "  0.6187674403190613,\n",
              "  0.5952135324478149,\n",
              "  0.5693880319595337,\n",
              "  0.5700331926345825,\n",
              "  0.5547337532043457,\n",
              "  0.5283576846122742,\n",
              "  0.5056501626968384,\n",
              "  0.49431419372558594,\n",
              "  0.48793381452560425,\n",
              "  0.4740242063999176,\n",
              "  0.46569961309432983,\n",
              "  0.459679514169693,\n",
              "  0.46603235602378845,\n",
              "  0.4816245138645172,\n",
              "  0.4896191656589508,\n",
              "  0.496112585067749,\n",
              "  0.48133787512779236,\n",
              "  0.44905489683151245,\n",
              "  0.42491650581359863,\n",
              "  0.3981524109840393,\n",
              "  0.3942354619503021,\n",
              "  0.40083593130111694,\n",
              "  0.4147087037563324]}"
            ]
          },
          "metadata": {},
          "execution_count": 24
        }
      ]
    },
    {
      "cell_type": "code",
      "metadata": {
        "_uuid": "dd1582290e369f0f6bed6c6856a1c850b6ec3ef4",
        "colab": {
          "base_uri": "https://localhost:8080/",
          "height": 295
        },
        "id": "sZmHE_rWHyGC",
        "outputId": "e39ffff8-0b05-44f9-93f5-88a0df5f1108"
      },
      "source": [
        "# Training plots\n",
        "common_title = model_type + ' with ' + str(no_of_images) + ' samples'\n",
        "epochs = [i for i in range(1, len(history.history['loss'])+1)]\n",
        "\n",
        "plt.plot(epochs, history.history['loss'], color='blue', label=\"training_loss\")\n",
        "plt.plot(epochs, history.history['val_loss'], color='red', label=\"validation_loss\")\n",
        "plt.legend(loc='best')\n",
        "#plt.title('training: ' + common_title)\n",
        "plt.xlabel('epoch')\n",
        "plt.savefig(TRAINING_PLOT_FILE, bbox_inches='tight')\n",
        "plt.close()\n",
        "\n",
        "plt.plot(epochs, history.history['accuracy'], color='blue', label=\"training_accuracy\")\n",
        "plt.plot(epochs, history.history['val_accuracy'], color='red',label=\"validation_accuracy\")\n",
        "plt.legend(loc='best')\n",
        "plt.title('Validation (TF '+ VERSION + '): ' + common_title )\n",
        "plt.xlabel('epoch')\n",
        "plt.savefig(VALIDATION_PLOT_FILE, bbox_inches='tight')\n",
        "plt.show()\n",
        "plt.close()"
      ],
      "execution_count": 26,
      "outputs": [
        {
          "output_type": "display_data",
          "data": {
            "image/png": "[encoded data removed]",
            "text/plain": [
              "<Figure size 432x288 with 1 Axes>"
            ]
          },
          "metadata": {
            "needs_background": "light"
          }
        }
      ]
    },
    {
      "cell_type": "code",
      "metadata": {
        "_uuid": "7d366ba6530d8d2ae88f9a2947abb38c15e040a3",
        "colab": {
          "base_uri": "https://localhost:8080/",
          "height": 343
        },
        "id": "j8k-tzm9HyGD",
        "outputId": "070acc4e-cfab-4e95-d5ac-a8dcafded004"
      },
      "source": [
        "# ROC testing plot\n",
        "#model.load_weights(MODEL_FILE)\n",
        "predictions = model.predict_generator(testing_generator, steps=len(testing_generator), verbose=VERBOSITY)\n",
        "false_positive_rate, true_positive_rate, threshold = roc_curve(testing_generator.classes, predictions)\n",
        "area_under_curve = auc(false_positive_rate, true_positive_rate)\n",
        "\n",
        "plt.plot([0, 1], [0, 1], 'k--')\n",
        "plt.plot(false_positive_rate, true_positive_rate, label='AUC = {:.3f}'.format(area_under_curve))\n",
        "plt.xlabel('False positive rate')\n",
        "plt.ylabel('True positive rate')\n",
        "plt.title('ROC curve: ' + common_title + ' TF ' + VERSION)\n",
        "plt.legend(loc='best')\n",
        "plt.savefig(ROC_PLOT_FILE, bbox_inches='tight')\n",
        "plt.show()\n",
        "plt.close()"
      ],
      "execution_count": 27,
      "outputs": [
        {
          "output_type": "stream",
          "name": "stderr",
          "text": [
            "/usr/local/lib/python3.7/dist-packages/keras/engine/training.py:2035: UserWarning: `Model.predict_generator` is deprecated and will be removed in a future version. Please use `Model.predict`, which supports generators.\n",
            "  warnings.warn('`Model.predict_generator` is deprecated and '\n"
          ]
        },
        {
          "output_type": "stream",
          "name": "stdout",
          "text": [
            "1/1 [==============================] - 1s 1s/step\n"
          ]
        },
        {
          "output_type": "display_data",
          "data": {
            "image/png": "[encoded data removed]",
            "text/plain": [
              "<Figure size 432x288 with 1 Axes>"
            ]
          },
          "metadata": {
            "needs_background": "light"
          }
        }
      ]
    },
    {
      "cell_type": "code",
      "metadata": {
        "id": "O4w6ooqJHyGD"
      },
      "source": [
        ""
      ],
      "execution_count": null,
      "outputs": []
    }
  ]
}