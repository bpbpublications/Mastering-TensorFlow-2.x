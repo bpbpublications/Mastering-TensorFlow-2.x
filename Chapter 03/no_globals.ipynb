{
  "nbformat": 4,
  "nbformat_minor": 0,
  "metadata": {
    "colab": {
      "name": "no_globals.ipynb",
      "provenance": []
    },
    "kernelspec": {
      "name": "python3",
      "display_name": "Python 3"
    }
  },
  "cells": [
    {
      "cell_type": "code",
      "metadata": {
        "id": "WsOoSgRAuwbf",
        "colab_type": "code",
        "colab": {}
      },
      "source": [
        "%tensorflow_version 1.x"
      ],
      "execution_count": 0,
      "outputs": []
    },
    {
      "cell_type": "code",
      "metadata": {
        "id": "ut8Q0ULLu7hZ",
        "colab_type": "code",
        "colab": {
          "base_uri": "https://localhost:8080/",
          "height": 34
        },
        "outputId": "85966be3-57e4-443c-eccb-fe0c7e311c2f"
      },
      "source": [
        "import tensorflow\n",
        "print(tensorflow.__version__)"
      ],
      "execution_count": 3,
      "outputs": [
        {
          "output_type": "stream",
          "text": [
            "1.15.2\n"
          ],
          "name": "stdout"
        }
      ]
    },
    {
      "cell_type": "code",
      "metadata": {
        "id": "HYm5fomQvqXo",
        "colab_type": "code",
        "colab": {
          "base_uri": "https://localhost:8080/",
          "height": 51
        },
        "outputId": "3d5ad635-eadc-4fa8-de56-acde47776656"
      },
      "source": [
        "import tensorflow as tf\n",
        "\n",
        "def get_y():\n",
        "    A = tf.constant([[1, 2], [3, 4]], dtype=tf.float32, name=\"A\")\n",
        "    x = tf.constant([[0, 10], [0, 0.5]], name=\"x\")\n",
        "    b = tf.constant([[1, -1]], dtype=tf.float32, name=\"b\")\n",
        "    # I don't know what z is: if is a constant or a variable\n",
        "    z = tf.get_default_graph().get_tensor_by_name(\"z:0\")\n",
        "    y = A @ x + b - z\n",
        "    return y\n",
        "#test = tf.Variable(10., name=\"z\")\n",
        "#del test\n",
        "#test = tf.constant(10, name=\"z\")\n",
        "#del test\n",
        "\n",
        "y = get_y()\n",
        "\n",
        "with tf.Session() as sess:\n",
        "    init = tf.global_variables_initializer()\n",
        "    sess.run(init)\n",
        "    print(sess.run(y))"
      ],
      "execution_count": 7,
      "outputs": [
        {
          "output_type": "stream",
          "text": [
            "[[-9.  0.]\n",
            " [-9. 21.]]\n"
          ],
          "name": "stdout"
        }
      ]
    }
  ]
}