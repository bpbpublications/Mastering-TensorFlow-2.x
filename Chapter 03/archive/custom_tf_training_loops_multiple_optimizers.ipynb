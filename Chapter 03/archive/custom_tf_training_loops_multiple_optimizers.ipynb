{
 "cells": [
  {
   "cell_type": "code",
   "execution_count": 1,
   "metadata": {
    "colab": {
     "base_uri": "https://localhost:8080/",
     "height": 34
    },
    "colab_type": "code",
    "id": "11OpHzjyDV_R",
    "outputId": "5592067b-1d45-401f-fcf7-de2f2845f61b"
   },
   "outputs": [
    {
     "name": "stderr",
     "output_type": "stream",
     "text": [
      "UsageError: Line magic function `%tensorflow_version` not found.\n"
     ]
    }
   ],
   "source": [
    "# Select the TensorFlow 2.0 runtime\n",
    "%tensorflow_version 2.x"
   ]
  },
  {
   "cell_type": "code",
   "execution_count": 2,
   "metadata": {
    "colab": {},
    "colab_type": "code",
    "id": "ARaFUj2ZDsoO"
   },
   "outputs": [],
   "source": [
    "# Install Weights and Biases (WnB)\n",
    "#!pip install wandb"
   ]
  },
  {
   "cell_type": "code",
   "execution_count": 3,
   "metadata": {
    "colab": {},
    "colab_type": "code",
    "id": "pfi5G8ZWDeox"
   },
   "outputs": [],
   "source": [
    "# Primary imports\n",
    "import tensorflow as tf\n",
    "import numpy as np\n",
    "import wandb"
   ]
  },
  {
   "cell_type": "code",
   "execution_count": 4,
   "metadata": {
    "colab": {},
    "colab_type": "code",
    "id": "UUK3cHkqDovW"
   },
   "outputs": [],
   "source": [
    "# Authorize Weights and Biases\n",
    "#!wandb login 4e7d76ee685364972c13971b14bddd4e939ca0c6"
   ]
  },
  {
   "cell_type": "code",
   "execution_count": 5,
   "metadata": {
    "colab": {
     "base_uri": "https://localhost:8080/",
     "height": 85
    },
    "colab_type": "code",
    "id": "1RqRfkKJDzXp",
    "outputId": "8b17678f-f36e-4388-f1c1-8b2d2373630a"
   },
   "outputs": [],
   "source": [
    "# Intialize WnB with a project name of your choice\n",
    "#wandb.init(project=\"tf_book_ch3_custom_tf_training_loops_wnb\")"
   ]
  },
  {
   "cell_type": "code",
   "execution_count": 6,
   "metadata": {
    "colab": {
     "base_uri": "https://localhost:8080/",
     "height": 170
    },
    "colab_type": "code",
    "id": "-TkzuZXSD_MN",
    "outputId": "13417acd-fe1e-40e9-db0f-a252c8f17086"
   },
   "outputs": [
    {
     "data": {
      "text/plain": [
       "((60000, 28, 28), (10000, 28, 28), (60000,), (10000,))"
      ]
     },
     "execution_count": 6,
     "metadata": {},
     "output_type": "execute_result"
    }
   ],
   "source": [
    "# Load the FashionMNIST dataset, scale the pixel values\n",
    "(X_train, y_train), (X_test, y_test) = tf.keras.datasets.fashion_mnist.load_data()\n",
    "X_train = X_train/255.\n",
    "X_test = X_test/255.\n",
    "\n",
    "X_train.shape, X_test.shape, y_train.shape, y_test.shape"
   ]
  },
  {
   "cell_type": "code",
   "execution_count": 7,
   "metadata": {
    "colab": {},
    "colab_type": "code",
    "id": "uNfUBY4mErkY"
   },
   "outputs": [],
   "source": [
    "# Define the labels of the dataset\n",
    "CLASSES=[\"T-shirt/top\",\"Trouser\",\"Pullover\",\"Dress\",\"Coat\",\n",
    "        \"Sandal\",\"Shirt\",\"Sneaker\",\"Bag\",\"Ankle boot\"]"
   ]
  },
  {
   "cell_type": "code",
   "execution_count": 8,
   "metadata": {
    "colab": {},
    "colab_type": "code",
    "id": "ofiUxCQpEu0p"
   },
   "outputs": [],
   "source": [
    "# Change the pixel values to float32 and reshape input data\n",
    "X_train = X_train.astype(\"float32\").reshape(-1, 28, 28, 1)\n",
    "X_test = X_test.astype(\"float32\").reshape(-1, 28, 28, 1)"
   ]
  },
  {
   "cell_type": "code",
   "execution_count": 9,
   "metadata": {
    "colab": {
     "base_uri": "https://localhost:8080/",
     "height": 34
    },
    "colab_type": "code",
    "id": "vWsjTjvwLVvL",
    "outputId": "da3856d3-e93b-4c5f-92b1-19df42d2898e"
   },
   "outputs": [
    {
     "data": {
      "text/plain": [
       "((60000,), (10000,))"
      ]
     },
     "execution_count": 9,
     "metadata": {},
     "output_type": "execute_result"
    }
   ],
   "source": [
    "y_train.shape, y_test.shape"
   ]
  },
  {
   "cell_type": "code",
   "execution_count": 10,
   "metadata": {
    "colab": {},
    "colab_type": "code",
    "id": "jA2ES9N7FOo4"
   },
   "outputs": [],
   "source": [
    "# TensorFlow imports\n",
    "from tensorflow.keras.models import *\n",
    "from tensorflow.keras.layers import *"
   ]
  },
  {
   "cell_type": "code",
   "execution_count": 11,
   "metadata": {
    "colab": {},
    "colab_type": "code",
    "id": "UMXRRKcbE9vE"
   },
   "outputs": [],
   "source": [
    "# Define utility function for building a basic shallow Convnet \n",
    "def get_training_model():\n",
    "    model = Sequential()\n",
    "    model.add(Conv2D(16, (5, 5), activation=\"relu\",\n",
    "        input_shape=(28, 28,1)))\n",
    "    model.add(MaxPooling2D(pool_size=(2, 2)))\n",
    "    model.add(Conv2D(32, (5, 5), activation=\"relu\"))\n",
    "    model.add(MaxPooling2D(pool_size=(2, 2)))\n",
    "    model.add(Dropout(0.2))\n",
    "    model.add(Flatten())\n",
    "    model.add(Dense(128, activation=\"relu\"))\n",
    "    model.add(Dense(len(CLASSES), activation=\"softmax\"))\n",
    "    \n",
    "    return model"
   ]
  },
  {
   "cell_type": "code",
   "execution_count": 12,
   "metadata": {
    "colab": {},
    "colab_type": "code",
    "id": "DDXOr6FhFvXw"
   },
   "outputs": [],
   "source": [
    "# Define loass function and optimizer\n",
    "loss_func = tf.keras.losses.SparseCategoricalCrossentropy()\n",
    "optimizer = tf.keras.optimizers.Adam()"
   ]
  },
  {
   "cell_type": "code",
   "execution_count": 13,
   "metadata": {
    "colab": {},
    "colab_type": "code",
    "id": "uXfw22IZF5Rw"
   },
   "outputs": [],
   "source": [
    "# Average the loss across the batch size within an epoch\n",
    "train_loss = tf.keras.metrics.Mean(name=\"train_loss\")\n",
    "valid_loss = tf.keras.metrics.Mean(name=\"test_loss\")\n",
    "\n",
    "# Specify the performance metric\n",
    "train_acc = tf.keras.metrics.SparseCategoricalAccuracy(name=\"train_acc\")\n",
    "valid_acc = tf.keras.metrics.SparseCategoricalAccuracy(name=\"valid_acc\")"
   ]
  },
  {
   "cell_type": "code",
   "execution_count": 41,
   "metadata": {},
   "outputs": [],
   "source": [
    "# Average the loss across the batch size within an epoch\n",
    "train_loss_adadelta = tf.keras.metrics.Mean(name=\"train_loss\")\n",
    "valid_loss_adadelta = tf.keras.metrics.Mean(name=\"test_loss\")\n",
    "\n",
    "# Specify the performance metric\n",
    "train_acc_adadelta = tf.keras.metrics.SparseCategoricalAccuracy(name=\"train_acc\")\n",
    "valid_acc_adadelta = tf.keras.metrics.SparseCategoricalAccuracy(name=\"valid_acc\")"
   ]
  },
  {
   "cell_type": "code",
   "execution_count": 42,
   "metadata": {
    "colab": {},
    "colab_type": "code",
    "id": "w_CcwaadLI8e"
   },
   "outputs": [],
   "source": [
    "# Batches of 64\n",
    "train_ds = tf.data.Dataset.from_tensor_slices((X_train, y_train)).batch(64)\n",
    "test_ds = tf.data.Dataset.from_tensor_slices((X_test, y_test)).batch(64)"
   ]
  },
  {
   "cell_type": "code",
   "execution_count": 43,
   "metadata": {},
   "outputs": [],
   "source": [
    "# Train the model\n",
    "@tf.function\n",
    "def model_train(features, labels):\n",
    "    # Define the GradientTape context\n",
    "    with tf.GradientTape() as tape:\n",
    "        # Get the probabilities\n",
    "        predictions = model(features)\n",
    "        # Calculate the loss\n",
    "        loss = loss_func(labels, predictions)\n",
    "    # Get the gradients\n",
    "    gradients = tape.gradient(loss, model.trainable_variables)\n",
    "    # Update the weights\n",
    "    optimizer.apply_gradients(zip(gradients, model.trainable_variables))\n",
    "\n",
    "    # Update the loss and accuracy\n",
    "    train_loss(loss)\n",
    "    train_acc(labels, predictions)"
   ]
  },
  {
   "cell_type": "code",
   "execution_count": 44,
   "metadata": {
    "colab": {},
    "colab_type": "code",
    "id": "LBPBn762LwZ1"
   },
   "outputs": [],
   "source": [
    "# Validating the model\n",
    "@tf.function\n",
    "def model_validate(features, labels):\n",
    "    predictions = model(features)\n",
    "    v_loss = loss_func(labels, predictions)\n",
    "\n",
    "    valid_loss(v_loss)\n",
    "    valid_acc(labels, predictions)\n",
    "    print(valid_loss)\n",
    "    print(valid_acc)"
   ]
  },
  {
   "cell_type": "code",
   "execution_count": 45,
   "metadata": {},
   "outputs": [],
   "source": [
    "optimizer_adadelta = tf.keras.optimizers.Adadelta()"
   ]
  },
  {
   "cell_type": "code",
   "execution_count": 46,
   "metadata": {},
   "outputs": [],
   "source": [
    "# Train the model\n",
    "@tf.function\n",
    "def model_train_adadelta(features, labels):\n",
    "    # Define the GradientTape context\n",
    "    with tf.GradientTape() as tape:\n",
    "        # Get the probabilities\n",
    "        predictions = model(features)\n",
    "        # Calculate the loss\n",
    "        loss = loss_func(labels, predictions)\n",
    "    # Get the gradients\n",
    "    gradients = tape.gradient(loss, model.trainable_variables)\n",
    "    # Update the weights\n",
    "    optimizer_adadelta.apply_gradients(zip(gradients, model.trainable_variables))\n",
    "\n",
    "    # Update the loss and accuracy\n",
    "    train_loss_adadelta(loss)\n",
    "    train_acc_adadelta(labels, predictions)"
   ]
  },
  {
   "cell_type": "code",
   "execution_count": 47,
   "metadata": {},
   "outputs": [],
   "source": [
    "# Validating the model\n",
    "@tf.function\n",
    "def model_validate_adadelta(features, labels):\n",
    "    predictions = model(features)\n",
    "    v_loss = loss_func(labels, predictions)\n",
    "\n",
    "    valid_loss_adadelta(v_loss)\n",
    "    valid_acc_adadelta(labels, predictions)"
   ]
  },
  {
   "cell_type": "code",
   "execution_count": 48,
   "metadata": {
    "colab": {},
    "colab_type": "code",
    "id": "jleWU_WoPXfN"
   },
   "outputs": [],
   "source": [
    "# A shallow Convnet\n",
    "model = get_training_model()"
   ]
  },
  {
   "cell_type": "code",
   "execution_count": 49,
   "metadata": {
    "colab": {},
    "colab_type": "code",
    "id": "946iV6qSXZXo"
   },
   "outputs": [],
   "source": [
    "# Grab random images from the test and make predictions using \n",
    "# the model *while it is training* and log them using WnB\n",
    "def get_sample_predictions():\n",
    "    predictions = []\n",
    "    images = []\n",
    "    random_indices = np.random.choice(X_test.shape[0], 25)\n",
    "    for index in random_indices:\n",
    "        image = X_test[index].reshape(1, 28, 28, 1)\n",
    "        prediction = np.argmax(model(image).numpy(), axis=1)\n",
    "        prediction = CLASSES[int(prediction)]\n",
    "        \n",
    "        images.append(image)\n",
    "        predictions.append(prediction)\n",
    "    \n",
    "    #wandb.log({\"predictions\": [wandb.Image(image, caption=prediction) \n",
    "    #                           for (image, prediction) in zip(images, predictions)]})"
   ]
  },
  {
   "cell_type": "code",
   "execution_count": 160,
   "metadata": {},
   "outputs": [],
   "source": [
    "import pandas as pd\n",
    "history = pd.DataFrame(columns=['epoch', 'adam_loss', 'adam_acc', 'adam_val_loss', 'adam_val_acc',\n",
    "                                'adadelta_loss', 'adadelta_acc', \n",
    "                                'adadelta_val_loss', 'adadelta_val_acc'])"
   ]
  },
  {
   "cell_type": "code",
   "execution_count": 161,
   "metadata": {
    "colab": {
     "base_uri": "https://localhost:8080/",
     "height": 102
    },
    "colab_type": "code",
    "id": "yZE9_IhjL4lM",
    "outputId": "8b4f3f61-5a85-4128-bf33-ea7753b4ab19",
    "scrolled": false
   },
   "outputs": [],
   "source": [
    "# Train the model for 5 epochs\n",
    "for epoch in range(100):\n",
    "    # Run the model through train and test sets respectively\n",
    "    for (features, labels) in train_ds:\n",
    "        model_train(features, labels)\n",
    "        model_train_adadelta(features, labels)\n",
    "\n",
    "    for test_features, test_labels in test_ds:\n",
    "        model_validate(test_features, test_labels)\n",
    "        model_validate_adadelta(test_features, test_labels)\n",
    "        \n",
    "    # Grab the results\n",
    "    (loss, acc) = train_loss.result(), train_acc.result()\n",
    "    (val_loss, val_acc) = valid_loss.result(), valid_acc.result()\n",
    "    \n",
    "    (loss_adelta, acc_adelta) = train_loss_adadelta.result(), train_acc_adadelta.result()\n",
    "    (val_loss_adelta, val_acc_adelta) = valid_loss_adadelta.result(), valid_acc_adadelta.result()\n",
    "    \n",
    "    # Clear the current state of the metrics\n",
    "    train_loss.reset_states(), train_acc.reset_states()\n",
    "    valid_loss.reset_states(), valid_acc.reset_states()\n",
    "    train_loss_adadelta.reset_states(), train_acc_adadelta.reset_states()\n",
    "    valid_loss_adadelta.reset_states(), valid_acc_adadelta.reset_states()\n",
    "    \n",
    "    # Local logging\n",
    "    t = \"{:.3f}\"\n",
    "    history = history.append({'epoch': epoch, 'adam_loss': t.format(loss), 'adam_acc': t.format(acc),\n",
    "                              'adam_val_loss':t.format(val_loss),\n",
    "                             'adam_val_acc':t.format(val_acc),\n",
    "                             'adadelta_loss': t.format(loss_adelta), 'adadelta_acc': t.format(acc_adelta),\n",
    "                              'adadelta_val_loss':t.format(val_loss_adelta),\n",
    "                             'adadelta_val_acc':t.format(val_acc_adelta)\n",
    "                             \n",
    "                             }, \n",
    "                             ignore_index=True)\n",
    "    template = \"Epoch {}, loss: {:.3f}, acc: {:.3f}, val_loss: {:.3f}, val_acc: {:.3f}\"\n",
    "   \n",
    "    #print (template.format(epoch+1,\n",
    "    #                     loss,\n",
    "    #                     acc,\n",
    "    #                     val_loss,\n",
    "    #                     val_acc))\n",
    "    \n",
    "    # Logging with WnB\n",
    "    #wandb.log({\"train_loss\": loss.numpy(),\n",
    "    #           \"train_accuracy\": acc.numpy(),\n",
    "    #           \"val_loss\": val_loss.numpy(),\n",
    "    #           \"val_accuracy\": val_acc.numpy()\n",
    "    #})\n",
    "    #get_sample_predictions()"
   ]
  },
  {
   "cell_type": "code",
   "execution_count": 162,
   "metadata": {},
   "outputs": [
    {
     "data": {
      "text/html": [
       "<div>\n",
       "<style scoped>\n",
       "    .dataframe tbody tr th:only-of-type {\n",
       "        vertical-align: middle;\n",
       "    }\n",
       "\n",
       "    .dataframe tbody tr th {\n",
       "        vertical-align: top;\n",
       "    }\n",
       "\n",
       "    .dataframe thead th {\n",
       "        text-align: right;\n",
       "    }\n",
       "</style>\n",
       "<table border=\"1\" class=\"dataframe\">\n",
       "  <thead>\n",
       "    <tr style=\"text-align: right;\">\n",
       "      <th></th>\n",
       "      <th>epoch</th>\n",
       "      <th>adam_loss</th>\n",
       "      <th>adam_acc</th>\n",
       "      <th>adam_val_loss</th>\n",
       "      <th>adam_val_acc</th>\n",
       "      <th>adadelta_loss</th>\n",
       "      <th>adadelta_acc</th>\n",
       "      <th>adadelta_val_loss</th>\n",
       "      <th>adadelta_val_acc</th>\n",
       "    </tr>\n",
       "  </thead>\n",
       "  <tbody>\n",
       "    <tr>\n",
       "      <td>0</td>\n",
       "      <td>0</td>\n",
       "      <td>0.022</td>\n",
       "      <td>0.993</td>\n",
       "      <td>1.345</td>\n",
       "      <td>0.894</td>\n",
       "      <td>0.009</td>\n",
       "      <td>0.997</td>\n",
       "      <td>1.345</td>\n",
       "      <td>0.894</td>\n",
       "    </tr>\n",
       "    <tr>\n",
       "      <td>1</td>\n",
       "      <td>1</td>\n",
       "      <td>0.018</td>\n",
       "      <td>0.994</td>\n",
       "      <td>1.336</td>\n",
       "      <td>0.894</td>\n",
       "      <td>0.007</td>\n",
       "      <td>0.998</td>\n",
       "      <td>1.336</td>\n",
       "      <td>0.894</td>\n",
       "    </tr>\n",
       "    <tr>\n",
       "      <td>2</td>\n",
       "      <td>2</td>\n",
       "      <td>0.024</td>\n",
       "      <td>0.993</td>\n",
       "      <td>1.350</td>\n",
       "      <td>0.895</td>\n",
       "      <td>0.009</td>\n",
       "      <td>0.998</td>\n",
       "      <td>1.350</td>\n",
       "      <td>0.895</td>\n",
       "    </tr>\n",
       "    <tr>\n",
       "      <td>3</td>\n",
       "      <td>3</td>\n",
       "      <td>0.023</td>\n",
       "      <td>0.994</td>\n",
       "      <td>1.352</td>\n",
       "      <td>0.894</td>\n",
       "      <td>0.008</td>\n",
       "      <td>0.998</td>\n",
       "      <td>1.352</td>\n",
       "      <td>0.894</td>\n",
       "    </tr>\n",
       "    <tr>\n",
       "      <td>4</td>\n",
       "      <td>4</td>\n",
       "      <td>0.017</td>\n",
       "      <td>0.995</td>\n",
       "      <td>1.339</td>\n",
       "      <td>0.898</td>\n",
       "      <td>0.006</td>\n",
       "      <td>0.998</td>\n",
       "      <td>1.339</td>\n",
       "      <td>0.898</td>\n",
       "    </tr>\n",
       "    <tr>\n",
       "      <td>...</td>\n",
       "      <td>...</td>\n",
       "      <td>...</td>\n",
       "      <td>...</td>\n",
       "      <td>...</td>\n",
       "      <td>...</td>\n",
       "      <td>...</td>\n",
       "      <td>...</td>\n",
       "      <td>...</td>\n",
       "      <td>...</td>\n",
       "    </tr>\n",
       "    <tr>\n",
       "      <td>95</td>\n",
       "      <td>95</td>\n",
       "      <td>0.015</td>\n",
       "      <td>0.996</td>\n",
       "      <td>1.768</td>\n",
       "      <td>0.900</td>\n",
       "      <td>0.004</td>\n",
       "      <td>0.999</td>\n",
       "      <td>1.768</td>\n",
       "      <td>0.900</td>\n",
       "    </tr>\n",
       "    <tr>\n",
       "      <td>96</td>\n",
       "      <td>96</td>\n",
       "      <td>0.016</td>\n",
       "      <td>0.996</td>\n",
       "      <td>1.872</td>\n",
       "      <td>0.898</td>\n",
       "      <td>0.004</td>\n",
       "      <td>0.999</td>\n",
       "      <td>1.872</td>\n",
       "      <td>0.898</td>\n",
       "    </tr>\n",
       "    <tr>\n",
       "      <td>97</td>\n",
       "      <td>97</td>\n",
       "      <td>0.018</td>\n",
       "      <td>0.996</td>\n",
       "      <td>1.752</td>\n",
       "      <td>0.901</td>\n",
       "      <td>0.005</td>\n",
       "      <td>0.999</td>\n",
       "      <td>1.752</td>\n",
       "      <td>0.901</td>\n",
       "    </tr>\n",
       "    <tr>\n",
       "      <td>98</td>\n",
       "      <td>98</td>\n",
       "      <td>0.008</td>\n",
       "      <td>0.997</td>\n",
       "      <td>1.871</td>\n",
       "      <td>0.894</td>\n",
       "      <td>0.002</td>\n",
       "      <td>1.000</td>\n",
       "      <td>1.871</td>\n",
       "      <td>0.894</td>\n",
       "    </tr>\n",
       "    <tr>\n",
       "      <td>99</td>\n",
       "      <td>99</td>\n",
       "      <td>0.019</td>\n",
       "      <td>0.995</td>\n",
       "      <td>1.870</td>\n",
       "      <td>0.897</td>\n",
       "      <td>0.005</td>\n",
       "      <td>0.999</td>\n",
       "      <td>1.870</td>\n",
       "      <td>0.897</td>\n",
       "    </tr>\n",
       "  </tbody>\n",
       "</table>\n",
       "<p>100 rows × 9 columns</p>\n",
       "</div>"
      ],
      "text/plain": [
       "   epoch adam_loss adam_acc adam_val_loss adam_val_acc adadelta_loss  \\\n",
       "0      0     0.022    0.993         1.345        0.894         0.009   \n",
       "1      1     0.018    0.994         1.336        0.894         0.007   \n",
       "2      2     0.024    0.993         1.350        0.895         0.009   \n",
       "3      3     0.023    0.994         1.352        0.894         0.008   \n",
       "4      4     0.017    0.995         1.339        0.898         0.006   \n",
       "..   ...       ...      ...           ...          ...           ...   \n",
       "95    95     0.015    0.996         1.768        0.900         0.004   \n",
       "96    96     0.016    0.996         1.872        0.898         0.004   \n",
       "97    97     0.018    0.996         1.752        0.901         0.005   \n",
       "98    98     0.008    0.997         1.871        0.894         0.002   \n",
       "99    99     0.019    0.995         1.870        0.897         0.005   \n",
       "\n",
       "   adadelta_acc adadelta_val_loss adadelta_val_acc  \n",
       "0         0.997             1.345            0.894  \n",
       "1         0.998             1.336            0.894  \n",
       "2         0.998             1.350            0.895  \n",
       "3         0.998             1.352            0.894  \n",
       "4         0.998             1.339            0.898  \n",
       "..          ...               ...              ...  \n",
       "95        0.999             1.768            0.900  \n",
       "96        0.999             1.872            0.898  \n",
       "97        0.999             1.752            0.901  \n",
       "98        1.000             1.871            0.894  \n",
       "99        0.999             1.870            0.897  \n",
       "\n",
       "[100 rows x 9 columns]"
      ]
     },
     "execution_count": 162,
     "metadata": {},
     "output_type": "execute_result"
    }
   ],
   "source": [
    "history"
   ]
  },
  {
   "cell_type": "code",
   "execution_count": 163,
   "metadata": {},
   "outputs": [],
   "source": [
    "history.to_csv('multiple_optimizers.csv')"
   ]
  },
  {
   "cell_type": "code",
   "execution_count": 166,
   "metadata": {},
   "outputs": [],
   "source": [
    "#history['adam_loss'].tolist()"
   ]
  },
  {
   "cell_type": "code",
   "execution_count": 172,
   "metadata": {},
   "outputs": [
    {
     "name": "stdout",
     "output_type": "stream",
     "text": [
      "0.008\n",
      "1.872\n"
     ]
    },
    {
     "data": {
      "text/plain": [
       "<Figure size 432x288 with 0 Axes>"
      ]
     },
     "metadata": {},
     "output_type": "display_data"
    },
    {
     "data": {
      "image/png": "[encoded data removed]",
      "text/plain": [
       "<Figure size 432x288 with 1 Axes>"
      ]
     },
     "metadata": {
      "needs_background": "light"
     },
     "output_type": "display_data"
    }
   ],
   "source": [
    "import matplotlib.pyplot as plt\n",
    "%matplotlib inline\n",
    "def plot_history(history):\n",
    "  hist = history\n",
    "  hist['epoch'] = history.epoch\n",
    "\n",
    "  plt.figure()\n",
    "  fig, ax = plt.subplots()\n",
    "  plt.xlabel('epoch')\n",
    "  plt.ylabel('loss')\n",
    "  plt.plot(hist['adam_loss'].tolist(),\n",
    "           label='Adam Loss')\n",
    "  plt.plot(hist['adam_val_loss'].tolist(),\n",
    "           label = 'Adam Val Loss')\n",
    "  plt.plot(hist['adadelta_loss'].tolist(),\n",
    "           label = 'Adadelta Loss')\n",
    "  #plt.plot(hist['adadelta_val_loss'].tolist(),\n",
    "  #         label = 'Adadelta Val Loss')\n",
    "\n",
    "    #\n",
    "  #plt.ylim([0,5])\n",
    "  #plt.gca().invert_yaxis()\n",
    "  _max =max( max(hist['adam_loss'].tolist()), \n",
    "             max(hist['adam_val_loss'].tolist()) \n",
    "           )\n",
    "  _min =min( min(hist['adam_loss'].tolist()), \n",
    "             min(hist['adam_val_loss'].tolist())\n",
    "           )\n",
    "  print(_min)\n",
    "  print(_max)\n",
    "  ax.set_yticks([_min,_max])\n",
    "  plt.legend()\n",
    "\n",
    "  plt.show()\n",
    "\n",
    "plot_history(history)"
   ]
  }
 ],
 "metadata": {
  "accelerator": "GPU",
  "colab": {
   "collapsed_sections": [],
   "name": "Custom_TF_Training_Loops_WnB.ipynb",
   "provenance": []
  },
  "kernelspec": {
   "display_name": "Python 3",
   "language": "python",
   "name": "python3"
  },
  "language_info": {
   "codemirror_mode": {
    "name": "ipython",
    "version": 3
   },
   "file_extension": ".py",
   "mimetype": "text/x-python",
   "name": "python",
   "nbconvert_exporter": "python",
   "pygments_lexer": "ipython3",
   "version": "3.7.4"
  }
 },
 "nbformat": 4,
 "nbformat_minor": 1
}
