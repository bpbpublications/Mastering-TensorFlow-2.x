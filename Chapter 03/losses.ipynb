{
 "cells": [
  {
   "cell_type": "code",
   "execution_count": 3,
   "metadata": {},
   "outputs": [],
   "source": [
    "import tensorflow\n",
    "import numpy as np\n",
    "\n",
    "from tensorflow.python.framework import constant_op\n",
    "from tensorflow.python.framework import dtypes\n",
    "from tensorflow.python.framework import errors_impl\n",
    "from tensorflow.python.framework import ops\n",
    "from tensorflow.python.keras import backend\n",
    "#from tensorflow.python.keras import combinations\n",
    "from tensorflow.python.keras import losses\n",
    "from tensorflow.python.keras.utils import losses_utils\n",
    "from tensorflow.python.platform import test\n",
    "\n",
    "ALL_LOSSES = [\n",
    "    losses.mean_squared_error, losses.mean_absolute_error,\n",
    "    losses.mean_absolute_percentage_error,\n",
    "    losses.mean_squared_logarithmic_error, losses.squared_hinge, losses.hinge,\n",
    "    losses.categorical_crossentropy, losses.binary_crossentropy,\n",
    "    losses.kullback_leibler_divergence, losses.poisson,\n",
    "    losses.cosine_similarity, losses.logcosh, losses.categorical_hinge\n",
    "]"
   ]
  },
  {
   "cell_type": "code",
   "execution_count": 10,
   "metadata": {},
   "outputs": [],
   "source": [
    "y_a = backend.variable(np.random.random((5, 6, 7)))\n",
    "y_b = backend.variable(np.random.random((5, 6, 7)))\n",
    "for obj in ALL_LOSSES:\n",
    "    objective_output = obj(y_a, y_b)\n",
    "    #print(objective_output.shape.as_list())"
   ]
  },
  {
   "cell_type": "code",
   "execution_count": 17,
   "metadata": {},
   "outputs": [
    {
     "name": "stdout",
     "output_type": "stream",
     "text": [
      "tf.Tensor(49.5, shape=(), dtype=float32)\n"
     ]
    }
   ],
   "source": [
    "mse_obj = losses.MeanSquaredError()\n",
    "true = [1, 9, 2, -5, -2, 6]\n",
    "pred = [4, 8, 12, 8, 1, 3]\n",
    "y_true = constant_op.constant(true, shape=(2, 3))\n",
    "y_pred = constant_op.constant(pred,\n",
    "                                  shape=(2, 3),\n",
    "                                  dtype=dtypes.float32)\n",
    "loss = mse_obj(y_true, y_pred)\n",
    "print(loss)"
   ]
  },
  {
   "cell_type": "code",
   "execution_count": 19,
   "metadata": {},
   "outputs": [
    {
     "name": "stdout",
     "output_type": "stream",
     "text": [
      "The Mean Square Error is: 49.5\n"
     ]
    }
   ],
   "source": [
    "y = true\n",
    "y_bar = pred\n",
    "summation = 0  #variable to store the summation of differences\n",
    "n = len(y) #finding total number of items in list\n",
    "for i in range (0,n):  #looping through each element of the list\n",
    "  difference = y[i] - y_bar[i]  #finding the difference between observed and predicted value\n",
    "  squared_difference = difference**2  #taking square of the differene \n",
    "  summation = summation + squared_difference  #taking a sum of all the differences\n",
    "MSE = summation/n  #dividing summation by total values to obtain average\n",
    "print(\"The Mean Square Error is: \" + str(MSE))"
   ]
  },
  {
   "cell_type": "markdown",
   "metadata": {},
   "source": [
    "## Binary Cross Entropy"
   ]
  },
  {
   "cell_type": "code",
   "execution_count": 44,
   "metadata": {},
   "outputs": [],
   "source": [
    "target = backend.variable(np.random.randint(0, 2, (5, 1)))\n",
    "logits = backend.variable(np.random.random((5, 1)))\n",
    "sigmoid_output = backend.sigmoid(logits)"
   ]
  },
  {
   "cell_type": "code",
   "execution_count": 45,
   "metadata": {},
   "outputs": [],
   "source": [
    "#np.random.randint(2, size=10)"
   ]
  },
  {
   "cell_type": "code",
   "execution_count": 46,
   "metadata": {},
   "outputs": [
    {
     "data": {
      "text/plain": [
       "<tf.Variable 'Variable:0' shape=(5, 1) dtype=float32, numpy=\n",
       "array([[1.],\n",
       "       [1.],\n",
       "       [1.],\n",
       "       [0.],\n",
       "       [1.]], dtype=float32)>"
      ]
     },
     "execution_count": 46,
     "metadata": {},
     "output_type": "execute_result"
    }
   ],
   "source": [
    "target"
   ]
  },
  {
   "cell_type": "code",
   "execution_count": 47,
   "metadata": {},
   "outputs": [
    {
     "data": {
      "text/plain": [
       "<tf.Variable 'Variable:0' shape=(5, 1) dtype=float32, numpy=\n",
       "array([[0.31217206],\n",
       "       [0.96582544],\n",
       "       [0.66500735],\n",
       "       [0.48153389],\n",
       "       [0.02099748]], dtype=float32)>"
      ]
     },
     "execution_count": 47,
     "metadata": {},
     "output_type": "execute_result"
    }
   ],
   "source": [
    "logits"
   ]
  },
  {
   "cell_type": "code",
   "execution_count": 48,
   "metadata": {},
   "outputs": [
    {
     "data": {
      "text/plain": [
       "<tf.Tensor: id=936, shape=(5, 1), dtype=float32, numpy=\n",
       "array([[0.57741535],\n",
       "       [0.7242866 ],\n",
       "       [0.6603843 ],\n",
       "       [0.61811   ],\n",
       "       [0.5052492 ]], dtype=float32)>"
      ]
     },
     "execution_count": 48,
     "metadata": {},
     "output_type": "execute_result"
    }
   ],
   "source": [
    "sigmoid_output"
   ]
  },
  {
   "cell_type": "code",
   "execution_count": 49,
   "metadata": {},
   "outputs": [],
   "source": [
    "output_from_logit = losses.binary_crossentropy(\n",
    "        target, logits, from_logits=True)\n",
    "output_from_sigmoid = losses.binary_crossentropy(target, sigmoid_output)"
   ]
  },
  {
   "cell_type": "code",
   "execution_count": 50,
   "metadata": {},
   "outputs": [
    {
     "data": {
      "text/plain": [
       "<tf.Tensor: id=953, shape=(5,), dtype=float32, numpy=\n",
       "array([0.54919344, 0.32256806, 0.41493332, 0.9626227 , 0.68270355],\n",
       "      dtype=float32)>"
      ]
     },
     "execution_count": 50,
     "metadata": {},
     "output_type": "execute_result"
    }
   ],
   "source": [
    "output_from_logit"
   ]
  },
  {
   "cell_type": "code",
   "execution_count": 51,
   "metadata": {},
   "outputs": [
    {
     "data": {
      "text/plain": [
       "<tf.Tensor: id=977, shape=(5,), dtype=float32, numpy=\n",
       "array([0.5491932 , 0.3225679 , 0.41493317, 0.96262246, 0.68270326],\n",
       "      dtype=float32)>"
      ]
     },
     "execution_count": 51,
     "metadata": {},
     "output_type": "execute_result"
    }
   ],
   "source": [
    "output_from_sigmoid"
   ]
  },
  {
   "cell_type": "markdown",
   "metadata": {},
   "source": [
    "Categorical Cross Entropy with "
   ]
  },
  {
   "cell_type": "code",
   "execution_count": 69,
   "metadata": {},
   "outputs": [],
   "source": [
    "t = backend.placeholder()\n",
    "p = backend.placeholder()\n",
    "cce = losses.sparse_categorical_crossentropy(t, p)\n",
    "\n",
    "t_val = ops.convert_to_tensor_v2([0, 1, 2, 3])\n",
    "p_val = ops.convert_to_tensor_v2([[.9, .05, .025,0.025],[.05, .89, .03,0.03],[.04, .01, .94,0.01],\n",
    "                                  [.02, .02, .01,0.95]])\n",
    "\n",
    "f = backend.function([t, p], cce)\n",
    "\n",
    "result = f([t_val, p_val])"
   ]
  },
  {
   "cell_type": "code",
   "execution_count": 70,
   "metadata": {},
   "outputs": [
    {
     "data": {
      "text/plain": [
       "array([0.10536056, 0.11653379, 0.06187528, 0.05129333], dtype=float32)"
      ]
     },
     "execution_count": 70,
     "metadata": {},
     "output_type": "execute_result"
    }
   ],
   "source": [
    "result"
   ]
  },
  {
   "cell_type": "code",
   "execution_count": 60,
   "metadata": {},
   "outputs": [
    {
     "name": "stdout",
     "output_type": "stream",
     "text": [
      "Loss:  0.09458993\n"
     ]
    }
   ],
   "source": [
    "import tensorflow as tf\n",
    "cce = tf.keras.losses.CategoricalCrossentropy()\n",
    "loss = cce(\n",
    "  [[1., 0., 0.], [0., 1., 0.], [0., 0., 1.]],\n",
    "  [[.9, .05, .05], [.05, .89, .06], [.05, .01, .94]])\n",
    "print('Loss: ', loss.numpy())"
   ]
  },
  {
   "cell_type": "code",
   "execution_count": null,
   "metadata": {},
   "outputs": [],
   "source": []
  }
 ],
 "metadata": {
  "kernelspec": {
   "display_name": "Python 3",
   "language": "python",
   "name": "python3"
  },
  "language_info": {
   "codemirror_mode": {
    "name": "ipython",
    "version": 3
   },
   "file_extension": ".py",
   "mimetype": "text/x-python",
   "name": "python",
   "nbconvert_exporter": "python",
   "pygments_lexer": "ipython3",
   "version": "3.7.4"
  }
 },
 "nbformat": 4,
 "nbformat_minor": 2
}
