{
 "cells": [
  {
   "cell_type": "code",
   "execution_count": 0,
   "metadata": {
    "colab": {
     "base_uri": "https://localhost:8080/",
     "height": 34
    },
    "colab_type": "code",
    "id": "11OpHzjyDV_R",
    "outputId": "5592067b-1d45-401f-fcf7-de2f2845f61b"
   },
   "outputs": [
    {
     "name": "stdout",
     "output_type": "stream",
     "text": [
      "TensorFlow 2.x selected.\n"
     ]
    }
   ],
   "source": [
    "# Select the TensorFlow 2.0 runtime\n",
    "%tensorflow_version 2.x"
   ]
  },
  {
   "cell_type": "code",
   "execution_count": 0,
   "metadata": {
    "colab": {},
    "colab_type": "code",
    "id": "ARaFUj2ZDsoO"
   },
   "outputs": [],
   "source": [
    "# Install Weights and Biases (WnB)\n",
    "!pip install wandb"
   ]
  },
  {
   "cell_type": "code",
   "execution_count": 0,
   "metadata": {
    "colab": {},
    "colab_type": "code",
    "id": "pfi5G8ZWDeox"
   },
   "outputs": [],
   "source": [
    "# Primary imports\n",
    "import tensorflow as tf\n",
    "import numpy as np\n",
    "import wandb"
   ]
  },
  {
   "cell_type": "code",
   "execution_count": 0,
   "metadata": {
    "colab": {},
    "colab_type": "code",
    "id": "UUK3cHkqDovW"
   },
   "outputs": [],
   "source": [
    "# Authorize Weights and Biases\n",
    "!wandb login"
   ]
  },
  {
   "cell_type": "code",
   "execution_count": 0,
   "metadata": {
    "colab": {
     "base_uri": "https://localhost:8080/",
     "height": 85
    },
    "colab_type": "code",
    "id": "1RqRfkKJDzXp",
    "outputId": "8b17678f-f36e-4388-f1c1-8b2d2373630a"
   },
   "outputs": [
    {
     "data": {
      "text/html": [
       "\n",
       "                Logging results to <a href=\"https://wandb.com\" target=\"_blank\">Weights & Biases</a> <a href=\"https://docs.wandb.com/integrations/jupyter.html\" target=\"_blank\">(Documentation)</a>.<br/>\n",
       "                Project page: <a href=\"https://app.wandb.ai/sayakpaul/custom_training_loops_tf\" target=\"_blank\">https://app.wandb.ai/sayakpaul/custom_training_loops_tf</a><br/>\n",
       "                Run page: <a href=\"https://app.wandb.ai/sayakpaul/custom_training_loops_tf/runs/3c1cfpm9\" target=\"_blank\">https://app.wandb.ai/sayakpaul/custom_training_loops_tf/runs/3c1cfpm9</a><br/>\n",
       "            "
      ],
      "text/plain": [
       "<IPython.core.display.HTML object>"
      ]
     },
     "metadata": {
      "tags": []
     },
     "output_type": "display_data"
    },
    {
     "data": {
      "text/plain": [
       "W&B Run: https://app.wandb.ai/sayakpaul/custom_training_loops_tf/runs/3c1cfpm9"
      ]
     },
     "execution_count": 5,
     "metadata": {
      "tags": []
     },
     "output_type": "execute_result"
    }
   ],
   "source": [
    "# Intialize WnB with a project name of your choice\n",
    "wandb.init(project=\"custom_training_loops_tf\")"
   ]
  },
  {
   "cell_type": "code",
   "execution_count": 0,
   "metadata": {
    "colab": {
     "base_uri": "https://localhost:8080/",
     "height": 170
    },
    "colab_type": "code",
    "id": "-TkzuZXSD_MN",
    "outputId": "13417acd-fe1e-40e9-db0f-a252c8f17086"
   },
   "outputs": [
    {
     "name": "stdout",
     "output_type": "stream",
     "text": [
      "Downloading data from https://storage.googleapis.com/tensorflow/tf-keras-datasets/train-labels-idx1-ubyte.gz\n",
      "32768/29515 [=================================] - 0s 0us/step\n",
      "Downloading data from https://storage.googleapis.com/tensorflow/tf-keras-datasets/train-images-idx3-ubyte.gz\n",
      "26427392/26421880 [==============================] - 0s 0us/step\n",
      "Downloading data from https://storage.googleapis.com/tensorflow/tf-keras-datasets/t10k-labels-idx1-ubyte.gz\n",
      "8192/5148 [===============================================] - 0s 0us/step\n",
      "Downloading data from https://storage.googleapis.com/tensorflow/tf-keras-datasets/t10k-images-idx3-ubyte.gz\n",
      "4423680/4422102 [==============================] - 0s 0us/step\n"
     ]
    },
    {
     "data": {
      "text/plain": [
       "((60000, 28, 28), (10000, 28, 28), (60000,), (10000,))"
      ]
     },
     "execution_count": 6,
     "metadata": {
      "tags": []
     },
     "output_type": "execute_result"
    }
   ],
   "source": [
    "# Load the FashionMNIST dataset, scale the pixel values\n",
    "(X_train, y_train), (X_test, y_test) = tf.keras.datasets.fashion_mnist.load_data()\n",
    "X_train = X_train/255.\n",
    "X_test = X_test/255.\n",
    "\n",
    "X_train.shape, X_test.shape, y_train.shape, y_test.shape"
   ]
  },
  {
   "cell_type": "code",
   "execution_count": 0,
   "metadata": {
    "colab": {},
    "colab_type": "code",
    "id": "uNfUBY4mErkY"
   },
   "outputs": [],
   "source": [
    "# Define the labels of the dataset\n",
    "CLASSES=[\"T-shirt/top\",\"Trouser\",\"Pullover\",\"Dress\",\"Coat\",\n",
    "        \"Sandal\",\"Shirt\",\"Sneaker\",\"Bag\",\"Ankle boot\"]"
   ]
  },
  {
   "cell_type": "code",
   "execution_count": 0,
   "metadata": {
    "colab": {},
    "colab_type": "code",
    "id": "ofiUxCQpEu0p"
   },
   "outputs": [],
   "source": [
    "# Change the pixel values to float32 and reshape input data\n",
    "X_train = X_train.astype(\"float32\").reshape(-1, 28, 28, 1)\n",
    "X_test = X_test.astype(\"float32\").reshape(-1, 28, 28, 1)"
   ]
  },
  {
   "cell_type": "code",
   "execution_count": 0,
   "metadata": {
    "colab": {
     "base_uri": "https://localhost:8080/",
     "height": 34
    },
    "colab_type": "code",
    "id": "vWsjTjvwLVvL",
    "outputId": "da3856d3-e93b-4c5f-92b1-19df42d2898e"
   },
   "outputs": [
    {
     "data": {
      "text/plain": [
       "((60000,), (10000,))"
      ]
     },
     "execution_count": 9,
     "metadata": {
      "tags": []
     },
     "output_type": "execute_result"
    }
   ],
   "source": [
    "y_train.shape, y_test.shape"
   ]
  },
  {
   "cell_type": "code",
   "execution_count": 0,
   "metadata": {
    "colab": {},
    "colab_type": "code",
    "id": "jA2ES9N7FOo4"
   },
   "outputs": [],
   "source": [
    "# TensorFlow imports\n",
    "from tensorflow.keras.models import *\n",
    "from tensorflow.keras.layers import *"
   ]
  },
  {
   "cell_type": "code",
   "execution_count": 0,
   "metadata": {
    "colab": {},
    "colab_type": "code",
    "id": "UMXRRKcbE9vE"
   },
   "outputs": [],
   "source": [
    "# Define utility function for building a basic shallow Convnet \n",
    "def get_training_model():\n",
    "    model = Sequential()\n",
    "    model.add(Conv2D(16, (5, 5), activation=\"relu\",\n",
    "        input_shape=(28, 28,1)))\n",
    "    model.add(MaxPooling2D(pool_size=(2, 2)))\n",
    "    model.add(Conv2D(32, (5, 5), activation=\"relu\"))\n",
    "    model.add(MaxPooling2D(pool_size=(2, 2)))\n",
    "    model.add(Dropout(0.2))\n",
    "    model.add(Flatten())\n",
    "    model.add(Dense(128, activation=\"relu\"))\n",
    "    model.add(Dense(len(CLASSES), activation=\"softmax\"))\n",
    "    \n",
    "    return model"
   ]
  },
  {
   "cell_type": "code",
   "execution_count": 0,
   "metadata": {
    "colab": {},
    "colab_type": "code",
    "id": "DDXOr6FhFvXw"
   },
   "outputs": [],
   "source": [
    "# Define loass function and optimizer\n",
    "loss_func = tf.keras.losses.SparseCategoricalCrossentropy()\n",
    "optimizer = tf.keras.optimizers.Adam()"
   ]
  },
  {
   "cell_type": "code",
   "execution_count": 0,
   "metadata": {
    "colab": {},
    "colab_type": "code",
    "id": "uXfw22IZF5Rw"
   },
   "outputs": [],
   "source": [
    "# Average the loss across the batch size within an epoch\n",
    "train_loss = tf.keras.metrics.Mean(name=\"train_loss\")\n",
    "valid_loss = tf.keras.metrics.Mean(name=\"test_loss\")\n",
    "\n",
    "# Specify the performance metric\n",
    "train_acc = tf.keras.metrics.SparseCategoricalAccuracy(name=\"train_acc\")\n",
    "valid_acc = tf.keras.metrics.SparseCategoricalAccuracy(name=\"valid_acc\")"
   ]
  },
  {
   "cell_type": "code",
   "execution_count": 0,
   "metadata": {
    "colab": {},
    "colab_type": "code",
    "id": "w_CcwaadLI8e"
   },
   "outputs": [],
   "source": [
    "# Batches of 64\n",
    "train_ds = tf.data.Dataset.from_tensor_slices((X_train, y_train)).batch(64)\n",
    "test_ds = tf.data.Dataset.from_tensor_slices((X_test, y_test)).batch(64)"
   ]
  },
  {
   "cell_type": "code",
   "execution_count": 0,
   "metadata": {
    "colab": {},
    "colab_type": "code",
    "id": "-JgN5TWzLroE"
   },
   "outputs": [],
   "source": [
    "# Train the model\n",
    "@tf.function\n",
    "def model_train(features, labels):\n",
    "    # Define the GradientTape context\n",
    "    with tf.GradientTape() as tape:\n",
    "        # Get the probabilities\n",
    "        predictions = model(features)\n",
    "        # Calculate the loss\n",
    "        loss = loss_func(labels, predictions)\n",
    "    # Get the gradients\n",
    "    gradients = tape.gradient(loss, model.trainable_variables)\n",
    "    # Update the weights\n",
    "    optimizer.apply_gradients(zip(gradients, model.trainable_variables))\n",
    "\n",
    "    # Update the loss and accuracy\n",
    "    train_loss(loss)\n",
    "    train_acc(labels, predictions)"
   ]
  },
  {
   "cell_type": "code",
   "execution_count": 0,
   "metadata": {
    "colab": {},
    "colab_type": "code",
    "id": "LBPBn762LwZ1"
   },
   "outputs": [],
   "source": [
    "# Validating the model\n",
    "@tf.function\n",
    "def model_validate(features, labels):\n",
    "    predictions = model(features)\n",
    "    v_loss = loss_func(labels, predictions)\n",
    "\n",
    "    valid_loss(v_loss)\n",
    "    valid_acc(labels, predictions)"
   ]
  },
  {
   "cell_type": "code",
   "execution_count": 0,
   "metadata": {
    "colab": {},
    "colab_type": "code",
    "id": "jleWU_WoPXfN"
   },
   "outputs": [],
   "source": [
    "# A shallow Convnet\n",
    "model = get_training_model()"
   ]
  },
  {
   "cell_type": "code",
   "execution_count": 0,
   "metadata": {
    "colab": {},
    "colab_type": "code",
    "id": "946iV6qSXZXo"
   },
   "outputs": [],
   "source": [
    "# Grab random images from the test and make predictions using \n",
    "# the model *while it is training* and log them using WnB\n",
    "def get_sample_predictions():\n",
    "    predictions = []\n",
    "    images = []\n",
    "    random_indices = np.random.choice(X_test.shape[0], 25)\n",
    "    for index in random_indices:\n",
    "        image = X_test[index].reshape(1, 28, 28, 1)\n",
    "        prediction = np.argmax(model(image).numpy(), axis=1)\n",
    "        prediction = CLASSES[int(prediction)]\n",
    "        \n",
    "        images.append(image)\n",
    "        predictions.append(prediction)\n",
    "    \n",
    "    wandb.log({\"predictions\": [wandb.Image(image, caption=prediction) \n",
    "                               for (image, prediction) in zip(images, predictions)]})"
   ]
  },
  {
   "cell_type": "code",
   "execution_count": 0,
   "metadata": {
    "colab": {
     "base_uri": "https://localhost:8080/",
     "height": 102
    },
    "colab_type": "code",
    "id": "yZE9_IhjL4lM",
    "outputId": "8b4f3f61-5a85-4128-bf33-ea7753b4ab19",
    "scrolled": false
   },
   "outputs": [
    {
     "name": "stdout",
     "output_type": "stream",
     "text": [
      "Epoch 1.000, loss: 0.544, acc: 0.802, val_loss: 0.429, val_acc: 0.845\n",
      "Epoch 2.000, loss: 0.361, acc: 0.871, val_loss: 0.377, val_acc: 0.860\n",
      "Epoch 3.000, loss: 0.309, acc: 0.888, val_loss: 0.351, val_acc: 0.869\n",
      "Epoch 4.000, loss: 0.277, acc: 0.899, val_loss: 0.336, val_acc: 0.873\n",
      "Epoch 5.000, loss: 0.252, acc: 0.908, val_loss: 0.323, val_acc: 0.882\n"
     ]
    }
   ],
   "source": [
    "# Train the model for 5 epochs\n",
    "for epoch in range(5):\n",
    "    # Run the model through train and test sets respectively\n",
    "    for (features, labels) in train_ds:\n",
    "        model_train(features, labels)\n",
    "\n",
    "    for test_features, test_labels in test_ds:\n",
    "        model_validate(test_features, test_labels)\n",
    "        \n",
    "    # Grab the results\n",
    "    (loss, acc) = train_loss.result(), train_acc.result()\n",
    "    (val_loss, val_acc) = valid_loss.result(), valid_acc.result()\n",
    "    \n",
    "    # Clear the current state of the metrics\n",
    "    train_loss.reset_states(), train_acc.reset_states()\n",
    "    valid_loss.reset_states(), valid_acc.reset_states()\n",
    "    \n",
    "    # Local logging\n",
    "    template = \"Epoch {}, loss: {:.3f}, acc: {:.3f}, val_loss: {:.3f}, val_acc: {:.3f}\"\n",
    "    print (template.format(epoch+1,\n",
    "                         loss,\n",
    "                         acc,\n",
    "                         val_loss,\n",
    "                         val_acc))\n",
    "    \n",
    "    # Logging with WnB\n",
    "    wandb.log({\"train_loss\": loss.numpy(),\n",
    "               \"train_accuracy\": acc.numpy(),\n",
    "               \"val_loss\": val_loss.numpy(),\n",
    "               \"val_accuracy\": val_acc.numpy()\n",
    "    })\n",
    "    get_sample_predictions()"
   ]
  }
 ],
 "metadata": {
  "accelerator": "GPU",
  "colab": {
   "collapsed_sections": [],
   "name": "Custom_TF_Training_Loops_WnB.ipynb",
   "provenance": []
  },
  "kernelspec": {
   "display_name": "Python 3",
   "language": "python",
   "name": "python3"
  },
  "language_info": {
   "codemirror_mode": {
    "name": "ipython",
    "version": 3
   },
   "file_extension": ".py",
   "mimetype": "text/x-python",
   "name": "python",
   "nbconvert_exporter": "python",
   "pygments_lexer": "ipython3",
   "version": "3.7.4"
  }
 },
 "nbformat": 4,
 "nbformat_minor": 1
}
