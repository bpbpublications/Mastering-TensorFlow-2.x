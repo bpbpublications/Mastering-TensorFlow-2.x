{
  "nbformat": 4,
  "nbformat_minor": 0,
  "metadata": {
    "accelerator": "GPU",
    "colab": {
      "name": "Custom_TF_Training_Loops_WnB.ipynb",
      "provenance": [],
      "collapsed_sections": [],
      "include_colab_link": true
    },
    "kernelspec": {
      "display_name": "Python 3",
      "language": "python",
      "name": "python3"
    },
    "language_info": {
      "codemirror_mode": {
        "name": "ipython",
        "version": 3
      },
      "file_extension": ".py",
      "mimetype": "text/x-python",
      "name": "python",
      "nbconvert_exporter": "python",
      "pygments_lexer": "ipython3",
      "version": "3.7.4"
    }
  },
  "cells": [
    {
      "cell_type": "markdown",
      "metadata": {
        "id": "view-in-github",
        "colab_type": "text"
      },
      "source": [
        "<a href=\"https://colab.research.google.com/github/rajdeepd/tensorflow_2.0_book_code/blob/master/ch03/custom_TF_training_loops.ipynb\" target=\"_parent\"><img src=\"https://colab.research.google.com/assets/colab-badge.svg\" alt=\"Open In Colab\"/></a>"
      ]
    },
    {
      "cell_type": "code",
      "metadata": {
        "id": "pfi5G8ZWDeox"
      },
      "source": [
        "# Primary imports\n",
        "import tensorflow as tf\n",
        "import numpy as np"
      ],
      "execution_count": 1,
      "outputs": []
    },
    {
      "cell_type": "code",
      "metadata": {
        "colab": {
          "base_uri": "https://localhost:8080/"
        },
        "id": "UUK3cHkqDovW",
        "outputId": "02abd1fd-6406-4fb8-bf42-7bf7c42ac4ce"
      },
      "source": [
        "print(tf.__version__)"
      ],
      "execution_count": 2,
      "outputs": [
        {
          "output_type": "stream",
          "name": "stdout",
          "text": [
            "2.6.0\n"
          ]
        }
      ]
    },
    {
      "cell_type": "code",
      "metadata": {
        "colab": {
          "base_uri": "https://localhost:8080/"
        },
        "id": "-TkzuZXSD_MN",
        "outputId": "6f3f6fe0-0ae1-426b-ef1c-64c4868c37aa"
      },
      "source": [
        "# Load the FashionMNIST dataset, scale the pixel values\n",
        "(X_train, y_train), (X_test, y_test) = tf.keras.datasets.fashion_mnist.load_data()\n",
        "X_train = X_train/255.\n",
        "X_test = X_test/255.\n",
        "\n",
        "X_train.shape, X_test.shape, y_train.shape, y_test.shape"
      ],
      "execution_count": 3,
      "outputs": [
        {
          "output_type": "stream",
          "name": "stdout",
          "text": [
            "Downloading data from https://storage.googleapis.com/tensorflow/tf-keras-datasets/train-labels-idx1-ubyte.gz\n",
            "32768/29515 [=================================] - 0s 0us/step\n",
            "40960/29515 [=========================================] - 0s 0us/step\n",
            "Downloading data from https://storage.googleapis.com/tensorflow/tf-keras-datasets/train-images-idx3-ubyte.gz\n",
            "26427392/26421880 [==============================] - 0s 0us/step\n",
            "26435584/26421880 [==============================] - 0s 0us/step\n",
            "Downloading data from https://storage.googleapis.com/tensorflow/tf-keras-datasets/t10k-labels-idx1-ubyte.gz\n",
            "16384/5148 [===============================================================================================] - 0s 0us/step\n",
            "Downloading data from https://storage.googleapis.com/tensorflow/tf-keras-datasets/t10k-images-idx3-ubyte.gz\n",
            "4423680/4422102 [==============================] - 0s 0us/step\n",
            "4431872/4422102 [==============================] - 0s 0us/step\n"
          ]
        },
        {
          "output_type": "execute_result",
          "data": {
            "text/plain": [
              "((60000, 28, 28), (10000, 28, 28), (60000,), (10000,))"
            ]
          },
          "metadata": {},
          "execution_count": 3
        }
      ]
    },
    {
      "cell_type": "code",
      "metadata": {
        "id": "uNfUBY4mErkY"
      },
      "source": [
        "# Define the labels of the dataset\n",
        "CLASSES=[\"T-shirt/top\",\"Trouser\",\"Pullover\",\"Dress\",\"Coat\",\n",
        "        \"Sandal\",\"Shirt\",\"Sneaker\",\"Bag\",\"Ankle boot\"]"
      ],
      "execution_count": 4,
      "outputs": []
    },
    {
      "cell_type": "code",
      "metadata": {
        "id": "ofiUxCQpEu0p"
      },
      "source": [
        "# Change the pixel values to float32 and reshape input data\n",
        "X_train = X_train.astype(\"float32\").reshape(-1, 28, 28, 1)\n",
        "X_test = X_test.astype(\"float32\").reshape(-1, 28, 28, 1)"
      ],
      "execution_count": 5,
      "outputs": []
    },
    {
      "cell_type": "code",
      "metadata": {
        "colab": {
          "base_uri": "https://localhost:8080/"
        },
        "id": "vWsjTjvwLVvL",
        "outputId": "3894cd2e-6551-47f0-dafb-9d68b069c9dc"
      },
      "source": [
        "y_train.shape, y_test.shape"
      ],
      "execution_count": 6,
      "outputs": [
        {
          "output_type": "execute_result",
          "data": {
            "text/plain": [
              "((60000,), (10000,))"
            ]
          },
          "metadata": {},
          "execution_count": 6
        }
      ]
    },
    {
      "cell_type": "code",
      "metadata": {
        "id": "jA2ES9N7FOo4"
      },
      "source": [
        "# TensorFlow imports\n",
        "from tensorflow.keras.models import *\n",
        "from tensorflow.keras.layers import *"
      ],
      "execution_count": 7,
      "outputs": []
    },
    {
      "cell_type": "code",
      "metadata": {
        "id": "UMXRRKcbE9vE"
      },
      "source": [
        "# Define utility function for building a basic shallow Convnet \n",
        "def get_training_model():\n",
        "    model = Sequential()\n",
        "    model.add(Conv2D(16, (5, 5), activation=\"relu\",\n",
        "        input_shape=(28, 28,1)))\n",
        "    model.add(MaxPooling2D(pool_size=(2, 2)))\n",
        "    model.add(Conv2D(32, (5, 5), activation=\"relu\"))\n",
        "    model.add(MaxPooling2D(pool_size=(2, 2)))\n",
        "    model.add(Dropout(0.2))\n",
        "    model.add(Flatten())\n",
        "    model.add(Dense(128, activation=\"relu\"))\n",
        "    model.add(Dense(len(CLASSES), activation=\"softmax\"))\n",
        "    \n",
        "    return model"
      ],
      "execution_count": 8,
      "outputs": []
    },
    {
      "cell_type": "code",
      "metadata": {
        "id": "DDXOr6FhFvXw"
      },
      "source": [
        "# Define loass function and optimizer\n",
        "loss_func = tf.keras.losses.SparseCategoricalCrossentropy()\n",
        "optimizer = tf.keras.optimizers.Adam()"
      ],
      "execution_count": 9,
      "outputs": []
    },
    {
      "cell_type": "code",
      "metadata": {
        "id": "uXfw22IZF5Rw"
      },
      "source": [
        "# Average the loss across the batch size within an epoch\n",
        "train_loss = tf.keras.metrics.Mean(name=\"train_loss\")\n",
        "valid_loss = tf.keras.metrics.Mean(name=\"test_loss\")\n",
        "\n",
        "# Specify the performance metric\n",
        "train_acc = tf.keras.metrics.SparseCategoricalAccuracy(name=\"train_acc\")\n",
        "valid_acc = tf.keras.metrics.SparseCategoricalAccuracy(name=\"valid_acc\")"
      ],
      "execution_count": 10,
      "outputs": []
    },
    {
      "cell_type": "code",
      "metadata": {
        "id": "w_CcwaadLI8e"
      },
      "source": [
        "# Batches of 64\n",
        "train_ds = tf.data.Dataset.from_tensor_slices((X_train, y_train)).batch(64)\n",
        "test_ds = tf.data.Dataset.from_tensor_slices((X_test, y_test)).batch(64)"
      ],
      "execution_count": 11,
      "outputs": []
    },
    {
      "cell_type": "code",
      "metadata": {
        "id": "-JgN5TWzLroE"
      },
      "source": [
        "# Train the model\n",
        "@tf.function\n",
        "def model_train(features, labels):\n",
        "    # Define the GradientTape context\n",
        "    with tf.GradientTape() as tape:\n",
        "        # Get the probabilities\n",
        "        predictions = model(features)\n",
        "        # Calculate the loss\n",
        "        loss = loss_func(labels, predictions)\n",
        "    # Get the gradients\n",
        "    gradients = tape.gradient(loss, model.trainable_variables)\n",
        "    # Update the weights\n",
        "    optimizer.apply_gradients(zip(gradients, model.trainable_variables))\n",
        "\n",
        "    # Update the loss and accuracy\n",
        "    train_loss(loss)\n",
        "    train_acc(labels, predictions)"
      ],
      "execution_count": 12,
      "outputs": []
    },
    {
      "cell_type": "code",
      "metadata": {
        "id": "LBPBn762LwZ1"
      },
      "source": [
        "# Validating the model\n",
        "@tf.function\n",
        "def model_validate(features, labels):\n",
        "    predictions = model(features)\n",
        "    v_loss = loss_func(labels, predictions)\n",
        "\n",
        "    valid_loss(v_loss)\n",
        "    valid_acc(labels, predictions)"
      ],
      "execution_count": 13,
      "outputs": []
    },
    {
      "cell_type": "code",
      "metadata": {
        "id": "jleWU_WoPXfN"
      },
      "source": [
        "# A shallow Convnet\n",
        "model = get_training_model()"
      ],
      "execution_count": 14,
      "outputs": []
    },
    {
      "cell_type": "code",
      "metadata": {
        "id": "946iV6qSXZXo"
      },
      "source": [
        "# Grab random images from the test and make predictions using \n",
        "# the model *while it is training* and log them using WnB\n",
        "def get_sample_predictions():\n",
        "    predictions = []\n",
        "    images = []\n",
        "    random_indices = np.random.choice(X_test.shape[0], 25)\n",
        "    for index in random_indices:\n",
        "        image = X_test[index].reshape(1, 28, 28, 1)\n",
        "        prediction = np.argmax(model(image).numpy(), axis=1)\n",
        "        prediction = CLASSES[int(prediction)]\n",
        "        \n",
        "        images.append(image)\n",
        "        predictions.append(prediction)\n",
        "    \n",
        "    #wandb.log({\"predictions\": [wandb.Image(image, caption=prediction) \n",
        "    #                           for (image, prediction) in zip(images, predictions)]})"
      ],
      "execution_count": 15,
      "outputs": []
    },
    {
      "cell_type": "code",
      "metadata": {
        "colab": {
          "base_uri": "https://localhost:8080/"
        },
        "id": "yZE9_IhjL4lM",
        "scrolled": false,
        "outputId": "3cb8c06d-dbd0-46f1-e6f5-f8a85c597488"
      },
      "source": [
        "# Train the model for 5 epochs\n",
        "for epoch in range(5):\n",
        "    # Run the model through train and test sets respectively\n",
        "    for (features, labels) in train_ds:\n",
        "        model_train(features, labels)\n",
        "\n",
        "    for test_features, test_labels in test_ds:\n",
        "        model_validate(test_features, test_labels)\n",
        "        \n",
        "    # Grab the results\n",
        "    (loss, acc) = train_loss.result(), train_acc.result()\n",
        "    (val_loss, val_acc) = valid_loss.result(), valid_acc.result()\n",
        "    \n",
        "    # Clear the current state of the metrics\n",
        "    train_loss.reset_states(), train_acc.reset_states()\n",
        "    valid_loss.reset_states(), valid_acc.reset_states()\n",
        "    \n",
        "    # Local logging\n",
        "    template = \"Epoch {}, loss: {:.3f}, acc: {:.3f}, val_loss: {:.3f}, val_acc: {:.3f}\"\n",
        "    print (template.format(epoch+1,\n",
        "                         loss,\n",
        "                         acc,\n",
        "                         val_loss,\n",
        "                         val_acc))\n",
        "    \n",
        "    get_sample_predictions()"
      ],
      "execution_count": 16,
      "outputs": [
        {
          "output_type": "stream",
          "name": "stdout",
          "text": [
            "Epoch 1, loss: 0.543, acc: 0.805, val_loss: 0.422, val_acc: 0.849\n",
            "Epoch 2, loss: 0.355, acc: 0.873, val_loss: 0.373, val_acc: 0.865\n",
            "Epoch 3, loss: 0.305, acc: 0.889, val_loss: 0.346, val_acc: 0.876\n",
            "Epoch 4, loss: 0.275, acc: 0.899, val_loss: 0.332, val_acc: 0.880\n",
            "Epoch 5, loss: 0.252, acc: 0.907, val_loss: 0.319, val_acc: 0.884\n"
          ]
        }
      ]
    },
    {
      "cell_type": "code",
      "metadata": {
        "id": "1MtHl_cggzdS"
      },
      "source": [
        ""
      ],
      "execution_count": null,
      "outputs": []
    }
  ]
}