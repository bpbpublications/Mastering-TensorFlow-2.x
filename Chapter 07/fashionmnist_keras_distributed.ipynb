{
 "cells": [
  {
   "cell_type": "markdown",
   "metadata": {},
   "source": [
    "# Distributed Training with Keras"
   ]
  },
  {
   "cell_type": "markdown",
   "metadata": {},
   "source": [
    "## Import dependencies"
   ]
  },
  {
   "cell_type": "code",
   "execution_count": 5,
   "metadata": {},
   "outputs": [
    {
     "name": "stdout",
     "output_type": "stream",
     "text": [
      "2.3.0\n"
     ]
    }
   ],
   "source": [
    "import tensorflow_datasets as tfds\n",
    "import tensorflow as tf\n",
    "from tensorflow import keras\n",
    "\n",
    "import os\n",
    "print(tf.__version__)"
   ]
  },
  {
   "cell_type": "markdown",
   "metadata": {},
   "source": [
    "## Dataset - Fashion MNIST"
   ]
  },
  {
   "cell_type": "code",
   "execution_count": 6,
   "metadata": {},
   "outputs": [],
   "source": [
    "#datasets, info = tfds.load(name='mnist', with_info=True, as_supervised=True)\n",
    "#mnist_train, mnist_test = datasets['train'], datasets['test']\n",
    "\n",
    "fashion_mnist = keras.datasets.fashion_mnist\n",
    "(train_images, train_labels), (test_images, test_labels) = fashion_mnist.load_data()"
   ]
  },
  {
   "cell_type": "markdown",
   "metadata": {},
   "source": [
    "## Define a distribution Strategy"
   ]
  },
  {
   "cell_type": "code",
   "execution_count": 8,
   "metadata": {},
   "outputs": [
    {
     "name": "stdout",
     "output_type": "stream",
     "text": [
      "WARNING:tensorflow:There are non-GPU devices in `tf.distribute.Strategy`, not using nccl allreduce.\n",
      "INFO:tensorflow:Using MirroredStrategy with devices ('/job:localhost/replica:0/task:0/device:CPU:0',)\n"
     ]
    }
   ],
   "source": [
    "strategy = tf.distribute.MirroredStrategy()"
   ]
  },
  {
   "cell_type": "code",
   "execution_count": 9,
   "metadata": {},
   "outputs": [
    {
     "name": "stdout",
     "output_type": "stream",
     "text": [
      "Number of devices: 1\n"
     ]
    }
   ],
   "source": [
    "print('Number of devices: {}'.format(strategy.num_replicas_in_sync))"
   ]
  },
  {
   "cell_type": "code",
   "execution_count": 11,
   "metadata": {},
   "outputs": [
    {
     "name": "stdout",
     "output_type": "stream",
     "text": [
      "60000\n",
      "10000\n"
     ]
    }
   ],
   "source": [
    "num_train_examples = len(train_images)#info.splits['train'].num_examples\n",
    "print(num_train_examples)\n",
    "num_test_examples = len(test_images)   #info.splits['test'].num_examples\n",
    "print(num_test_examples)\n",
    "\n",
    "BUFFER_SIZE = 10000\n",
    "\n",
    "BATCH_SIZE_PER_REPLICA = 64\n",
    "BATCH_SIZE = BATCH_SIZE_PER_REPLICA * strategy.num_replicas_in_sync"
   ]
  },
  {
   "cell_type": "code",
   "execution_count": 13,
   "metadata": {},
   "outputs": [],
   "source": [
    "#train_dataset = train_images.map(scale).cache().shuffle(BUFFER_SIZE).batch(BATCH_SIZE)\n",
    "#eval_dataset = test_images.map(scale).batch(BATCH_SIZE)"
   ]
  },
  {
   "cell_type": "code",
   "execution_count": 14,
   "metadata": {},
   "outputs": [],
   "source": [
    "class_names = ['T-shirt/top', 'Trouser', 'Pullover', 'Dress', 'Coat',\n",
    "               'Sandal', 'Shirt', 'Sneaker', 'Bag', 'Ankle boot']"
   ]
  },
  {
   "cell_type": "code",
   "execution_count": 53,
   "metadata": {},
   "outputs": [],
   "source": [
    "with strategy.scope():\n",
    "  model = keras.Sequential([\n",
    "        keras.layers.Flatten(input_shape=(28, 28)),\n",
    "        keras.layers.Dense(128, activation='relu'),\n",
    "        keras.layers.Dense(10)\n",
    "  ])\n",
    "\n",
    "  model.compile(loss=tf.keras.losses.SparseCategoricalCrossentropy(from_logits=True),\n",
    "                optimizer='adam',\n",
    "                metrics=['accuracy'])"
   ]
  },
  {
   "cell_type": "code",
   "execution_count": 54,
   "metadata": {},
   "outputs": [],
   "source": [
    "# Define the checkpoint directory to store the checkpoints\n",
    "\n",
    "checkpoint_dir = './training_checkpoints'\n",
    "# Name of the checkpoint files\n",
    "checkpoint_prefix = os.path.join(checkpoint_dir, \"ckpt_{epoch}\")"
   ]
  },
  {
   "cell_type": "code",
   "execution_count": 55,
   "metadata": {},
   "outputs": [],
   "source": [
    "# Function for decaying the learning rate.\n",
    "# You can define any decay function you need.\n",
    "def decay(epoch):\n",
    "  if epoch < 3:\n",
    "    return 1e-3\n",
    "  elif epoch >= 3 and epoch < 7:\n",
    "    return 1e-4\n",
    "  else:\n",
    "    return 1e-5"
   ]
  },
  {
   "cell_type": "code",
   "execution_count": 56,
   "metadata": {},
   "outputs": [],
   "source": [
    "class PrintLR(tf.keras.callbacks.Callback):\n",
    "  def on_epoch_end(self, epoch, logs=None):\n",
    "    print('\\nLearning rate for epoch {} is {}'.format(epoch + 1,\n",
    "                                                      model.optimizer.lr.numpy()))"
   ]
  },
  {
   "cell_type": "code",
   "execution_count": 57,
   "metadata": {},
   "outputs": [],
   "source": [
    "from tensorflow.keras.callbacks import ModelCheckpoint\n",
    "\n",
    "#checkpoint = ModelCheckpoint(ckpt_model, \n",
    "#                            monitor='val_accuracy',\n",
    "#                            verbose=1,\n",
    "#                            save_best_only=True,\n",
    "#                            mode='max')"
   ]
  },
  {
   "cell_type": "code",
   "execution_count": 58,
   "metadata": {},
   "outputs": [],
   "source": [
    "callbacks = [\n",
    "    tf.keras.callbacks.TensorBoard(log_dir='./logs'),\n",
    "    tf.keras.callbacks.ModelCheckpoint(filepath=checkpoint_prefix,\n",
    "                                       save_weights_only=True),\n",
    "    tf.keras.callbacks.LearningRateScheduler(decay),\n",
    "    PrintLR()\n",
    "]"
   ]
  },
  {
   "cell_type": "code",
   "execution_count": 64,
   "metadata": {},
   "outputs": [
    {
     "name": "stdout",
     "output_type": "stream",
     "text": [
      "Epoch 1/15\n",
      "   1/1875 [..............................] - ETA: 0s - loss: 0.6464 - accuracy: 0.8125WARNING:tensorflow:Callbacks method `on_train_batch_end` is slow compared to the batch time (batch time: 0.0010s vs `on_train_batch_end` time: 0.0159s). Check your callbacks.\n",
      "1840/1875 [============================>.] - ETA: 0s - loss: 0.5935 - accuracy: 0.7878 ETA: 0s - loss: 0.6025 - accu\n",
      "Learning rate for epoch 1 is 0.0010000000474974513\n",
      "1875/1875 [==============================] - 2s 1ms/step - loss: 0.5930 - accuracy: 0.7878 - val_loss: 0.5607 - val_accuracy: 0.8050\n",
      "Epoch 2/15\n",
      "1835/1875 [============================>.] - ETA: 0s - loss: 0.5369 - accuracy: 0.8128\n",
      "Learning rate for epoch 2 is 0.0010000000474974513\n",
      "1875/1875 [==============================] - 2s 1ms/step - loss: 0.5362 - accuracy: 0.8129 - val_loss: 0.5793 - val_accuracy: 0.8014\n",
      "Epoch 3/15\n",
      "1840/1875 [============================>.] - ETA: 0s - loss: 0.5291 - accuracy: 0.8174\n",
      "Learning rate for epoch 3 is 0.0010000000474974513\n",
      "1875/1875 [==============================] - 2s 1ms/step - loss: 0.5296 - accuracy: 0.8171 - val_loss: 0.6655 - val_accuracy: 0.7981\n",
      "Epoch 4/15\n",
      "1844/1875 [============================>.] - ETA: 0s - loss: 0.4334 - accuracy: 0.8484\n",
      "Learning rate for epoch 4 is 9.999999747378752e-05\n",
      "1875/1875 [==============================] - 2s 1ms/step - loss: 0.4327 - accuracy: 0.8485 - val_loss: 0.4920 - val_accuracy: 0.8374\n",
      "Epoch 5/15\n",
      "1868/1875 [============================>.] - ETA: 0s - loss: 0.4155 - accuracy: 0.8540\n",
      "Learning rate for epoch 5 is 9.999999747378752e-05\n",
      "1875/1875 [==============================] - 2s 1ms/step - loss: 0.4151 - accuracy: 0.8541 - val_loss: 0.4790 - val_accuracy: 0.8405\n",
      "Epoch 6/15\n",
      "1845/1875 [============================>.] - ETA: 0s - loss: 0.4064 - accuracy: 0.8560\n",
      "Learning rate for epoch 6 is 9.999999747378752e-05\n",
      "1875/1875 [==============================] - 2s 1ms/step - loss: 0.4063 - accuracy: 0.8561 - val_loss: 0.4781 - val_accuracy: 0.8391\n",
      "Epoch 7/15\n",
      "1834/1875 [============================>.] - ETA: 0s - loss: 0.4001 - accuracy: 0.8579\n",
      "Learning rate for epoch 7 is 9.999999747378752e-05\n",
      "1875/1875 [==============================] - 3s 1ms/step - loss: 0.4004 - accuracy: 0.8577 - val_loss: 0.4722 - val_accuracy: 0.8430\n",
      "Epoch 8/15\n",
      "1848/1875 [============================>.] - ETA: 0s - loss: 0.3866 - accuracy: 0.8628\n",
      "Learning rate for epoch 8 is 9.999999747378752e-06\n",
      "1875/1875 [==============================] - 2s 1ms/step - loss: 0.3870 - accuracy: 0.8626 - val_loss: 0.4655 - val_accuracy: 0.8450\n",
      "Epoch 9/15\n",
      "1839/1875 [============================>.] - ETA: 0s - loss: 0.3844 - accuracy: 0.8624\n",
      "Learning rate for epoch 9 is 9.999999747378752e-06\n",
      "1875/1875 [==============================] - 2s 1ms/step - loss: 0.3844 - accuracy: 0.8626 - val_loss: 0.4652 - val_accuracy: 0.8450\n",
      "Epoch 10/15\n",
      "1852/1875 [============================>.] - ETA: 0s - loss: 0.3833 - accuracy: 0.8632\n",
      "Learning rate for epoch 10 is 9.999999747378752e-06\n",
      "1875/1875 [==============================] - 2s 1ms/step - loss: 0.3833 - accuracy: 0.8633 - val_loss: 0.4637 - val_accuracy: 0.8448\n",
      "Epoch 11/15\n",
      "1865/1875 [============================>.] - ETA: 0s - loss: 0.3820 - accuracy: 0.8626\n",
      "Learning rate for epoch 11 is 9.999999747378752e-06\n",
      "1875/1875 [==============================] - 2s 1ms/step - loss: 0.3824 - accuracy: 0.8626 - val_loss: 0.4652 - val_accuracy: 0.8456\n",
      "Epoch 12/15\n",
      "1859/1875 [============================>.] - ETA: 0s - loss: 0.3814 - accuracy: 0.8633\n",
      "Learning rate for epoch 12 is 9.999999747378752e-06\n",
      "1875/1875 [==============================] - 3s 1ms/step - loss: 0.3816 - accuracy: 0.8632 - val_loss: 0.4635 - val_accuracy: 0.8452\n",
      "Epoch 13/15\n",
      "1867/1875 [============================>.] - ETA: 0s - loss: 0.3810 - accuracy: 0.8637\n",
      "Learning rate for epoch 13 is 9.999999747378752e-06\n",
      "1875/1875 [==============================] - 2s 1ms/step - loss: 0.3809 - accuracy: 0.8636 - val_loss: 0.4642 - val_accuracy: 0.8462\n",
      "Epoch 14/15\n",
      "1849/1875 [============================>.] - ETA: 0s - loss: 0.3801 - accuracy: 0.8639\n",
      "Learning rate for epoch 14 is 9.999999747378752e-06\n",
      "1875/1875 [==============================] - 2s 1ms/step - loss: 0.3801 - accuracy: 0.8638 - val_loss: 0.4642 - val_accuracy: 0.8452\n",
      "Epoch 15/15\n",
      "1858/1875 [============================>.] - ETA: 0s - loss: 0.3798 - accuracy: 0.8639\n",
      "Learning rate for epoch 15 is 9.999999747378752e-06\n",
      "1875/1875 [==============================] - 2s 1ms/step - loss: 0.3793 - accuracy: 0.8642 - val_loss: 0.4642 - val_accuracy: 0.8471\n"
     ]
    }
   ],
   "source": [
    "#model.fit(train_dataset, epochs=12, callbacks=callbacks)\n",
    "history = model.fit(train_images, train_labels,validation_data=(test_images, test_labels), \n",
    "                    epochs=15,callbacks=callbacks)"
   ]
  },
  {
   "cell_type": "code",
   "execution_count": 70,
   "metadata": {},
   "outputs": [
    {
     "data": {
      "text/plain": [
       "<function dict.keys>"
      ]
     },
     "execution_count": 70,
     "metadata": {},
     "output_type": "execute_result"
    }
   ],
   "source": [
    "history.history.keys"
   ]
  },
  {
   "cell_type": "code",
   "execution_count": 67,
   "metadata": {},
   "outputs": [
    {
     "data": {
      "image/png": "[encoded data removed]",
      "text/plain": [
       "<Figure size 432x288 with 1 Axes>"
      ]
     },
     "metadata": {
      "needs_background": "light"
     },
     "output_type": "display_data"
    }
   ],
   "source": [
    "import matplotlib.pyplot as plt\n",
    "%matplotlib inline\n",
    "\n",
    "plt.plot(history.history['accuracy'])\n",
    "plt.plot(history.history['val_accuracy'])\n",
    "plt.title('Model Accuracy')\n",
    "plt.ylabel('accuracy')\n",
    "plt.xlabel('epoch')\n",
    "plt.legend(['train', 'test'])\n",
    "plt.show()"
   ]
  },
  {
   "cell_type": "code",
   "execution_count": 68,
   "metadata": {},
   "outputs": [
    {
     "data": {
      "image/png": "[encoded data removed]",
      "text/plain": [
       "<Figure size 432x288 with 1 Axes>"
      ]
     },
     "metadata": {
      "needs_background": "light"
     },
     "output_type": "display_data"
    }
   ],
   "source": [
    "plt.plot(history.history['loss'])\n",
    "plt.plot(history.history['val_loss'])\n",
    "plt.title('Model Loss')\n",
    "plt.ylabel('Loss')\n",
    "plt.xlabel('epoch')\n",
    "plt.legend(['train', 'test'])\n",
    "plt.show()"
   ]
  },
  {
   "cell_type": "code",
   "execution_count": null,
   "metadata": {},
   "outputs": [],
   "source": []
  }
 ],
 "metadata": {
  "kernelspec": {
   "display_name": "Python 3",
   "language": "python",
   "name": "python3"
  },
  "language_info": {
   "codemirror_mode": {
    "name": "ipython",
    "version": 3
   },
   "file_extension": ".py",
   "mimetype": "text/x-python",
   "name": "python",
   "nbconvert_exporter": "python",
   "pygments_lexer": "ipython3",
   "version": "3.7.3"
  }
 },
 "nbformat": 4,
 "nbformat_minor": 4
}
