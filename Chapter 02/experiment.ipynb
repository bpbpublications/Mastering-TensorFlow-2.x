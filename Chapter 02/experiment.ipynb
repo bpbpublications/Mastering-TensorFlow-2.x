{
 "cells": [
  {
   "cell_type": "code",
   "execution_count": 2,
   "metadata": {},
   "outputs": [],
   "source": [
    "import numpy as np\n",
    "#y = -log(x)"
   ]
  },
  {
   "cell_type": "code",
   "execution_count": 35,
   "metadata": {},
   "outputs": [],
   "source": [
    "x = [1,2,3,4,5,6,7,8,9,10]\n",
    "y = -np.log(x)"
   ]
  },
  {
   "cell_type": "code",
   "execution_count": 36,
   "metadata": {},
   "outputs": [
    {
     "data": {
      "text/plain": [
       "array([-0.        , -0.69314718, -1.09861229, -1.38629436, -1.60943791,\n",
       "       -1.79175947, -1.94591015, -2.07944154, -2.19722458, -2.30258509])"
      ]
     },
     "execution_count": 36,
     "metadata": {},
     "output_type": "execute_result"
    }
   ],
   "source": [
    "y"
   ]
  },
  {
   "cell_type": "code",
   "execution_count": 37,
   "metadata": {},
   "outputs": [
    {
     "data": {
      "text/plain": [
       "[<matplotlib.lines.Line2D at 0x7fe5c8960e10>]"
      ]
     },
     "execution_count": 37,
     "metadata": {},
     "output_type": "execute_result"
    },
    {
     "data": {
      "image/png": "[encoded data removed]",
      "text/plain": [
       "<Figure size 432x288 with 1 Axes>"
      ]
     },
     "metadata": {
      "needs_background": "light"
     },
     "output_type": "display_data"
    }
   ],
   "source": [
    "import matplotlib.pyplot as plt\n",
    "%matplotlib inline\n",
    "\n",
    "plt.plot(x,y)"
   ]
  },
  {
   "cell_type": "markdown",
   "metadata": {},
   "source": []
  },
  {
   "cell_type": "code",
   "execution_count": 38,
   "metadata": {},
   "outputs": [
    {
     "data": {
      "text/plain": [
       "array([   2,    4,    8,   16,   32,   64,  128,  256,  512, 1024])"
      ]
     },
     "execution_count": 38,
     "metadata": {},
     "output_type": "execute_result"
    }
   ],
   "source": [
    "y2 = np.power(2,x)\n",
    "y2"
   ]
  },
  {
   "cell_type": "code",
   "execution_count": 41,
   "metadata": {},
   "outputs": [
    {
     "data": {
      "text/plain": [
       "array([5.e-01, 5.e-02, 5.e-03, 5.e-04, 5.e-05, 5.e-06, 5.e-07, 5.e-08,\n",
       "       5.e-09, 5.e-10])"
      ]
     },
     "execution_count": 41,
     "metadata": {},
     "output_type": "execute_result"
    }
   ],
   "source": [
    "y3 = 1/np.power(10,x)*5\n",
    "y3"
   ]
  },
  {
   "cell_type": "code",
   "execution_count": 42,
   "metadata": {},
   "outputs": [
    {
     "data": {
      "text/plain": [
       "[<matplotlib.lines.Line2D at 0x7fe5d0ca82d0>]"
      ]
     },
     "execution_count": 42,
     "metadata": {},
     "output_type": "execute_result"
    },
    {
     "data": {
      "image/png": "[encoded data removed]",
      "text/plain": [
       "<Figure size 432x288 with 1 Axes>"
      ]
     },
     "metadata": {
      "needs_background": "light"
     },
     "output_type": "display_data"
    }
   ],
   "source": [
    "plt.plot(x,y3)"
   ]
  },
  {
   "cell_type": "code",
   "execution_count": 44,
   "metadata": {},
   "outputs": [
    {
     "data": {
      "text/plain": [
       "array([  1.,   2.,   3.,   4.,   5.,   6.,   7.,   8.,   9.,  10.,  11.,\n",
       "        12.,  13.,  14.,  15.,  16.,  17.,  18.,  19.,  20.,  21.,  22.,\n",
       "        23.,  24.,  25.,  26.,  27.,  28.,  29.,  30.,  31.,  32.,  33.,\n",
       "        34.,  35.,  36.,  37.,  38.,  39.,  40.,  41.,  42.,  43.,  44.,\n",
       "        45.,  46.,  47.,  48.,  49.,  50.,  51.,  52.,  53.,  54.,  55.,\n",
       "        56.,  57.,  58.,  59.,  60.,  61.,  62.,  63.,  64.,  65.,  66.,\n",
       "        67.,  68.,  69.,  70.,  71.,  72.,  73.,  74.,  75.,  76.,  77.,\n",
       "        78.,  79.,  80.,  81.,  82.,  83.,  84.,  85.,  86.,  87.,  88.,\n",
       "        89.,  90.,  91.,  92.,  93.,  94.,  95.,  96.,  97.,  98.,  99.,\n",
       "       100.])"
      ]
     },
     "execution_count": 44,
     "metadata": {},
     "output_type": "execute_result"
    }
   ],
   "source": [
    "x2 = np.linspace(1.0, 100.0, num=100)\n",
    "x2"
   ]
  },
  {
   "cell_type": "code",
   "execution_count": 54,
   "metadata": {},
   "outputs": [
    {
     "data": {
      "text/plain": [
       "array([6.66666667e+01, 4.44444444e+01, 2.96296296e+01, 1.97530864e+01,\n",
       "       1.31687243e+01, 8.77914952e+00, 5.85276635e+00, 3.90184423e+00,\n",
       "       2.60122949e+00, 1.73415299e+00, 1.15610199e+00, 7.70734663e-01,\n",
       "       5.13823109e-01, 3.42548739e-01, 2.28365826e-01, 1.52243884e-01,\n",
       "       1.01495923e-01, 6.76639485e-02, 4.51092990e-02, 3.00728660e-02,\n",
       "       2.00485773e-02, 1.33657182e-02, 8.91047881e-03, 5.94031921e-03,\n",
       "       3.96021280e-03, 2.64014187e-03, 1.76009458e-03, 1.17339639e-03,\n",
       "       7.82264258e-04, 5.21509505e-04, 3.47673003e-04, 2.31782002e-04,\n",
       "       1.54521335e-04, 1.03014223e-04, 6.86761488e-05, 4.57840992e-05,\n",
       "       3.05227328e-05, 2.03484885e-05, 1.35656590e-05, 9.04377268e-06,\n",
       "       6.02918179e-06, 4.01945453e-06, 2.67963635e-06, 1.78642423e-06,\n",
       "       1.19094949e-06, 7.93966326e-07, 5.29310884e-07, 3.52873923e-07,\n",
       "       2.35249282e-07, 1.56832855e-07, 1.04555236e-07, 6.97034909e-08,\n",
       "       4.64689939e-08, 3.09793293e-08, 2.06528862e-08, 1.37685908e-08,\n",
       "       9.17906053e-09, 6.11937369e-09, 4.07958246e-09, 2.71972164e-09,\n",
       "       1.81314776e-09, 1.20876517e-09, 8.05843449e-10, 5.37228966e-10,\n",
       "       3.58152644e-10, 2.38768429e-10, 1.59178953e-10, 1.06119302e-10,\n",
       "       7.07462012e-11, 4.71641342e-11, 3.14427561e-11, 2.09618374e-11,\n",
       "       1.39745583e-11, 9.31637218e-12, 6.21091479e-12, 4.14060986e-12,\n",
       "       2.76040657e-12, 1.84027105e-12, 1.22684737e-12, 8.17898244e-13,\n",
       "       5.45265496e-13, 3.63510330e-13, 2.42340220e-13, 1.61560147e-13,\n",
       "       1.07706765e-13, 7.18045097e-14, 4.78696731e-14, 3.19131154e-14,\n",
       "       2.12754103e-14, 1.41836069e-14, 9.45573791e-15, 6.30382527e-15,\n",
       "       4.20255018e-15, 2.80170012e-15, 1.86780008e-15, 1.24520005e-15,\n",
       "       8.30133369e-16, 5.53422246e-16, 3.68948164e-16, 2.45965443e-16])"
      ]
     },
     "execution_count": 54,
     "metadata": {},
     "output_type": "execute_result"
    }
   ],
   "source": [
    "y4 = 1/np.power(1.5,x2)*np.max(x2)\n",
    "y4"
   ]
  },
  {
   "cell_type": "code",
   "execution_count": 55,
   "metadata": {},
   "outputs": [
    {
     "data": {
      "text/plain": [
       "[<matplotlib.lines.Line2D at 0x7fe618460d50>]"
      ]
     },
     "execution_count": 55,
     "metadata": {},
     "output_type": "execute_result"
    },
    {
     "data": {
      "image/png": "[encoded data removed]",
      "text/plain": [
       "<Figure size 432x288 with 1 Axes>"
      ]
     },
     "metadata": {
      "needs_background": "light"
     },
     "output_type": "display_data"
    }
   ],
   "source": [
    "plt.plot(x2,y4)"
   ]
  },
  {
   "cell_type": "code",
   "execution_count": null,
   "metadata": {},
   "outputs": [],
   "source": []
  },
  {
   "cell_type": "code",
   "execution_count": null,
   "metadata": {},
   "outputs": [],
   "source": []
  }
 ],
 "metadata": {
  "kernelspec": {
   "display_name": "Python 3",
   "language": "python",
   "name": "python3"
  },
  "language_info": {
   "codemirror_mode": {
    "name": "ipython",
    "version": 3
   },
   "file_extension": ".py",
   "mimetype": "text/x-python",
   "name": "python",
   "nbconvert_exporter": "python",
   "pygments_lexer": "ipython3",
   "version": "3.7.4"
  }
 },
 "nbformat": 4,
 "nbformat_minor": 2
}
