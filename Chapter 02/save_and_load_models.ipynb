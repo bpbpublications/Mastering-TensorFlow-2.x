{
 "cells": [
  {
   "cell_type": "code",
   "execution_count": 2,
   "metadata": {},
   "outputs": [],
   "source": [
    "from __future__ import absolute_import, division, print_function, unicode_literals\n",
    "\n",
    "import tensorflow as tf\n",
    "\n",
    "tf.keras.backend.clear_session() "
   ]
  },
  {
   "cell_type": "code",
   "execution_count": 3,
   "metadata": {},
   "outputs": [
    {
     "name": "stdout",
     "output_type": "stream",
     "text": [
      "Model: \"3_layer_mlp\"\n",
      "_________________________________________________________________\n",
      "Layer (type)                 Output Shape              Param #   \n",
      "=================================================================\n",
      "digits (InputLayer)          [(None, 784)]             0         \n",
      "_________________________________________________________________\n",
      "dense_1 (Dense)              (None, 64)                50240     \n",
      "_________________________________________________________________\n",
      "dense_2 (Dense)              (None, 64)                4160      \n",
      "_________________________________________________________________\n",
      "predictions (Dense)          (None, 10)                650       \n",
      "=================================================================\n",
      "Total params: 55,050\n",
      "Trainable params: 55,050\n",
      "Non-trainable params: 0\n",
      "_________________________________________________________________\n"
     ]
    }
   ],
   "source": [
    "from tensorflow import keras\n",
    "from tensorflow.keras import layers\n",
    "\n",
    "inputs = keras.Input(shape=(784,), name='digits')\n",
    "x = layers.Dense(64, activation='relu', name='dense_1')(inputs)\n",
    "x = layers.Dense(64, activation='relu', name='dense_2')(x)\n",
    "outputs = layers.Dense(10, activation='softmax', name='predictions')(x)\n",
    "\n",
    "model = keras.Model(inputs=inputs, outputs=outputs, name='3_layer_mlp')\n",
    "model.summary()"
   ]
  },
  {
   "cell_type": "code",
   "execution_count": 4,
   "metadata": {},
   "outputs": [
    {
     "name": "stdout",
     "output_type": "stream",
     "text": [
      "Train on 60000 samples\n",
      "60000/60000 [==============================] - 2s 29us/sample - loss: 0.3143\n"
     ]
    }
   ],
   "source": [
    "(x_train, y_train), (x_test, y_test) = keras.datasets.mnist.load_data()\n",
    "x_train = x_train.reshape(60000, 784).astype('float32') / 255\n",
    "x_test = x_test.reshape(10000, 784).astype('float32') / 255\n",
    "\n",
    "model.compile(loss='sparse_categorical_crossentropy',\n",
    "              optimizer=keras.optimizers.RMSprop())\n",
    "history = model.fit(x_train, y_train,\n",
    "                    batch_size=64,\n",
    "                    epochs=1)"
   ]
  },
  {
   "cell_type": "code",
   "execution_count": 5,
   "metadata": {},
   "outputs": [],
   "source": [
    "predictions = model.predict(x_test)"
   ]
  },
  {
   "cell_type": "code",
   "execution_count": 12,
   "metadata": {},
   "outputs": [
    {
     "data": {
      "text/plain": [
       "array([[2.0078852e-04, 3.8760394e-08, 2.0996991e-03, 2.3580731e-03,\n",
       "        1.7406029e-07, 4.1207833e-05, 4.5558304e-09, 9.9482697e-01,\n",
       "        2.5986974e-05, 4.4698527e-04]], dtype=float32)"
      ]
     },
     "execution_count": 12,
     "metadata": {},
     "output_type": "execute_result"
    }
   ],
   "source": [
    "predictions[:1]"
   ]
  },
  {
   "cell_type": "code",
   "execution_count": 6,
   "metadata": {},
   "outputs": [],
   "source": [
    "model.save('sample_model.h5')"
   ]
  },
  {
   "cell_type": "code",
   "execution_count": 7,
   "metadata": {},
   "outputs": [],
   "source": [
    "# Recreate the exact same model purely from the file\n",
    "new_model = keras.models.load_model('sample_model.h5')"
   ]
  },
  {
   "cell_type": "code",
   "execution_count": 8,
   "metadata": {},
   "outputs": [],
   "source": [
    "import numpy as np\n",
    "\n",
    "# Check that the state is preserved\n",
    "new_predictions = new_model.predict(x_test)\n",
    "np.testing.assert_allclose(predictions, new_predictions, rtol=1e-6, atol=1e-6)"
   ]
  },
  {
   "cell_type": "code",
   "execution_count": 13,
   "metadata": {},
   "outputs": [
    {
     "data": {
      "text/plain": [
       "array([[2.0078852e-04, 3.8760394e-08, 2.0996991e-03, 2.3580731e-03,\n",
       "        1.7406029e-07, 4.1207833e-05, 4.5558304e-09, 9.9482697e-01,\n",
       "        2.5986974e-05, 4.4698527e-04]], dtype=float32)"
      ]
     },
     "execution_count": 13,
     "metadata": {},
     "output_type": "execute_result"
    }
   ],
   "source": [
    "new_predictions[:1]"
   ]
  },
  {
   "cell_type": "markdown",
   "metadata": {},
   "source": [
    "### Export to Tensorflow SavedModel format"
   ]
  },
  {
   "cell_type": "code",
   "execution_count": 11,
   "metadata": {},
   "outputs": [
    {
     "name": "stdout",
     "output_type": "stream",
     "text": [
      "WARNING:tensorflow:From /Users/rdua/opt/anaconda3/lib/python3.7/site-packages/tensorflow_core/python/ops/resource_variable_ops.py:1781: calling BaseResourceVariable.__init__ (from tensorflow.python.ops.resource_variable_ops) with constraint is deprecated and will be removed in a future version.\n",
      "Instructions for updating:\n",
      "If using Keras pass *_constraint arguments to layers.\n",
      "INFO:tensorflow:Assets written to: sample_model_tf_format/assets\n"
     ]
    }
   ],
   "source": [
    "# Export the model to a SavedModel\n",
    "model.save('sample_model_tf_format', save_format='tf')\n",
    "\n",
    "# Recreate the exact same model\n",
    "new_model = keras.models.load_model('sample_model_tf_format')\n",
    "\n",
    "# Check that the state is preserved\n",
    "new_predictions = new_model.predict(x_test)\n",
    "np.testing.assert_allclose(predictions, new_predictions, rtol=1e-6, atol=1e-6)\n",
    "\n",
    "# Note that the optimizer state is preserved as well:\n",
    "# you can resume training where you left off."
   ]
  },
  {
   "cell_type": "code",
   "execution_count": 13,
   "metadata": {},
   "outputs": [
    {
     "data": {
      "text/plain": [
       "True"
      ]
     },
     "execution_count": 13,
     "metadata": {},
     "output_type": "execute_result"
    }
   ],
   "source": [
    "# save and reload architecture\n",
    "config = model.get_config()\n",
    "reinitialized_model = keras.Model.from_config(config)\n",
    "\n",
    "# Note that the model state is not preserved! We only saved the architecture.\n",
    "new_predictions = reinitialized_model.predict(x_test)\n",
    "abs(np.sum(predictions - new_predictions)) > 0."
   ]
  },
  {
   "cell_type": "code",
   "execution_count": 14,
   "metadata": {},
   "outputs": [
    {
     "name": "stdout",
     "output_type": "stream",
     "text": [
      "Model: \"3_layer_mlp\"\n",
      "_________________________________________________________________\n",
      "Layer (type)                 Output Shape              Param #   \n",
      "=================================================================\n",
      "digits (InputLayer)          [(None, 784)]             0         \n",
      "_________________________________________________________________\n",
      "dense_1 (Dense)              (None, 64)                50240     \n",
      "_________________________________________________________________\n",
      "dense_2 (Dense)              (None, 64)                4160      \n",
      "_________________________________________________________________\n",
      "predictions (Dense)          (None, 10)                650       \n",
      "=================================================================\n",
      "Total params: 55,050\n",
      "Trainable params: 55,050\n",
      "Non-trainable params: 0\n",
      "_________________________________________________________________\n"
     ]
    }
   ],
   "source": [
    "reinitialized_model.summary()"
   ]
  },
  {
   "cell_type": "code",
   "execution_count": 15,
   "metadata": {},
   "outputs": [],
   "source": [
    "json_config = model.to_json()\n",
    "reinitialized_model = keras.models.model_from_json(json_config)"
   ]
  },
  {
   "cell_type": "code",
   "execution_count": 16,
   "metadata": {},
   "outputs": [
    {
     "data": {
      "text/plain": [
       "'{\"class_name\": \"Model\", \"config\": {\"name\": \"3_layer_mlp\", \"layers\": [{\"class_name\": \"InputLayer\", \"config\": {\"batch_input_shape\": [null, 784], \"dtype\": \"float32\", \"sparse\": false, \"name\": \"digits\"}, \"name\": \"digits\", \"inbound_nodes\": []}, {\"class_name\": \"Dense\", \"config\": {\"name\": \"dense_1\", \"trainable\": true, \"dtype\": \"float32\", \"units\": 64, \"activation\": \"relu\", \"use_bias\": true, \"kernel_initializer\": {\"class_name\": \"GlorotUniform\", \"config\": {\"seed\": null}}, \"bias_initializer\": {\"class_name\": \"Zeros\", \"config\": {}}, \"kernel_regularizer\": null, \"bias_regularizer\": null, \"activity_regularizer\": null, \"kernel_constraint\": null, \"bias_constraint\": null}, \"name\": \"dense_1\", \"inbound_nodes\": [[[\"digits\", 0, 0, {}]]]}, {\"class_name\": \"Dense\", \"config\": {\"name\": \"dense_2\", \"trainable\": true, \"dtype\": \"float32\", \"units\": 64, \"activation\": \"relu\", \"use_bias\": true, \"kernel_initializer\": {\"class_name\": \"GlorotUniform\", \"config\": {\"seed\": null}}, \"bias_initializer\": {\"class_name\": \"Zeros\", \"config\": {}}, \"kernel_regularizer\": null, \"bias_regularizer\": null, \"activity_regularizer\": null, \"kernel_constraint\": null, \"bias_constraint\": null}, \"name\": \"dense_2\", \"inbound_nodes\": [[[\"dense_1\", 0, 0, {}]]]}, {\"class_name\": \"Dense\", \"config\": {\"name\": \"predictions\", \"trainable\": true, \"dtype\": \"float32\", \"units\": 10, \"activation\": \"softmax\", \"use_bias\": true, \"kernel_initializer\": {\"class_name\": \"GlorotUniform\", \"config\": {\"seed\": null}}, \"bias_initializer\": {\"class_name\": \"Zeros\", \"config\": {}}, \"kernel_regularizer\": null, \"bias_regularizer\": null, \"activity_regularizer\": null, \"kernel_constraint\": null, \"bias_constraint\": null}, \"name\": \"predictions\", \"inbound_nodes\": [[[\"dense_2\", 0, 0, {}]]]}], \"input_layers\": [[\"digits\", 0, 0]], \"output_layers\": [[\"predictions\", 0, 0]]}, \"keras_version\": \"2.2.4-tf\", \"backend\": \"tensorflow\"}'"
      ]
     },
     "execution_count": 16,
     "metadata": {},
     "output_type": "execute_result"
    }
   ],
   "source": [
    "json_config"
   ]
  },
  {
   "cell_type": "code",
   "execution_count": 17,
   "metadata": {},
   "outputs": [],
   "source": [
    "weights = model.get_weights()  # Retrieves the state of the model.\n",
    "model.set_weights(weights)  # Sets the state of the model."
   ]
  },
  {
   "cell_type": "code",
   "execution_count": 18,
   "metadata": {},
   "outputs": [
    {
     "data": {
      "text/plain": [
       "[array([[ 0.04263405, -0.03755778,  0.03282901, ..., -0.0515887 ,\n",
       "         -0.02675153,  0.05067324],\n",
       "        [ 0.07283438,  0.03780606, -0.03740942, ..., -0.06465846,\n",
       "          0.01964456,  0.06260148],\n",
       "        [-0.02692432,  0.06012038, -0.02780378, ..., -0.06492595,\n",
       "          0.03084081, -0.01388476],\n",
       "        ...,\n",
       "        [-0.01205482,  0.07091527,  0.08052897, ...,  0.05860315,\n",
       "         -0.04708352,  0.03180381],\n",
       "        [ 0.08074566,  0.02307171, -0.07959799, ...,  0.05301119,\n",
       "          0.00794027, -0.08015244],\n",
       "        [ 0.031083  ,  0.05887123, -0.04255563, ...,  0.02138579,\n",
       "         -0.04305201,  0.02202586]], dtype=float32),\n",
       " array([-0.00538773, -0.03620107,  0.02981858, -0.04313725,  0.02045698,\n",
       "         0.02561693, -0.01211659,  0.00895781,  0.00880084,  0.04444873,\n",
       "        -0.029094  ,  0.05318054,  0.04100849,  0.06241094,  0.07164851,\n",
       "         0.03763188,  0.00430492, -0.03925337,  0.08091519,  0.05459992,\n",
       "         0.00496048,  0.04378297,  0.027511  ,  0.06991988,  0.0437759 ,\n",
       "        -0.01015464, -0.06466499, -0.00992425,  0.05757836,  0.02372919,\n",
       "         0.01597626,  0.07355369,  0.07101481,  0.03224365,  0.1204818 ,\n",
       "         0.03721459, -0.00573493,  0.07484742,  0.04927119, -0.02676976,\n",
       "         0.06683544,  0.0599846 ,  0.05915673, -0.03501505, -0.09077527,\n",
       "        -0.00586649, -0.0406209 ,  0.02462433,  0.00468265,  0.02148621,\n",
       "        -0.0162714 , -0.00061188, -0.00762219, -0.00565596,  0.05707031,\n",
       "         0.01855851,  0.1049045 , -0.06004795, -0.01248296, -0.03408179,\n",
       "         0.0465235 , -0.04050355,  0.05925222,  0.01108488], dtype=float32),\n",
       " array([[ 0.1311703 ,  0.20588057,  0.01653973, ..., -0.1806    ,\n",
       "          0.02798908,  0.17185622],\n",
       "        [ 0.18107767,  0.07840011,  0.06737597, ...,  0.18239655,\n",
       "          0.05032326,  0.18968758],\n",
       "        [ 0.02122441,  0.11070595,  0.03006017, ...,  0.04544053,\n",
       "          0.17575161,  0.1936926 ],\n",
       "        ...,\n",
       "        [ 0.15857284, -0.16476138, -0.27538726, ...,  0.11195841,\n",
       "         -0.05701761,  0.12859042],\n",
       "        [-0.13981496,  0.02892197,  0.00927695, ..., -0.0704626 ,\n",
       "         -0.16249773,  0.20763822],\n",
       "        [-0.20437446, -0.10830978,  0.12270528, ...,  0.21566442,\n",
       "         -0.04841686,  0.25160223]], dtype=float32),\n",
       " array([ 0.0028657 ,  0.04507821,  0.03170784,  0.02392793, -0.01934036,\n",
       "         0.05912118, -0.02575655,  0.06314872, -0.01417125,  0.01375626,\n",
       "        -0.00037714,  0.01908129,  0.10494949,  0.00525362,  0.02157506,\n",
       "         0.02675223, -0.02468532, -0.02303665,  0.02062985,  0.07861092,\n",
       "         0.07175504,  0.08980299, -0.00015701,  0.02743473,  0.00745681,\n",
       "         0.00569026,  0.05046713,  0.05681968, -0.00056186,  0.02277087,\n",
       "         0.01236046,  0.03128017, -0.04526916,  0.08876705,  0.05723464,\n",
       "        -0.02217753,  0.09097449, -0.07491612,  0.02802578, -0.0298544 ,\n",
       "        -0.00766644,  0.00577132, -0.03978177,  0.07269733, -0.02487684,\n",
       "        -0.07498116, -0.03305861,  0.00317984,  0.02534583,  0.04025822,\n",
       "         0.0361002 , -0.01762869,  0.05008673,  0.02486779, -0.00580917,\n",
       "        -0.05731468,  0.09908868,  0.03251309,  0.0124028 ,  0.02000578,\n",
       "        -0.02940726,  0.01374398,  0.01538805, -0.01959192], dtype=float32),\n",
       " array([[ 1.36290893e-01, -4.67814535e-01,  2.20607460e-01,\n",
       "          1.81160286e-01,  1.13414563e-02, -1.65652126e-01,\n",
       "          9.34093893e-02,  1.55835733e-01, -2.31646925e-01,\n",
       "         -1.12366816e-02],\n",
       "        [-6.68024570e-02, -1.00773983e-01, -6.00398898e-01,\n",
       "          3.00324839e-02, -1.90189369e-02,  3.21912140e-01,\n",
       "          2.20576942e-01, -4.18217719e-01, -3.12215745e-01,\n",
       "          3.26088220e-01],\n",
       "        [-3.69871669e-02, -2.67710716e-01, -5.28518371e-02,\n",
       "          1.68340709e-02,  1.89774424e-01, -5.62533513e-02,\n",
       "          1.37682453e-01, -1.15727849e-01, -9.36146900e-02,\n",
       "         -3.27816188e-01],\n",
       "        [-6.38050064e-02,  2.27349594e-01, -1.01069525e-01,\n",
       "          1.58648446e-01,  6.41458035e-02, -2.41146788e-01,\n",
       "         -3.43366563e-01,  1.61208808e-01,  1.14327312e-01,\n",
       "         -8.55055898e-02],\n",
       "        [-2.21917897e-01, -3.63781303e-01, -2.99324363e-01,\n",
       "          3.09354275e-01, -3.41908671e-02, -1.76727757e-01,\n",
       "         -1.93231940e-01, -2.88140446e-01, -2.40358356e-02,\n",
       "         -1.14858352e-01],\n",
       "        [-1.55162841e-01, -1.25541598e-01, -2.98238218e-01,\n",
       "         -5.03937528e-02, -5.19610941e-01,  4.48800594e-01,\n",
       "         -1.90296963e-01, -1.24400355e-01, -4.32758093e-01,\n",
       "         -4.64947484e-02],\n",
       "        [ 1.42826170e-01, -2.29630470e-01,  2.46854704e-02,\n",
       "          7.19053522e-02, -2.94653296e-01,  1.89604044e-01,\n",
       "         -5.18086031e-02, -3.77826169e-02,  2.82156855e-01,\n",
       "         -3.81158262e-01],\n",
       "        [ 2.55580425e-01,  2.05716461e-01, -2.81766772e-01,\n",
       "          1.57085642e-01, -1.74778864e-01,  3.65580499e-01,\n",
       "          2.93073535e-01, -4.24957842e-01, -1.59759909e-01,\n",
       "         -2.23280773e-01],\n",
       "        [-1.41950235e-01, -2.42453590e-01, -5.96356615e-02,\n",
       "         -1.94192916e-01,  2.18045428e-01, -2.07237646e-01,\n",
       "          5.16049974e-02, -3.34398925e-01,  1.92159116e-01,\n",
       "         -2.53149539e-01],\n",
       "        [-5.50008714e-02, -2.45086908e-01,  2.38383904e-01,\n",
       "          3.00865978e-01, -4.69497710e-01,  9.15915444e-02,\n",
       "         -3.90505314e-01, -1.85312539e-01, -2.39367887e-01,\n",
       "         -3.49397510e-01],\n",
       "        [ 4.73896153e-02, -2.02262506e-01,  5.54955564e-02,\n",
       "          4.22753803e-02,  2.52425343e-01,  1.60453975e-01,\n",
       "         -1.26897499e-01,  9.30350125e-02,  1.49850264e-01,\n",
       "          1.64354116e-01],\n",
       "        [ 4.26881790e-01, -3.75882745e-01, -1.40701160e-01,\n",
       "         -2.87330896e-01, -3.16770911e-01, -9.48843732e-02,\n",
       "         -2.93234944e-01,  1.38720676e-01, -6.84578121e-02,\n",
       "          5.70024066e-02],\n",
       "        [-1.72753572e-01,  2.71193057e-01,  7.90983066e-02,\n",
       "          1.49607018e-01, -1.30952120e-01,  1.98500901e-01,\n",
       "         -5.56017905e-02,  1.49260774e-01, -1.24222964e-01,\n",
       "         -1.32220283e-01],\n",
       "        [-3.18840481e-02, -9.17430501e-03,  2.27182414e-02,\n",
       "         -3.05861562e-01,  2.86987215e-01, -2.90964901e-01,\n",
       "         -2.64145792e-01, -1.22370645e-01,  1.02543421e-02,\n",
       "         -3.51535171e-01],\n",
       "        [ 3.11093897e-01, -2.48563439e-01,  2.22461596e-02,\n",
       "          9.89231244e-02, -1.78622559e-01, -1.71257466e-01,\n",
       "         -2.83563733e-01,  1.74145699e-01, -3.09724271e-01,\n",
       "          1.78010792e-01],\n",
       "        [ 2.49612525e-01,  3.30325127e-01,  3.17837209e-01,\n",
       "         -2.21439064e-01,  1.14056163e-01, -2.17587516e-01,\n",
       "          2.84854732e-02, -2.66597003e-01, -3.63027871e-01,\n",
       "         -6.88439831e-02],\n",
       "        [-2.40212306e-01,  6.43387139e-02, -8.62613916e-02,\n",
       "          2.29685560e-01,  5.92953861e-02, -3.04818153e-01,\n",
       "         -4.25941736e-01, -1.94703758e-01,  2.62391078e-03,\n",
       "          8.96300599e-02],\n",
       "        [ 2.13650659e-01, -2.59072423e-01,  2.66824752e-01,\n",
       "          2.70256460e-01, -1.11263413e-02, -3.04910034e-01,\n",
       "          1.56630844e-01,  6.62783161e-02, -2.29815140e-01,\n",
       "         -2.35149235e-01],\n",
       "        [ 8.53372440e-02, -3.76887321e-01,  4.70740274e-02,\n",
       "          2.81431645e-01, -3.60301346e-01,  2.58888572e-01,\n",
       "          1.90747157e-01,  1.12546105e-02, -1.64357573e-01,\n",
       "          7.11936280e-02],\n",
       "        [-6.48306981e-02,  1.87660173e-01, -2.68508643e-02,\n",
       "          1.31258427e-03, -2.71620780e-01,  1.77926332e-01,\n",
       "         -4.37309474e-01,  3.49917620e-01, -1.87711909e-01,\n",
       "          1.34899467e-01],\n",
       "        [-8.75023827e-02, -1.05845027e-01,  1.39059767e-01,\n",
       "         -1.49067134e-01,  2.58722037e-01,  2.54493862e-01,\n",
       "          3.34134072e-01,  2.38144264e-01, -3.66727710e-02,\n",
       "          1.06208324e-01],\n",
       "        [-3.70799333e-01, -2.37224817e-01, -1.74654156e-01,\n",
       "          3.52687314e-02,  3.11910421e-01,  1.82779863e-01,\n",
       "         -1.07835360e-01,  2.38066211e-01,  6.90807402e-02,\n",
       "         -8.41829479e-02],\n",
       "        [ 6.09484985e-02,  2.71532144e-02,  1.95677936e-01,\n",
       "         -2.31615558e-01, -2.60109782e-01,  1.47806719e-01,\n",
       "         -3.19295198e-01,  1.62448004e-01,  2.82021940e-01,\n",
       "         -6.97658285e-02],\n",
       "        [-2.79451877e-01, -2.95765907e-01,  8.77243876e-02,\n",
       "         -9.19577107e-02,  2.90412288e-02, -3.98823947e-01,\n",
       "         -3.49664241e-02,  2.69707531e-01, -3.22433531e-01,\n",
       "          8.37185383e-02],\n",
       "        [-7.92725757e-02,  3.67607921e-01,  6.86867163e-02,\n",
       "         -2.62631178e-01, -1.13116533e-01, -1.04979120e-01,\n",
       "          1.10701054e-01, -2.72692174e-01,  1.73852473e-01,\n",
       "         -2.60769188e-01],\n",
       "        [-9.93774384e-02, -5.90106435e-02, -1.06259592e-01,\n",
       "         -5.62755093e-02, -3.73602994e-02, -1.32043846e-04,\n",
       "         -8.34323466e-02,  2.63770640e-01,  2.27091402e-01,\n",
       "          2.94152141e-01],\n",
       "        [-1.35328010e-01,  3.91108662e-01,  5.05212471e-02,\n",
       "         -1.65742174e-01, -2.28396356e-01, -3.14465538e-03,\n",
       "          3.07568252e-01,  3.85515213e-01, -2.14441717e-01,\n",
       "         -1.79389775e-01],\n",
       "        [-2.90703565e-01,  2.91088164e-01,  7.68033117e-02,\n",
       "          7.21345320e-02,  9.74824801e-02,  1.15331456e-01,\n",
       "         -2.57748668e-03, -1.18057795e-01,  4.01421338e-02,\n",
       "          2.80197233e-01],\n",
       "        [ 1.16445452e-01, -3.26965779e-01, -3.12145889e-01,\n",
       "         -5.77969179e-02,  3.19719255e-01,  1.14249066e-01,\n",
       "         -2.73180809e-02, -2.47242197e-01,  1.64190471e-01,\n",
       "          2.22453743e-01],\n",
       "        [-1.35051101e-01, -1.62354544e-01, -2.16952115e-01,\n",
       "         -3.50567222e-01,  2.46591613e-01, -3.37465942e-01,\n",
       "          6.91788197e-02, -1.54301003e-01, -3.27286869e-01,\n",
       "         -3.43774073e-02],\n",
       "        [-1.40728921e-01,  2.51739174e-01,  1.83434188e-01,\n",
       "          8.58763605e-02,  1.78209484e-01, -3.74182872e-02,\n",
       "          1.36013940e-01, -2.55004257e-01,  2.51344413e-01,\n",
       "          9.95822027e-02],\n",
       "        [ 1.69297174e-01,  2.35376611e-01, -2.94428796e-01,\n",
       "         -2.70836651e-01,  1.83425456e-01, -1.77031085e-01,\n",
       "         -3.83736305e-02,  1.88061714e-01, -1.49947673e-01,\n",
       "          1.30703464e-01],\n",
       "        [ 1.10263355e-01,  3.05825204e-01, -1.61199793e-01,\n",
       "          1.63849622e-01, -1.71185032e-01, -3.08579832e-01,\n",
       "         -5.61513714e-02, -2.78882440e-02,  2.47580528e-01,\n",
       "         -6.39233040e-03],\n",
       "        [-1.43928185e-01,  2.15272367e-01,  2.27149278e-02,\n",
       "         -9.68302637e-02, -2.39868477e-01,  1.67179763e-01,\n",
       "          3.30383211e-01,  2.15263158e-01, -2.27750704e-01,\n",
       "         -1.62212372e-01],\n",
       "        [-3.93061936e-01,  3.03282976e-01, -1.43113047e-01,\n",
       "          2.48185441e-01, -9.85005200e-02, -8.58884752e-02,\n",
       "          2.96147883e-01, -1.48265362e-01, -1.78840548e-01,\n",
       "         -1.16377249e-01],\n",
       "        [ 1.75540105e-01, -1.24902911e-01, -2.61952430e-01,\n",
       "         -2.62810439e-01,  1.87783400e-04, -2.18838260e-01,\n",
       "         -1.94736198e-01, -1.69699639e-01,  2.08801344e-01,\n",
       "         -1.77130610e-01],\n",
       "        [-1.06585227e-01, -2.72785217e-01, -3.39931488e-01,\n",
       "         -1.91513836e-01,  1.20651491e-01,  3.23386699e-01,\n",
       "         -2.78637372e-03,  1.88924566e-01, -3.32038432e-01,\n",
       "          2.03011140e-01],\n",
       "        [ 2.19893217e-01, -3.19579095e-01,  1.07627558e-02,\n",
       "         -6.64690733e-02, -7.50072971e-02, -1.13542154e-01,\n",
       "          1.77766874e-01, -3.80466521e-01,  2.38972455e-01,\n",
       "          1.75717726e-01],\n",
       "        [-4.90218773e-03, -1.59565508e-01,  2.92003781e-01,\n",
       "         -2.85879850e-01, -3.07823181e-01,  1.06709674e-01,\n",
       "         -8.26908872e-02, -3.70534062e-01, -6.39374778e-02,\n",
       "         -1.65367499e-01],\n",
       "        [ 2.21045464e-01, -1.71516538e-01,  1.61595628e-01,\n",
       "          1.72245532e-01, -2.83323556e-01, -2.26285145e-01,\n",
       "         -1.99028347e-02,  2.54932344e-01,  1.59985721e-01,\n",
       "          3.10694039e-01],\n",
       "        [-1.22549005e-01,  2.00844303e-01,  4.85410281e-02,\n",
       "         -1.85439840e-01, -1.63063511e-01, -3.29036564e-01,\n",
       "          1.53939575e-01, -2.40991279e-01,  5.11537679e-02,\n",
       "          1.67539537e-01],\n",
       "        [-3.55959564e-01, -2.70858526e-01,  3.24907154e-01,\n",
       "         -1.62742838e-01,  5.04530817e-02, -2.15132535e-01,\n",
       "         -5.12461245e-01,  7.03047812e-02, -5.60475588e-02,\n",
       "         -5.24423420e-01],\n",
       "        [ 1.17860675e-01,  9.82018840e-03, -1.06209032e-01,\n",
       "         -9.03886929e-02, -1.73088536e-01, -1.35342121e-01,\n",
       "         -9.07518715e-02, -3.76155302e-02, -1.06597692e-01,\n",
       "          4.47175056e-02],\n",
       "        [-3.63208920e-01, -4.43618596e-02,  1.80615634e-01,\n",
       "         -3.11001480e-01,  1.65839270e-01,  2.10821584e-01,\n",
       "          1.49720475e-01, -3.70649129e-01, -3.51470679e-01,\n",
       "         -2.65519261e-01],\n",
       "        [-3.44151482e-02,  1.32604912e-01, -1.96214333e-01,\n",
       "         -1.33763492e-01, -9.62552726e-02,  8.55416134e-02,\n",
       "          2.12153465e-01, -1.60494074e-02,  8.65688622e-02,\n",
       "          2.58799732e-01],\n",
       "        [ 1.89851567e-01, -2.64234305e-03, -1.97911859e-01,\n",
       "         -8.15471262e-02, -2.83320658e-02, -3.20101559e-01,\n",
       "         -2.53170341e-01, -1.42895117e-01, -3.22684385e-02,\n",
       "         -1.56087121e-02],\n",
       "        [-1.51818067e-01, -1.62919343e-01, -1.06953233e-01,\n",
       "          1.82042778e-01, -1.63544923e-01, -2.04922929e-01,\n",
       "          5.71119040e-02, -1.44093454e-01, -2.06062585e-01,\n",
       "          4.73690704e-02],\n",
       "        [-2.01690748e-01,  2.00436339e-01,  1.14250757e-01,\n",
       "          2.77458191e-01, -8.02315101e-02, -1.48471788e-01,\n",
       "         -1.56956643e-01, -1.84276909e-01, -1.64966471e-02,\n",
       "          5.30818030e-02],\n",
       "        [ 3.38445693e-01, -3.19083720e-01, -2.81547219e-01,\n",
       "         -2.79446572e-01, -9.86912325e-02, -1.16903372e-02,\n",
       "         -2.60869473e-01, -1.07501358e-01, -3.32131684e-01,\n",
       "         -8.48660544e-02],\n",
       "        [ 1.54913053e-01,  5.42819090e-02, -2.60047525e-01,\n",
       "         -2.81639189e-01, -5.70531934e-02, -9.67362449e-02,\n",
       "          1.39828026e-01,  2.80890644e-01,  3.41404304e-02,\n",
       "         -1.68158561e-01],\n",
       "        [-8.42346624e-02,  1.45365074e-02, -6.94753230e-02,\n",
       "         -5.61057106e-02,  9.93674025e-02, -1.96652234e-01,\n",
       "         -3.47487807e-01,  3.70742470e-01, -1.74941599e-01,\n",
       "         -1.76789798e-02],\n",
       "        [-1.83797196e-01, -5.15748970e-02, -2.42715731e-01,\n",
       "          4.25732648e-03, -2.34001860e-01, -1.49655547e-02,\n",
       "          1.89656153e-01,  1.54625803e-01,  1.74565718e-01,\n",
       "          1.65741324e-01],\n",
       "        [-3.25610131e-01, -2.56654888e-01,  1.11882702e-01,\n",
       "          6.66684955e-02, -3.34492356e-01,  2.46849865e-01,\n",
       "         -4.33868021e-01, -1.85603410e-01, -2.07212605e-02,\n",
       "          1.81814507e-02],\n",
       "        [-2.80486047e-01, -3.84048641e-01, -2.21799195e-01,\n",
       "          1.38288274e-01,  3.04280818e-01,  2.47209102e-01,\n",
       "         -7.80894384e-02, -3.51802737e-01, -3.43729168e-01,\n",
       "          1.27435148e-01],\n",
       "        [-1.26017943e-01, -3.30007106e-01,  2.43735731e-01,\n",
       "          1.41304731e-01, -4.04254466e-01, -4.52031910e-01,\n",
       "         -5.05595841e-02,  3.21631521e-01, -2.82711357e-01,\n",
       "         -3.35577950e-02],\n",
       "        [ 1.23405427e-01,  7.49596283e-02,  2.29999557e-01,\n",
       "          6.25690967e-02, -2.60524333e-01, -3.02655011e-01,\n",
       "         -5.84161095e-02, -1.17599875e-01,  2.27969855e-01,\n",
       "          1.88533008e-01],\n",
       "        [ 5.50719760e-02, -6.63461611e-02, -4.56543677e-02,\n",
       "         -1.11057840e-01,  1.98436946e-01,  2.66054571e-01,\n",
       "         -4.58265364e-01,  2.05163181e-01, -1.57513112e-01,\n",
       "          1.23452783e-01],\n",
       "        [ 1.58717304e-01, -1.83360085e-01, -1.02648117e-01,\n",
       "          8.74878466e-02, -1.68118909e-01,  1.05810113e-01,\n",
       "         -3.41448724e-01,  3.16332281e-01, -2.25181848e-01,\n",
       "          2.92987376e-01],\n",
       "        [ 2.47529998e-01, -7.02463835e-02, -1.98687717e-01,\n",
       "         -2.80250251e-01, -5.38239516e-02, -2.12729946e-01,\n",
       "         -7.00432882e-02,  1.37351453e-01, -3.20180431e-02,\n",
       "         -1.53873470e-02],\n",
       "        [-6.10064156e-02,  9.40785110e-02, -3.01036537e-02,\n",
       "         -4.05418545e-01,  3.41075398e-02,  1.79495022e-01,\n",
       "         -1.58810169e-02, -2.96555459e-01,  2.15050533e-01,\n",
       "         -2.36619160e-01],\n",
       "        [ 1.22884654e-01, -3.12587470e-01,  2.30599761e-01,\n",
       "         -2.06130609e-01, -3.36423457e-01, -2.07293794e-01,\n",
       "         -2.16614660e-02,  7.57592618e-02, -1.46316616e-02,\n",
       "         -8.89862999e-02],\n",
       "        [ 7.08903819e-02, -3.60101789e-01, -1.65478975e-01,\n",
       "          2.48970613e-01,  4.78480533e-02, -2.34016538e-01,\n",
       "         -3.39984149e-01,  7.21114352e-02, -2.71716803e-01,\n",
       "         -3.81325348e-03],\n",
       "        [-2.30942503e-01,  3.93823832e-01,  9.71688181e-02,\n",
       "          2.69935131e-01, -4.52962071e-02, -2.44303107e-01,\n",
       "         -1.25409096e-01, -1.25845984e-01, -3.18636417e-01,\n",
       "          2.29092315e-01],\n",
       "        [-2.18602061e-01, -2.60277212e-01,  1.03689618e-02,\n",
       "         -6.72408938e-02, -3.15731615e-01,  6.01123199e-02,\n",
       "         -1.79484084e-01, -2.43394479e-01,  1.48922056e-01,\n",
       "         -2.55539834e-01]], dtype=float32),\n",
       " array([-0.07637104,  0.06877764, -0.00357234, -0.02671598,  0.01393033,\n",
       "         0.07408071, -0.02016354,  0.03413594, -0.04130919, -0.02724265],\n",
       "       dtype=float32)]"
      ]
     },
     "execution_count": 18,
     "metadata": {},
     "output_type": "execute_result"
    }
   ],
   "source": [
    "weights"
   ]
  },
  {
   "cell_type": "code",
   "execution_count": 28,
   "metadata": {},
   "outputs": [
    {
     "name": "stdout",
     "output_type": "stream",
     "text": [
      "None\n"
     ]
    }
   ],
   "source": [
    "# recreating same model from config and weights\n",
    "config = model.get_config()\n",
    "weights = model.get_weights()\n",
    "\n",
    "new_model = keras.Model.from_config(config)\n",
    "new_model.set_weights(weights)\n",
    "\n",
    "# Check that the state is preserved\n",
    "new_predictions = new_model.predict(x_test)\n",
    "print(np.testing.assert_allclose(predictions, new_predictions, rtol=1e-6, atol=1e-6))\n",
    "#abs(np.sum(predictions - new_predictions)) > 0.\n",
    "# Note that the optimizer was not preserved,\n",
    "# so the model should be compiled anew before training\n",
    "# (and the optimizer will start from a blank state)."
   ]
  },
  {
   "cell_type": "code",
   "execution_count": 29,
   "metadata": {},
   "outputs": [
    {
     "data": {
      "text/plain": [
       "array([[9.79534070e-06, 1.25883020e-07, 1.56313693e-03, ...,\n",
       "        9.97494936e-01, 9.85438783e-06, 9.01855310e-05],\n",
       "       [1.25972965e-05, 4.81596449e-04, 9.98120964e-01, ...,\n",
       "        2.98465863e-10, 4.69943625e-05, 9.57226298e-10],\n",
       "       [1.34523971e-05, 9.95399773e-01, 1.56472204e-03, ...,\n",
       "        6.48768968e-04, 6.52616087e-04, 1.03887010e-04],\n",
       "       ...,\n",
       "       [4.25802796e-07, 1.86264444e-07, 3.60167888e-07, ...,\n",
       "        8.44776587e-05, 4.68208513e-04, 8.03571660e-03],\n",
       "       [7.13831378e-06, 7.19828085e-06, 2.27954570e-06, ...,\n",
       "        3.51587524e-08, 5.03550749e-04, 1.72734588e-07],\n",
       "       [5.44922258e-08, 1.34508289e-08, 8.97230530e-06, ...,\n",
       "        2.47154491e-10, 1.49269475e-09, 2.57688826e-09]], dtype=float32)"
      ]
     },
     "execution_count": 29,
     "metadata": {},
     "output_type": "execute_result"
    }
   ],
   "source": [
    "new_predictions"
   ]
  },
  {
   "cell_type": "code",
   "execution_count": 23,
   "metadata": {},
   "outputs": [
    {
     "data": {
      "text/plain": [
       "10000.0"
      ]
     },
     "execution_count": 23,
     "metadata": {},
     "output_type": "execute_result"
    }
   ],
   "source": [
    "np.sum(new_predictions)"
   ]
  },
  {
   "cell_type": "code",
   "execution_count": 32,
   "metadata": {},
   "outputs": [],
   "source": [
    "# save json to the disk\n",
    "# Save JSON config to disk\n",
    "json_config = model.to_json()\n",
    "with open('model_config.json', 'w') as json_file:\n",
    "    json_file.write(json_config)\n",
    "# Save weights to disk\n",
    "model.save_weights('path_to_my_weights.h5')\n",
    "\n",
    "# Reload the model from the 2 files we saved\n",
    "with open('model_config.json') as json_file:\n",
    "    json_config = json_file.read()\n",
    "new_model = keras.models.model_from_json(json_config)\n",
    "new_model.load_weights('path_to_my_weights.h5')\n",
    "\n",
    "# Check that the state is preserved\n",
    "new_predictions = new_model.predict(x_test)\n",
    "np.testing.assert_allclose(predictions, new_predictions, rtol=1e-6, atol=1e-6)\n",
    "\n",
    "# Note that the optimizer was not preserved."
   ]
  },
  {
   "cell_type": "code",
   "execution_count": 33,
   "metadata": {},
   "outputs": [
    {
     "data": {
      "text/plain": [
       "'{\"class_name\": \"Model\", \"config\": {\"name\": \"3_layer_mlp\", \"layers\": [{\"class_name\": \"InputLayer\", \"config\": {\"batch_input_shape\": [null, 784], \"dtype\": \"float32\", \"sparse\": false, \"name\": \"digits\"}, \"name\": \"digits\", \"inbound_nodes\": []}, {\"class_name\": \"Dense\", \"config\": {\"name\": \"dense_1\", \"trainable\": true, \"dtype\": \"float32\", \"units\": 64, \"activation\": \"relu\", \"use_bias\": true, \"kernel_initializer\": {\"class_name\": \"GlorotUniform\", \"config\": {\"seed\": null}}, \"bias_initializer\": {\"class_name\": \"Zeros\", \"config\": {}}, \"kernel_regularizer\": null, \"bias_regularizer\": null, \"activity_regularizer\": null, \"kernel_constraint\": null, \"bias_constraint\": null}, \"name\": \"dense_1\", \"inbound_nodes\": [[[\"digits\", 0, 0, {}]]]}, {\"class_name\": \"Dense\", \"config\": {\"name\": \"dense_2\", \"trainable\": true, \"dtype\": \"float32\", \"units\": 64, \"activation\": \"relu\", \"use_bias\": true, \"kernel_initializer\": {\"class_name\": \"GlorotUniform\", \"config\": {\"seed\": null}}, \"bias_initializer\": {\"class_name\": \"Zeros\", \"config\": {}}, \"kernel_regularizer\": null, \"bias_regularizer\": null, \"activity_regularizer\": null, \"kernel_constraint\": null, \"bias_constraint\": null}, \"name\": \"dense_2\", \"inbound_nodes\": [[[\"dense_1\", 0, 0, {}]]]}, {\"class_name\": \"Dense\", \"config\": {\"name\": \"predictions\", \"trainable\": true, \"dtype\": \"float32\", \"units\": 10, \"activation\": \"softmax\", \"use_bias\": true, \"kernel_initializer\": {\"class_name\": \"GlorotUniform\", \"config\": {\"seed\": null}}, \"bias_initializer\": {\"class_name\": \"Zeros\", \"config\": {}}, \"kernel_regularizer\": null, \"bias_regularizer\": null, \"activity_regularizer\": null, \"kernel_constraint\": null, \"bias_constraint\": null}, \"name\": \"predictions\", \"inbound_nodes\": [[[\"dense_2\", 0, 0, {}]]]}], \"input_layers\": [[\"digits\", 0, 0]], \"output_layers\": [[\"predictions\", 0, 0]]}, \"keras_version\": \"2.2.4-tf\", \"backend\": \"tensorflow\"}'"
      ]
     },
     "execution_count": 33,
     "metadata": {},
     "output_type": "execute_result"
    }
   ],
   "source": [
    "json_config"
   ]
  },
  {
   "cell_type": "code",
   "execution_count": null,
   "metadata": {},
   "outputs": [],
   "source": []
  }
 ],
 "metadata": {
  "kernelspec": {
   "display_name": "Python 3",
   "language": "python",
   "name": "python3"
  },
  "language_info": {
   "codemirror_mode": {
    "name": "ipython",
    "version": 3
   },
   "file_extension": ".py",
   "mimetype": "text/x-python",
   "name": "python",
   "nbconvert_exporter": "python",
   "pygments_lexer": "ipython3",
   "version": "3.7.4"
  }
 },
 "nbformat": 4,
 "nbformat_minor": 2
}
